{
  "nbformat": 4,
  "nbformat_minor": 0,
  "metadata": {
    "colab": {
      "name": "Sort.ipynb",
      "provenance": [],
      "authorship_tag": "ABX9TyPWveEK5kL7qKb3l/IDkCbg",
      "include_colab_link": true
    },
    "kernelspec": {
      "name": "python3",
      "display_name": "Python 3"
    },
    "language_info": {
      "name": "python"
    }
  },
  "cells": [
    {
      "cell_type": "markdown",
      "metadata": {
        "id": "view-in-github",
        "colab_type": "text"
      },
      "source": [
        "<a href=\"https://colab.research.google.com/github/danny980521/Algorithm-Pracice/blob/main/Sort.ipynb\" target=\"_parent\"><img src=\"https://colab.research.google.com/assets/colab-badge.svg\" alt=\"Open In Colab\"/></a>"
      ]
    },
    {
      "cell_type": "code",
      "metadata": {
        "id": "6pq69w1wb_Se"
      },
      "source": [
        "#프로그래머스 H-index, 20210606\n",
        "#h를 넘는 원소가 h개 이상이어야한다.\n",
        "#이분탐색으로 구현해보자.\n",
        "#n이 정답이라면 n을 넣었을때 n보다 작은 것들 중 가장 빠른 인덱스 값이 n보다 크거나 같아야한다.\n",
        "#n+1을 넣는다면 n+1보다 작은 것들 중 가장 빠른 인덱스 값이 n+1보다 작을 것이다.\n",
        "\n",
        "#역으로 정렬된 배열에서 target보다 작은 수가 나오기 시작하는 인덱스를 찾는 함수binary_search2구현\n",
        "def binary_search2(target, data):\n",
        "    start = 0\n",
        "    end = len(data) - 1\n",
        "\n",
        "    while start <= end:\n",
        "        mid = (start + end) // 2\n",
        "\n",
        "        if data[mid] >= target:\n",
        "            start = mid + 1\n",
        "        elif data[mid-1] >= target:\n",
        "            return mid\n",
        "        else:\n",
        "            end = mid -1\n",
        "    return len(data) #반복문을 탈출한다면 마지막 인덱스+1 값인 len(data)를 반환\n",
        "\n",
        "\n",
        "def binary_search(data):\n",
        "    start = 0\n",
        "    end = min(data[0], len(data)-1)\n",
        "\n",
        "    while start <= end:\n",
        "        mid = (start + end) // 2\n",
        "        if mid > binary_search2(mid, data) :\n",
        "            end = mid - 1\n",
        "        elif mid+1 > binary_search2(mid+1, data) :\n",
        "            return mid\n",
        "        else : start = mid + 1\n",
        "    if sum(data) == 0 : #모든 원소가 0인 경우 반복문을 탈출할 수 있음\n",
        "        return 0\n",
        "    else : return len(data) #if문을 탈출한다면 모든 원소가 len(data)보다 크므로 len(data)가 정답\n",
        "\n",
        "def solution(citations):\n",
        "    citations.sort(reverse = True)\n",
        "    answer = binary_search(citations)\n",
        "    return answer"
      ],
      "execution_count": null,
      "outputs": []
    },
    {
      "cell_type": "code",
      "metadata": {
        "colab": {
          "base_uri": "https://localhost:8080/"
        },
        "id": "f4OAuTtPcZ8g",
        "outputId": "adf98deb-eb05-447e-a9f0-c42c2a01a060"
      },
      "source": [
        "#12109 Hindexs, 20210606\n",
        "n = input()\n",
        "arr = list(map(int, input().split()))\n",
        "print(solution(arr))\n",
        "#89592kb, 400ms"
      ],
      "execution_count": null,
      "outputs": [
        {
          "output_type": "stream",
          "text": [
            "5\n",
            "1 1 4 8 1\n",
            "2\n"
          ],
          "name": "stdout"
        }
      ]
    },
    {
      "cell_type": "code",
      "metadata": {
        "id": "mN-prU5wijh7"
      },
      "source": [
        "#프로그래머스 H-index 우수풀이 / 대박이다 이건.\n",
        "def solution(citations):\n",
        "    citations.sort(reverse=True)\n",
        "    answer = max(map(min, enumerate(citations, start=1))) #enumerate의 원소에 min을 적용하면 부여한 인덱스와 밸류 중 작은 값을 반환한다.\n",
        "    return answer"
      ],
      "execution_count": null,
      "outputs": []
    },
    {
      "cell_type": "code",
      "metadata": {
        "id": "KKfUPFSoxEms"
      },
      "source": [
        "#프로그래머스 가장 큰 수, 20210606\n",
        "#sorted의 사용법을 익힌 데에 의의가 있었다.\n",
        "def solution(numbers):\n",
        "    a = {9:[],8:[],7:[],6:[],5:[],4:[],3:[],2:[],1:[]}\n",
        "    num_zero = 0\n",
        "    for i in numbers :\n",
        "        if i == 0 :\n",
        "            num_zero += 1\n",
        "        else :\n",
        "            st = str(i)\n",
        "            a[int(st[0])].append([i,int(st+st[0]*(9-len(st)))])\n",
        "    if len(numbers) == num_zero :\n",
        "        return '0'\n",
        "    ans = ''\n",
        "    def another(n) :\n",
        "        st = str(n)\n",
        "        f = st[0]\n",
        "        for i in st :\n",
        "            if i != f :\n",
        "                if i > f:\n",
        "                    return -len(st)\n",
        "                else :   \n",
        "                    return len(st)\n",
        "        return 0\n",
        "    for i in range(9) :\n",
        "        if a[9-i] : \n",
        "            for j in sorted(a[9-i], key = lambda x : (x[1], another(x[0])), reverse = True) :\n",
        "                ans += str(j[0])\n",
        "    ans += '0'*num_zero\n",
        "    return ans"
      ],
      "execution_count": null,
      "outputs": []
    },
    {
      "cell_type": "code",
      "metadata": {
        "id": "SOyFst4I86M7"
      },
      "source": [
        "#16496 큰 수 만들기, 20210606\n",
        "n = input()\n",
        "arr = list(map(int, input().split()))\n",
        "print(solution(arr))"
      ],
      "execution_count": null,
      "outputs": []
    },
    {
      "cell_type": "code",
      "metadata": {
        "id": "_vKf-O54Oms0"
      },
      "source": [
        "#프로그래머스 가장 큰 수 우수풀이\n",
        "def solution(numbers):\n",
        "    numbers = list(map(str, numbers))\n",
        "    numbers.sort(key=lambda x: x*3, reverse=True)\n",
        "    return str(int(''.join(numbers)))"
      ],
      "execution_count": null,
      "outputs": []
    },
    {
      "cell_type": "code",
      "metadata": {
        "id": "-hjJElkbQAFf"
      },
      "source": [
        "#프로그래머스 실패율, 20210607\n",
        "#결국 각 스테이지의 실패율을 리스트화해 비교해야한다.\n",
        "#enumerate(pct,1)을 해준 후 sorted를 이용하면 되겠다.\n",
        "def solution(N, stages):\n",
        "    succ = [0] * N\n",
        "    fail = [0] * N\n",
        "    pct = []\n",
        "\n",
        "    for i in stages :\n",
        "        for j in range(i-1) :\n",
        "            succ[j] += 1\n",
        "        if i <= N : fail[i-1] += 1\n",
        "    for a, b in zip(succ, fail) :\n",
        "        if a+b : pct.append(b/(a+b))\n",
        "        else : pct.append(0)\n",
        "    answer = [i[0] for i in sorted(enumerate(pct,1), key = lambda x : (x[1], -x[0]), reverse = True)]\n",
        "    \n",
        "    return answer"
      ],
      "execution_count": null,
      "outputs": []
    },
    {
      "cell_type": "code",
      "metadata": {
        "id": "oUoHJgybROHL"
      },
      "source": [
        "#프로그래머스 실패율 우수풀이\n",
        "def solution(N, stages):\n",
        "    result = {}\n",
        "    denominator = len(stages)\n",
        "    for stage in range(1, N+1):\n",
        "        if denominator != 0:\n",
        "            count = stages.count(stage)\n",
        "            result[stage] = count / denominator\n",
        "            denominator -= count #분모를 len(stages)를 이용해 쓰는 판단이 멋졌다.\n",
        "        else:\n",
        "            result[stage] = 0\n",
        "    return sorted(result, key=lambda x : result[x], reverse=True) #키를 lambda x : result[x]로 쓰는 건 완전 이해하지 못한 것 같다. 다시 생각해보자."
      ],
      "execution_count": null,
      "outputs": []
    }
  ]
}