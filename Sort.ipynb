{
  "nbformat": 4,
  "nbformat_minor": 0,
  "metadata": {
    "colab": {
      "name": "Sort.ipynb",
      "provenance": [],
      "collapsed_sections": [],
      "authorship_tag": "ABX9TyN1iLNcbA7cSZJx/C1MqhVH",
      "include_colab_link": true
    },
    "kernelspec": {
      "name": "python3",
      "display_name": "Python 3"
    },
    "language_info": {
      "name": "python"
    }
  },
  "cells": [
    {
      "cell_type": "markdown",
      "metadata": {
        "id": "view-in-github",
        "colab_type": "text"
      },
      "source": [
        "<a href=\"https://colab.research.google.com/github/danny980521/Algorithm-Pracice/blob/main/Sort.ipynb\" target=\"_parent\"><img src=\"https://colab.research.google.com/assets/colab-badge.svg\" alt=\"Open In Colab\"/></a>"
      ]
    },
    {
      "cell_type": "code",
      "metadata": {
        "id": "6pq69w1wb_Se"
      },
      "source": [
        "#프로그래머스 H-index, 20210606\n",
        "#h를 넘는 원소가 h개 이상이어야한다.\n",
        "#이분탐색으로 구현해보자.\n",
        "#n이 정답이라면 n을 넣었을때 n보다 작은 것들 중 가장 빠른 인덱스 값이 n보다 크거나 같아야한다.\n",
        "#n+1을 넣는다면 n+1보다 작은 것들 중 가장 빠른 인덱스 값이 n+1보다 작을 것이다.\n",
        "\n",
        "#역으로 정렬된 배열에서 target보다 작은 수가 나오기 시작하는 인덱스를 찾는 함수binary_search2구현\n",
        "def binary_search2(target, data):\n",
        "    start = 0\n",
        "    end = len(data) - 1\n",
        "\n",
        "    while start <= end:\n",
        "        mid = (start + end) // 2\n",
        "\n",
        "        if data[mid] >= target:\n",
        "            start = mid + 1\n",
        "        elif data[mid-1] >= target:\n",
        "            return mid\n",
        "        else:\n",
        "            end = mid -1\n",
        "    return len(data) #반복문을 탈출한다면 마지막 인덱스+1 값인 len(data)를 반환\n",
        "\n",
        "\n",
        "def binary_search(data):\n",
        "    start = 0\n",
        "    end = min(data[0], len(data)-1)\n",
        "\n",
        "    while start <= end:\n",
        "        mid = (start + end) // 2\n",
        "        if mid > binary_search2(mid, data) :\n",
        "            end = mid - 1\n",
        "        elif mid+1 > binary_search2(mid+1, data) :\n",
        "            return mid\n",
        "        else : start = mid + 1\n",
        "    if sum(data) == 0 : #모든 원소가 0인 경우 반복문을 탈출할 수 있음\n",
        "        return 0\n",
        "    else : return len(data) #if문을 탈출한다면 모든 원소가 len(data)보다 크므로 len(data)가 정답\n",
        "\n",
        "def solution(citations):\n",
        "    citations.sort(reverse = True)\n",
        "    answer = binary_search(citations)\n",
        "    return answer"
      ],
      "execution_count": null,
      "outputs": []
    },
    {
      "cell_type": "code",
      "metadata": {
        "colab": {
          "base_uri": "https://localhost:8080/"
        },
        "id": "f4OAuTtPcZ8g",
        "outputId": "adf98deb-eb05-447e-a9f0-c42c2a01a060"
      },
      "source": [
        "#12109 Hindexs, 20210606\n",
        "n = input()\n",
        "arr = list(map(int, input().split()))\n",
        "print(solution(arr))\n",
        "#89592kb, 400ms"
      ],
      "execution_count": null,
      "outputs": [
        {
          "output_type": "stream",
          "text": [
            "5\n",
            "1 1 4 8 1\n",
            "2\n"
          ],
          "name": "stdout"
        }
      ]
    },
    {
      "cell_type": "code",
      "metadata": {
        "id": "mN-prU5wijh7"
      },
      "source": [
        "#프로그래머스 H-index 우수풀이 / 대박이다 이건.\n",
        "def solution(citations):\n",
        "    citations.sort(reverse=True)\n",
        "    answer = max(map(min, enumerate(citations, start=1))) #enumerate의 원소에 min을 적용하면 부여한 인덱스와 밸류 중 작은 값을 반환한다.\n",
        "    return answer"
      ],
      "execution_count": null,
      "outputs": []
    },
    {
      "cell_type": "code",
      "metadata": {
        "id": "KKfUPFSoxEms"
      },
      "source": [
        "#프로그래머스 가장 큰 수, 20210606\n",
        "#sorted의 사용법을 익힌 데에 의의가 있었다.\n",
        "def solution(numbers):\n",
        "    a = {9:[],8:[],7:[],6:[],5:[],4:[],3:[],2:[],1:[]}\n",
        "    num_zero = 0\n",
        "    for i in numbers :\n",
        "        if i == 0 :\n",
        "            num_zero += 1\n",
        "        else :\n",
        "            st = str(i)\n",
        "            a[int(st[0])].append([i,int(st+st[0]*(9-len(st)))])\n",
        "    if len(numbers) == num_zero :\n",
        "        return '0'\n",
        "    ans = ''\n",
        "    def another(n) :\n",
        "        st = str(n)\n",
        "        f = st[0]\n",
        "        for i in st :\n",
        "            if i != f :\n",
        "                if i > f:\n",
        "                    return -len(st)\n",
        "                else :   \n",
        "                    return len(st)\n",
        "        return 0\n",
        "    for i in range(9) :\n",
        "        if a[9-i] : \n",
        "            for j in sorted(a[9-i], key = lambda x : (x[1], another(x[0])), reverse = True) :\n",
        "                ans += str(j[0])\n",
        "    ans += '0'*num_zero\n",
        "    return ans"
      ],
      "execution_count": null,
      "outputs": []
    },
    {
      "cell_type": "code",
      "metadata": {
        "id": "SOyFst4I86M7"
      },
      "source": [
        "#16496 큰 수 만들기, 20210606\n",
        "n = input()\n",
        "arr = list(map(int, input().split()))\n",
        "print(solution(arr))"
      ],
      "execution_count": null,
      "outputs": []
    },
    {
      "cell_type": "code",
      "metadata": {
        "id": "_vKf-O54Oms0"
      },
      "source": [
        "#프로그래머스 가장 큰 수 우수풀이\n",
        "def solution(numbers):\n",
        "    numbers = list(map(str, numbers))\n",
        "    numbers.sort(key=lambda x: x*3, reverse=True)\n",
        "    return str(int(''.join(numbers)))"
      ],
      "execution_count": null,
      "outputs": []
    },
    {
      "cell_type": "code",
      "metadata": {
        "id": "-hjJElkbQAFf"
      },
      "source": [
        "#프로그래머스 실패율, 20210607\n",
        "#결국 각 스테이지의 실패율을 리스트화해 비교해야한다.\n",
        "#enumerate(pct,1)을 해준 후 sorted를 이용하면 되겠다.\n",
        "def solution(N, stages):\n",
        "    succ = [0] * N\n",
        "    fail = [0] * N\n",
        "    pct = []\n",
        "\n",
        "    for i in stages :\n",
        "        for j in range(i-1) :\n",
        "            succ[j] += 1\n",
        "        if i <= N : fail[i-1] += 1\n",
        "    for a, b in zip(succ, fail) :\n",
        "        if a+b : pct.append(b/(a+b))\n",
        "        else : pct.append(0)\n",
        "    answer = [i[0] for i in sorted(enumerate(pct,1), key = lambda x : (x[1], -x[0]), reverse = True)]\n",
        "    \n",
        "    return answer"
      ],
      "execution_count": null,
      "outputs": []
    },
    {
      "cell_type": "code",
      "metadata": {
        "id": "oUoHJgybROHL"
      },
      "source": [
        "#프로그래머스 실패율 우수풀이\n",
        "def solution(N, stages):\n",
        "    result = {}\n",
        "    denominator = len(stages)\n",
        "    for stage in range(1, N+1):\n",
        "        if denominator != 0:\n",
        "            count = stages.count(stage)\n",
        "            result[stage] = count / denominator\n",
        "            denominator -= count #분모를 len(stages)를 이용해 쓰는 판단이 멋졌다.\n",
        "        else:\n",
        "            result[stage] = 0\n",
        "    return sorted(result, key=lambda x : result[x], reverse=True) #키를 lambda x : result[x]로 쓰는 건 완전 이해하지 못한 것 같다. 다시 생각해보자."
      ],
      "execution_count": null,
      "outputs": []
    },
    {
      "cell_type": "code",
      "metadata": {
        "colab": {
          "base_uri": "https://localhost:8080/"
        },
        "id": "BDNRLp1WEXQh",
        "outputId": "c248c7eb-114e-4c1e-971c-df3275ac9870"
      },
      "source": [
        "#1181 단어정렬, 20210614\n",
        "n = int(input())\n",
        "a = set()\n",
        "for i in range(n) :\n",
        "  s = input()\n",
        "  l = len(s)\n",
        "  a.add((l,s))\n",
        "for i in sorted(a, key = lambda x : (x[0], x[1])) : #키 부분은 필요없다.\n",
        "  print(i[1])\n",
        "#35856kb, 916ms"
      ],
      "execution_count": null,
      "outputs": [
        {
          "output_type": "stream",
          "text": [
            "3\n",
            "iz\n",
            "i\n",
            "ia\n",
            "i\n",
            "ia\n",
            "iz\n"
          ],
          "name": "stdout"
        }
      ]
    },
    {
      "cell_type": "code",
      "metadata": {
        "id": "lhZPVYL9G9iP"
      },
      "source": [
        "#1181 단어정렬 1등 코드\n",
        "import sys\n",
        "word=set()\n",
        "for i in range(int(input())):\n",
        "    word.add(sys.stdin.readline().rstrip())\n",
        "word=list(word)\n",
        "word.sort()\n",
        "word.sort(key=lambda x:len(x)) #그냥 솔트에다가 키를 붙여주었다.\n",
        "print(\"\\n\".join(word)) #조인으로 출력"
      ],
      "execution_count": null,
      "outputs": []
    },
    {
      "cell_type": "code",
      "metadata": {
        "colab": {
          "base_uri": "https://localhost:8080/"
        },
        "id": "lrJ22g4Xx3oo",
        "outputId": "710224f0-3768-4f15-ad2b-08abcbfe5d3b"
      },
      "source": [
        "#2751 수 정렬하기 2, 20210614\n",
        "import sys\n",
        "input = sys.stdin.readline\n",
        "n = int(input())\n",
        "arr = []\n",
        "for i in range(n) :\n",
        "    arr.append(int(input()))\n",
        "for i in sorted(arr) :\n",
        "    print(i)\n",
        "#81848kb, 1348ms"
      ],
      "execution_count": null,
      "outputs": [
        {
          "output_type": "stream",
          "text": [
            "5\n",
            "11\n",
            "4\n",
            "3\n",
            "2\n",
            "1\n",
            "1\n",
            "2\n",
            "3\n",
            "4\n",
            "11\n"
          ],
          "name": "stdout"
        }
      ]
    },
    {
      "cell_type": "code",
      "metadata": {
        "colab": {
          "base_uri": "https://localhost:8080/"
        },
        "id": "9Z-_k5d02U6O",
        "outputId": "1c32361c-37bd-4acd-8917-3c9d3c648572"
      },
      "source": [
        "#11650 좌표 정렬하기, 20210614\n",
        "#import sys\n",
        "#input = sys.stdin.readline\n",
        "n = int(input())\n",
        "arr = []\n",
        "for i in range(n) :\n",
        "    arr.append(list(map(int, input().split())))\n",
        "for a, b in sorted(arr, key = lambda x : (x[0], x[1])) :\n",
        "    print(a, b)\n",
        "#57672kb, 376ms"
      ],
      "execution_count": null,
      "outputs": [
        {
          "output_type": "stream",
          "text": [
            "5\n",
            "3 4\n",
            "1 1\n",
            "1 -1\n",
            "2 2\n",
            "3 3\n",
            "1 -1\n",
            "1 1\n",
            "2 2\n",
            "3 3\n",
            "3 4\n"
          ],
          "name": "stdout"
        }
      ]
    },
    {
      "cell_type": "code",
      "metadata": {
        "id": "jxaP_YJvpM2N"
      },
      "source": [
        "#1764 듣보잡, 20210615\n",
        "n, m = map(int, input().split())\n",
        "a = set()\n",
        "b = set()\n",
        "for i in range(n) :\n",
        "    a.add(input())\n",
        "for i in range(m) :\n",
        "    b.add(input())\n",
        "arr = sorted(a&b)\n",
        "print(len(arr))\n",
        "print('\\n'.join(arr))\n",
        "41748kb, 4004ms"
      ],
      "execution_count": null,
      "outputs": []
    },
    {
      "cell_type": "code",
      "metadata": {
        "id": "8aEDa5NWpcYk"
      },
      "source": [
        "#1764 듣보잡 1등 코드, splitlines가 크다.\n",
        "import sys\n",
        "n, m = map(int, input().split())\n",
        "nameList = sys.stdin.read().splitlines()\n",
        "hearset = set(nameList[:n])\n",
        "seeset = set(nameList[n:])\n",
        "ret = list(hearset & seeset)\n",
        "ret.sort()\n",
        "print(len(ret))\n",
        "for i in ret:\n",
        "    print(i)"
      ],
      "execution_count": null,
      "outputs": []
    },
    {
      "cell_type": "code",
      "metadata": {
        "id": "qVVVTfMfpBiT"
      },
      "source": [
        "#프로그래머스 행렬 테두리 회전하기, 20210622\n",
        "def rotate(a,b,c,d) :\n",
        "    nums = []\n",
        "    for i in range(b,d+1) :\n",
        "        nums.append(arr[a][i])\n",
        "    for i in range(a+1,c+1) :\n",
        "        nums.append(arr[i][d])\n",
        "    for i in range(d-1,b-1,-1) :\n",
        "        nums.append(arr[c][i])\n",
        "    for i in range(c-1,a,-1) :\n",
        "        nums.append(arr[i][b])\n",
        "\n",
        "    k = 0\n",
        "    for i in range(b+1,d+1) :\n",
        "        arr[a][i] = nums[k]\n",
        "        k += 1\n",
        "    for i in range(a+1,c+1) :\n",
        "        arr[i][d] = nums[k]\n",
        "        k += 1\n",
        "    for i in range(d-1,b-1,-1) :\n",
        "        arr[c][i] = nums[k]\n",
        "        k += 1\n",
        "    for i in range(c-1,a-1,-1) :\n",
        "        arr[i][b] = nums[k]\n",
        "        k += 1\n",
        "    return min(nums)\n",
        "\n",
        "def solution(rows, columns, queries):\n",
        "    global arr\n",
        "    arr = []\n",
        "    for i in range(rows) :\n",
        "        a = []\n",
        "        for j in range(columns) :\n",
        "            a.append(j+i*columns+1)\n",
        "        arr.append(a)\n",
        "\n",
        "    answer = [rotate(a-1,b-1,c-1,d-1) for a,b,c,d in queries]\n",
        "    return answer"
      ],
      "execution_count": null,
      "outputs": []
    },
    {
      "cell_type": "code",
      "metadata": {
        "id": "2f3B8pqIrHnn"
      },
      "source": [
        "#프로그래머스 행렬 테두리 회전하기 우수코드, for문을 한번씩만 돌린 점, 보드를 한 줄로 표현한게 나보다 낫다.\n",
        "def solution(rows, columns, queries):\n",
        "    answer = []\n",
        "\n",
        "    board = [[i+(j)*columns for i in range(1,columns+1)] for j in range(rows)]\n",
        "    # print(board)\n",
        "\n",
        "    for a,b,c,d in queries:\n",
        "        stack = []\n",
        "        r1, c1, r2, c2 = a-1, b-1, c-1, d-1\n",
        "\n",
        "\n",
        "        for i in range(c1, c2+1):\n",
        "\n",
        "            stack.append(board[r1][i])\n",
        "            if len(stack) == 1:\n",
        "                continue\n",
        "            else:\n",
        "                board[r1][i] = stack[-2]\n",
        "\n",
        "\n",
        "        for j in range(r1+1, r2+1):\n",
        "            stack.append(board[j][i])\n",
        "            board[j][i] = stack[-2]\n",
        "\n",
        "        for k in range(c2-1, c1-1, -1):\n",
        "            stack.append(board[j][k])\n",
        "            board[j][k] = stack[-2]\n",
        "\n",
        "        for l in range(r2-1, r1-1, -1):\n",
        "            stack.append(board[l][k])\n",
        "            board[l][k] = stack[-2]\n",
        "\n",
        "        answer.append(min(stack))\n",
        "\n",
        "\n",
        "    return answer"
      ],
      "execution_count": null,
      "outputs": []
    },
    {
      "cell_type": "code",
      "metadata": {
        "id": "BCtKyAjOpq6O"
      },
      "source": [
        "#프로그래머스 튜플, 20210623\n",
        "def solution(s):\n",
        "    sets = [set(map(int, i.split(','))) for i in sorted(s[2:-2].split('},{'), key = lambda x : len(x))]\n",
        "    answer = list(sets[0])\n",
        "    for i in range(len(sets)-1) :\n",
        "        answer.extend(sets[i+1] - sets[i])\n",
        "    return answer"
      ],
      "execution_count": null,
      "outputs": []
    },
    {
      "cell_type": "code",
      "metadata": {
        "id": "2j2vzRJdq98L"
      },
      "source": [
        "#프로그래머스 튜플 우수 풀이, re와 counter를 배웠다.\n",
        "def solution(s):\n",
        "\n",
        "    s = Counter(re.findall('\\d+', s))\n",
        "    return list(map(int, [k for k, v in sorted(s.items(), key=lambda x: x[1], reverse=True)]))\n",
        "\n",
        "import re\n",
        "from collections import Counter"
      ],
      "execution_count": null,
      "outputs": []
    },
    {
      "cell_type": "code",
      "metadata": {
        "id": "15LQ6pTMbBDg"
      },
      "source": [
        "#프로그래머스 베스트앨범, 20210624\n",
        "#장르 - 재생횟수 높은 순 - 고유번호 낮은 순으로 정렬.\n",
        "#노래는 장르당 두곡씩만 뽑는다.\n",
        "import heapq\n",
        "def solution(genres, plays):\n",
        "    answer = []\n",
        "    length = len(genres)\n",
        "    music = dict()\n",
        "    genrearr = []\n",
        "    for i in range(length) :\n",
        "        if genres[i] in music :\n",
        "            heapq.heappush(music[genres[i]],(-plays[i], i))\n",
        "        else : \n",
        "            music[genres[i]] = [(-plays[i], i)]\n",
        "            genrearr.append(genres[i])\n",
        "    genrearr.sort(key = lambda x : sum(i[0] for i in music[x]))\n",
        "    for i in genrearr :\n",
        "        answer.append(heapq.heappop(music[i])[1])\n",
        "        try : answer.append(heapq.heappop(music[i])[1])\n",
        "        except : continue\n",
        "    return answer"
      ],
      "execution_count": null,
      "outputs": []
    },
    {
      "cell_type": "code",
      "metadata": {
        "id": "4KWLfTojcFcf"
      },
      "source": [
        "#프로그래머스 베스트앨범 우수풀이\n",
        "def solution(genres, plays):\n",
        "    answer = []\n",
        "    d = {e:[] for e in set(genres)}\n",
        "    for e in zip(genres, plays, range(len(plays))):\n",
        "        d[e[0]].append([e[1] , e[2]])\n",
        "    genreSort =sorted(list(d.keys()), key= lambda x: sum( map(lambda y: y[0],d[x])), reverse = True)\n",
        "    for g in genreSort:\n",
        "        temp = [e[1] for e in sorted(d[g],key= lambda x: (x[0], -x[1]), reverse = True)]\n",
        "        answer += temp[:min(len(temp),2)]\n",
        "    return answer"
      ],
      "execution_count": null,
      "outputs": []
    }
  ]
}