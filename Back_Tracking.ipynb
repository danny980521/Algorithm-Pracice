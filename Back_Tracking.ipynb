{
  "nbformat": 4,
  "nbformat_minor": 0,
  "metadata": {
    "colab": {
      "name": "Back_Tracking.ipynb",
      "provenance": [],
      "collapsed_sections": [],
      "authorship_tag": "ABX9TyNY3yvFy03n2weaUpfNbrNf",
      "include_colab_link": true
    },
    "kernelspec": {
      "name": "python3",
      "display_name": "Python 3"
    },
    "language_info": {
      "name": "python"
    }
  },
  "cells": [
    {
      "cell_type": "markdown",
      "metadata": {
        "id": "view-in-github",
        "colab_type": "text"
      },
      "source": [
        "<a href=\"https://colab.research.google.com/github/danny980521/Algorithm-Pracice/blob/main/Back_Tracking.ipynb\" target=\"_parent\"><img src=\"https://colab.research.google.com/assets/colab-badge.svg\" alt=\"Open In Colab\"/></a>"
      ]
    },
    {
      "cell_type": "code",
      "metadata": {
        "id": "JLrLceSTvxcc"
      },
      "source": [
        "#프로그래머스 N-Queen, 20210623\n",
        "def Queen(n, cur, ubatch, rubatch, lubatch) :\n",
        "    if n == cur : answer[0] += 1\n",
        "    else :\n",
        "        for i in range(n) :\n",
        "            if i not in ubatch and cur+i not in rubatch and i-cur not in lubatch :\n",
        "                Queen(n, cur+1, ubatch|{i}, rubatch|{cur+i}, lubatch|{i-cur})\n",
        "\n",
        "def solution(n):\n",
        "    global answer\n",
        "    answer = [0]\n",
        "    for i in range(n//2) :\n",
        "        Queen(n, 1, {i}, {i}, {i})\n",
        "    answer[0] *= 2\n",
        "    if n%2 : Queen(n, 1, {n//2}, {n//2}, {n//2})\n",
        "    return answer[0]"
      ],
      "execution_count": null,
      "outputs": []
    },
    {
      "cell_type": "code",
      "metadata": {
        "colab": {
          "base_uri": "https://localhost:8080/"
        },
        "id": "1M1XsTzKwHPS",
        "outputId": "d3e4e415-b465-47c5-b50c-bb7e1a27599e"
      },
      "source": [
        "#9663 N-Queen, 20210623\n",
        "print(solution(int(input())))\n",
        "#29200kb, 27208ms"
      ],
      "execution_count": null,
      "outputs": [
        {
          "output_type": "stream",
          "text": [
            "14\n",
            "365596\n"
          ],
          "name": "stdout"
        }
      ]
    }
  ]
}