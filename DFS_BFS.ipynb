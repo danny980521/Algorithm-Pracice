{
  "nbformat": 4,
  "nbformat_minor": 0,
  "metadata": {
    "colab": {
      "name": "DFS_BFS.ipynb",
      "provenance": [],
      "collapsed_sections": [],
      "authorship_tag": "ABX9TyOFc+jQ3M0mM9fARBJG2hY1",
      "include_colab_link": true
    },
    "kernelspec": {
      "name": "python3",
      "display_name": "Python 3"
    },
    "language_info": {
      "name": "python"
    }
  },
  "cells": [
    {
      "cell_type": "markdown",
      "metadata": {
        "id": "view-in-github",
        "colab_type": "text"
      },
      "source": [
        "<a href=\"https://colab.research.google.com/github/danny980521/Algorithm-Pracice/blob/main/DFS_BFS.ipynb\" target=\"_parent\"><img src=\"https://colab.research.google.com/assets/colab-badge.svg\" alt=\"Open In Colab\"/></a>"
      ]
    },
    {
      "cell_type": "code",
      "metadata": {
        "colab": {
          "base_uri": "https://localhost:8080/"
        },
        "id": "FCtmau9P6g13",
        "outputId": "e5483352-a2ff-41be-a31c-a1f84ad21a7d"
      },
      "source": [
        "#2606 바이러스, 20210615\n",
        "n = int(input())\n",
        "m = int(input())\n",
        "#graph 완성하기\n",
        "graph = dict()\n",
        "for i in range(m) :\n",
        "    a, b = map(int, input().split())\n",
        "    if a in graph :\n",
        "        graph[a].append(b)\n",
        "    else : graph[a] = [b]\n",
        "    if b in graph :\n",
        "        graph[b].append(a)\n",
        "    else : graph[b] = [a]\n",
        "\n",
        "#1과 연결된 것들의 개수 찾기\n",
        "remember = [1]\n",
        "tofind = graph[1]\n",
        "answer = 0\n",
        "while tofind :\n",
        "    a = tofind.pop()\n",
        "    if a not in remember :\n",
        "        remember.append(a)\n",
        "        tofind.extend(graph[a])\n",
        "        answer += 1\n",
        "print(answer)\n",
        "#29200kb, 68ms"
      ],
      "execution_count": null,
      "outputs": [
        {
          "output_type": "stream",
          "text": [
            "7\n",
            "6\n",
            "1 2\n",
            "2 3\n",
            "1 5\n",
            "5 2\n",
            "5 6\n",
            "4 7\n",
            "4\n"
          ],
          "name": "stdout"
        }
      ]
    },
    {
      "cell_type": "code",
      "metadata": {
        "id": "T-TD5VQiHDox"
      },
      "source": [
        "#2606 바이러스 우수 코드\n",
        "from sys import stdin\n",
        "read = stdin.readline\n",
        "dic={}\n",
        "for i in range(1, int(read())):\n",
        "    dic[i+1] = set() #dic의 0부터 i까지를 빈 set으로 선언.\n",
        "for j in range(int(read())):\n",
        "    a, b = map(int,read().split())\n",
        "    dic[a].add(b)\n",
        "    dic[b].add(a)\n",
        "\n",
        "def dfs(start, dic): #dfs를 재귀함수로 구현.\n",
        "    for i in dic[start]:\n",
        "        if i not in visited:\n",
        "            visited.append(i)\n",
        "            dfs(i, dic)\n",
        "\n",
        "def bfs(start, dic): #위의 내 풀이방식과 비슷하다.\n",
        "    queue = [start]\n",
        "    while queue:\n",
        "        for i in dic[queue.pop()]: #난 생각없이 pop한거 일단 다 쑤셔넣었는데 얘는 선별해서 넣었다. 이게 더 나은듯.\n",
        "            if i not in visited:\n",
        "                visited.append(i)\n",
        "                queue.append(i)\n",
        "visited = []\n",
        "dfs(1, dic) #bfs(1, dic)를 해도 정답.\n",
        "print(len(visited)-1) #따로 변수로 셀 필요 없이 방문한 곳의 개수만 알면 됨."
      ],
      "execution_count": null,
      "outputs": []
    },
    {
      "cell_type": "code",
      "metadata": {
        "colab": {
          "base_uri": "https://localhost:8080/"
        },
        "id": "7VbAHmf8L9Xo",
        "outputId": "9d9fe051-2df9-416b-b05f-48875406ee68"
      },
      "source": [
        "#1260 DFS와 BFS, 20210615\n",
        "n, m, v = map(int, input().split())\n",
        "v = str(v)\n",
        "#graph 그리기\n",
        "graph = dict()\n",
        "for i in range(m) :\n",
        "    a, b = input().split()\n",
        "    try :\n",
        "        graph[a].add(b)\n",
        "    except : graph[a] = {b}\n",
        "    try :\n",
        "        graph[b].add(a)\n",
        "    except : graph[b] = {a}\n",
        "\n",
        "#dfs\n",
        "def dfs(v, graph) :\n",
        "    if v not in graph : return 0\n",
        "    for i in sorted(graph[v], key = lambda x : (len(x), x)) :\n",
        "        if i not in visited :\n",
        "            visited.append(i)\n",
        "            dfs(i, graph)\n",
        "#bfs\n",
        "def bfs(v, graph) :\n",
        "    if v not in graph : return 0\n",
        "    tofind = [v]\n",
        "    while tofind :\n",
        "      for i in sorted(graph[tofind.pop(0)], key = lambda x : (len(x), x)) :\n",
        "          if i not in visited :\n",
        "              visited.append(i)\n",
        "              tofind.append(i)\n",
        "#실행\n",
        "visited = [v]\n",
        "dfs(v, graph)\n",
        "print(' '.join(visited))\n",
        "visited = [v] \n",
        "bfs(v, graph)\n",
        "print(' '.join(visited))\n",
        "#32508kb, 828ms"
      ],
      "execution_count": null,
      "outputs": [
        {
          "output_type": "stream",
          "text": [
            "1000 1 1\n",
            "999 1000\n",
            "1\n",
            "1\n"
          ],
          "name": "stdout"
        }
      ]
    },
    {
      "cell_type": "code",
      "metadata": {
        "id": "mYwzQB85lZVI"
      },
      "source": [
        "#1260 DFS와 BFS 1등 코드, 앞으로 이 방법으로 가보자.\n",
        "import sys\n",
        "N, M, V = map(int, sys.stdin.readline().strip().split())\n",
        "edge = [[] for _ in range(N+1)]\n",
        "\n",
        "for __ in range(M):\n",
        "    n1, n2 = map(int, sys.stdin.readline().strip().split())\n",
        "    edge[n1].append(n2)\n",
        "    edge[n2].append(n1)\n",
        "\n",
        "for e in edge:\n",
        "    e.sort(reverse=True)\n",
        "\n",
        "def dfs():\n",
        "    d_visit = []\n",
        "    stack = [V]\n",
        "    d_check = [0 for _ in range(N+1)]\n",
        "    while stack:\n",
        "        v1 = stack.pop()\n",
        "        if not d_check[v1]:\n",
        "            d_check[v1] = 1\n",
        "            d_visit.append(v1)\n",
        "            stack += edge[v1]\n",
        "    return d_visit\n",
        "\n",
        "\n",
        "def bfs():\n",
        "    b_visit = []\n",
        "    queue = [V]\n",
        "    b_check = [0 for _ in range(N+1)]\n",
        "    b_check[V] = 1\n",
        "    while queue:\n",
        "        v2 = queue.pop()\n",
        "        b_visit.append(v2)\n",
        "        for i in reversed(edge[v2]):\n",
        "            if not b_check[i]:\n",
        "                b_check[i] = 1\n",
        "                queue = [i] + queue\n",
        "    return b_visit\n",
        "\n",
        "print(' '.join(map(str,dfs())))\n",
        "print(' '.join(map(str,bfs())))"
      ],
      "execution_count": null,
      "outputs": []
    },
    {
      "cell_type": "code",
      "metadata": {
        "colab": {
          "base_uri": "https://localhost:8080/"
        },
        "id": "sChsS7L9n8lz",
        "outputId": "5222b442-b574-4967-cb09-9a29171c3927"
      },
      "source": [
        "#11724 연결 요소의 개수, 20210615\n",
        "import sys #밑의 두 코드 없으면 recursion에러, 시간초과\n",
        "sys.setrecursionlimit(10**6)\n",
        "input = sys.stdin.readline\n",
        "\n",
        "n, m = map(int, input().split())\n",
        "edge = [[] for i in range(n+1)]\n",
        "for i in range(m) :\n",
        "    a, b = map(int, input().split())\n",
        "    edge[a].append(b)\n",
        "    edge[b].append(a)\n",
        "\n",
        "def dfs(start) : \n",
        "    d_check[start] = 1\n",
        "    for i in edge[start] :\n",
        "        if not d_check[i] :\n",
        "            dfs(i)\n",
        "\n",
        "d_check = [0 for i in range(n+1)]\n",
        "answer = 0\n",
        "start = 1\n",
        "while sum(d_check) < n :\n",
        "    for i in range(start, n+1) :\n",
        "        if not d_check[i] : \n",
        "            dfs(i)\n",
        "            answer += 1\n",
        "            start = i+1\n",
        "            break\n",
        "print(answer)\n",
        "#63788kb, 800ms"
      ],
      "execution_count": null,
      "outputs": [
        {
          "output_type": "stream",
          "text": [
            "3 2\n",
            "3 1\n",
            "2 1\n",
            "1\n"
          ],
          "name": "stdout"
        }
      ]
    },
    {
      "cell_type": "code",
      "metadata": {
        "colab": {
          "base_uri": "https://localhost:8080/"
        },
        "id": "KxQGaSuK7cs5",
        "outputId": "bd9c25de-a83a-410f-ca8c-11e33cb30dab"
      },
      "source": [
        "#1012 유기농 배추, 20210615\n",
        "#import sys\n",
        "#sys.setrecursionlimit(10**6)\n",
        "#input = sys.stdin.readline\n",
        "\n",
        "def dfs(i,j) :\n",
        "    edge[i][j] = 0\n",
        "    if i + 1 < n and edge[i+1][j] == 1 :\n",
        "        dfs(i+1,j)\n",
        "    if i > 0 and edge[i-1][j] == 1 :\n",
        "        dfs(i-1,j)\n",
        "    if j + 1 < m and edge[i][j+1] == 1 :\n",
        "        dfs(i,j+1)\n",
        "    if j > 0 and edge[i][j-1] == 1 :\n",
        "        dfs(i,j-1)\n",
        "\n",
        "t = int(input())\n",
        "for _ in range(t) :\n",
        "    m,n,k = map(int, input().split())\n",
        "    edge = [[0] * m for _ in range(n)]\n",
        "    for __ in range(k) :\n",
        "        a, b = map(int, input().split())\n",
        "        edge[b][a] = 1\n",
        "\n",
        "    answer = 0\n",
        "    for i in range(n) :\n",
        "        for j in range(m) :\n",
        "            if edge[i][j] :\n",
        "                answer += 1\n",
        "                dfs(i,j)\n",
        "    print(answer)\n",
        "#31032kb, 80ms"
      ],
      "execution_count": null,
      "outputs": [
        {
          "output_type": "stream",
          "text": [
            "1\n",
            "5 3 6\n",
            "0 2\n",
            "1 2\n",
            "2 2\n",
            "3 2\n",
            "4 2\n",
            "4 0\n",
            "2\n"
          ],
          "name": "stdout"
        }
      ]
    },
    {
      "cell_type": "code",
      "metadata": {
        "colab": {
          "base_uri": "https://localhost:8080/"
        },
        "id": "C9rAuySdOo2W",
        "outputId": "05ce04c4-5fce-4e88-9dde-643b3fb14c62"
      },
      "source": [
        "#2667 단지번호붙이기, 20210615\n",
        "#import sys\n",
        "#sys.setrecursionlimit(10**6)\n",
        "#input = sys.stdin.readline\n",
        "\n",
        "def dfs(i,j) :\n",
        "    edge[i][j] = 0\n",
        "    arr[-1] += 1\n",
        "    if i + 1 < n and edge[i+1][j] == 1 :\n",
        "        dfs(i+1,j)\n",
        "    if i > 0 and edge[i-1][j] == 1 :\n",
        "        dfs(i-1,j)\n",
        "    if j + 1 < n and edge[i][j+1] == 1 :\n",
        "        dfs(i,j+1)\n",
        "    if j > 0 and edge[i][j-1] == 1 :\n",
        "        dfs(i,j-1)\n",
        "\n",
        "n = int(input())\n",
        "edge = [[int(i) for i in input().rstrip()] for _ in range(n)]\n",
        "\n",
        "answer = 0\n",
        "arr = []\n",
        "for i in range(n) :\n",
        "    for j in range(n) :\n",
        "        if edge[i][j] :\n",
        "            arr.append(0)\n",
        "            answer += 1\n",
        "            dfs(i,j)\n",
        "print(answer)\n",
        "print('\\n'.join(map(str, sorted(arr))))\n",
        "#29564kb, 72ms"
      ],
      "execution_count": null,
      "outputs": [
        {
          "output_type": "stream",
          "text": [
            "7\n",
            "0110100\n",
            "0110101\n",
            "1110101\n",
            "0000111\n",
            "0100000\n",
            "0111110\n",
            "0111000\n",
            "3\n",
            "7\n",
            "8\n",
            "9\n"
          ],
          "name": "stdout"
        }
      ]
    },
    {
      "cell_type": "code",
      "metadata": {
        "id": "6Y_zfGQtkii4"
      },
      "source": [
        "#프로그래머스 게임 맵 최단거리, 20210615\n",
        "from collections import deque\n",
        "def solution(maps) :\n",
        "    m = len(maps)\n",
        "    n = len(maps[0])\n",
        "    position = deque()\n",
        "    position.append((0,0,1))\n",
        "    maps[0][0] = 0\n",
        "    while position :\n",
        "        a, b, c = position.popleft()\n",
        "        if a == m-1 and b == n-1 : return c\n",
        "        if b < n-1 and maps[a][b+1] == 1 :\n",
        "            position.append((a, b+1, c+1))\n",
        "            maps[a][b+1] = 0\n",
        "        if a < m-1 and maps[a+1][b] == 1 :\n",
        "            position.append((a+1, b, c+1))\n",
        "            maps[a+1][b] = 0\n",
        "        if a > 0 and maps[a-1][b] == 1 :\n",
        "            position.append((a-1, b, c+1))\n",
        "            maps[a-1][b] = 0\n",
        "        if b > 0 and maps[a][b-1] == 1 :\n",
        "            position.append((a, b-1, c+1))\n",
        "            maps[a][b-1] = 0\n",
        "    return -1"
      ],
      "execution_count": null,
      "outputs": []
    },
    {
      "cell_type": "code",
      "metadata": {
        "colab": {
          "base_uri": "https://localhost:8080/"
        },
        "id": "PjWRU27Jkc0u",
        "outputId": "23a35446-7491-4dc2-9146-d47c7ce9ea21"
      },
      "source": [
        "#2178 미로 탐색, 20210615\n",
        "#import sys\n",
        "#sys.setrecursionlimit(10**6)\n",
        "#input = sys.stdin.readline\n",
        "n,m = map(int, input().split())\n",
        "maps = [[int(i) for i in input().rstrip()] for _ in range(n)]\n",
        "print(solution(maps))\n",
        "#32124kb, 104ms"
      ],
      "execution_count": null,
      "outputs": [
        {
          "output_type": "stream",
          "text": [
            "4 6\n",
            "101111\n",
            "101010\n",
            "101011\n",
            "111011\n",
            "15\n"
          ],
          "name": "stdout"
        }
      ]
    },
    {
      "cell_type": "code",
      "metadata": {
        "id": "nRz4YtH5fTAd"
      },
      "source": [
        "#2178 미로 탐색 우수 풀이, nx, ny쓰는거 기억해두자.\n",
        "from sys import stdin\n",
        "N, M = map(int, stdin.readline().split())\n",
        "# matrix 배열\n",
        "matrix = [stdin.readline().rstrip() for _ in range(N)]\n",
        "# 방문경로 배열\n",
        "visited = [[0]*M for _ in range(N)]\n",
        "# 좌/우/위/아래 방향 이동\n",
        "dx, dy = [-1, 1, 0, 0], [0, 0, -1, 1]\n",
        "\n",
        "# BFS 경로 탐색\n",
        "# queue 방식 사용\n",
        "queue = [(0,0)]\n",
        "visited[0][0] = 1\n",
        "\n",
        "while queue:\n",
        "    x, y = queue.pop(0)\n",
        "\n",
        "    if x == N-1 and y == M-1:\n",
        "        # 최종 경로 도착\n",
        "        print(visited[x][y])\n",
        "        break\n",
        "\n",
        "    for i in range(4):\n",
        "        nx = x + dx[i]\n",
        "        ny = y + dy[i]\n",
        "        if 0 <= nx < N and 0 <= ny < M:\n",
        "            if visited[nx][ny] == 0 and matrix[nx][ny] == '1':\n",
        "                visited[nx][ny] = visited[x][y] + 1 \n",
        "                queue.append((nx,ny))"
      ],
      "execution_count": null,
      "outputs": []
    },
    {
      "cell_type": "code",
      "metadata": {
        "id": "eRL78VTrpH97"
      },
      "source": [
        "#프로그래머스 네트위크, 20210616\n",
        "def solution(n, computers):\n",
        "    answer = 0\n",
        "    for i in range(n) :\n",
        "        computers[i][i] = 0\n",
        "        if not sum(computers[i]) : answer += 1\n",
        "    \n",
        "    for i in range(n) :\n",
        "        if sum(computers[i]) :\n",
        "            answer += 1\n",
        "            check = [i]\n",
        "            while check :\n",
        "                a = check.pop()\n",
        "                for j in range(n) :\n",
        "                    if computers[a][j] :\n",
        "                        computers[a][j] = 0\n",
        "                        computers[j][a] = 0\n",
        "                        check.append(j)\n",
        "    return answer"
      ],
      "execution_count": null,
      "outputs": []
    },
    {
      "cell_type": "code",
      "metadata": {
        "id": "GVe95ecA4W5e"
      },
      "source": [
        "#프로그래머스 네트위크 우수풀이\n",
        "def solution(n, computers):\n",
        "    temp = []\n",
        "    for i in range(n):\n",
        "        temp.append(i)\n",
        "    for i in range(n):\n",
        "        for j in range(n):\n",
        "            if computers[i][j]:\n",
        "                for k in range(n):\n",
        "                    if temp[k] == temp[i]:\n",
        "                        temp[k] = temp[j]\n",
        "    return len(set(temp))\n"
      ],
      "execution_count": null,
      "outputs": []
    },
    {
      "cell_type": "code",
      "metadata": {
        "colab": {
          "base_uri": "https://localhost:8080/"
        },
        "id": "Eixm1-rDimCa",
        "outputId": "671d075e-4510-47f7-f621-c6551d19fdd4"
      },
      "source": [
        "#1697 숨바꼭질, 20210619\n",
        "#bfs가 좋겠다.\n",
        "from collections import deque \n",
        "\n",
        "def findbro(n, k) :\n",
        "    if n >= k : return n-k\n",
        "    queue = deque()\n",
        "    queue.append(n)\n",
        "    visited = {n}\n",
        "    cnt = 0\n",
        "    max = 100000\n",
        "    while cnt < max :\n",
        "        sec = len(queue)\n",
        "        for i in range(sec) :\n",
        "            cur = queue.popleft()\n",
        "            if cur > k :\n",
        "                max = min(max, cnt+cur-k)\n",
        "                continue\n",
        "            if cur <= 1 : \n",
        "                new = {cur+1} - visited\n",
        "            else : new = {cur+1, cur-1, cur*2} - visited\n",
        "            for j in new :\n",
        "                if j == k : return cnt+1\n",
        "            queue.extend(new)\n",
        "            visited |= new\n",
        "        cnt += 1\n",
        "    return cnt\n",
        "\n",
        "n, k = map(int, input().split())\n",
        "print(findbro(n, k))\n",
        "#40348kb, 148ms"
      ],
      "execution_count": 67,
      "outputs": [
        {
          "output_type": "stream",
          "text": [
            "0 5\n",
            "4\n"
          ],
          "name": "stdout"
        }
      ]
    },
    {
      "cell_type": "code",
      "metadata": {
        "id": "PVmGdS5JEjBB"
      },
      "source": [
        "#1697 숨바꼭질 우수풀이. 끝내준다..\n",
        "def c(n,k):\n",
        "    if n>=k:\n",
        "        return n-k\n",
        "    elif k == 1:\n",
        "        return 1\n",
        "    elif k%2:\n",
        "        return 1+min(c(n,k-1),c(n,k+1))\n",
        "    else:\n",
        "        return min(k-n, 1+c(n,k//2))\n",
        "    \n",
        "n, k = map(int,input().split())\n",
        "print(c(n,k))"
      ],
      "execution_count": null,
      "outputs": []
    },
    {
      "cell_type": "code",
      "metadata": {
        "id": "AFelGcsQLqag"
      },
      "source": [
        "#4963 섬의 개수, 20210619\n",
        "#import sys\n",
        "#sys.setrecursionlimit(10**6)\n",
        "#input = sys.stdin.readline\n",
        "def dfs(i, j) :\n",
        "    graph[i][j] = 0\n",
        "    dx = [-1,1,0,0,-1,1,-1,1]\n",
        "    dy = [0,0,1,-1,-1,1,1,-1]\n",
        "    for k in range(8) :\n",
        "        nx, ny = i+dx[k], j+dy[k]\n",
        "        if 0<=nx<h and 0<=ny<w and graph[nx][ny] :\n",
        "            dfs(nx,ny)\n",
        "while 1 :\n",
        "    w, h = map(int,input().split())\n",
        "    if w == 0 : break \n",
        "    cnt = 0\n",
        "    graph = []\n",
        "    for i in range(h) :\n",
        "        graph.append(list(map(int,input().split())))\n",
        "    \n",
        "    for i in range(h) :\n",
        "        for j in range(w) :\n",
        "            if graph[i][j] :\n",
        "                cnt += 1\n",
        "                dfs(i,j)\n",
        "    print(cnt)\n",
        "#31744kb, 88ms"
      ],
      "execution_count": null,
      "outputs": []
    },
    {
      "cell_type": "code",
      "metadata": {
        "colab": {
          "base_uri": "https://localhost:8080/"
        },
        "id": "51Htu6ANaaUf",
        "outputId": "1e392c3f-1600-4754-f68e-d1161b8a7b33"
      },
      "source": [
        "#7562 나이트의 이동, 20210619\n",
        "#import sys\n",
        "#sys.setrecursionlimit(10**6)\n",
        "#input = sys.stdin.readline\n",
        "from collections import deque\n",
        "\n",
        "def bfs() :\n",
        "    n = int(input())\n",
        "    a, b = map(int,input().split())\n",
        "    c, d = map(int,input().split())\n",
        "    if a == c and b == d : return 0\n",
        "    graph = [[1]*n for i in range(n)]\n",
        "    cnt = 1\n",
        "    togo = deque()\n",
        "    togo.append((a,b))\n",
        "    graph[a][b] = 0\n",
        "    while 1 :\n",
        "        for _ in range(len(togo)) :\n",
        "            x, y = togo.popleft()\n",
        "            dx = [-2,-2,-1,-1,1,1,2,2]\n",
        "            dy = [-1,1,-2,2,-2,2,-1,1]\n",
        "            for i in range(8) :\n",
        "                nx, ny = x+dx[i], y+dy[i]\n",
        "                if 0<=nx<n and 0<=ny<n and graph[nx][ny] :\n",
        "                    if nx == c and ny == d : return cnt\n",
        "                    togo.append((nx,ny))\n",
        "                    graph[nx][ny] = 0\n",
        "        cnt += 1\n",
        "\n",
        "for i in range(int(input())) : print(bfs())\n",
        "#31924kb, 2332ms"
      ],
      "execution_count": 17,
      "outputs": [
        {
          "output_type": "stream",
          "text": [
            "3\n",
            "8\n",
            "0 0\n",
            "7 0\n",
            "5\n",
            "100\n",
            "0 0\n",
            "30 50\n",
            "28\n",
            "10\n",
            "1 1\n",
            "1 1\n",
            "0\n"
          ],
          "name": "stdout"
        }
      ]
    },
    {
      "cell_type": "code",
      "metadata": {
        "id": "gkRyfEhaj87E"
      },
      "source": [
        "#7562 나이트의 이동 1등 툴이, x와 y중 하나가 5이상일때는 직빵으로 달려오는게 포인트다. 대단하다...\n",
        "import sys\n",
        "input = sys.stdin.readline\n",
        "\n",
        "\n",
        "dx = [-2, -2, -1, -1, 1, 1, 2, 2]\n",
        "dy = [-1, 1, -2, 2, -2, 2, -1, 1]\n",
        "\n",
        "def bfs_bound(bd, start, end):\n",
        "    if start == end:\n",
        "        return 0\n",
        "    que = [start]\n",
        "    visited = {start}\n",
        "    m = 1\n",
        "    while True:\n",
        "        new_que = []\n",
        "        for x, y in que:\n",
        "            for i, j in zip(dx, dy):\n",
        "                nx, ny = x+i, y+j\n",
        "                if 0 <= nx < bd and 0 <= ny < bd:\n",
        "                    new = nx, ny\n",
        "                    if new not in visited:\n",
        "                        visited.add(new)\n",
        "                        new_que.append(new)\n",
        "        if end in visited:\n",
        "            return m\n",
        "        m += 1\n",
        "        que = new_que\n",
        "\n",
        "def bfs(p):\n",
        "    if p == (0, 0):\n",
        "        return 0\n",
        "    start = (0, 0)\n",
        "    que = [start]\n",
        "    visited = {start}\n",
        "    for m in range(1, 10):\n",
        "        new_que = []\n",
        "        for x, y in que:\n",
        "            for i, j in zip(dx, dy):\n",
        "                new = x + i, y + j\n",
        "                if new not in visited:\n",
        "                    visited.add(new)\n",
        "                    new_que.append(new)\n",
        "        if p in visited:\n",
        "            return m\n",
        "        que = new_que\n",
        "\n",
        "def manual(x, y):\n",
        "    i = 0\n",
        "    while x >= 5 or y >= 5:\n",
        "        x, y = (x-2, abs(y-1)) if x > y else (abs(x-1), y-2)\n",
        "        i += 1\n",
        "    return i + bfs((x, y))\n",
        "\n",
        "for _ in range(int(input())):\n",
        "    bd = int(input())\n",
        "    x1, y1 = map(int, input().split())\n",
        "    x2, y2 = map(int, input().split())\n",
        "    x, y = abs(x1-x2), abs(y1-y2)\n",
        "    if x >= 5 or y >= 5:\n",
        "        print(manual(x, y))\n",
        "    else:\n",
        "        print(bfs_bound(bd, (x1, y1), (x2, y2)))"
      ],
      "execution_count": null,
      "outputs": []
    },
    {
      "cell_type": "code",
      "metadata": {
        "colab": {
          "base_uri": "https://localhost:8080/"
        },
        "id": "DnYl4g4gk6Vv",
        "outputId": "28107813-f7cc-40f7-9ea5-d36941c1f8e2"
      },
      "source": [
        "#7562 나이트의 이동, 1등 코드의 아이디어를 채용해 다시 짜보기.\n",
        "#import sys\n",
        "#sys.setrecursionlimit(10**6)\n",
        "#input = sys.stdin.readline\n",
        "from collections import deque\n",
        "\n",
        "def bfs() :\n",
        "    n = int(input())\n",
        "    a, b = map(int,input().split())\n",
        "    c, d = map(int,input().split())\n",
        "    if a == c and b == d : return 0\n",
        "    xdiff, ydiff = abs(a-c), abs(b-d)\n",
        "    cnt2 = 0\n",
        "    if xdiff >= 5 or ydiff >= 5 :\n",
        "        while xdiff >= 5 or ydiff >= 5 :\n",
        "            if xdiff > ydiff :\n",
        "                xdiff -= 2\n",
        "                ydiff = abs(ydiff-1)\n",
        "            else :\n",
        "                ydiff -= 2\n",
        "                xdiff = abs(xdiff-1)\n",
        "            cnt2 += 1\n",
        "        a = c-xdiff if a < c else c+xdiff\n",
        "        b = d-ydiff if b < d else d+ydiff\n",
        "    \n",
        "    graph = [[1]*n for i in range(n)]\n",
        "    cnt = 1\n",
        "    togo = deque()\n",
        "    togo.append((a,b))\n",
        "    graph[a][b] = 0\n",
        "    while 1 :\n",
        "        for _ in range(len(togo)) :\n",
        "            x, y = togo.popleft()\n",
        "            dx = [-2,-2,-1,-1,1,1,2,2]\n",
        "            dy = [-1,1,-2,2,-2,2,-1,1]\n",
        "            for i in range(8) :\n",
        "                nx, ny = x+dx[i], y+dy[i]\n",
        "                if 0<=nx<n and 0<=ny<n and graph[nx][ny] :\n",
        "                    if nx == c and ny == d : return cnt + cnt2\n",
        "                    togo.append((nx,ny))\n",
        "                    graph[nx][ny] = 0\n",
        "        cnt += 1\n",
        "\n",
        "for i in range(int(input())) : print(bfs())\n",
        "#31896kb, 100ms"
      ],
      "execution_count": 32,
      "outputs": [
        {
          "output_type": "stream",
          "text": [
            "3\n",
            "8\n",
            "0 0\n",
            "7 0\n",
            "5\n",
            "10\n",
            "1 1\n",
            "1 1\n",
            "0\n",
            "100\n",
            "0 0\n",
            "30 50\n",
            "28\n"
          ],
          "name": "stdout"
        }
      ]
    },
    {
      "cell_type": "code",
      "metadata": {
        "colab": {
          "base_uri": "https://localhost:8080/"
        },
        "id": "DgnqHlyjzZ5p",
        "outputId": "2980ecc5-49de-4629-ac2b-522a46b4c354"
      },
      "source": [
        "#16948 데스 나이트, 20210620\n",
        "#import sys\n",
        "#sys.setrecursionlimit(10**6)\n",
        "#input = sys.stdin.readline\n",
        "from collections import deque\n",
        "\n",
        "def bfs() :\n",
        "    n = int(input())\n",
        "    a, b, c, d = map(int,input().split())\n",
        "    if a == c and b == d : return 0\n",
        "    graph = [[1]*n for i in range(n)]\n",
        "    cnt = 1\n",
        "    togo = deque()\n",
        "    togo.append((a,b))\n",
        "    graph[a][b] = 0\n",
        "    while togo :\n",
        "        for _ in range(len(togo)) :\n",
        "            x, y = togo.popleft()\n",
        "            dx = [-2,-2,0,0,2,2]\n",
        "            dy = [-1,1,-2,2,-1,1]\n",
        "            for i in range(6) :\n",
        "                nx, ny = x+dx[i], y+dy[i]\n",
        "                if 0<=nx<n and 0<=ny<n and graph[nx][ny] :\n",
        "                    if nx == c and ny == d : return cnt\n",
        "                    togo.append((nx,ny))\n",
        "                    graph[nx][ny] = 0\n",
        "        cnt += 1\n",
        "    return -1\n",
        "\n",
        "print(bfs())\n",
        "#31848kb, 104ms"
      ],
      "execution_count": 23,
      "outputs": [
        {
          "output_type": "stream",
          "text": [
            "7\n",
            "0 3 4 3\n",
            "2\n"
          ],
          "name": "stdout"
        }
      ]
    },
    {
      "cell_type": "code",
      "metadata": {
        "colab": {
          "base_uri": "https://localhost:8080/"
        },
        "id": "iyv8nAbM2Gp1",
        "outputId": "e9fcace7-f05a-43a2-dd88-33122b8ec1f4"
      },
      "source": [
        "#18404 현명한 나이트, 20210620\n",
        "#import sys\n",
        "#sys.setrecursionlimit(10**6)\n",
        "#input = sys.stdin.readline\n",
        "from collections import deque\n",
        "\n",
        "def bfs(a, b, c, d) :\n",
        "    if a == c and b == d : return 0\n",
        "    xdiff, ydiff = abs(a-c), abs(b-d)\n",
        "    cnt2 = 0\n",
        "    if xdiff >= 5 or ydiff >= 5 :\n",
        "        while xdiff >= 5 or ydiff >= 5 :\n",
        "            if xdiff > ydiff :\n",
        "                xdiff -= 2\n",
        "                ydiff = abs(ydiff-1)\n",
        "            else :\n",
        "                ydiff -= 2\n",
        "                xdiff = abs(xdiff-1)\n",
        "            cnt2 += 1\n",
        "        a = c-xdiff if c > n/2 else c+xdiff\n",
        "        b = d-ydiff if d > n/2 else d+ydiff\n",
        "\n",
        "    graph = [[1]*n for i in range(n)]\n",
        "    cnt = 1\n",
        "    togo = deque()\n",
        "    togo.append((a,b))\n",
        "    graph[a][b] = 0\n",
        "    while 1 :\n",
        "        for _ in range(len(togo)) :\n",
        "            x, y = togo.popleft()\n",
        "            dx = [-2,-2,-1,-1,1,1,2,2]\n",
        "            dy = [-1,1,-2,2,-2,2,-1,1]\n",
        "            for i in range(8) :\n",
        "                nx, ny = x+dx[i], y+dy[i]\n",
        "                if 0<=nx<n and 0<=ny<n and graph[nx][ny] :\n",
        "                    if nx == c and ny == d : return cnt + cnt2\n",
        "                    togo.append((nx,ny))\n",
        "                    graph[nx][ny] = 0\n",
        "        cnt += 1\n",
        "\n",
        "n, m = map(int,input().split())\n",
        "a, b = map(int,input().split())\n",
        "answer = []\n",
        "for i in range(m) :\n",
        "    c, d = map(int,input().split())\n",
        "    answer.append(str(bfs(a-1, b-1, c-1, d-1)))\n",
        "print(' '.join(answer))\n",
        "#33100kb, 1748ms"
      ],
      "execution_count": 23,
      "outputs": [
        {
          "output_type": "stream",
          "text": [
            "100 10\n",
            "10 10\n",
            "12 12\n",
            "12 13\n",
            "12 14\n",
            "12 15\n",
            "13 13\n",
            "13 14\n",
            "13 15\n",
            "14 14\n",
            "14 15\n",
            "15 15\n",
            "4 3 2 3 2 3 4 4 3 4\n"
          ],
          "name": "stdout"
        }
      ]
    },
    {
      "cell_type": "code",
      "metadata": {
        "id": "173LvQi9Ussk"
      },
      "source": [
        "#4161 나이트의 여행, 20210620, 참 더럽고 마음에 안들게 풀었다...\n",
        "#import sys\n",
        "#input = sys.stdin.readline\n",
        "\n",
        "def knite(c,d) :\n",
        "    if c == 0 and d == 0 : return 0\n",
        "    big, small = max(abs(c), abs(d)), min(abs(c), abs(d))\n",
        "    if big == 1 and small == 0 : return 3\n",
        "    if big == 2 and small == 2 : return 4\n",
        "    cnt = 0\n",
        "    if big > small*2 :\n",
        "        cnt = big//2 - 1\n",
        "        big -= 2*cnt\n",
        "        small = 1 if (cnt-small)%2 else 0\n",
        "        if (big+small)%2 == 0 : return cnt + 2\n",
        "        elif big*small == 2 : return cnt + 1\n",
        "        else : return cnt + 3\n",
        "    else :\n",
        "        cnt = big-small\n",
        "        big = small - cnt\n",
        "        cnt += (big//3-1)*2\n",
        "        big = big%3 + 3\n",
        "        if big == 3 : return cnt + 2 \n",
        "        else : return cnt + 4\n",
        "\n",
        "while 1 : \n",
        "    inp = input()\n",
        "    try :\n",
        "        c, d = map(int,inp.split())\n",
        "        print(knite(c,d))\n",
        "    except : break\n",
        "#29200kb, 64ms"
      ],
      "execution_count": null,
      "outputs": []
    },
    {
      "cell_type": "code",
      "metadata": {
        "id": "Lbh7WDrc2xO_"
      },
      "source": [
        "#4161 나이트의 여행 1등 코드, 이해하기 어렵다..\n",
        "import sys\n",
        "while 1:\n",
        "    s=sys.stdin.readline()\n",
        "    if'END'in s:break\n",
        "    d=x,y=sorted(map(abs,map(int,s.split())))\n",
        "    a=max(-~y//2,(x+y+2)//3)\n",
        "    print(a+(x+y+a&1)-2*([2,2]!=d!=[0,1])+2)"
      ],
      "execution_count": null,
      "outputs": []
    },
    {
      "cell_type": "code",
      "metadata": {
        "colab": {
          "base_uri": "https://localhost:8080/"
        },
        "id": "CQf8YaPZTcnJ",
        "outputId": "2f1ab813-d6fc-4ecf-d1b6-f2897802a2a8"
      },
      "source": [
        "#7576 토마토, 20210620, 잘 짰고 1등하고 풀이도 별 차이 없는데 왜 시간은 3배 더 걸릴까..\n",
        "#import sys\n",
        "#sys.setrecursionlimit(10**6)\n",
        "#input = sys.stdin.readline\n",
        "from collections import deque\n",
        "\n",
        "n, m = map(int,input().split())\n",
        "cnt = 0\n",
        "graph = []\n",
        "queue = deque()\n",
        "\n",
        "for i in range(m) :\n",
        "    a = list(map(int,input().split()))\n",
        "    for j in range(n) :\n",
        "        if a[j] == 1 :\n",
        "            queue.append((i,j))\n",
        "        elif a[j] == 0 :\n",
        "            cnt += 1\n",
        "    graph.append(a)\n",
        "\n",
        "sec = 0\n",
        "dx = [-1,1,0,0]\n",
        "dy = [0,0,-1,1]\n",
        "while queue :\n",
        "    if cnt == 0 : \n",
        "      print(sec)\n",
        "      break\n",
        "    sec += 1  \n",
        "    for _ in range(len(queue)) :\n",
        "        x, y = queue.popleft()\n",
        "        for i in range(4) :\n",
        "            nx, ny = x+dx[i], y+dy[i]\n",
        "            if 0<=nx<m and 0<=ny<n and graph[nx][ny] == 0 :\n",
        "                cnt -= 1\n",
        "                queue.append((nx,ny))\n",
        "                graph[nx][ny] = 1\n",
        "else : print(-1)\n",
        "#98980kb, 3112ms"
      ],
      "execution_count": 30,
      "outputs": [
        {
          "output_type": "stream",
          "text": [
            "5 5\n",
            "-1 1 0 0 0\n",
            "0 -1 -1 -1 0\n",
            "0 -1 -1 -1 0\n",
            "0 -1 -1 -1 0\n",
            "0 0 0 0 0\n",
            "14\n"
          ],
          "name": "stdout"
        }
      ]
    },
    {
      "cell_type": "code",
      "metadata": {
        "id": "KUFZqI16KRVM"
      },
      "source": [
        "#7569 토마토, 20210620\n",
        "#import sys\n",
        "#sys.setrecursionlimit(10**6)\n",
        "#input = sys.stdin.readline\n",
        "from collections import deque\n",
        "\n",
        "n, m, h = map(int,input().split())\n",
        "cnt = 0\n",
        "graphs = []\n",
        "queue = deque()\n",
        "\n",
        "for k in range(h) :\n",
        "    graph = []\n",
        "    for i in range(m) :\n",
        "        a = list(map(int,input().split()))\n",
        "        for j in range(n) :\n",
        "            if a[j] == 1 :\n",
        "                queue.append((k,i,j))\n",
        "            elif a[j] == 0 :\n",
        "                cnt += 1\n",
        "        graph.append(a)\n",
        "    graphs.append(graph)\n",
        "\n",
        "sec = 0\n",
        "dx = [-1,1,0,0,0,0]\n",
        "dy = [0,0,-1,1,0,0]\n",
        "dz = [0,0,0,0,-1,1]\n",
        "while queue :\n",
        "    if cnt == 0 : \n",
        "      print(sec)\n",
        "      break\n",
        "    sec += 1  \n",
        "    for _ in range(len(queue)) :\n",
        "        z, x, y = queue.popleft()\n",
        "        for i in range(6) :\n",
        "            nx, ny, nz = x+dx[i], y+dy[i], z+dz[i]\n",
        "            if 0<=nx<m and 0<=ny<n and 0<=nz<h and graphs[nz][nx][ny] == 0 :\n",
        "                cnt -= 1\n",
        "                queue.append((nz, nx,ny))\n",
        "                graphs[nz][nx][ny] = 1\n",
        "else : print(-1)\n",
        "#48424kb, 4672ms"
      ],
      "execution_count": null,
      "outputs": []
    }
  ]
}