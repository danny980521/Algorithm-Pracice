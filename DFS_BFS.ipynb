{
  "nbformat": 4,
  "nbformat_minor": 0,
  "metadata": {
    "colab": {
      "name": "DFS_BFS.ipynb",
      "provenance": [],
      "collapsed_sections": [],
      "authorship_tag": "ABX9TyM7LRkolqQMjd8KnGwTcsq/",
      "include_colab_link": true
    },
    "kernelspec": {
      "name": "python3",
      "display_name": "Python 3"
    },
    "language_info": {
      "name": "python"
    }
  },
  "cells": [
    {
      "cell_type": "markdown",
      "metadata": {
        "id": "view-in-github",
        "colab_type": "text"
      },
      "source": [
        "<a href=\"https://colab.research.google.com/github/danny980521/Algorithm-Pracice/blob/main/DFS_BFS.ipynb\" target=\"_parent\"><img src=\"https://colab.research.google.com/assets/colab-badge.svg\" alt=\"Open In Colab\"/></a>"
      ]
    },
    {
      "cell_type": "code",
      "metadata": {
        "colab": {
          "base_uri": "https://localhost:8080/"
        },
        "id": "FCtmau9P6g13",
        "outputId": "e5483352-a2ff-41be-a31c-a1f84ad21a7d"
      },
      "source": [
        "#2606 바이러스, 20210615\n",
        "n = int(input())\n",
        "m = int(input())\n",
        "#graph 완성하기\n",
        "graph = dict()\n",
        "for i in range(m) :\n",
        "    a, b = map(int, input().split())\n",
        "    if a in graph :\n",
        "        graph[a].append(b)\n",
        "    else : graph[a] = [b]\n",
        "    if b in graph :\n",
        "        graph[b].append(a)\n",
        "    else : graph[b] = [a]\n",
        "\n",
        "#1과 연결된 것들의 개수 찾기\n",
        "remember = [1]\n",
        "tofind = graph[1]\n",
        "answer = 0\n",
        "while tofind :\n",
        "    a = tofind.pop()\n",
        "    if a not in remember :\n",
        "        remember.append(a)\n",
        "        tofind.extend(graph[a])\n",
        "        answer += 1\n",
        "print(answer)\n",
        "#29200kb, 68ms"
      ],
      "execution_count": null,
      "outputs": [
        {
          "output_type": "stream",
          "text": [
            "7\n",
            "6\n",
            "1 2\n",
            "2 3\n",
            "1 5\n",
            "5 2\n",
            "5 6\n",
            "4 7\n",
            "4\n"
          ],
          "name": "stdout"
        }
      ]
    },
    {
      "cell_type": "code",
      "metadata": {
        "id": "T-TD5VQiHDox"
      },
      "source": [
        "#2606 바이러스 우수 코드\n",
        "from sys import stdin\n",
        "read = stdin.readline\n",
        "dic={}\n",
        "for i in range(1, int(read())):\n",
        "    dic[i+1] = set() #dic의 0부터 i까지를 빈 set으로 선언.\n",
        "for j in range(int(read())):\n",
        "    a, b = map(int,read().split())\n",
        "    dic[a].add(b)\n",
        "    dic[b].add(a)\n",
        "\n",
        "def dfs(start, dic): #dfs를 재귀함수로 구현.\n",
        "    for i in dic[start]:\n",
        "        if i not in visited:\n",
        "            visited.append(i)\n",
        "            dfs(i, dic)\n",
        "\n",
        "def bfs(start, dic): #위의 내 풀이방식과 비슷하다.\n",
        "    queue = [start]\n",
        "    while queue:\n",
        "        for i in dic[queue.pop()]: #난 생각없이 pop한거 일단 다 쑤셔넣었는데 얘는 선별해서 넣었다. 이게 더 나은듯.\n",
        "            if i not in visited:\n",
        "                visited.append(i)\n",
        "                queue.append(i)\n",
        "visited = []\n",
        "dfs(1, dic) #bfs(1, dic)를 해도 정답.\n",
        "print(len(visited)-1) #따로 변수로 셀 필요 없이 방문한 곳의 개수만 알면 됨."
      ],
      "execution_count": null,
      "outputs": []
    },
    {
      "cell_type": "code",
      "metadata": {
        "colab": {
          "base_uri": "https://localhost:8080/"
        },
        "id": "7VbAHmf8L9Xo",
        "outputId": "9d9fe051-2df9-416b-b05f-48875406ee68"
      },
      "source": [
        "#1260 DFS와 BFS, 20210615\n",
        "n, m, v = map(int, input().split())\n",
        "v = str(v)\n",
        "#graph 그리기\n",
        "graph = dict()\n",
        "for i in range(m) :\n",
        "    a, b = input().split()\n",
        "    try :\n",
        "        graph[a].add(b)\n",
        "    except : graph[a] = {b}\n",
        "    try :\n",
        "        graph[b].add(a)\n",
        "    except : graph[b] = {a}\n",
        "\n",
        "#dfs\n",
        "def dfs(v, graph) :\n",
        "    if v not in graph : return 0\n",
        "    for i in sorted(graph[v], key = lambda x : (len(x), x)) :\n",
        "        if i not in visited :\n",
        "            visited.append(i)\n",
        "            dfs(i, graph)\n",
        "#bfs\n",
        "def bfs(v, graph) :\n",
        "    if v not in graph : return 0\n",
        "    tofind = [v]\n",
        "    while tofind :\n",
        "      for i in sorted(graph[tofind.pop(0)], key = lambda x : (len(x), x)) :\n",
        "          if i not in visited :\n",
        "              visited.append(i)\n",
        "              tofind.append(i)\n",
        "#실행\n",
        "visited = [v]\n",
        "dfs(v, graph)\n",
        "print(' '.join(visited))\n",
        "visited = [v] \n",
        "bfs(v, graph)\n",
        "print(' '.join(visited))\n",
        "#32508kb, 828ms"
      ],
      "execution_count": null,
      "outputs": [
        {
          "output_type": "stream",
          "text": [
            "1000 1 1\n",
            "999 1000\n",
            "1\n",
            "1\n"
          ],
          "name": "stdout"
        }
      ]
    },
    {
      "cell_type": "code",
      "metadata": {
        "id": "mYwzQB85lZVI"
      },
      "source": [
        "#1260 DFS와 BFS 1등 코드, 앞으로 이 방법으로 가보자.\n",
        "import sys\n",
        "N, M, V = map(int, sys.stdin.readline().strip().split())\n",
        "edge = [[] for _ in range(N+1)]\n",
        "\n",
        "for __ in range(M):\n",
        "    n1, n2 = map(int, sys.stdin.readline().strip().split())\n",
        "    edge[n1].append(n2)\n",
        "    edge[n2].append(n1)\n",
        "\n",
        "for e in edge:\n",
        "    e.sort(reverse=True)\n",
        "\n",
        "def dfs():\n",
        "    d_visit = []\n",
        "    stack = [V]\n",
        "    d_check = [0 for _ in range(N+1)]\n",
        "    while stack:\n",
        "        v1 = stack.pop()\n",
        "        if not d_check[v1]:\n",
        "            d_check[v1] = 1\n",
        "            d_visit.append(v1)\n",
        "            stack += edge[v1]\n",
        "    return d_visit\n",
        "\n",
        "\n",
        "def bfs():\n",
        "    b_visit = []\n",
        "    queue = [V]\n",
        "    b_check = [0 for _ in range(N+1)]\n",
        "    b_check[V] = 1\n",
        "    while queue:\n",
        "        v2 = queue.pop()\n",
        "        b_visit.append(v2)\n",
        "        for i in reversed(edge[v2]):\n",
        "            if not b_check[i]:\n",
        "                b_check[i] = 1\n",
        "                queue = [i] + queue\n",
        "    return b_visit\n",
        "\n",
        "print(' '.join(map(str,dfs())))\n",
        "print(' '.join(map(str,bfs())))"
      ],
      "execution_count": null,
      "outputs": []
    },
    {
      "cell_type": "code",
      "metadata": {
        "colab": {
          "base_uri": "https://localhost:8080/"
        },
        "id": "sChsS7L9n8lz",
        "outputId": "5222b442-b574-4967-cb09-9a29171c3927"
      },
      "source": [
        "#11724 연결 요소의 개수, 20210615\n",
        "import sys #밑의 두 코드 없으면 recursion에러, 시간초과\n",
        "sys.setrecursionlimit(10**6)\n",
        "input = sys.stdin.readline\n",
        "\n",
        "n, m = map(int, input().split())\n",
        "edge = [[] for i in range(n+1)]\n",
        "for i in range(m) :\n",
        "    a, b = map(int, input().split())\n",
        "    edge[a].append(b)\n",
        "    edge[b].append(a)\n",
        "\n",
        "def dfs(start) : \n",
        "    d_check[start] = 1\n",
        "    for i in edge[start] :\n",
        "        if not d_check[i] :\n",
        "            dfs(i)\n",
        "\n",
        "d_check = [0 for i in range(n+1)]\n",
        "answer = 0\n",
        "start = 1\n",
        "while sum(d_check) < n :\n",
        "    for i in range(start, n+1) :\n",
        "        if not d_check[i] : \n",
        "            dfs(i)\n",
        "            answer += 1\n",
        "            start = i+1\n",
        "            break\n",
        "print(answer)\n",
        "#63788kb, 800ms"
      ],
      "execution_count": null,
      "outputs": [
        {
          "output_type": "stream",
          "text": [
            "3 2\n",
            "3 1\n",
            "2 1\n",
            "1\n"
          ],
          "name": "stdout"
        }
      ]
    },
    {
      "cell_type": "code",
      "metadata": {
        "colab": {
          "base_uri": "https://localhost:8080/"
        },
        "id": "KxQGaSuK7cs5",
        "outputId": "bd9c25de-a83a-410f-ca8c-11e33cb30dab"
      },
      "source": [
        "#1012 유기농 배추, 20210615\n",
        "#import sys\n",
        "#sys.setrecursionlimit(10**6)\n",
        "#input = sys.stdin.readline\n",
        "\n",
        "def dfs(i,j) :\n",
        "    edge[i][j] = 0\n",
        "    if i + 1 < n and edge[i+1][j] == 1 :\n",
        "        dfs(i+1,j)\n",
        "    if i > 0 and edge[i-1][j] == 1 :\n",
        "        dfs(i-1,j)\n",
        "    if j + 1 < m and edge[i][j+1] == 1 :\n",
        "        dfs(i,j+1)\n",
        "    if j > 0 and edge[i][j-1] == 1 :\n",
        "        dfs(i,j-1)\n",
        "\n",
        "t = int(input())\n",
        "for _ in range(t) :\n",
        "    m,n,k = map(int, input().split())\n",
        "    edge = [[0] * m for _ in range(n)]\n",
        "    for __ in range(k) :\n",
        "        a, b = map(int, input().split())\n",
        "        edge[b][a] = 1\n",
        "\n",
        "    answer = 0\n",
        "    for i in range(n) :\n",
        "        for j in range(m) :\n",
        "            if edge[i][j] :\n",
        "                answer += 1\n",
        "                dfs(i,j)\n",
        "    print(answer)\n",
        "#31032kb, 80ms"
      ],
      "execution_count": null,
      "outputs": [
        {
          "output_type": "stream",
          "text": [
            "1\n",
            "5 3 6\n",
            "0 2\n",
            "1 2\n",
            "2 2\n",
            "3 2\n",
            "4 2\n",
            "4 0\n",
            "2\n"
          ],
          "name": "stdout"
        }
      ]
    },
    {
      "cell_type": "code",
      "metadata": {
        "colab": {
          "base_uri": "https://localhost:8080/"
        },
        "id": "C9rAuySdOo2W",
        "outputId": "05ce04c4-5fce-4e88-9dde-643b3fb14c62"
      },
      "source": [
        "#2667 단지번호붙이기, 20210615\n",
        "#import sys\n",
        "#sys.setrecursionlimit(10**6)\n",
        "#input = sys.stdin.readline\n",
        "\n",
        "def dfs(i,j) :\n",
        "    edge[i][j] = 0\n",
        "    arr[-1] += 1\n",
        "    if i + 1 < n and edge[i+1][j] == 1 :\n",
        "        dfs(i+1,j)\n",
        "    if i > 0 and edge[i-1][j] == 1 :\n",
        "        dfs(i-1,j)\n",
        "    if j + 1 < n and edge[i][j+1] == 1 :\n",
        "        dfs(i,j+1)\n",
        "    if j > 0 and edge[i][j-1] == 1 :\n",
        "        dfs(i,j-1)\n",
        "\n",
        "n = int(input())\n",
        "edge = [[int(i) for i in input().rstrip()] for _ in range(n)]\n",
        "\n",
        "answer = 0\n",
        "arr = []\n",
        "for i in range(n) :\n",
        "    for j in range(n) :\n",
        "        if edge[i][j] :\n",
        "            arr.append(0)\n",
        "            answer += 1\n",
        "            dfs(i,j)\n",
        "print(answer)\n",
        "print('\\n'.join(map(str, sorted(arr))))\n",
        "#29564kb, 72ms"
      ],
      "execution_count": null,
      "outputs": [
        {
          "output_type": "stream",
          "text": [
            "7\n",
            "0110100\n",
            "0110101\n",
            "1110101\n",
            "0000111\n",
            "0100000\n",
            "0111110\n",
            "0111000\n",
            "3\n",
            "7\n",
            "8\n",
            "9\n"
          ],
          "name": "stdout"
        }
      ]
    },
    {
      "cell_type": "code",
      "metadata": {
        "id": "6Y_zfGQtkii4"
      },
      "source": [
        "#프로그래머스 게임 맵 최단거리, 20210615\n",
        "from collections import deque\n",
        "def solution(maps) :\n",
        "    m = len(maps)\n",
        "    n = len(maps[0])\n",
        "    position = deque()\n",
        "    position.append((0,0,1))\n",
        "    maps[0][0] = 0\n",
        "    while position :\n",
        "        a, b, c = position.popleft()\n",
        "        if a == m-1 and b == n-1 : return c\n",
        "        if b < n-1 and maps[a][b+1] == 1 :\n",
        "            position.append((a, b+1, c+1))\n",
        "            maps[a][b+1] = 0\n",
        "        if a < m-1 and maps[a+1][b] == 1 :\n",
        "            position.append((a+1, b, c+1))\n",
        "            maps[a+1][b] = 0\n",
        "        if a > 0 and maps[a-1][b] == 1 :\n",
        "            position.append((a-1, b, c+1))\n",
        "            maps[a-1][b] = 0\n",
        "        if b > 0 and maps[a][b-1] == 1 :\n",
        "            position.append((a, b-1, c+1))\n",
        "            maps[a][b-1] = 0\n",
        "    return -1"
      ],
      "execution_count": null,
      "outputs": []
    },
    {
      "cell_type": "code",
      "metadata": {
        "colab": {
          "base_uri": "https://localhost:8080/"
        },
        "id": "PjWRU27Jkc0u",
        "outputId": "23a35446-7491-4dc2-9146-d47c7ce9ea21"
      },
      "source": [
        "#2178 미로 탐색, 20210615\n",
        "#import sys\n",
        "#sys.setrecursionlimit(10**6)\n",
        "#input = sys.stdin.readline\n",
        "n,m = map(int, input().split())\n",
        "maps = [[int(i) for i in input().rstrip()] for _ in range(n)]\n",
        "print(solution(maps))\n",
        "#32124kb, 104ms"
      ],
      "execution_count": null,
      "outputs": [
        {
          "output_type": "stream",
          "text": [
            "4 6\n",
            "101111\n",
            "101010\n",
            "101011\n",
            "111011\n",
            "15\n"
          ],
          "name": "stdout"
        }
      ]
    },
    {
      "cell_type": "code",
      "metadata": {
        "id": "nRz4YtH5fTAd"
      },
      "source": [
        "#2178 미로 탐색 우수 풀이, nx, ny쓰는거 기억해두자.\n",
        "from sys import stdin\n",
        "N, M = map(int, stdin.readline().split())\n",
        "# matrix 배열\n",
        "matrix = [stdin.readline().rstrip() for _ in range(N)]\n",
        "# 방문경로 배열\n",
        "visited = [[0]*M for _ in range(N)]\n",
        "# 좌/우/위/아래 방향 이동\n",
        "dx, dy = [-1, 1, 0, 0], [0, 0, -1, 1]\n",
        "\n",
        "# BFS 경로 탐색\n",
        "# queue 방식 사용\n",
        "queue = [(0,0)]\n",
        "visited[0][0] = 1\n",
        "\n",
        "while queue:\n",
        "    x, y = queue.pop(0)\n",
        "\n",
        "    if x == N-1 and y == M-1:\n",
        "        # 최종 경로 도착\n",
        "        print(visited[x][y])\n",
        "        break\n",
        "\n",
        "    for i in range(4):\n",
        "        nx = x + dx[i]\n",
        "        ny = y + dy[i]\n",
        "        if 0 <= nx < N and 0 <= ny < M:\n",
        "            if visited[nx][ny] == 0 and matrix[nx][ny] == '1':\n",
        "                visited[nx][ny] = visited[x][y] + 1 \n",
        "                queue.append((nx,ny))"
      ],
      "execution_count": null,
      "outputs": []
    },
    {
      "cell_type": "code",
      "metadata": {
        "id": "eRL78VTrpH97"
      },
      "source": [
        "#프로그래머스 네트위크, 20210616\n",
        "def solution(n, computers):\n",
        "    answer = 0\n",
        "    for i in range(n) :\n",
        "        computers[i][i] = 0\n",
        "        if not sum(computers[i]) : answer += 1\n",
        "    \n",
        "    for i in range(n) :\n",
        "        if sum(computers[i]) :\n",
        "            answer += 1\n",
        "            check = [i]\n",
        "            while check :\n",
        "                a = check.pop()\n",
        "                for j in range(n) :\n",
        "                    if computers[a][j] :\n",
        "                        computers[a][j] = 0\n",
        "                        computers[j][a] = 0\n",
        "                        check.append(j)\n",
        "    return answer"
      ],
      "execution_count": null,
      "outputs": []
    }
  ]
}