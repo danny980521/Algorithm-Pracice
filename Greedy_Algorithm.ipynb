{
  "nbformat": 4,
  "nbformat_minor": 0,
  "metadata": {
    "colab": {
      "name": "Greedy_Algorithm.ipynb",
      "provenance": [],
      "collapsed_sections": [],
      "authorship_tag": "ABX9TyMiOE8gOwscdMU0b5V5doSt",
      "include_colab_link": true
    },
    "kernelspec": {
      "name": "python3",
      "display_name": "Python 3"
    },
    "language_info": {
      "name": "python"
    }
  },
  "cells": [
    {
      "cell_type": "markdown",
      "metadata": {
        "id": "view-in-github",
        "colab_type": "text"
      },
      "source": [
        "<a href=\"https://colab.research.google.com/github/danny980521/Algorithm-Pracice/blob/main/Greedy_Algorithm.ipynb\" target=\"_parent\"><img src=\"https://colab.research.google.com/assets/colab-badge.svg\" alt=\"Open In Colab\"/></a>"
      ]
    },
    {
      "cell_type": "code",
      "metadata": {
        "colab": {
          "base_uri": "https://localhost:8080/"
        },
        "id": "a5ObvVZBoUA4",
        "outputId": "b7208c35-faaa-4928-82b8-ac0aae3e17b6"
      },
      "source": [
        "from google.colab import drive\n",
        "drive.mount('/content/drive')"
      ],
      "execution_count": null,
      "outputs": [
        {
          "output_type": "stream",
          "text": [
            "Drive already mounted at /content/drive; to attempt to forcibly remount, call drive.mount(\"/content/drive\", force_remount=True).\n"
          ],
          "name": "stdout"
        }
      ]
    },
    {
      "cell_type": "code",
      "metadata": {
        "colab": {
          "base_uri": "https://localhost:8080/"
        },
        "id": "7q0yOkspoql6",
        "outputId": "9bd2cb18-bd56-4473-d2d9-a9bc6707bc2e"
      },
      "source": [
        "#11047 동전0, 20210511\n",
        "coins = []\n",
        "sum = 0\n",
        "n, k = map(int, input().split())\n",
        "for i in range(n) : \n",
        "  a = int(input())\n",
        "  coins.append(a)\n",
        "\n",
        "for i in range(n) : \n",
        "  b = coins[-(i+1)]\n",
        "  sum += k//b\n",
        "  k = k%b\n",
        "\n",
        "print(sum)"
      ],
      "execution_count": null,
      "outputs": [
        {
          "output_type": "stream",
          "text": [
            "10 4200\n",
            "1\n",
            "5\n",
            "10\n",
            "50\n",
            "100\n",
            "500\n",
            "1000\n",
            "5000\n",
            "10000\n",
            "50000\n",
            "6\n"
          ],
          "name": "stdout"
        }
      ]
    },
    {
      "cell_type": "code",
      "metadata": {
        "id": "mcgrIBdiuPHR"
      },
      "source": [
        "# 11047 1등 정답\n",
        "N, K = map(int, input().split())\n",
        "\n",
        "Coins = []\n",
        "for i in range(N) : Coins.append(int(input()))\n",
        "\n",
        "\n",
        "ans = 0\n",
        "while K > 0 : # while을 써서 남은 돈이 0이 되면 stop\n",
        "    coin = Coins.pop() # 맨 뒤에게 튀어나오는 pop을 이용\n",
        "    ans += K // coin\n",
        "    K %= coin\n",
        "\n",
        "print(ans)"
      ],
      "execution_count": null,
      "outputs": []
    },
    {
      "cell_type": "code",
      "metadata": {
        "colab": {
          "base_uri": "https://localhost:8080/"
        },
        "id": "yKSolSekunyd",
        "outputId": "d478c688-f625-4e9e-8204-a8016999bd01"
      },
      "source": [
        "# 2875번 대회 or 인턴, 20210511\n",
        "import math\n",
        "\n",
        "n, m, k = map(int, input().split())\n",
        "if n >= 2*m :\n",
        "  teams = m\n",
        "  k -= (n-2*m)\n",
        "else :\n",
        "  teams = n//2\n",
        "  k -= (n%2 + m - teams)\n",
        "if k > 0 : \n",
        "  teams -= math.ceil(k/3)\n",
        "print(teams)\n"
      ],
      "execution_count": null,
      "outputs": [
        {
          "output_type": "stream",
          "text": [
            "4 2 3\n",
            "1\n"
          ],
          "name": "stdout"
        }
      ]
    },
    {
      "cell_type": "code",
      "metadata": {
        "id": "cUzl4hhi1raL"
      },
      "source": [
        "# 2875번 1등 정답\n",
        "#N명의 여학생과 M명의 남학생 중 인턴쉽에 참여할 K명을 빼고 대회에 나갈 팀원만 남겨야 한다.\n",
        "#따라서 각 단계에서는 N과 M 중 어떤 것에서 1을 뺄 것인가를 선택한다. \n",
        "#만약 N//2가 M보다 크면 N에서 1을 빼주고, 그렇지 않으면 M에서 1을 빼는 것을 반복한다.\n",
        "#K번의 반복이 종료된 후 N//2와 M 중 작은 값을 출력한다.\n",
        "\n",
        "a, b, c = map(int, input().split(' '))\n",
        "while c > 0: # c가 0이 될때까지 a나 b에서 하나씩 빼준다.\n",
        "    if a // 2 >= b:\n",
        "        a -= 1\n",
        "    else:\n",
        "        b -= 1\n",
        "    c -= 1\n",
        "print(min(a//2, b)) # min을 이용해 팀 개수 산출"
      ],
      "execution_count": null,
      "outputs": []
    },
    {
      "cell_type": "code",
      "metadata": {
        "colab": {
          "base_uri": "https://localhost:8080/"
        },
        "id": "BOgnXuuv3DzX",
        "outputId": "f8809b10-d109-4a96-eea3-9fbd26a7927e"
      },
      "source": [
        "# 10610 30, 20210513\n",
        "n = input()\n",
        "nums = []\n",
        "sum = 0\n",
        "answer = 0\n",
        "\n",
        "for i in n :\n",
        "  nums.append(int(i))\n",
        "  sum += int(i)\n",
        "\n",
        "nums.sort(reverse = True)\n",
        "\n",
        "if nums[-1] != 0 :\n",
        "   print(-1)\n",
        "elif sum%3 != 0 :\n",
        "   print(-1)\n",
        "else :\n",
        "  for i in nums :\n",
        "    answer *= 10\n",
        "    answer += i\n",
        "  print(answer)"
      ],
      "execution_count": null,
      "outputs": [
        {
          "output_type": "stream",
          "text": [
            "80875542\n",
            "88755420\n"
          ],
          "name": "stdout"
        }
      ]
    },
    {
      "cell_type": "code",
      "metadata": {
        "id": "svmVgRHebQH3"
      },
      "source": [
        "# 코드에이블 정답\n",
        "K = (input())\n",
        "K = [int(i) for i in K] #K 내부의 단어 하나하나를 int형으로 각각 리스트의 원소로 저장. K는 list자료형이 됨.\n",
        "if (sum(K) % 3) == 0 and 0 in K:\n",
        "  print(\"\".join(map(str,sorted(K,reverse=True))))\n",
        "  # join: 입력된 문자열, 리스트, 튜플의 원소 사이에 특정 구분자를 포함하여 문자열로 변환하는 python의 내장 함수\n",
        "else: \n",
        "  print(-1)\n",
        "\n",
        " # 10610 1등 정답\n",
        "import sys\n",
        "\n",
        "n = list(sys.stdin.readline().rstrip()) #sys.stdin.readline()은 여러입력값을 받을 수 있다. rstrip()은 오른쪽 공백 삭제\n",
        "n.sort(reverse=True)\n",
        "if n[-1] != '0' or sum(map(int, n)) % 3 != 0:\n",
        "    print(-1)\n",
        "else:\n",
        "    print(''.join(n))"
      ],
      "execution_count": null,
      "outputs": []
    },
    {
      "cell_type": "code",
      "metadata": {
        "colab": {
          "base_uri": "https://localhost:8080/"
        },
        "id": "cL1Ib5GGgjpU",
        "outputId": "d67078d7-8c2d-483a-8fed-dec7a725ff28"
      },
      "source": [
        "K = \"123\"\n",
        "K = [i for i in K]\n",
        "print(K)"
      ],
      "execution_count": null,
      "outputs": [
        {
          "output_type": "stream",
          "text": [
            "['1', '2', '3']\n"
          ],
          "name": "stdout"
        }
      ]
    },
    {
      "cell_type": "code",
      "metadata": {
        "colab": {
          "base_uri": "https://localhost:8080/"
        },
        "id": "WxDp86Ixj5VF",
        "outputId": "dda51f80-5322-4147-8a56-34c962e841b7"
      },
      "source": [
        "#1783 병든 나이트, 20210517\n",
        "#세로로는 n의 크기가 3이상이면 아무문제 없어진다.\n",
        "# n = 1일때 답은 1\n",
        "# n = 2일때 답은 (m+1)//2, 단 m > 7인 경우 답은 4\n",
        "# n >= 3이고 m >= 7이면 답은 m-2\n",
        "# n >= 3이고 4<= m < 7 이면 답은 4\n",
        "# n >= 3이고 m < 4 이면 답은 m\n",
        "\n",
        "n, m = map(int, input().split())\n",
        "if n == 1:\n",
        "  print(1)\n",
        "elif n == 2:\n",
        "  if m > 7 :\n",
        "    print(4)\n",
        "  else : \n",
        "    print((m+1)//2) \n",
        "else :\n",
        "  if m > 6 : \n",
        "    print(m-2)\n",
        "  elif m > 3 :\n",
        "    print(4)\n",
        "  else : \n",
        "    print(m)"
      ],
      "execution_count": null,
      "outputs": [
        {
          "output_type": "stream",
          "text": [
            "20 4\n",
            "4\n"
          ],
          "name": "stdout"
        }
      ]
    },
    {
      "cell_type": "code",
      "metadata": {
        "id": "PJKe9jF7qMFR"
      },
      "source": [
        "# 1783 1등 정답\n",
        "n,m = map(int,input().split())\n",
        "cnt = 0\n",
        "\n",
        "if n is 1:\n",
        "    cnt = 1 \n",
        "\n",
        "elif n is 2:\n",
        "    cnt = min(4,int((m+1)/2))\n",
        "\n",
        "elif m < 7:\n",
        "    cnt = min(m,4)\n",
        "    \n",
        "else:\n",
        "    cnt = 5 + m - 7\n",
        "\n",
        "print(cnt)\n",
        "# 크게 배울 점은 없어보인다. min을 이용해 if문 개수를 줄인 정도?"
      ],
      "execution_count": null,
      "outputs": []
    },
    {
      "cell_type": "code",
      "metadata": {
        "colab": {
          "base_uri": "https://localhost:8080/"
        },
        "id": "MShku5zgrRte",
        "outputId": "78f442e1-7ea6-4f30-cbd7-b69f9595843c"
      },
      "source": [
        "# 11399 ATM, 20210517\n",
        "import sys\n",
        "\n",
        "n = int(input())\n",
        "time = list(map(int, input().split()))\n",
        "time.sort(reverse=True)\n",
        "\n",
        "sum = 0\n",
        "for i in range(n):\n",
        "  sum += time[i]*(i+1)\n",
        "print(sum)\n",
        "\n",
        "#28776kb, 72ms"
      ],
      "execution_count": null,
      "outputs": [
        {
          "output_type": "stream",
          "text": [
            "5\n",
            "3 1 4 3 2\n",
            "32\n"
          ],
          "name": "stdout"
        }
      ]
    },
    {
      "cell_type": "code",
      "metadata": {
        "id": "SD4bHkG9Z5fA"
      },
      "source": [
        "# 11399 1등 정답\n",
        "a = int(input())\n",
        "l = []\n",
        "total = 0\n",
        "cur = 0\n",
        "l = list(map(int, input().split()))\n",
        "\n",
        "l.sort()\n",
        "for x in l: #바로 리스트 내부 원소를 훑었다.\n",
        "    cur += x\n",
        "    total += cur\n",
        "print(total)"
      ],
      "execution_count": null,
      "outputs": []
    },
    {
      "cell_type": "code",
      "metadata": {
        "colab": {
          "base_uri": "https://localhost:8080/"
        },
        "id": "IPaxzWmejDGF",
        "outputId": "fafcd7cc-75db-4c26-f376-5dae2d82cac9"
      },
      "source": [
        "#1541 잃어버린 괄호, 20210518\n",
        "line = list(map(str, input().split('-', maxsplit = 1)))\n",
        "total = 0\n",
        "if len(line) == 1 :\n",
        "  front = sum(map(int, line[0].split('+')))\n",
        "  print(front)\n",
        "else :\n",
        "  front,rear = line\n",
        "  front = sum(map(int, front.split('+')))\n",
        "  rear = sum(map(int, rear.replace('-','+').split('+')))\n",
        "  # rear = sum(map(int, re.split('[+-]', rear))) 로 쓸 수도 있다. (import re 필요)\n",
        "  print(front-rear)"
      ],
      "execution_count": null,
      "outputs": [
        {
          "output_type": "stream",
          "text": [
            "0-101-01\n",
            "-102\n"
          ],
          "name": "stdout"
        }
      ]
    },
    {
      "cell_type": "code",
      "metadata": {
        "colab": {
          "base_uri": "https://localhost:8080/"
        },
        "id": "PVog4Yr7hkym",
        "outputId": "bf6a3abd-ad70-4250-f297-e34aa15331a7"
      },
      "source": [
        "#1541 1등 코드\n",
        "e = [sum(map(int, x.split('+'))) for x in input().split('-')]\n",
        "print(e[0]-sum(e[1:]))\n",
        "# 일단 -를 기준으로 스플릿한 다음 그 조각조각들을 합쳐놓은 리스트를 생성. 이후 리스트의 첫번째 원소에서 나머지를 다 빼버리는 깔끔한 코드다.."
      ],
      "execution_count": null,
      "outputs": [
        {
          "output_type": "stream",
          "text": [
            "0-101+2\n",
            "-103\n"
          ],
          "name": "stdout"
        }
      ]
    },
    {
      "cell_type": "code",
      "metadata": {
        "colab": {
          "base_uri": "https://localhost:8080/"
        },
        "id": "68-PEHX3kpnm",
        "outputId": "1a5c0a9e-be15-4cfc-9e61-7fcaa62073d5"
      },
      "source": [
        "#13305 주유소, 20210518\n",
        "# 가장 가격이 낮은 곳(최소 1)을 찾고, 그곳부터 맨 끝까지는 그 가격으로 계산한다.\n",
        "# 다시 그 다음으로 가격이 낮은 곳을 찾아 전에 시작했던 곳까지의 가격을 계산한다.\n",
        "# 남은 도로의 길이가 0이 될 때까지 위 과정을 반복하면 된다.\n",
        "# 시간초과에 걸렸으므로 항상 min함수를 쓰기보다 값이 작은 지점들을 리스트에 저장해놓고 쓰자.\n",
        "n = int(input())\n",
        "dist = list(map(int, input().split(' ')))\n",
        "price = list(map(int, input().split(' ')))\n",
        "\n",
        "price.pop()\n",
        "total = 0\n",
        "n -= 1\n",
        "\n",
        "'''\n",
        "#시간초과\n",
        "while n > 0 :\n",
        "  best = min(price)\n",
        "  idx = price.index(best)\n",
        "  sum = 0\n",
        "  for i in range(idx, n) :\n",
        "    sum += dist[i]\n",
        "  total += sum*best\n",
        "  price = price[:idx]\n",
        "  n = idx\n",
        "print(total)\n",
        "'''\n",
        "cheap = price[0]\n",
        "idxs = [0]\n",
        "for i in range(1,n) :\n",
        "  a = price[i]\n",
        "  if a < cheap :\n",
        "    cheap = a\n",
        "    idxs.append(i)\n",
        "    if cheap == 1 :\n",
        "      break\n",
        "idxs.append(n)\n",
        "\n",
        "for i in range(len(idxs)-1) :\n",
        "  sum = 0\n",
        "  for j in range(idxs[i], idxs[i+1]) :\n",
        "    sum += dist[j]\n",
        "  total += sum*price[idxs[i]]\n",
        "print(total)\n",
        "\n",
        "#44224kb, 228ms"
      ],
      "execution_count": null,
      "outputs": [
        {
          "output_type": "stream",
          "text": [
            "4\n",
            "3 3 4\n",
            "1 1 1 1\n",
            "10\n"
          ],
          "name": "stdout"
        }
      ]
    },
    {
      "cell_type": "code",
      "metadata": {
        "id": "S87BJowscO6A"
      },
      "source": [
        "#13305 2등 코드\n",
        "def init():\n",
        "    N = int(input())\n",
        "    edges = list(map(int,input().split()))\n",
        "    cost = list(map(int,input().split()))\n",
        "    cnt = 0\n",
        "    total = 0\n",
        "    prevMin = int(1e9)\n",
        "    while cnt != N-1: # 그냥 코스트를 한바뀌 쭉 도는 중에 최솟값만 비교해가며 계산했다.\n",
        "        now = cost[cnt]\n",
        "        if prevMin > now:\n",
        "            prevMin = now\n",
        "        total += prevMin * edges[cnt]\n",
        "        cnt += 1\n",
        "    print(total)\n",
        "if __name__ == \"__main__\":\n",
        "    init()"
      ],
      "execution_count": null,
      "outputs": []
    },
    {
      "cell_type": "code",
      "metadata": {
        "colab": {
          "base_uri": "https://localhost:8080/"
        },
        "id": "MM2cg6CsuCJM",
        "outputId": "6d433d1e-7e02-4eb6-8da9-c1643c5c3635"
      },
      "source": [
        "#2217 로프, 20210519\n",
        "# n개의 숫자 중 k개를 선택해 (가장 작은 숫자*k) 값을 가장 크게 해야한다.\n",
        "n = int(input())\n",
        "ropes = [int(input()) for i in range(n)] \n",
        "ropes.sort(reverse=True)\n",
        "ans = 0\n",
        "for i in range(n) :\n",
        "  ropes[i] *= (i+1)\n",
        "  if ropes[i] > ans :\n",
        "    ans = ropes[i]\n",
        "print(ans) \n",
        "# 33020kb, 4928ms"
      ],
      "execution_count": null,
      "outputs": [
        {
          "output_type": "stream",
          "text": [
            "2\n",
            "10\n",
            "15\n",
            "20\n"
          ],
          "name": "stdout"
        }
      ]
    },
    {
      "cell_type": "code",
      "metadata": {
        "id": "-sVBhzHHznUR"
      },
      "source": [
        "#2217 1등 정답\n",
        "import sys\n",
        "In = sys.stdin.readline\n",
        "\n",
        "def main():\n",
        "    n = int(In())\n",
        "    rope = [0] * 10001 # 길이가 10001인 리스트 rope 생성\n",
        "    for _ in range(n):\n",
        "        rope[int(In())] += 1 # input으로 10을 받았다면 rope[10]에 +1, 즉 rope는 로프의 종류별 개수를 나타내는 리스트.\n",
        "    m, s = 0, 0\n",
        "    for x in range(10000,-1,-1):\n",
        "        s += rope[x] # 같은 중량이라면 하나라도 더 있는게 k의 개수를 늘리므로 같은 중량의 로프 수를 다 더해도 됨.\n",
        "        m = max(m, x * s) # 가장 큰 값을 m에 저장. if문 없이 max로 깔끔하게 표현했다.\n",
        "    print(m)\n",
        "main()"
      ],
      "execution_count": null,
      "outputs": []
    },
    {
      "cell_type": "code",
      "metadata": {
        "colab": {
          "base_uri": "https://localhost:8080/"
        },
        "id": "hDmpkkna2GC1",
        "outputId": "571253ed-70ac-4999-adab-4772192846c6"
      },
      "source": [
        "#13458 시험감독, 20210519\n",
        "import math\n",
        "\n",
        "n = int(input())\n",
        "a = list(map(int,input().split()))\n",
        "b, c = map(int,input().split())\n",
        "ans = n\n",
        "for i in a :\n",
        "  if (i - b) > 0 :\n",
        "    ans += math.ceil((i - b)/c)\n",
        "print(ans)\n",
        "#150340kb, 816ms"
      ],
      "execution_count": null,
      "outputs": [
        {
          "output_type": "stream",
          "text": [
            "5\n",
            "10 9 10 9 10\n",
            "7 2\n",
            "13\n"
          ],
          "name": "stdout"
        }
      ]
    },
    {
      "cell_type": "code",
      "metadata": {
        "id": "agq_eZ1M7M59"
      },
      "source": [
        "#13458 4등 정답\n",
        "num_class = eval(input())\n",
        "num_stu = list(map(int, input().split()))\n",
        "prior, sup = map(int, input().split())\n",
        "\n",
        "info = {}\n",
        "for i in num_stu:\n",
        "    try:\n",
        "        info[i] += 1\n",
        "    except:\n",
        "        info[i] = 1\n",
        "\n",
        "keys = sorted(info.keys())\n",
        "c = 0\n",
        "ans = []\n",
        "for k in keys:\n",
        "    if k - prior > 0:\n",
        "        break\n",
        "    else:\n",
        "        c += 1\n",
        "        ans += [1]\n",
        "\n",
        "for k in range(c, len(keys)):\n",
        "    num_sup = (keys[k] - prior) // sup\n",
        "    if num_sup * sup + prior == keys[k]:\n",
        "        ans += [num_sup + 1]\n",
        "\n",
        "    else:\n",
        "        ans += [num_sup +2]\n",
        "\n",
        "real_ans = []\n",
        "for k in range(len(keys)):\n",
        "    real_ans += [ans[k]*info[keys[k]]]\n",
        "\n",
        "print(sum(real_ans))"
      ],
      "execution_count": null,
      "outputs": []
    },
    {
      "cell_type": "code",
      "metadata": {
        "id": "pP2EpBBkWIpA"
      },
      "source": [
        "#프로그래머스 큰 수 만들기, 20210606\n",
        "def solution(number, k):\n",
        "    st = str(number)\n",
        "    i = 0\n",
        "    for j in range(k) :\n",
        "        while i < len(st)-1 :\n",
        "            if (st[i] < st[i+1]) :\n",
        "                st = st[0:i] + st[i+1:]\n",
        "                if i : i = i-1 \n",
        "                break\n",
        "            i += 1\n",
        "        if i >= len(st)-1 and len(st) != 1 :\n",
        "            return st[0:len(st)-k+j]\n",
        "    return st"
      ],
      "execution_count": null,
      "outputs": []
    },
    {
      "cell_type": "code",
      "metadata": {
        "id": "wmWpOnmIr_eu"
      },
      "source": [
        "#프로그래머스 큰 수 만들기 우수풀이. k를 조건문 안에 넣어 for문을 중첩시키지 않아 시간복잡도를 크게 줄였다. \n",
        "def solution(number, k):\n",
        "    stack = [number[0]]\n",
        "    for num in number[1:]:\n",
        "        while len(stack) > 0 and stack[-1] < num and k > 0:\n",
        "            k -= 1\n",
        "            stack.pop()\n",
        "        stack.append(num)\n",
        "    if k != 0:\n",
        "        stack = stack[:-k]\n",
        "    return ''.join(stack)"
      ],
      "execution_count": null,
      "outputs": []
    },
    {
      "cell_type": "code",
      "metadata": {
        "id": "Lp2-52xx43Uw"
      },
      "source": [
        "#프로그래머스 체육복, 20210607\n",
        "#1. 자기자신에게 먼저 빌리고 \n",
        "#2. 좌우 중 한명에게만 빌릴 수 있으면 빌리고\n",
        "#3. 다시 반복\n",
        "#4. 남은 것들은 아무나 빌려준다.\n",
        "def solution(n, lost, reserve):\n",
        "    answer = n - len(lost)\n",
        "    arr = []\n",
        "    for i in lost :\n",
        "        if reserve.count(i) :\n",
        "            reserve.remove(i)\n",
        "            arr.append(i)\n",
        "            answer += 1\n",
        "    for x in arr : \n",
        "        lost.remove(x) \n",
        "        \n",
        "        \n",
        "    while 1 : #내가 잘못 생각했다. 괜히 복잡하게 짬.\n",
        "        again = 1\n",
        "        arr = []\n",
        "        for i in lost :\n",
        "            if reserve.count(i-1) + reserve.count(i+1) == 1 :\n",
        "                try :\n",
        "                    reserve.remove(i-1)\n",
        "                    arr.append(i)\n",
        "                    answer += 1\n",
        "                except :\n",
        "                    reserve.remove(i+1)\n",
        "                    arr.append(i)\n",
        "                    answer += 1\n",
        "                again = 0\n",
        "        for x in arr : \n",
        "            lost.remove(x) \n",
        "        if again : break \n",
        "            \n",
        "    \n",
        "    for i in lost :\n",
        "        if reserve.count(i-1) :\n",
        "            reserve.remove(i-1)\n",
        "            answer += 1\n",
        "        elif reserve.count(i+1) :\n",
        "            reserve.remove(i+1)\n",
        "            answer += 1\n",
        "    \n",
        "    return answer"
      ],
      "execution_count": null,
      "outputs": []
    },
    {
      "cell_type": "code",
      "metadata": {
        "id": "dgxFFmuzG5Ve"
      },
      "source": [
        "#프로그래머스 체육복 우수풀이, sort과정이 있어야 진정한 정답일 것이다.\n",
        "def solution(n, lost, reserve):\n",
        "    _reserve = [r for r in reserve if r not in lost]\n",
        "    _lost = [l for l in lost if l not in reserve]\n",
        "    for r in _reserve:\n",
        "        f = r - 1\n",
        "        b = r + 1\n",
        "        if f in _lost:\n",
        "            _lost.remove(f)\n",
        "        elif b in _lost:\n",
        "            _lost.remove(b)\n",
        "    return n - len(_lost)"
      ],
      "execution_count": null,
      "outputs": []
    },
    {
      "cell_type": "code",
      "metadata": {
        "id": "YRy292gckDO0"
      },
      "source": [
        "#프로그래머스 구명보트, 20210610, 내가 무언가 착각을 하고 있던 것 같다. 리스트에 원소추출 후 정렬보다 원소의 정보만 받아내는 것이 빠르다.\n",
        "import heapq\n",
        "def solution(people, limit):\n",
        "    answer = len(people)\n",
        "    arr = []\n",
        "    for i in people :\n",
        "        if i <= limit-40 : arr.append(i)\n",
        "    length = len(arr)\n",
        "    if length > 1 : \n",
        "        arr.sort()\n",
        "        arr2 = arr.copy()\n",
        "        heapq.heapify(arr2)\n",
        "        c = heapq.heappop(arr2)\n",
        "        length -= 1\n",
        "        while length :\n",
        "            b = arr.pop()\n",
        "            length -= 1\n",
        "            if b + c <= limit : \n",
        "                answer -= 1\n",
        "                if length : \n",
        "                    c = heapq.heappop(arr2)\n",
        "                    length -= 1\n",
        "    return answer"
      ],
      "execution_count": null,
      "outputs": []
    },
    {
      "cell_type": "code",
      "metadata": {
        "id": "yePeA6YukKYC"
      },
      "source": [
        "#프로그래머스 구명보트 우수풀이\n",
        "def solution(people, limit) :\n",
        "    answer = 0\n",
        "    people.sort()\n",
        "\n",
        "    a = 0\n",
        "    b = len(people) - 1\n",
        "    while a < b :\n",
        "        if people[b] + people[a] <= limit :\n",
        "            a += 1\n",
        "            answer += 1\n",
        "        b -= 1\n",
        "    return len(people) - answer"
      ],
      "execution_count": null,
      "outputs": []
    },
    {
      "cell_type": "code",
      "metadata": {
        "id": "QmG7VFDNgxAE"
      },
      "source": [
        "#프로그래머스 야근 지수, 20210623\n",
        "def solution(n, works):\n",
        "    works.sort(reverse = True)\n",
        "    last = works[0]\n",
        "    length = len(works)\n",
        "    for i in range(1, length) :\n",
        "        cur = works[i]\n",
        "        diff = last - cur\n",
        "        if n <= diff*i :\n",
        "            last -= n//i\n",
        "            return (last**2)*(i-n%i) + ((last-1)**2)*(n%i) + sum([j**2 for j in works[i:]])\n",
        "        else : \n",
        "            last = cur\n",
        "            n -= diff*i\n",
        "    if last*length <= n : return 0\n",
        "    last -= n//length\n",
        "    return (last**2)*(length-n%length) + ((last-1)**2)*(n%length)"
      ],
      "execution_count": null,
      "outputs": []
    }
  ]
}