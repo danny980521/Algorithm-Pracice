{
  "nbformat": 4,
  "nbformat_minor": 0,
  "metadata": {
    "colab": {
      "name": "Greedy_Algorithm.ipynb",
      "provenance": [],
      "authorship_tag": "ABX9TyPtb343g4NS7IxhlLMN3S7u",
      "include_colab_link": true
    },
    "kernelspec": {
      "name": "python3",
      "display_name": "Python 3"
    },
    "language_info": {
      "name": "python"
    }
  },
  "cells": [
    {
      "cell_type": "markdown",
      "metadata": {
        "id": "view-in-github",
        "colab_type": "text"
      },
      "source": [
        "<a href=\"https://colab.research.google.com/github/danny980521/Algorithm-Pracice/blob/main/Greedy_Algorithm.ipynb\" target=\"_parent\"><img src=\"https://colab.research.google.com/assets/colab-badge.svg\" alt=\"Open In Colab\"/></a>"
      ]
    },
    {
      "cell_type": "code",
      "metadata": {
        "colab": {
          "base_uri": "https://localhost:8080/"
        },
        "id": "a5ObvVZBoUA4",
        "outputId": "b7208c35-faaa-4928-82b8-ac0aae3e17b6"
      },
      "source": [
        "from google.colab import drive\n",
        "drive.mount('/content/drive')"
      ],
      "execution_count": 20,
      "outputs": [
        {
          "output_type": "stream",
          "text": [
            "Drive already mounted at /content/drive; to attempt to forcibly remount, call drive.mount(\"/content/drive\", force_remount=True).\n"
          ],
          "name": "stdout"
        }
      ]
    },
    {
      "cell_type": "code",
      "metadata": {
        "colab": {
          "base_uri": "https://localhost:8080/"
        },
        "id": "7q0yOkspoql6",
        "outputId": "9bd2cb18-bd56-4473-d2d9-a9bc6707bc2e"
      },
      "source": [
        "#11047 동전0, 20210511\n",
        "coins = []\n",
        "sum = 0\n",
        "n, k = map(int, input().split())\n",
        "for i in range(n) : \n",
        "  a = int(input())\n",
        "  coins.append(a)\n",
        "\n",
        "for i in range(n) : \n",
        "  b = coins[-(i+1)]\n",
        "  sum += k//b\n",
        "  k = k%b\n",
        "\n",
        "print(sum)"
      ],
      "execution_count": 16,
      "outputs": [
        {
          "output_type": "stream",
          "text": [
            "10 4200\n",
            "1\n",
            "5\n",
            "10\n",
            "50\n",
            "100\n",
            "500\n",
            "1000\n",
            "5000\n",
            "10000\n",
            "50000\n",
            "6\n"
          ],
          "name": "stdout"
        }
      ]
    },
    {
      "cell_type": "code",
      "metadata": {
        "id": "mcgrIBdiuPHR"
      },
      "source": [
        "# 11047 1등 정답\n",
        "N, K = map(int, input().split())\n",
        "\n",
        "Coins = []\n",
        "for i in range(N) : Coins.append(int(input()))\n",
        "\n",
        "\n",
        "ans = 0\n",
        "while K > 0 : # while을 써서 남은 돈이 0이 되면 stop\n",
        "    coin = Coins.pop() # 맨 뒤에게 튀어나오는 pop을 이용\n",
        "    ans += K // coin\n",
        "    K %= coin\n",
        "\n",
        "print(ans)"
      ],
      "execution_count": null,
      "outputs": []
    },
    {
      "cell_type": "code",
      "metadata": {
        "colab": {
          "base_uri": "https://localhost:8080/"
        },
        "id": "yKSolSekunyd",
        "outputId": "d478c688-f625-4e9e-8204-a8016999bd01"
      },
      "source": [
        "# 2875번 대회 or 인턴, 20210511\n",
        "import math\n",
        "\n",
        "n, m, k = map(int, input().split())\n",
        "if n >= 2*m :\n",
        "  teams = m\n",
        "  k -= (n-2*m)\n",
        "else :\n",
        "  teams = n//2\n",
        "  k -= (n%2 + m - teams)\n",
        "if k > 0 : \n",
        "  teams -= math.ceil(k/3)\n",
        "print(teams)\n"
      ],
      "execution_count": 22,
      "outputs": [
        {
          "output_type": "stream",
          "text": [
            "4 2 3\n",
            "1\n"
          ],
          "name": "stdout"
        }
      ]
    },
    {
      "cell_type": "code",
      "metadata": {
        "id": "cUzl4hhi1raL"
      },
      "source": [
        "# 2875번 1등 정답\n",
        "#N명의 여학생과 M명의 남학생 중 인턴쉽에 참여할 K명을 빼고 대회에 나갈 팀원만 남겨야 한다.\n",
        "#따라서 각 단계에서는 N과 M 중 어떤 것에서 1을 뺄 것인가를 선택한다. \n",
        "#만약 N//2가 M보다 크면 N에서 1을 빼주고, 그렇지 않으면 M에서 1을 빼는 것을 반복한다.\n",
        "#K번의 반복이 종료된 후 N//2와 M 중 작은 값을 출력한다.\n",
        "\n",
        "a, b, c = map(int, input().split(' '))\n",
        "while c > 0: # c가 0이 될때까지 a나 b에서 하나씩 빼준다.\n",
        "    if a // 2 >= b:\n",
        "        a -= 1\n",
        "    else:\n",
        "        b -= 1\n",
        "    c -= 1\n",
        "print(min(a//2, b)) # min을 이용해 팀 개수 산출"
      ],
      "execution_count": null,
      "outputs": []
    },
    {
      "cell_type": "code",
      "metadata": {
        "colab": {
          "base_uri": "https://localhost:8080/"
        },
        "id": "BOgnXuuv3DzX",
        "outputId": "f8809b10-d109-4a96-eea3-9fbd26a7927e"
      },
      "source": [
        "# 10610 30, 20210513\n",
        "n = input()\n",
        "nums = []\n",
        "sum = 0\n",
        "answer = 0\n",
        "\n",
        "for i in n :\n",
        "  nums.append(int(i))\n",
        "  sum += int(i)\n",
        "\n",
        "nums.sort(reverse = True)\n",
        "\n",
        "if nums[-1] != 0 :\n",
        "   print(-1)\n",
        "elif sum%3 != 0 :\n",
        "   print(-1)\n",
        "else :\n",
        "  for i in nums :\n",
        "    answer *= 10\n",
        "    answer += i\n",
        "  print(answer)"
      ],
      "execution_count": 7,
      "outputs": [
        {
          "output_type": "stream",
          "text": [
            "80875542\n",
            "88755420\n"
          ],
          "name": "stdout"
        }
      ]
    },
    {
      "cell_type": "code",
      "metadata": {
        "id": "svmVgRHebQH3"
      },
      "source": [
        "# 코드에이블 정답\n",
        "K = (input())\n",
        "K = [int(i) for i in K] #K 내부의 단어 하나하나를 int형으로 각각 리스트의 원소로 저장. K는 list자료형이 됨.\n",
        "if (sum(K) % 3) == 0 and 0 in K:\n",
        "  print(\"\".join(map(str,sorted(K,reverse=True))))\n",
        "  # join: 입력된 문자열, 리스트, 튜플의 원소 사이에 특정 구분자를 포함하여 문자열로 변환하는 python의 내장 함수\n",
        "else: \n",
        "  print(-1)\n",
        "\n",
        " # 10610 1등 정답\n",
        "import sys\n",
        "\n",
        "n = list(sys.stdin.readline().rstrip()) #sys.stdin.readline()은 여러입력값을 받을 수 있다. rstrip()은 오른쪽 공백 삭제\n",
        "n.sort(reverse=True)\n",
        "if n[-1] != '0' or sum(map(int, n)) % 3 != 0:\n",
        "    print(-1)\n",
        "else:\n",
        "    print(''.join(n))"
      ],
      "execution_count": null,
      "outputs": []
    },
    {
      "cell_type": "code",
      "metadata": {
        "colab": {
          "base_uri": "https://localhost:8080/"
        },
        "id": "cL1Ib5GGgjpU",
        "outputId": "d67078d7-8c2d-483a-8fed-dec7a725ff28"
      },
      "source": [
        "K = \"123\"\n",
        "K = [i for i in K]\n",
        "print(K)"
      ],
      "execution_count": 12,
      "outputs": [
        {
          "output_type": "stream",
          "text": [
            "['1', '2', '3']\n"
          ],
          "name": "stdout"
        }
      ]
    },
    {
      "cell_type": "code",
      "metadata": {
        "colab": {
          "base_uri": "https://localhost:8080/"
        },
        "id": "WxDp86Ixj5VF",
        "outputId": "dda51f80-5322-4147-8a56-34c962e841b7"
      },
      "source": [
        "#1783 병든 나이트, 20210517\n",
        "#세로로는 n의 크기가 3이상이면 아무문제 없어진다.\n",
        "# n = 1일때 답은 1\n",
        "# n = 2일때 답은 (m+1)//2, 단 m > 7인 경우 답은 4\n",
        "# n >= 3이고 m >= 7이면 답은 m-2\n",
        "# n >= 3이고 4<= m < 7 이면 답은 4\n",
        "# n >= 3이고 m < 4 이면 답은 m\n",
        "\n",
        "n, m = map(int, input().split())\n",
        "if n == 1:\n",
        "  print(1)\n",
        "elif n == 2:\n",
        "  if m > 7 :\n",
        "    print(4)\n",
        "  else : \n",
        "    print((m+1)//2) \n",
        "else :\n",
        "  if m > 6 : \n",
        "    print(m-2)\n",
        "  elif m > 3 :\n",
        "    print(4)\n",
        "  else : \n",
        "    print(m)"
      ],
      "execution_count": 17,
      "outputs": [
        {
          "output_type": "stream",
          "text": [
            "20 4\n",
            "4\n"
          ],
          "name": "stdout"
        }
      ]
    },
    {
      "cell_type": "code",
      "metadata": {
        "id": "PJKe9jF7qMFR"
      },
      "source": [
        "# 1783 1등 정답\n",
        "n,m = map(int,input().split())\n",
        "cnt = 0\n",
        "\n",
        "if n is 1:\n",
        "    cnt = 1 \n",
        "\n",
        "elif n is 2:\n",
        "    cnt = min(4,int((m+1)/2))\n",
        "\n",
        "elif m < 7:\n",
        "    cnt = min(m,4)\n",
        "    \n",
        "else:\n",
        "    cnt = 5 + m - 7\n",
        "\n",
        "print(cnt)\n",
        "# 크게 배울 점은 없어보인다. min을 이용해 if문 개수를 줄인 정도?"
      ],
      "execution_count": null,
      "outputs": []
    },
    {
      "cell_type": "code",
      "metadata": {
        "colab": {
          "base_uri": "https://localhost:8080/"
        },
        "id": "MShku5zgrRte",
        "outputId": "78f442e1-7ea6-4f30-cbd7-b69f9595843c"
      },
      "source": [
        "# 11399 ATM, 20210517\n",
        "import sys\n",
        "\n",
        "n = int(input())\n",
        "time = list(map(int, input().split()))\n",
        "time.sort(reverse=True)\n",
        "\n",
        "sum = 0\n",
        "for i in range(n):\n",
        "  sum += time[i]*(i+1)\n",
        "print(sum)\n",
        "\n",
        "#28776kb, 72ms"
      ],
      "execution_count": 25,
      "outputs": [
        {
          "output_type": "stream",
          "text": [
            "5\n",
            "3 1 4 3 2\n",
            "32\n"
          ],
          "name": "stdout"
        }
      ]
    },
    {
      "cell_type": "code",
      "metadata": {
        "id": "SD4bHkG9Z5fA"
      },
      "source": [
        "# 11399 1등 정답\n",
        "a = int(input())\n",
        "l = []\n",
        "total = 0\n",
        "cur = 0\n",
        "l = list(map(int, input().split()))\n",
        "\n",
        "l.sort()\n",
        "for x in l: #바로 리스트 내부 원소를 훑었다.\n",
        "    cur += x\n",
        "    total += cur\n",
        "print(total)"
      ],
      "execution_count": null,
      "outputs": []
    },
    {
      "cell_type": "code",
      "metadata": {
        "colab": {
          "base_uri": "https://localhost:8080/"
        },
        "id": "ygnrgVJxaqap",
        "outputId": "edde3bce-fbd6-461f-cde5-8ada0bc82ee6"
      },
      "source": [
        "#1541 잃어버린 괄호, 20210517\n",
        "import re\n",
        "\n",
        "front,rear = map(str, input().split('-', maxsplit = 1))\n",
        "front = list(map(int, front.split('+')))\n",
        "rear = list(map(int, re.split('[+-]', rear))) #\"+|-\"로도 중복 분할 가능\n",
        "total = 0\n",
        "for i in front :\n",
        "  total += i\n",
        "for i in rear :\n",
        "  total -= i\n",
        "print(total)"
      ],
      "execution_count": 49,
      "outputs": [
        {
          "output_type": "stream",
          "text": [
            "55-50+40\n",
            "-35\n"
          ],
          "name": "stdout"
        }
      ]
    },
    {
      "cell_type": "code",
      "metadata": {
        "id": "WU2B3Y3vfw3k"
      },
      "source": [
        ""
      ],
      "execution_count": null,
      "outputs": []
    }
  ]
}