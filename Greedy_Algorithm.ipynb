{
  "nbformat": 4,
  "nbformat_minor": 0,
  "metadata": {
    "colab": {
      "name": "Greedy_Algorithm.ipynb",
      "provenance": [],
      "authorship_tag": "ABX9TyM/+9rdYP6qUn3U5QaC4nnS",
      "include_colab_link": true
    },
    "kernelspec": {
      "name": "python3",
      "display_name": "Python 3"
    },
    "language_info": {
      "name": "python"
    }
  },
  "cells": [
    {
      "cell_type": "markdown",
      "metadata": {
        "id": "view-in-github",
        "colab_type": "text"
      },
      "source": [
        "<a href=\"https://colab.research.google.com/github/danny980521/Algorithm-Pracice/blob/main/Greedy_Algorithm.ipynb\" target=\"_parent\"><img src=\"https://colab.research.google.com/assets/colab-badge.svg\" alt=\"Open In Colab\"/></a>"
      ]
    },
    {
      "cell_type": "code",
      "metadata": {
        "colab": {
          "base_uri": "https://localhost:8080/"
        },
        "id": "a5ObvVZBoUA4",
        "outputId": "967996c0-08b2-445c-e7c8-787dbdbfaec3"
      },
      "source": [
        "from google.colab import drive\n",
        "drive.mount('/content/drive')"
      ],
      "execution_count": 1,
      "outputs": [
        {
          "output_type": "stream",
          "text": [
            "Mounted at /content/drive\n"
          ],
          "name": "stdout"
        }
      ]
    },
    {
      "cell_type": "code",
      "metadata": {
        "colab": {
          "base_uri": "https://localhost:8080/"
        },
        "id": "7q0yOkspoql6",
        "outputId": "9bd2cb18-bd56-4473-d2d9-a9bc6707bc2e"
      },
      "source": [
        "#11047 동전0, 20210511\n",
        "coins = []\n",
        "sum = 0\n",
        "n, k = map(int, input().split())\n",
        "for i in range(n) : \n",
        "  a = int(input())\n",
        "  coins.append(a)\n",
        "\n",
        "for i in range(n) : \n",
        "  b = coins[-(i+1)]\n",
        "  sum += k//b\n",
        "  k = k%b\n",
        "\n",
        "print(sum)"
      ],
      "execution_count": 16,
      "outputs": [
        {
          "output_type": "stream",
          "text": [
            "10 4200\n",
            "1\n",
            "5\n",
            "10\n",
            "50\n",
            "100\n",
            "500\n",
            "1000\n",
            "5000\n",
            "10000\n",
            "50000\n",
            "6\n"
          ],
          "name": "stdout"
        }
      ]
    },
    {
      "cell_type": "code",
      "metadata": {
        "id": "mcgrIBdiuPHR"
      },
      "source": [
        "# 11047 1등 정답\n",
        "N, K = map(int, input().split())\n",
        "\n",
        "Coins = []\n",
        "for i in range(N) : Coins.append(int(input()))\n",
        "\n",
        "\n",
        "ans = 0\n",
        "while K > 0 : # while을 써서 남은 돈이 0이 되면 stop\n",
        "    coin = Coins.pop() # 맨 뒤에게 튀어나오는 pop을 이용\n",
        "    ans += K // coin\n",
        "    K %= coin\n",
        "\n",
        "print(ans)"
      ],
      "execution_count": null,
      "outputs": []
    },
    {
      "cell_type": "code",
      "metadata": {
        "colab": {
          "base_uri": "https://localhost:8080/"
        },
        "id": "yKSolSekunyd",
        "outputId": "d478c688-f625-4e9e-8204-a8016999bd01"
      },
      "source": [
        "# 2875번 대회 or 인턴, 20210511\n",
        "import math\n",
        "\n",
        "n, m, k = map(int, input().split())\n",
        "if n >= 2*m :\n",
        "  teams = m\n",
        "  k -= (n-2*m)\n",
        "else :\n",
        "  teams = n//2\n",
        "  k -= (n%2 + m - teams)\n",
        "if k > 0 : \n",
        "  teams -= math.ceil(k/3)\n",
        "print(teams)\n"
      ],
      "execution_count": 22,
      "outputs": [
        {
          "output_type": "stream",
          "text": [
            "4 2 3\n",
            "1\n"
          ],
          "name": "stdout"
        }
      ]
    },
    {
      "cell_type": "code",
      "metadata": {
        "id": "cUzl4hhi1raL"
      },
      "source": [
        "# 2875번 1등 정답\n",
        "#N명의 여학생과 M명의 남학생 중 인턴쉽에 참여할 K명을 빼고 대회에 나갈 팀원만 남겨야 한다.\n",
        "#따라서 각 단계에서는 N과 M 중 어떤 것에서 1을 뺄 것인가를 선택한다. \n",
        "#만약 N//2가 M보다 크면 N에서 1을 빼주고, 그렇지 않으면 M에서 1을 빼는 것을 반복한다.\n",
        "#K번의 반복이 종료된 후 N//2와 M 중 작은 값을 출력한다.\n",
        "\n",
        "a, b, c = map(int, input().split(' '))\n",
        "while c > 0: # c가 0이 될때까지 a나 b에서 하나씩 빼준다.\n",
        "    if a // 2 >= b:\n",
        "        a -= 1\n",
        "    else:\n",
        "        b -= 1\n",
        "    c -= 1\n",
        "print(min(a//2, b)) # min을 이용해 팀 개수 산출"
      ],
      "execution_count": null,
      "outputs": []
    },
    {
      "cell_type": "code",
      "metadata": {
        "colab": {
          "base_uri": "https://localhost:8080/"
        },
        "id": "BOgnXuuv3DzX",
        "outputId": "f8809b10-d109-4a96-eea3-9fbd26a7927e"
      },
      "source": [
        "# 10610 30, 20210513\n",
        "n = input()\n",
        "nums = []\n",
        "sum = 0\n",
        "answer = 0\n",
        "\n",
        "for i in n :\n",
        "  nums.append(int(i))\n",
        "  sum += int(i)\n",
        "\n",
        "nums.sort(reverse = True)\n",
        "\n",
        "if nums[-1] != 0 :\n",
        "   print(-1)\n",
        "elif sum%3 != 0 :\n",
        "   print(-1)\n",
        "else :\n",
        "  for i in nums :\n",
        "    answer *= 10\n",
        "    answer += i\n",
        "  print(answer)"
      ],
      "execution_count": 7,
      "outputs": [
        {
          "output_type": "stream",
          "text": [
            "80875542\n",
            "88755420\n"
          ],
          "name": "stdout"
        }
      ]
    }
  ]
}