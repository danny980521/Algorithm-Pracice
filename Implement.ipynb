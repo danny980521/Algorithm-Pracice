{
  "nbformat": 4,
  "nbformat_minor": 0,
  "metadata": {
    "colab": {
      "name": "Implement.ipynb",
      "provenance": [],
      "collapsed_sections": [],
      "authorship_tag": "ABX9TyOx3o5JYEFIAgX2fZ23LSpF",
      "include_colab_link": true
    },
    "kernelspec": {
      "name": "python3",
      "display_name": "Python 3"
    },
    "language_info": {
      "name": "python"
    }
  },
  "cells": [
    {
      "cell_type": "markdown",
      "metadata": {
        "id": "view-in-github",
        "colab_type": "text"
      },
      "source": [
        "<a href=\"https://colab.research.google.com/github/danny980521/Algorithm-Pracice/blob/main/Implement.ipynb\" target=\"_parent\"><img src=\"https://colab.research.google.com/assets/colab-badge.svg\" alt=\"Open In Colab\"/></a>"
      ]
    },
    {
      "cell_type": "code",
      "execution_count": null,
      "metadata": {
        "id": "aqnQi3AMPt4I"
      },
      "outputs": [],
      "source": [
        "#프로그래머스 신고 결과 받기, 20220120\n",
        "def solution(id_list, report, k):\n",
        "    answer = [0]*len(id_list)\n",
        "    reported_dic = {name : [0,[]] for name in id_list}\n",
        "    for log in report:\n",
        "        reporter, reported = log.split()\n",
        "        if reporter not in reported_dic[reported][1] :\n",
        "            reported_dic[reported][0] += 1\n",
        "            reported_dic[reported][1].append(reporter)\n",
        "    for name in reported_dic :\n",
        "        arr = reported_dic[name]\n",
        "        if arr[0] >= k:\n",
        "            for reporter in arr[1] :\n",
        "                answer[id_list.index(reporter)] += 1\n",
        "    return answer"
      ]
    },
    {
      "cell_type": "code",
      "source": [
        "#프로그래머스 최소직사각형, 20220120\n",
        "def solution(sizes):\n",
        "    long, short = [], []\n",
        "    for size in sizes :\n",
        "        w, h = size\n",
        "        long.append(max(w,h))\n",
        "        short.append(min(w,h))\n",
        "    max_long = max(long)\n",
        "    max_short = max(short)\n",
        "    return max_long*max_short"
      ],
      "metadata": {
        "id": "xBfc1tjPitSF"
      },
      "execution_count": null,
      "outputs": []
    },
    {
      "cell_type": "code",
      "source": [
        "#프로그래머스 최소직사각형 우수풀이. 오졌다.\n",
        "def solution(sizes):\n",
        "    return max(max(x) for x in sizes) * max(min(x) for x in sizes)"
      ],
      "metadata": {
        "id": "52LLHtTei8oQ"
      },
      "execution_count": null,
      "outputs": []
    }
  ]
}