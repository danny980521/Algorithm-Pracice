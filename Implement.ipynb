{
  "nbformat": 4,
  "nbformat_minor": 0,
  "metadata": {
    "colab": {
      "name": "Implement.ipynb",
      "provenance": [],
      "collapsed_sections": [],
      "authorship_tag": "ABX9TyMbueZEMhUdGUUkZpRNsytF",
      "include_colab_link": true
    },
    "kernelspec": {
      "name": "python3",
      "display_name": "Python 3"
    },
    "language_info": {
      "name": "python"
    }
  },
  "cells": [
    {
      "cell_type": "markdown",
      "metadata": {
        "id": "view-in-github",
        "colab_type": "text"
      },
      "source": [
        "<a href=\"https://colab.research.google.com/github/danny980521/Algorithm-Pracice/blob/main/Implement.ipynb\" target=\"_parent\"><img src=\"https://colab.research.google.com/assets/colab-badge.svg\" alt=\"Open In Colab\"/></a>"
      ]
    },
    {
      "cell_type": "code",
      "execution_count": null,
      "metadata": {
        "id": "aqnQi3AMPt4I"
      },
      "outputs": [],
      "source": [
        "#프로그래머스 신고 결과 받기, 20220120\n",
        "def solution(id_list, report, k):\n",
        "    answer = [0]*len(id_list)\n",
        "    reported_dic = {name : [0,[]] for name in id_list}\n",
        "    for log in report:\n",
        "        reporter, reported = log.split()\n",
        "        if reporter not in reported_dic[reported][1] :\n",
        "            reported_dic[reported][0] += 1\n",
        "            reported_dic[reported][1].append(reporter)\n",
        "    for name in reported_dic :\n",
        "        arr = reported_dic[name]\n",
        "        if arr[0] >= k:\n",
        "            for reporter in arr[1] :\n",
        "                answer[id_list.index(reporter)] += 1\n",
        "    return answer"
      ]
    },
    {
      "cell_type": "code",
      "source": [
        "#프로그래머스 최소직사각형, 20220120\n",
        "def solution(sizes):\n",
        "    long, short = [], []\n",
        "    for size in sizes :\n",
        "        w, h = size\n",
        "        long.append(max(w,h))\n",
        "        short.append(min(w,h))\n",
        "    max_long = max(long)\n",
        "    max_short = max(short)\n",
        "    return max_long*max_short"
      ],
      "metadata": {
        "id": "xBfc1tjPitSF"
      },
      "execution_count": null,
      "outputs": []
    },
    {
      "cell_type": "code",
      "source": [
        "#프로그래머스 최소직사각형 우수풀이. 오졌다.\n",
        "def solution(sizes):\n",
        "    return max(max(x) for x in sizes) * max(min(x) for x in sizes)"
      ],
      "metadata": {
        "id": "52LLHtTei8oQ"
      },
      "execution_count": null,
      "outputs": []
    },
    {
      "cell_type": "code",
      "source": [
        "#프로그래머스 피로도, 20220516\n",
        "import itertools\n",
        "\n",
        "def solution(k, dungeons):\n",
        "    nums = list(range(len(dungeons)))\n",
        "    order = itertools.permutations(nums, len(dungeons))\n",
        "    best = 0\n",
        "    for nums in order:\n",
        "        left = k\n",
        "        cnt = 0\n",
        "        for num in nums:\n",
        "            if left < dungeons[num][0]:\n",
        "                if cnt > best:\n",
        "                    best = cnt\n",
        "                break\n",
        "            left -= dungeons[num][1]\n",
        "            cnt += 1\n",
        "        else:\n",
        "            best = len(dungeons)\n",
        "            break\n",
        "    answer = best\n",
        "    \n",
        "    return answer"
      ],
      "metadata": {
        "id": "6kNmsMSgRVuW"
      },
      "execution_count": null,
      "outputs": []
    },
    {
      "cell_type": "code",
      "source": [
        "import sys\n",
        "#input = sys.stdin.readline\n",
        "\n",
        "for _ in range(int(input())):\n",
        "    n = int(input())\n",
        "    picks = [0] + list(map(int, input().split()))\n",
        "    not_matched = n\n",
        "    visited = [0]*(n+1)\n",
        "    for i in range(1,n+1):\n",
        "        if not visited[i]:\n",
        "            visited[i] = 1\n",
        "            idx = i\n",
        "            cnt = 1\n",
        "            records = [0]*(n+1)\n",
        "            while 1:\n",
        "                records[idx] = cnt\n",
        "                cnt+=1\n",
        "                next = picks[idx]\n",
        "                if visited[next]:\n",
        "                    if records[next]:\n",
        "                        not_matched -= cnt - records[next]\n",
        "                    break\n",
        "                else: \n",
        "                    visited[next] = 1\n",
        "                    idx = next\n",
        "    print(not_matched)"
      ],
      "metadata": {
        "id": "YY7lLwv9dPFj",
        "colab": {
          "base_uri": "https://localhost:8080/"
        },
        "outputId": "9049576c-060d-4738-815f-77ff6e1552fc"
      },
      "execution_count": null,
      "outputs": [
        {
          "output_type": "stream",
          "name": "stdout",
          "text": [
            "1\n",
            "8\n",
            "2 3 4 5 6 7 8 1\n",
            "1 8\n",
            "0\n"
          ]
        }
      ]
    },
    {
      "cell_type": "code",
      "source": [
        "#프로그래머스 키패드 누르기, 20220611\n",
        "def solution(numbers, hand):\n",
        "    answer = ''\n",
        "    left_thumb = [3,0]\n",
        "    right_thumb = [3,2]\n",
        "    for i in numbers:\n",
        "        if i in [1, 4, 7]:\n",
        "            answer += 'L'\n",
        "            left_thumb = [i//3,0]\n",
        "        elif i in [3, 6, 9]:\n",
        "            answer += 'R'\n",
        "            right_thumb = [(i//3)-1,2]\n",
        "        else:\n",
        "            if not i: i+=11\n",
        "            dist_left = abs(i//3-left_thumb[0])+1-left_thumb[1]\n",
        "            dist_right = abs(i//3-right_thumb[0])+right_thumb[1]-1\n",
        "            if dist_left < dist_right or dist_left==dist_right and hand == 'left':\n",
        "                answer += 'L'\n",
        "                left_thumb = [i//3,1]\n",
        "            else:\n",
        "                answer += 'R'\n",
        "                right_thumb = [i//3,1]\n",
        "            \n",
        "    return answer"
      ],
      "metadata": {
        "id": "5QriL4AKAAxd"
      },
      "execution_count": null,
      "outputs": []
    },
    {
      "cell_type": "code",
      "source": [
        "#프로그래머스 키패드 누르기 우수풀이\n",
        "def solution(numbers, hand):\n",
        "    answer = ''\n",
        "    key_dict = {1:(0,0),2:(0,1),3:(0,2),\n",
        "                4:(1,0),5:(1,1),6:(1,2),\n",
        "                7:(2,0),8:(2,1),9:(2,2),\n",
        "                '*':(3,0),0:(3,1),'#':(3,2)}\n",
        "\n",
        "    left = [1,4,7]\n",
        "    right = [3,6,9]\n",
        "    lhand = '*'\n",
        "    rhand = '#'\n",
        "    for i in numbers:\n",
        "        if i in left:\n",
        "            answer += 'L'\n",
        "            lhand = i\n",
        "        elif i in right:\n",
        "            answer += 'R'\n",
        "            rhand = i\n",
        "        else:\n",
        "            curPos = key_dict[i]\n",
        "            lPos = key_dict[lhand]\n",
        "            rPos = key_dict[rhand]\n",
        "            ldist = abs(curPos[0]-lPos[0]) + abs(curPos[1]-lPos[1])\n",
        "            rdist = abs(curPos[0]-rPos[0]) + abs(curPos[1]-rPos[1])\n",
        "\n",
        "            if ldist < rdist:\n",
        "                answer += 'L'\n",
        "                lhand = i\n",
        "            elif ldist > rdist:\n",
        "                answer += 'R'\n",
        "                rhand = i\n",
        "            else:\n",
        "                if hand == 'left':\n",
        "                    answer += 'L'\n",
        "                    lhand = i\n",
        "                else:\n",
        "                    answer += 'R'\n",
        "                    rhand = i\n",
        "\n",
        "    return answer"
      ],
      "metadata": {
        "id": "7x3rBq5qnRFb"
      },
      "execution_count": null,
      "outputs": []
    }
  ]
}