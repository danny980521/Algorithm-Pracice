{
  "nbformat": 4,
  "nbformat_minor": 0,
  "metadata": {
    "colab": {
      "name": "String.ipynb",
      "provenance": [],
      "collapsed_sections": [],
      "authorship_tag": "ABX9TyOSowd50FgHB2aIztAf3tBU",
      "include_colab_link": true
    },
    "kernelspec": {
      "name": "python3",
      "display_name": "Python 3"
    },
    "language_info": {
      "name": "python"
    }
  },
  "cells": [
    {
      "cell_type": "markdown",
      "metadata": {
        "id": "view-in-github",
        "colab_type": "text"
      },
      "source": [
        "<a href=\"https://colab.research.google.com/github/danny980521/Algorithm-Pracice/blob/main/String.ipynb\" target=\"_parent\"><img src=\"https://colab.research.google.com/assets/colab-badge.svg\" alt=\"Open In Colab\"/></a>"
      ]
    },
    {
      "cell_type": "code",
      "metadata": {
        "id": "El-XJ-lMgVCJ"
      },
      "source": [
        "#프로그래머스 문자열 압축, 20210622\n",
        "def solution(s):\n",
        "    length = len(s)\n",
        "    if length == 1 : return 1\n",
        "\n",
        "    answer = set()\n",
        "    for i in range(1, length//2+1) :\n",
        "        continuous = False\n",
        "        l = length\n",
        "        for j in range(0, i*(length//i), i) :\n",
        "            if not j : pre = s[:i]\n",
        "            else : \n",
        "                cur = s[j:j+i]\n",
        "                if cur == pre : \n",
        "                    l -= i\n",
        "                    if continuous :\n",
        "                        stack += 1\n",
        "                        if stack == 10 or stack == 100 or stack == 1000 :\n",
        "                            l+=1\n",
        "                    else : \n",
        "                        continuous = True\n",
        "                        l += 1\n",
        "                        stack = 2\n",
        "                else : continuous = False\n",
        "                pre = cur\n",
        "        answer.add(l)\n",
        "    return min(answer)"
      ],
      "execution_count": null,
      "outputs": []
    },
    {
      "cell_type": "code",
      "metadata": {
        "id": "usBQjdUM9A0P"
      },
      "source": [
        "#프로그래머스 문자열 압축 우수풀이\n",
        "def compress(text, tok_len):\n",
        "    words = [text[i:i+tok_len] for i in range(0, len(text), tok_len)]\n",
        "    res = []\n",
        "    cur_word = words[0]\n",
        "    cur_cnt = 1\n",
        "    for a, b in zip(words, words[1:] + ['']):\n",
        "        if a == b:\n",
        "            cur_cnt += 1\n",
        "        else:\n",
        "            res.append([cur_word, cur_cnt])\n",
        "            cur_word = b\n",
        "            cur_cnt = 1\n",
        "    return sum(len(word) + (len(str(cnt)) if cnt > 1 else 0) for word, cnt in res)\n",
        "\n",
        "def solution(text):\n",
        "    return min(compress(text, tok_len) for tok_len in list(range(1, int(len(text)/2) + 1)) + [len(text)])"
      ],
      "execution_count": null,
      "outputs": []
    },
    {
      "cell_type": "code",
      "metadata": {
        "id": "nhr1XZAZ2UwW"
      },
      "source": [
        "#프로그래머스 가장 긴 팰린드롬, 20210624\n",
        "def solution(s):\n",
        "    l = len(s)\n",
        "    \n",
        "    for i in range(l) :\n",
        "        for j in range(i+1) :\n",
        "            sub = s[j:j+l-i]\n",
        "            for k in range((l-i)//2) :\n",
        "                if sub[k] != sub[-k-1] : break\n",
        "            else : return l-i"
      ],
      "execution_count": null,
      "outputs": []
    },
    {
      "cell_type": "code",
      "metadata": {
        "id": "0RMhOzWDZA_6"
      },
      "source": [
        "#프로그래머스 괄호 회전하기, 20210626\n",
        "def solution(s):\n",
        "    answer = 0\n",
        "    n = len(s)\n",
        "    for i in range(n) :\n",
        "        s = s[1:] + s[0]\n",
        "        cnt = 0\n",
        "        arr = []\n",
        "        brk = ['[', '{', '(']\n",
        "        for j in s :\n",
        "            if j in brk : \n",
        "                cnt += 1\n",
        "                arr.append(brk.index(j))\n",
        "            else : \n",
        "                if not cnt : break\n",
        "                if [']', '}', ')'][arr.pop()] != j : return 0\n",
        "                cnt -= 1\n",
        "        else : \n",
        "            if not cnt : answer += 1\n",
        "    return answer"
      ],
      "execution_count": null,
      "outputs": []
    },
    {
      "cell_type": "code",
      "source": [
        "#프로그래머스 숫자 문자열과 영단어, 2022120\n",
        "def solution(s):\n",
        "    eng_to_num = {'zero' : 0,\n",
        "                'one' : 1,\n",
        "                'two' : 2,\n",
        "                'three' : 3,\n",
        "                'four' : 4,\n",
        "                'five' : 5,\n",
        "                'six' : 6,\n",
        "                'seven' : 7,\n",
        "                'eight' : 8,\n",
        "                'nine' : 9}\n",
        "    for key in eng_to_num :\n",
        "        s = s.replace(key, str(eng_to_num[key]))\n",
        "    return int(s)"
      ],
      "metadata": {
        "id": "awaUoZn_hPvA"
      },
      "execution_count": null,
      "outputs": []
    },
    {
      "cell_type": "code",
      "source": [
        "#프로그래머스 숫자 문자열과 영단어 우수풀이\n",
        "num_dic = {\"zero\":\"0\", \"one\":\"1\", \"two\":\"2\", \"three\":\"3\", \"four\":\"4\", \"five\":\"5\", \"six\":\"6\", \"seven\":\"7\", \"eight\":\"8\", \"nine\":\"9\"}\n",
        "\n",
        "def solution(s):\n",
        "    answer = s\n",
        "    for key, value in num_dic.items():\n",
        "        answer = answer.replace(key, value)\n",
        "    return int(answer)"
      ],
      "metadata": {
        "id": "pPjslTTHhZDC"
      },
      "execution_count": null,
      "outputs": []
    }
  ]
}