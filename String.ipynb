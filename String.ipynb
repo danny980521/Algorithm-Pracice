{
  "nbformat": 4,
  "nbformat_minor": 0,
  "metadata": {
    "colab": {
      "name": "String.ipynb",
      "provenance": [],
      "collapsed_sections": [],
      "authorship_tag": "ABX9TyOc3E9yQBAguDGAaqwG0/hG",
      "include_colab_link": true
    },
    "kernelspec": {
      "name": "python3",
      "display_name": "Python 3"
    },
    "language_info": {
      "name": "python"
    }
  },
  "cells": [
    {
      "cell_type": "markdown",
      "metadata": {
        "id": "view-in-github",
        "colab_type": "text"
      },
      "source": [
        "<a href=\"https://colab.research.google.com/github/danny980521/Algorithm-Pracice/blob/main/String.ipynb\" target=\"_parent\"><img src=\"https://colab.research.google.com/assets/colab-badge.svg\" alt=\"Open In Colab\"/></a>"
      ]
    },
    {
      "cell_type": "code",
      "metadata": {
        "id": "El-XJ-lMgVCJ"
      },
      "source": [
        "#프로그래머스 문자열 압축, 20210622\n",
        "def solution(s):\n",
        "    length = len(s)\n",
        "    if length == 1 : return 1\n",
        "\n",
        "    answer = set()\n",
        "    for i in range(1, length//2+1) :\n",
        "        continuous = False\n",
        "        l = length\n",
        "        for j in range(0, i*(length//i), i) :\n",
        "            if not j : pre = s[:i]\n",
        "            else : \n",
        "                cur = s[j:j+i]\n",
        "                if cur == pre : \n",
        "                    l -= i\n",
        "                    if continuous :\n",
        "                        stack += 1\n",
        "                        if stack == 10 or stack == 100 or stack == 1000 :\n",
        "                            l+=1\n",
        "                    else : \n",
        "                        continuous = True\n",
        "                        l += 1\n",
        "                        stack = 2\n",
        "                else : continuous = False\n",
        "                pre = cur\n",
        "        answer.add(l)\n",
        "    return min(answer)"
      ],
      "execution_count": null,
      "outputs": []
    },
    {
      "cell_type": "code",
      "metadata": {
        "id": "usBQjdUM9A0P"
      },
      "source": [
        "#프로그래머스 문자열 압축 우수풀이\n",
        "def compress(text, tok_len):\n",
        "    words = [text[i:i+tok_len] for i in range(0, len(text), tok_len)]\n",
        "    res = []\n",
        "    cur_word = words[0]\n",
        "    cur_cnt = 1\n",
        "    for a, b in zip(words, words[1:] + ['']):\n",
        "        if a == b:\n",
        "            cur_cnt += 1\n",
        "        else:\n",
        "            res.append([cur_word, cur_cnt])\n",
        "            cur_word = b\n",
        "            cur_cnt = 1\n",
        "    return sum(len(word) + (len(str(cnt)) if cnt > 1 else 0) for word, cnt in res)\n",
        "\n",
        "def solution(text):\n",
        "    return min(compress(text, tok_len) for tok_len in list(range(1, int(len(text)/2) + 1)) + [len(text)])"
      ],
      "execution_count": null,
      "outputs": []
    },
    {
      "cell_type": "code",
      "metadata": {
        "id": "nhr1XZAZ2UwW"
      },
      "source": [
        "#프로그래머스 가장 긴 팰린드롬, 20210624\n",
        "def solution(s):\n",
        "    l = len(s)\n",
        "    \n",
        "    for i in range(l) :\n",
        "        for j in range(i+1) :\n",
        "            sub = s[j:j+l-i]\n",
        "            for k in range((l-i)//2) :\n",
        "                if sub[k] != sub[-k-1] : break\n",
        "            else : return l-i"
      ],
      "execution_count": null,
      "outputs": []
    }
  ]
}