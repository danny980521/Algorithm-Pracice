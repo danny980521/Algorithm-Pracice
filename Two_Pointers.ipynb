{
  "nbformat": 4,
  "nbformat_minor": 0,
  "metadata": {
    "colab": {
      "name": "Two_Pointers.ipynb",
      "provenance": [],
      "collapsed_sections": [],
      "authorship_tag": "ABX9TyNVE1EHWiuo+JxaU2VvjM7I",
      "include_colab_link": true
    },
    "kernelspec": {
      "name": "python3",
      "display_name": "Python 3"
    },
    "language_info": {
      "name": "python"
    }
  },
  "cells": [
    {
      "cell_type": "markdown",
      "metadata": {
        "id": "view-in-github",
        "colab_type": "text"
      },
      "source": [
        "<a href=\"https://colab.research.google.com/github/danny980521/Algorithm-Pracice/blob/main/Two_Pointers.ipynb\" target=\"_parent\"><img src=\"https://colab.research.google.com/assets/colab-badge.svg\" alt=\"Open In Colab\"/></a>"
      ]
    },
    {
      "cell_type": "code",
      "metadata": {
        "colab": {
          "base_uri": "https://localhost:8080/"
        },
        "id": "4FXkDTsfNsUS",
        "outputId": "8bffb508-9129-4a9c-cd66-54b861c9a219"
      },
      "source": [
        "#2003 수들의 합 2, 20210630\n",
        "import sys\n",
        "#input = sys.stdin.readline\n",
        "n, m = map(int, input().split())\n",
        "arr = list(map(int, input().split()))\n",
        "start, end = 0, 0\n",
        "sum = arr[0]\n",
        "answer = 0 \n",
        "while 1 :\n",
        "    if sum >= m :\n",
        "        if sum == m : answer += 1\n",
        "        sum -= arr[start]\n",
        "        start += 1\n",
        "    else :\n",
        "        if end == n-1 : break\n",
        "        end += 1\n",
        "        sum += arr[end]\n",
        "print(answer)\n",
        "#30220kb, 72ms"
      ],
      "execution_count": 14,
      "outputs": [
        {
          "output_type": "stream",
          "text": [
            "2 3\n",
            "1 2\n",
            "1\n"
          ],
          "name": "stdout"
        }
      ]
    },
    {
      "cell_type": "code",
      "metadata": {
        "id": "TXcLNF1LSF4I"
      },
      "source": [
        "#2003 수들의 합 2 1등 풀이\n",
        "n, m = map(int, input().split())\n",
        "a = list(map(int, input().split()))\n",
        "k, p, c = 0, 0, 0\n",
        "\n",
        "for i in a:\n",
        "    p += i\n",
        "    while p > m:\n",
        "        p -= a[k]\n",
        "        k += 1\n",
        "    c += (p == m)\n",
        "\n",
        "print(c)"
      ],
      "execution_count": null,
      "outputs": []
    },
    {
      "cell_type": "code",
      "metadata": {
        "colab": {
          "base_uri": "https://localhost:8080/"
        },
        "id": "0JZAGOrmSdBk",
        "outputId": "c04bacb4-931e-4dfb-edd1-211a9072eb43"
      },
      "source": [
        "#1806 부분합, 20210630\n",
        "import sys\n",
        "#input = sys.stdin.readline\n",
        "n, m = map(int, input().split())\n",
        "arr = list(map(int, input().split()))\n",
        "start, length = 0, 1\n",
        "sum = arr[0]\n",
        "while sum < m and length < n :\n",
        "    sum += arr[length]\n",
        "    length += 1\n",
        "if sum < m : print(0)\n",
        "else :\n",
        "    while 1 :\n",
        "        sum -= arr[start]\n",
        "        start += 1\n",
        "        if sum >= m :\n",
        "            length -= 1\n",
        "        else :\n",
        "            if start+length == n+1 : break\n",
        "            sum += arr[start+length-1]\n",
        "    print(length)\n",
        "#40236kb, 140ms"
      ],
      "execution_count": 24,
      "outputs": [
        {
          "output_type": "stream",
          "text": [
            "3 10\n",
            "2 3 4\n",
            "0\n",
            "3\n"
          ],
          "name": "stdout"
        }
      ]
    },
    {
      "cell_type": "code",
      "metadata": {
        "id": "Ln4VdRUlbiNp"
      },
      "source": [
        "#1806 부분합 1등 풀이\n",
        "from sys import stdin\n",
        "\n",
        "input = stdin.readline\n",
        "\n",
        "def solve():\n",
        "\n",
        "    N, S = map(int, input().split())\n",
        "\n",
        "    arr = list(map(int, input().split()))\n",
        "\n",
        "    inf = float('inf')\n",
        "    left, sum_val, ans= 0, 0, inf\n",
        "\n",
        "    for right in range(N):\n",
        "        sum_val += arr[right]\n",
        "        while sum_val - arr[left] >= S:\n",
        "            sum_val -= arr[left]\n",
        "            left += 1\n",
        "\n",
        "        if sum_val >= S and ans > right - left:\n",
        "            ans = right - left + 1\n",
        "\n",
        "    print(ans if ans != inf else 0)\n",
        "    return\n",
        "\n",
        "solve()"
      ],
      "execution_count": null,
      "outputs": []
    }
  ]
}