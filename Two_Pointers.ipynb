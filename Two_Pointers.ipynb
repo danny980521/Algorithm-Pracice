{
  "nbformat": 4,
  "nbformat_minor": 0,
  "metadata": {
    "colab": {
      "name": "Two_Pointers.ipynb",
      "provenance": [],
      "collapsed_sections": [],
      "authorship_tag": "ABX9TyPxXFFAafore37UwoRmvqIW",
      "include_colab_link": true
    },
    "kernelspec": {
      "name": "python3",
      "display_name": "Python 3"
    },
    "language_info": {
      "name": "python"
    }
  },
  "cells": [
    {
      "cell_type": "markdown",
      "metadata": {
        "id": "view-in-github",
        "colab_type": "text"
      },
      "source": [
        "<a href=\"https://colab.research.google.com/github/danny980521/Algorithm-Pracice/blob/main/Two_Pointers.ipynb\" target=\"_parent\"><img src=\"https://colab.research.google.com/assets/colab-badge.svg\" alt=\"Open In Colab\"/></a>"
      ]
    },
    {
      "cell_type": "code",
      "metadata": {
        "colab": {
          "base_uri": "https://localhost:8080/"
        },
        "id": "4FXkDTsfNsUS",
        "outputId": "8bffb508-9129-4a9c-cd66-54b861c9a219"
      },
      "source": [
        "#2003 수들의 합 2, 20210630\n",
        "import sys\n",
        "#input = sys.stdin.readline\n",
        "n, m = map(int, input().split())\n",
        "arr = list(map(int, input().split()))\n",
        "start, end = 0, 0\n",
        "sum = arr[0]\n",
        "answer = 0 \n",
        "while 1 :\n",
        "    if sum >= m :\n",
        "        if sum == m : answer += 1\n",
        "        sum -= arr[start]\n",
        "        start += 1\n",
        "    else :\n",
        "        if end == n-1 : break\n",
        "        end += 1\n",
        "        sum += arr[end]\n",
        "print(answer)\n",
        "#30220kb, 72ms"
      ],
      "execution_count": null,
      "outputs": [
        {
          "output_type": "stream",
          "text": [
            "2 3\n",
            "1 2\n",
            "1\n"
          ],
          "name": "stdout"
        }
      ]
    },
    {
      "cell_type": "code",
      "metadata": {
        "id": "TXcLNF1LSF4I"
      },
      "source": [
        "#2003 수들의 합 2 1등 풀이\n",
        "n, m = map(int, input().split())\n",
        "a = list(map(int, input().split()))\n",
        "k, p, c = 0, 0, 0\n",
        "\n",
        "for i in a:\n",
        "    p += i\n",
        "    while p > m:\n",
        "        p -= a[k]\n",
        "        k += 1\n",
        "    c += (p == m)\n",
        "\n",
        "print(c)"
      ],
      "execution_count": null,
      "outputs": []
    },
    {
      "cell_type": "code",
      "metadata": {
        "colab": {
          "base_uri": "https://localhost:8080/"
        },
        "id": "0JZAGOrmSdBk",
        "outputId": "c04bacb4-931e-4dfb-edd1-211a9072eb43"
      },
      "source": [
        "#1806 부분합, 20210630\n",
        "import sys\n",
        "#input = sys.stdin.readline\n",
        "n, m = map(int, input().split())\n",
        "arr = list(map(int, input().split()))\n",
        "start, length = 0, 1\n",
        "sum = arr[0]\n",
        "while sum < m and length < n :\n",
        "    sum += arr[length]\n",
        "    length += 1\n",
        "if sum < m : print(0)\n",
        "else :\n",
        "    while 1 :\n",
        "        sum -= arr[start]\n",
        "        start += 1\n",
        "        if sum >= m :\n",
        "            length -= 1\n",
        "        else :\n",
        "            if start+length == n+1 : break\n",
        "            sum += arr[start+length-1]\n",
        "    print(length)\n",
        "#40236kb, 140ms"
      ],
      "execution_count": null,
      "outputs": [
        {
          "output_type": "stream",
          "text": [
            "3 10\n",
            "2 3 4\n",
            "0\n",
            "3\n"
          ],
          "name": "stdout"
        }
      ]
    },
    {
      "cell_type": "code",
      "metadata": {
        "id": "Ln4VdRUlbiNp"
      },
      "source": [
        "#1806 부분합 1등 풀이\n",
        "from sys import stdin\n",
        "\n",
        "input = stdin.readline\n",
        "\n",
        "def solve():\n",
        "\n",
        "    N, S = map(int, input().split())\n",
        "\n",
        "    arr = list(map(int, input().split()))\n",
        "\n",
        "    inf = float('inf')\n",
        "    left, sum_val, ans= 0, 0, inf\n",
        "\n",
        "    for right in range(N):\n",
        "        sum_val += arr[right]\n",
        "        while sum_val - arr[left] >= S:\n",
        "            sum_val -= arr[left]\n",
        "            left += 1\n",
        "\n",
        "        if sum_val >= S and ans > right - left:\n",
        "            ans = right - left + 1\n",
        "\n",
        "    print(ans if ans != inf else 0)\n",
        "    return\n",
        "\n",
        "solve()"
      ],
      "execution_count": null,
      "outputs": []
    },
    {
      "cell_type": "code",
      "metadata": {
        "id": "kndIQgsU00GN"
      },
      "source": [
        "#2467 용액, 20211124\n",
        "import sys\n",
        "#input = sys.stdin.readline\n",
        "\n",
        "n = int(input())\n",
        "all_nums = list(map(int, input().split()))\n",
        "\n",
        "plus_start = n\n",
        "\n",
        "for idx, num in enumerate(all_nums) :\n",
        "    if num >= 0 :\n",
        "         plus_start = idx\n",
        "         break\n",
        "\n",
        "minus_nums = list(reversed(all_nums[:plus_start]))\n",
        "plus_nums = all_nums[plus_start:]\n",
        "\n",
        "min_diff = 9999999999999999\n",
        "minus_num = 0\n",
        "plus_num = 0\n",
        "\n",
        "minus_idx = 0\n",
        "plus_idx = 0\n",
        "\n",
        "if len(minus_nums) == 0 :\n",
        "    print(plus_nums[0], plus_nums[1])\n",
        "elif len(plus_nums) == 0 :\n",
        "    print(minus_nums[1], minus_nums[0])\n",
        "\n",
        "else : \n",
        "    if len(minus_nums) > 1 :\n",
        "        min_diff = -(minus_nums[1] + minus_nums[0])\n",
        "        minus_num, plus_num = minus_nums[1], minus_nums[0]\n",
        "    if len(plus_nums) > 1 and plus_nums[0] + plus_nums[1] < min_diff :\n",
        "        min_diff = plus_nums[0] + plus_nums[1]\n",
        "        minus_num, plus_num = plus_nums[0], plus_nums[1]\n",
        "    while minus_idx < len(minus_nums) and plus_idx < len(plus_nums) :\n",
        "        minus = minus_nums[minus_idx]\n",
        "        plus = plus_nums[plus_idx]\n",
        "        diff = minus + plus\n",
        "        if abs(diff) < min_diff :\n",
        "            minus_num = minus\n",
        "            plus_num = plus\n",
        "            min_diff = abs(diff)\n",
        "        if diff == 0 :\n",
        "            break\n",
        "        elif diff < 0 :\n",
        "            plus_idx += 1\n",
        "        else :\n",
        "            minus_idx += 1\n",
        "\n",
        "\n",
        "    print(minus_num, plus_num)"
      ],
      "execution_count": null,
      "outputs": []
    },
    {
      "cell_type": "code",
      "metadata": {
        "id": "9D3kdX6DxRjx",
        "colab": {
          "base_uri": "https://localhost:8080/",
          "height": 508
        },
        "outputId": "20da0c3f-dd99-4397-c5fb-f84a13908ee9"
      },
      "source": [
        "#2467 용액, 20211124, 너무 맘에 안들어서 다음에 꼭 다시 풀기...\n",
        "import sys\n",
        "#input = sys.stdin.readline\n",
        "\n",
        "n = int(input())\n",
        "all_nums = list(map(int, input().split()))\n",
        "\n",
        "plus_start = n\n",
        "\n",
        "for idx, num in enumerate(all_nums) :\n",
        "    if num >= 0 :\n",
        "         plus_start = idx\n",
        "         break\n",
        "\n",
        "minus_nums = list(reversed(all_nums[:plus_start]))\n",
        "plus_nums = all_nums[plus_start:]\n",
        "\n",
        "min_diff = 9999999999999999\n",
        "minus_num = 0\n",
        "plus_num = 0\n",
        "\n",
        "minus_idx = 0\n",
        "plus_idx = 0\n",
        "\n",
        "if len(minus_nums) == 0 :\n",
        "    print(plus_nums[0], plus_nums[1])\n",
        "elif len(plus_nums) == 0 :\n",
        "    print(minus_nums[1], minus_nums[0])\n",
        "\n",
        "else : \n",
        "    if len(minus_nums) > 1 :\n",
        "        min_diff = -(minus_nums[1] + minus_nums[0])\n",
        "        minus_num, plus_num = minus_nums[1], minus_nums[0]\n",
        "    if len(plus_nums) > 1 and plus_nums[0] + plus_nums[1] < min_diff :\n",
        "        min_diff = plus_nums[0] + plus_nums[1]\n",
        "        minus_num, plus_num = plus_nums[0], plus_nums[1]\n",
        "    while minus_idx < len(minus_nums) and plus_idx < len(plus_nums) :\n",
        "        minus = minus_nums[minus_idx]\n",
        "        plus = plus_nums[plus_idx]\n",
        "        diff = minus + plus\n",
        "        if abs(diff) < min_diff :\n",
        "            minus_num = minus\n",
        "            plus_num = plus\n",
        "            min_diff = abs(diff)\n",
        "        if diff == 0 :\n",
        "            break\n",
        "        elif diff < 0 :\n",
        "            plus_idx += 1\n",
        "        else :\n",
        "            minus_idx += 1\n",
        "\n",
        "\n",
        "    print(minus_num, plus_num)"
      ],
      "execution_count": null,
      "outputs": [
        {
          "output_type": "error",
          "ename": "KeyboardInterrupt",
          "evalue": "ignored",
          "traceback": [
            "\u001b[0;31m---------------------------------------------------------------------------\u001b[0m",
            "\u001b[0;31mKeyboardInterrupt\u001b[0m                         Traceback (most recent call last)",
            "\u001b[0;32m/usr/local/lib/python3.7/dist-packages/ipykernel/kernelbase.py\u001b[0m in \u001b[0;36m_input_request\u001b[0;34m(self, prompt, ident, parent, password)\u001b[0m\n\u001b[1;32m    728\u001b[0m             \u001b[0;32mtry\u001b[0m\u001b[0;34m:\u001b[0m\u001b[0;34m\u001b[0m\u001b[0;34m\u001b[0m\u001b[0m\n\u001b[0;32m--> 729\u001b[0;31m                 \u001b[0mident\u001b[0m\u001b[0;34m,\u001b[0m \u001b[0mreply\u001b[0m \u001b[0;34m=\u001b[0m \u001b[0mself\u001b[0m\u001b[0;34m.\u001b[0m\u001b[0msession\u001b[0m\u001b[0;34m.\u001b[0m\u001b[0mrecv\u001b[0m\u001b[0;34m(\u001b[0m\u001b[0mself\u001b[0m\u001b[0;34m.\u001b[0m\u001b[0mstdin_socket\u001b[0m\u001b[0;34m,\u001b[0m \u001b[0;36m0\u001b[0m\u001b[0;34m)\u001b[0m\u001b[0;34m\u001b[0m\u001b[0;34m\u001b[0m\u001b[0m\n\u001b[0m\u001b[1;32m    730\u001b[0m             \u001b[0;32mexcept\u001b[0m \u001b[0mException\u001b[0m\u001b[0;34m:\u001b[0m\u001b[0;34m\u001b[0m\u001b[0;34m\u001b[0m\u001b[0m\n",
            "\u001b[0;32m/usr/local/lib/python3.7/dist-packages/jupyter_client/session.py\u001b[0m in \u001b[0;36mrecv\u001b[0;34m(self, socket, mode, content, copy)\u001b[0m\n\u001b[1;32m    802\u001b[0m         \u001b[0;32mtry\u001b[0m\u001b[0;34m:\u001b[0m\u001b[0;34m\u001b[0m\u001b[0;34m\u001b[0m\u001b[0m\n\u001b[0;32m--> 803\u001b[0;31m             \u001b[0mmsg_list\u001b[0m \u001b[0;34m=\u001b[0m \u001b[0msocket\u001b[0m\u001b[0;34m.\u001b[0m\u001b[0mrecv_multipart\u001b[0m\u001b[0;34m(\u001b[0m\u001b[0mmode\u001b[0m\u001b[0;34m,\u001b[0m \u001b[0mcopy\u001b[0m\u001b[0;34m=\u001b[0m\u001b[0mcopy\u001b[0m\u001b[0;34m)\u001b[0m\u001b[0;34m\u001b[0m\u001b[0;34m\u001b[0m\u001b[0m\n\u001b[0m\u001b[1;32m    804\u001b[0m         \u001b[0;32mexcept\u001b[0m \u001b[0mzmq\u001b[0m\u001b[0;34m.\u001b[0m\u001b[0mZMQError\u001b[0m \u001b[0;32mas\u001b[0m \u001b[0me\u001b[0m\u001b[0;34m:\u001b[0m\u001b[0;34m\u001b[0m\u001b[0;34m\u001b[0m\u001b[0m\n",
            "\u001b[0;32m/usr/local/lib/python3.7/dist-packages/zmq/sugar/socket.py\u001b[0m in \u001b[0;36mrecv_multipart\u001b[0;34m(self, flags, copy, track)\u001b[0m\n\u001b[1;32m    624\u001b[0m         \"\"\"\n\u001b[0;32m--> 625\u001b[0;31m         \u001b[0mparts\u001b[0m \u001b[0;34m=\u001b[0m \u001b[0;34m[\u001b[0m\u001b[0mself\u001b[0m\u001b[0;34m.\u001b[0m\u001b[0mrecv\u001b[0m\u001b[0;34m(\u001b[0m\u001b[0mflags\u001b[0m\u001b[0;34m,\u001b[0m \u001b[0mcopy\u001b[0m\u001b[0;34m=\u001b[0m\u001b[0mcopy\u001b[0m\u001b[0;34m,\u001b[0m \u001b[0mtrack\u001b[0m\u001b[0;34m=\u001b[0m\u001b[0mtrack\u001b[0m\u001b[0;34m)\u001b[0m\u001b[0;34m]\u001b[0m\u001b[0;34m\u001b[0m\u001b[0;34m\u001b[0m\u001b[0m\n\u001b[0m\u001b[1;32m    626\u001b[0m         \u001b[0;31m# have first part already, only loop while more to receive\u001b[0m\u001b[0;34m\u001b[0m\u001b[0;34m\u001b[0m\u001b[0;34m\u001b[0m\u001b[0m\n",
            "\u001b[0;32mzmq/backend/cython/socket.pyx\u001b[0m in \u001b[0;36mzmq.backend.cython.socket.Socket.recv\u001b[0;34m()\u001b[0m\n",
            "\u001b[0;32mzmq/backend/cython/socket.pyx\u001b[0m in \u001b[0;36mzmq.backend.cython.socket.Socket.recv\u001b[0;34m()\u001b[0m\n",
            "\u001b[0;32mzmq/backend/cython/socket.pyx\u001b[0m in \u001b[0;36mzmq.backend.cython.socket._recv_copy\u001b[0;34m()\u001b[0m\n",
            "\u001b[0;32m/usr/local/lib/python3.7/dist-packages/zmq/backend/cython/checkrc.pxd\u001b[0m in \u001b[0;36mzmq.backend.cython.checkrc._check_rc\u001b[0;34m()\u001b[0m\n",
            "\u001b[0;31mKeyboardInterrupt\u001b[0m: ",
            "\nDuring handling of the above exception, another exception occurred:\n",
            "\u001b[0;31mKeyboardInterrupt\u001b[0m                         Traceback (most recent call last)",
            "\u001b[0;32m<ipython-input-12-16de1d8af261>\u001b[0m in \u001b[0;36m<module>\u001b[0;34m()\u001b[0m\n\u001b[1;32m      3\u001b[0m \u001b[0;31m#input = sys.stdin.readline\u001b[0m\u001b[0;34m\u001b[0m\u001b[0;34m\u001b[0m\u001b[0;34m\u001b[0m\u001b[0m\n\u001b[1;32m      4\u001b[0m \u001b[0;34m\u001b[0m\u001b[0m\n\u001b[0;32m----> 5\u001b[0;31m \u001b[0mn\u001b[0m \u001b[0;34m=\u001b[0m \u001b[0mint\u001b[0m\u001b[0;34m(\u001b[0m\u001b[0minput\u001b[0m\u001b[0;34m(\u001b[0m\u001b[0;34m)\u001b[0m\u001b[0;34m)\u001b[0m\u001b[0;34m\u001b[0m\u001b[0;34m\u001b[0m\u001b[0m\n\u001b[0m\u001b[1;32m      6\u001b[0m \u001b[0mall_nums\u001b[0m \u001b[0;34m=\u001b[0m \u001b[0mlist\u001b[0m\u001b[0;34m(\u001b[0m\u001b[0mmap\u001b[0m\u001b[0;34m(\u001b[0m\u001b[0mint\u001b[0m\u001b[0;34m,\u001b[0m \u001b[0minput\u001b[0m\u001b[0;34m(\u001b[0m\u001b[0;34m)\u001b[0m\u001b[0;34m.\u001b[0m\u001b[0msplit\u001b[0m\u001b[0;34m(\u001b[0m\u001b[0;34m)\u001b[0m\u001b[0;34m)\u001b[0m\u001b[0;34m)\u001b[0m\u001b[0;34m\u001b[0m\u001b[0;34m\u001b[0m\u001b[0m\n\u001b[1;32m      7\u001b[0m \u001b[0;34m\u001b[0m\u001b[0m\n",
            "\u001b[0;32m/usr/local/lib/python3.7/dist-packages/ipykernel/kernelbase.py\u001b[0m in \u001b[0;36mraw_input\u001b[0;34m(self, prompt)\u001b[0m\n\u001b[1;32m    702\u001b[0m             \u001b[0mself\u001b[0m\u001b[0;34m.\u001b[0m\u001b[0m_parent_ident\u001b[0m\u001b[0;34m,\u001b[0m\u001b[0;34m\u001b[0m\u001b[0;34m\u001b[0m\u001b[0m\n\u001b[1;32m    703\u001b[0m             \u001b[0mself\u001b[0m\u001b[0;34m.\u001b[0m\u001b[0m_parent_header\u001b[0m\u001b[0;34m,\u001b[0m\u001b[0;34m\u001b[0m\u001b[0;34m\u001b[0m\u001b[0m\n\u001b[0;32m--> 704\u001b[0;31m             \u001b[0mpassword\u001b[0m\u001b[0;34m=\u001b[0m\u001b[0;32mFalse\u001b[0m\u001b[0;34m,\u001b[0m\u001b[0;34m\u001b[0m\u001b[0;34m\u001b[0m\u001b[0m\n\u001b[0m\u001b[1;32m    705\u001b[0m         )\n\u001b[1;32m    706\u001b[0m \u001b[0;34m\u001b[0m\u001b[0m\n",
            "\u001b[0;32m/usr/local/lib/python3.7/dist-packages/ipykernel/kernelbase.py\u001b[0m in \u001b[0;36m_input_request\u001b[0;34m(self, prompt, ident, parent, password)\u001b[0m\n\u001b[1;32m    732\u001b[0m             \u001b[0;32mexcept\u001b[0m \u001b[0mKeyboardInterrupt\u001b[0m\u001b[0;34m:\u001b[0m\u001b[0;34m\u001b[0m\u001b[0;34m\u001b[0m\u001b[0m\n\u001b[1;32m    733\u001b[0m                 \u001b[0;31m# re-raise KeyboardInterrupt, to truncate traceback\u001b[0m\u001b[0;34m\u001b[0m\u001b[0;34m\u001b[0m\u001b[0;34m\u001b[0m\u001b[0m\n\u001b[0;32m--> 734\u001b[0;31m                 \u001b[0;32mraise\u001b[0m \u001b[0mKeyboardInterrupt\u001b[0m\u001b[0;34m\u001b[0m\u001b[0;34m\u001b[0m\u001b[0m\n\u001b[0m\u001b[1;32m    735\u001b[0m             \u001b[0;32melse\u001b[0m\u001b[0;34m:\u001b[0m\u001b[0;34m\u001b[0m\u001b[0;34m\u001b[0m\u001b[0m\n\u001b[1;32m    736\u001b[0m                 \u001b[0;32mbreak\u001b[0m\u001b[0;34m\u001b[0m\u001b[0;34m\u001b[0m\u001b[0m\n",
            "\u001b[0;31mKeyboardInterrupt\u001b[0m: "
          ]
        }
      ]
    },
    {
      "cell_type": "code",
      "metadata": {
        "colab": {
          "base_uri": "https://localhost:8080/"
        },
        "id": "JhkHme1I6Ttk",
        "outputId": "1d795f30-e050-462f-f001-8007d16e3ece"
      },
      "source": [
        "#세 용액 20211128, 메모리 에러 + 논리도 맞지 않았음\n",
        "import sys\n",
        "#input = sys.stdin.readline\n",
        "\n",
        "n = int(input())\n",
        "all_nums = sorted(list(map(int, input().split())))\n",
        "\n",
        "double_mixed = [(i,j) for i in range(n) for j in range(i+1, n)]\n",
        "\n",
        "\n",
        "i = 0\n",
        "j = 0\n",
        "min = 999999999999999\n",
        "answer = []\n",
        "\n",
        "while i < n and j < n*(n-1)//2 :\n",
        "    origin = all_nums[i]\n",
        "    mixed = all_nums[double_mixed[j][0]] + all_nums[double_mixed[j][1]]\n",
        "    if i in double_mixed[j] :\n",
        "        j += 1\n",
        "        continue\n",
        "    sum = origin + mixed\n",
        "    if abs(sum) < min :\n",
        "        min = abs(sum)\n",
        "        answer = [origin, all_nums[double_mixed[j][0]], all_nums[double_mixed[j][1]]]\n",
        "    print(i, j, [origin, all_nums[double_mixed[j][0]], all_nums[double_mixed[j][1]]])\n",
        "    if sum <= 0 :\n",
        "        i += 1\n",
        "    else :\n",
        "        j += 1\n",
        "\n",
        "print(answer[0], answer[1], answer[2])"
      ],
      "execution_count": 24,
      "outputs": [
        {
          "output_type": "stream",
          "name": "stdout",
          "text": [
            "5\n",
            "-2 6 -97 -6 98\n",
            "0 4 [-97, -6, -2]\n",
            "1 7 [-6, -2, 6]\n",
            "2 9 [-2, 6, 98]\n",
            "-6 -2 6\n"
          ]
        }
      ]
    },
    {
      "cell_type": "code",
      "source": [
        "#2473 세 용액, 20220523, 고민에 비해 간단한 문제였다..\n",
        "import sys\n",
        "#input = sys.stdin.readline\n",
        "\n",
        "n = int(input())\n",
        "all_nums = sorted(list(map(int, input().split())))\n",
        "min = 999999999999999\n",
        "\n",
        "for i in range(0, n-2):\n",
        "    j = i+1\n",
        "    k = n-1\n",
        "    first = all_nums[i]\n",
        "    while j < k:\n",
        "        sum = first + all_nums[j] + all_nums[k]\n",
        "        if abs(sum) < min :\n",
        "            min = abs(sum)\n",
        "            answer = [first, all_nums[j], all_nums[k]]\n",
        "        if sum < 0: j+=1\n",
        "        else: k-=1\n",
        "    if first>=0: break\n",
        "\n",
        "print(answer[0], answer[1], answer[2])\n",
        "#30840kb,\t4680ms"
      ],
      "metadata": {
        "colab": {
          "base_uri": "https://localhost:8080/"
        },
        "id": "uyhMiuBQ8utH",
        "outputId": "a716736a-c2d8-4e5b-e528-fa8494ca81fe"
      },
      "execution_count": 35,
      "outputs": [
        {
          "output_type": "stream",
          "name": "stdout",
          "text": [
            "7\n",
            "-2 -3 -24 -6 98 100 61\n",
            "-6 -3 -2\n"
          ]
        }
      ]
    },
    {
      "cell_type": "code",
      "source": [
        ""
      ],
      "metadata": {
        "id": "KWGgOBMlSKel"
      },
      "execution_count": 33,
      "outputs": []
    }
  ]
}