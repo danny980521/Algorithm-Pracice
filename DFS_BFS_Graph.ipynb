{
  "nbformat": 4,
  "nbformat_minor": 0,
  "metadata": {
    "colab": {
      "name": "DFS_BFS_Graph.ipynb",
      "provenance": [],
      "collapsed_sections": [],
      "authorship_tag": "ABX9TyOfiHD7Hn9yC+tF7mD3PGSf",
      "include_colab_link": true
    },
    "kernelspec": {
      "name": "python3",
      "display_name": "Python 3"
    },
    "language_info": {
      "name": "python"
    }
  },
  "cells": [
    {
      "cell_type": "markdown",
      "metadata": {
        "id": "view-in-github",
        "colab_type": "text"
      },
      "source": [
        "<a href=\"https://colab.research.google.com/github/danny980521/Algorithm-Pracice/blob/main/DFS_BFS_Graph.ipynb\" target=\"_parent\"><img src=\"https://colab.research.google.com/assets/colab-badge.svg\" alt=\"Open In Colab\"/></a>"
      ]
    },
    {
      "cell_type": "code",
      "metadata": {
        "colab": {
          "base_uri": "https://localhost:8080/"
        },
        "id": "FCtmau9P6g13",
        "outputId": "e5483352-a2ff-41be-a31c-a1f84ad21a7d"
      },
      "source": [
        "#2606 바이러스, 20210615\n",
        "n = int(input())\n",
        "m = int(input())\n",
        "#graph 완성하기\n",
        "graph = dict()\n",
        "for i in range(m) :\n",
        "    a, b = map(int, input().split())\n",
        "    if a in graph :\n",
        "        graph[a].append(b)\n",
        "    else : graph[a] = [b]\n",
        "    if b in graph :\n",
        "        graph[b].append(a)\n",
        "    else : graph[b] = [a]\n",
        "\n",
        "#1과 연결된 것들의 개수 찾기\n",
        "remember = [1]\n",
        "tofind = graph[1]\n",
        "answer = 0\n",
        "while tofind :\n",
        "    a = tofind.pop()\n",
        "    if a not in remember :\n",
        "        remember.append(a)\n",
        "        tofind.extend(graph[a])\n",
        "        answer += 1\n",
        "print(answer)\n",
        "#29200kb, 68ms"
      ],
      "execution_count": null,
      "outputs": [
        {
          "output_type": "stream",
          "text": [
            "7\n",
            "6\n",
            "1 2\n",
            "2 3\n",
            "1 5\n",
            "5 2\n",
            "5 6\n",
            "4 7\n",
            "4\n"
          ],
          "name": "stdout"
        }
      ]
    },
    {
      "cell_type": "code",
      "metadata": {
        "id": "T-TD5VQiHDox"
      },
      "source": [
        "#2606 바이러스 우수 코드\n",
        "from sys import stdin\n",
        "read = stdin.readline\n",
        "dic={}\n",
        "for i in range(1, int(read())):\n",
        "    dic[i+1] = set() #dic의 0부터 i까지를 빈 set으로 선언.\n",
        "for j in range(int(read())):\n",
        "    a, b = map(int,read().split())\n",
        "    dic[a].add(b)\n",
        "    dic[b].add(a)\n",
        "\n",
        "def dfs(start, dic): #dfs를 재귀함수로 구현.\n",
        "    for i in dic[start]:\n",
        "        if i not in visited:\n",
        "            visited.append(i)\n",
        "            dfs(i, dic)\n",
        "\n",
        "def bfs(start, dic): #위의 내 풀이방식과 비슷하다.\n",
        "    queue = [start]\n",
        "    while queue:\n",
        "        for i in dic[queue.pop()]: #난 생각없이 pop한거 일단 다 쑤셔넣었는데 얘는 선별해서 넣었다. 이게 더 나은듯.\n",
        "            if i not in visited:\n",
        "                visited.append(i)\n",
        "                queue.append(i)\n",
        "visited = []\n",
        "dfs(1, dic) #bfs(1, dic)를 해도 정답.\n",
        "print(len(visited)-1) #따로 변수로 셀 필요 없이 방문한 곳의 개수만 알면 됨."
      ],
      "execution_count": null,
      "outputs": []
    },
    {
      "cell_type": "code",
      "metadata": {
        "colab": {
          "base_uri": "https://localhost:8080/"
        },
        "id": "7VbAHmf8L9Xo",
        "outputId": "9d9fe051-2df9-416b-b05f-48875406ee68"
      },
      "source": [
        "#1260 DFS와 BFS, 20210615\n",
        "n, m, v = map(int, input().split())\n",
        "v = str(v)\n",
        "#graph 그리기\n",
        "graph = dict()\n",
        "for i in range(m) :\n",
        "    a, b = input().split()\n",
        "    try :\n",
        "        graph[a].add(b)\n",
        "    except : graph[a] = {b}\n",
        "    try :\n",
        "        graph[b].add(a)\n",
        "    except : graph[b] = {a}\n",
        "\n",
        "#dfs\n",
        "def dfs(v, graph) :\n",
        "    if v not in graph : return 0\n",
        "    for i in sorted(graph[v], key = lambda x : (len(x), x)) :\n",
        "        if i not in visited :\n",
        "            visited.append(i)\n",
        "            dfs(i, graph)\n",
        "#bfs\n",
        "def bfs(v, graph) :\n",
        "    if v not in graph : return 0\n",
        "    tofind = [v]\n",
        "    while tofind :\n",
        "      for i in sorted(graph[tofind.pop(0)], key = lambda x : (len(x), x)) :\n",
        "          if i not in visited :\n",
        "              visited.append(i)\n",
        "              tofind.append(i)\n",
        "#실행\n",
        "visited = [v]\n",
        "dfs(v, graph)\n",
        "print(' '.join(visited))\n",
        "visited = [v] \n",
        "bfs(v, graph)\n",
        "print(' '.join(visited))\n",
        "#32508kb, 828ms"
      ],
      "execution_count": null,
      "outputs": [
        {
          "output_type": "stream",
          "text": [
            "1000 1 1\n",
            "999 1000\n",
            "1\n",
            "1\n"
          ],
          "name": "stdout"
        }
      ]
    },
    {
      "cell_type": "code",
      "metadata": {
        "id": "mYwzQB85lZVI"
      },
      "source": [
        "#1260 DFS와 BFS 1등 코드, 앞으로 이 방법으로 가보자.\n",
        "import sys\n",
        "N, M, V = map(int, sys.stdin.readline().strip().split())\n",
        "edge = [[] for _ in range(N+1)]\n",
        "\n",
        "for __ in range(M):\n",
        "    n1, n2 = map(int, sys.stdin.readline().strip().split())\n",
        "    edge[n1].append(n2)\n",
        "    edge[n2].append(n1)\n",
        "\n",
        "for e in edge:\n",
        "    e.sort(reverse=True)\n",
        "\n",
        "def dfs():\n",
        "    d_visit = []\n",
        "    stack = [V]\n",
        "    d_check = [0 for _ in range(N+1)]\n",
        "    while stack:\n",
        "        v1 = stack.pop()\n",
        "        if not d_check[v1]:\n",
        "            d_check[v1] = 1\n",
        "            d_visit.append(v1)\n",
        "            stack += edge[v1]\n",
        "    return d_visit\n",
        "\n",
        "\n",
        "def bfs():\n",
        "    b_visit = []\n",
        "    queue = [V]\n",
        "    b_check = [0 for _ in range(N+1)]\n",
        "    b_check[V] = 1\n",
        "    while queue:\n",
        "        v2 = queue.pop()\n",
        "        b_visit.append(v2)\n",
        "        for i in reversed(edge[v2]):\n",
        "            if not b_check[i]:\n",
        "                b_check[i] = 1\n",
        "                queue = [i] + queue\n",
        "    return b_visit\n",
        "\n",
        "print(' '.join(map(str,dfs())))\n",
        "print(' '.join(map(str,bfs())))"
      ],
      "execution_count": null,
      "outputs": []
    },
    {
      "cell_type": "code",
      "metadata": {
        "colab": {
          "base_uri": "https://localhost:8080/"
        },
        "id": "sChsS7L9n8lz",
        "outputId": "5222b442-b574-4967-cb09-9a29171c3927"
      },
      "source": [
        "#11724 연결 요소의 개수, 20210615\n",
        "import sys #밑의 두 코드 없으면 recursion에러, 시간초과\n",
        "sys.setrecursionlimit(10**6)\n",
        "input = sys.stdin.readline\n",
        "\n",
        "n, m = map(int, input().split())\n",
        "edge = [[] for i in range(n+1)]\n",
        "for i in range(m) :\n",
        "    a, b = map(int, input().split())\n",
        "    edge[a].append(b)\n",
        "    edge[b].append(a)\n",
        "\n",
        "def dfs(start) : \n",
        "    d_check[start] = 1\n",
        "    for i in edge[start] :\n",
        "        if not d_check[i] :\n",
        "            dfs(i)\n",
        "\n",
        "d_check = [0 for i in range(n+1)]\n",
        "answer = 0\n",
        "start = 1\n",
        "while sum(d_check) < n :\n",
        "    for i in range(start, n+1) :\n",
        "        if not d_check[i] : \n",
        "            dfs(i)\n",
        "            answer += 1\n",
        "            start = i+1\n",
        "            break\n",
        "print(answer)\n",
        "#63788kb, 800ms"
      ],
      "execution_count": null,
      "outputs": [
        {
          "output_type": "stream",
          "text": [
            "3 2\n",
            "3 1\n",
            "2 1\n",
            "1\n"
          ],
          "name": "stdout"
        }
      ]
    },
    {
      "cell_type": "code",
      "metadata": {
        "colab": {
          "base_uri": "https://localhost:8080/"
        },
        "id": "KxQGaSuK7cs5",
        "outputId": "bd9c25de-a83a-410f-ca8c-11e33cb30dab"
      },
      "source": [
        "#1012 유기농 배추, 20210615\n",
        "#import sys\n",
        "#sys.setrecursionlimit(10**6)\n",
        "#input = sys.stdin.readline\n",
        "\n",
        "def dfs(i,j) :\n",
        "    edge[i][j] = 0\n",
        "    if i + 1 < n and edge[i+1][j] == 1 :\n",
        "        dfs(i+1,j)\n",
        "    if i > 0 and edge[i-1][j] == 1 :\n",
        "        dfs(i-1,j)\n",
        "    if j + 1 < m and edge[i][j+1] == 1 :\n",
        "        dfs(i,j+1)\n",
        "    if j > 0 and edge[i][j-1] == 1 :\n",
        "        dfs(i,j-1)\n",
        "\n",
        "t = int(input())\n",
        "for _ in range(t) :\n",
        "    m,n,k = map(int, input().split())\n",
        "    edge = [[0] * m for _ in range(n)]\n",
        "    for __ in range(k) :\n",
        "        a, b = map(int, input().split())\n",
        "        edge[b][a] = 1\n",
        "\n",
        "    answer = 0\n",
        "    for i in range(n) :\n",
        "        for j in range(m) :\n",
        "            if edge[i][j] :\n",
        "                answer += 1\n",
        "                dfs(i,j)\n",
        "    print(answer)\n",
        "#31032kb, 80ms"
      ],
      "execution_count": null,
      "outputs": [
        {
          "output_type": "stream",
          "text": [
            "1\n",
            "5 3 6\n",
            "0 2\n",
            "1 2\n",
            "2 2\n",
            "3 2\n",
            "4 2\n",
            "4 0\n",
            "2\n"
          ],
          "name": "stdout"
        }
      ]
    },
    {
      "cell_type": "code",
      "metadata": {
        "colab": {
          "base_uri": "https://localhost:8080/"
        },
        "id": "C9rAuySdOo2W",
        "outputId": "05ce04c4-5fce-4e88-9dde-643b3fb14c62"
      },
      "source": [
        "#2667 단지번호붙이기, 20210615\n",
        "#import sys\n",
        "#sys.setrecursionlimit(10**6)\n",
        "#input = sys.stdin.readline\n",
        "\n",
        "def dfs(i,j) :\n",
        "    edge[i][j] = 0\n",
        "    arr[-1] += 1\n",
        "    if i + 1 < n and edge[i+1][j] == 1 :\n",
        "        dfs(i+1,j)\n",
        "    if i > 0 and edge[i-1][j] == 1 :\n",
        "        dfs(i-1,j)\n",
        "    if j + 1 < n and edge[i][j+1] == 1 :\n",
        "        dfs(i,j+1)\n",
        "    if j > 0 and edge[i][j-1] == 1 :\n",
        "        dfs(i,j-1)\n",
        "\n",
        "n = int(input())\n",
        "edge = [[int(i) for i in input().rstrip()] for _ in range(n)]\n",
        "\n",
        "answer = 0\n",
        "arr = []\n",
        "for i in range(n) :\n",
        "    for j in range(n) :\n",
        "        if edge[i][j] :\n",
        "            arr.append(0)\n",
        "            answer += 1\n",
        "            dfs(i,j)\n",
        "print(answer)\n",
        "print('\\n'.join(map(str, sorted(arr))))\n",
        "#29564kb, 72ms"
      ],
      "execution_count": null,
      "outputs": [
        {
          "output_type": "stream",
          "text": [
            "7\n",
            "0110100\n",
            "0110101\n",
            "1110101\n",
            "0000111\n",
            "0100000\n",
            "0111110\n",
            "0111000\n",
            "3\n",
            "7\n",
            "8\n",
            "9\n"
          ],
          "name": "stdout"
        }
      ]
    },
    {
      "cell_type": "code",
      "metadata": {
        "id": "6Y_zfGQtkii4"
      },
      "source": [
        "#프로그래머스 게임 맵 최단거리, 20210615\n",
        "from collections import deque\n",
        "def solution(maps) :\n",
        "    m = len(maps)\n",
        "    n = len(maps[0])\n",
        "    position = deque()\n",
        "    position.append((0,0,1))\n",
        "    maps[0][0] = 0\n",
        "    while position :\n",
        "        a, b, c = position.popleft()\n",
        "        if a == m-1 and b == n-1 : return c\n",
        "        if b < n-1 and maps[a][b+1] == 1 :\n",
        "            position.append((a, b+1, c+1))\n",
        "            maps[a][b+1] = 0\n",
        "        if a < m-1 and maps[a+1][b] == 1 :\n",
        "            position.append((a+1, b, c+1))\n",
        "            maps[a+1][b] = 0\n",
        "        if a > 0 and maps[a-1][b] == 1 :\n",
        "            position.append((a-1, b, c+1))\n",
        "            maps[a-1][b] = 0\n",
        "        if b > 0 and maps[a][b-1] == 1 :\n",
        "            position.append((a, b-1, c+1))\n",
        "            maps[a][b-1] = 0\n",
        "    return -1"
      ],
      "execution_count": null,
      "outputs": []
    },
    {
      "cell_type": "code",
      "metadata": {
        "colab": {
          "base_uri": "https://localhost:8080/"
        },
        "id": "PjWRU27Jkc0u",
        "outputId": "23a35446-7491-4dc2-9146-d47c7ce9ea21"
      },
      "source": [
        "#2178 미로 탐색, 20210615\n",
        "#import sys\n",
        "#sys.setrecursionlimit(10**6)\n",
        "#input = sys.stdin.readline\n",
        "n,m = map(int, input().split())\n",
        "maps = [[int(i) for i in input().rstrip()] for _ in range(n)]\n",
        "print(solution(maps))\n",
        "#32124kb, 104ms"
      ],
      "execution_count": null,
      "outputs": [
        {
          "output_type": "stream",
          "text": [
            "4 6\n",
            "101111\n",
            "101010\n",
            "101011\n",
            "111011\n",
            "15\n"
          ],
          "name": "stdout"
        }
      ]
    },
    {
      "cell_type": "code",
      "metadata": {
        "id": "nRz4YtH5fTAd"
      },
      "source": [
        "#2178 미로 탐색 우수 풀이, nx, ny쓰는거 기억해두자.\n",
        "from sys import stdin\n",
        "N, M = map(int, stdin.readline().split())\n",
        "# matrix 배열\n",
        "matrix = [stdin.readline().rstrip() for _ in range(N)]\n",
        "# 방문경로 배열\n",
        "visited = [[0]*M for _ in range(N)]\n",
        "# 좌/우/위/아래 방향 이동\n",
        "dx, dy = [-1, 1, 0, 0], [0, 0, -1, 1]\n",
        "\n",
        "# BFS 경로 탐색\n",
        "# queue 방식 사용\n",
        "queue = [(0,0)]\n",
        "visited[0][0] = 1\n",
        "\n",
        "while queue:\n",
        "    x, y = queue.pop(0)\n",
        "\n",
        "    if x == N-1 and y == M-1:\n",
        "        # 최종 경로 도착\n",
        "        print(visited[x][y])\n",
        "        break\n",
        "\n",
        "    for i in range(4):\n",
        "        nx = x + dx[i]\n",
        "        ny = y + dy[i]\n",
        "        if 0 <= nx < N and 0 <= ny < M:\n",
        "            if visited[nx][ny] == 0 and matrix[nx][ny] == '1':\n",
        "                visited[nx][ny] = visited[x][y] + 1 \n",
        "                queue.append((nx,ny))"
      ],
      "execution_count": null,
      "outputs": []
    },
    {
      "cell_type": "code",
      "metadata": {
        "id": "eRL78VTrpH97"
      },
      "source": [
        "#프로그래머스 네트위크, 20210616\n",
        "def solution(n, computers):\n",
        "    answer = 0\n",
        "    for i in range(n) :\n",
        "        computers[i][i] = 0\n",
        "        if not sum(computers[i]) : answer += 1\n",
        "    \n",
        "    for i in range(n) :\n",
        "        if sum(computers[i]) :\n",
        "            answer += 1\n",
        "            check = [i]\n",
        "            while check :\n",
        "                a = check.pop()\n",
        "                for j in range(n) :\n",
        "                    if computers[a][j] :\n",
        "                        computers[a][j] = 0\n",
        "                        computers[j][a] = 0\n",
        "                        check.append(j)\n",
        "    return answer"
      ],
      "execution_count": null,
      "outputs": []
    },
    {
      "cell_type": "code",
      "metadata": {
        "id": "GVe95ecA4W5e"
      },
      "source": [
        "#프로그래머스 네트위크 우수풀이\n",
        "def solution(n, computers):\n",
        "    temp = []\n",
        "    for i in range(n):\n",
        "        temp.append(i)\n",
        "    for i in range(n):\n",
        "        for j in range(n):\n",
        "            if computers[i][j]:\n",
        "                for k in range(n):\n",
        "                    if temp[k] == temp[i]:\n",
        "                        temp[k] = temp[j]\n",
        "    return len(set(temp))\n"
      ],
      "execution_count": null,
      "outputs": []
    },
    {
      "cell_type": "code",
      "metadata": {
        "colab": {
          "base_uri": "https://localhost:8080/"
        },
        "id": "Eixm1-rDimCa",
        "outputId": "671d075e-4510-47f7-f621-c6551d19fdd4"
      },
      "source": [
        "#1697 숨바꼭질, 20210619\n",
        "#bfs가 좋겠다.\n",
        "from collections import deque \n",
        "\n",
        "def findbro(n, k) :\n",
        "    if n >= k : return n-k\n",
        "    queue = deque()\n",
        "    queue.append(n)\n",
        "    visited = {n}\n",
        "    cnt = 0\n",
        "    max = 100000\n",
        "    while cnt < max :\n",
        "        sec = len(queue)\n",
        "        for i in range(sec) :\n",
        "            cur = queue.popleft()\n",
        "            if cur > k :\n",
        "                max = min(max, cnt+cur-k)\n",
        "                continue\n",
        "            if cur <= 1 : \n",
        "                new = {cur+1} - visited\n",
        "            else : new = {cur+1, cur-1, cur*2} - visited\n",
        "            for j in new :\n",
        "                if j == k : return cnt+1\n",
        "            queue.extend(new)\n",
        "            visited |= new\n",
        "        cnt += 1\n",
        "    return cnt\n",
        "\n",
        "n, k = map(int, input().split())\n",
        "print(findbro(n, k))\n",
        "#40348kb, 148ms"
      ],
      "execution_count": null,
      "outputs": [
        {
          "output_type": "stream",
          "text": [
            "0 5\n",
            "4\n"
          ],
          "name": "stdout"
        }
      ]
    },
    {
      "cell_type": "code",
      "metadata": {
        "id": "PVmGdS5JEjBB"
      },
      "source": [
        "#1697 숨바꼭질 우수풀이. 끝내준다..\n",
        "def c(n,k):\n",
        "    if n>=k:\n",
        "        return n-k\n",
        "    elif k == 1:\n",
        "        return 1\n",
        "    elif k%2:\n",
        "        return 1+min(c(n,k-1),c(n,k+1))\n",
        "    else:\n",
        "        return min(k-n, 1+c(n,k//2))\n",
        "    \n",
        "n, k = map(int,input().split())\n",
        "print(c(n,k))"
      ],
      "execution_count": null,
      "outputs": []
    },
    {
      "cell_type": "code",
      "metadata": {
        "id": "AFelGcsQLqag"
      },
      "source": [
        "#4963 섬의 개수, 20210619\n",
        "#import sys\n",
        "#sys.setrecursionlimit(10**6)\n",
        "#input = sys.stdin.readline\n",
        "def dfs(i, j) :\n",
        "    graph[i][j] = 0\n",
        "    dx = [-1,1,0,0,-1,1,-1,1]\n",
        "    dy = [0,0,1,-1,-1,1,1,-1]\n",
        "    for k in range(8) :\n",
        "        nx, ny = i+dx[k], j+dy[k]\n",
        "        if 0<=nx<h and 0<=ny<w and graph[nx][ny] :\n",
        "            dfs(nx,ny)\n",
        "while 1 :\n",
        "    w, h = map(int,input().split())\n",
        "    if w == 0 : break \n",
        "    cnt = 0\n",
        "    graph = []\n",
        "    for i in range(h) :\n",
        "        graph.append(list(map(int,input().split())))\n",
        "    \n",
        "    for i in range(h) :\n",
        "        for j in range(w) :\n",
        "            if graph[i][j] :\n",
        "                cnt += 1\n",
        "                dfs(i,j)\n",
        "    print(cnt)\n",
        "#31744kb, 88ms"
      ],
      "execution_count": null,
      "outputs": []
    },
    {
      "cell_type": "code",
      "metadata": {
        "colab": {
          "base_uri": "https://localhost:8080/"
        },
        "id": "51Htu6ANaaUf",
        "outputId": "1e392c3f-1600-4754-f68e-d1161b8a7b33"
      },
      "source": [
        "#7562 나이트의 이동, 20210619\n",
        "#import sys\n",
        "#sys.setrecursionlimit(10**6)\n",
        "#input = sys.stdin.readline\n",
        "from collections import deque\n",
        "\n",
        "def bfs() :\n",
        "    n = int(input())\n",
        "    a, b = map(int,input().split())\n",
        "    c, d = map(int,input().split())\n",
        "    if a == c and b == d : return 0\n",
        "    graph = [[1]*n for i in range(n)]\n",
        "    cnt = 1\n",
        "    togo = deque()\n",
        "    togo.append((a,b))\n",
        "    graph[a][b] = 0\n",
        "    while 1 :\n",
        "        for _ in range(len(togo)) :\n",
        "            x, y = togo.popleft()\n",
        "            dx = [-2,-2,-1,-1,1,1,2,2]\n",
        "            dy = [-1,1,-2,2,-2,2,-1,1]\n",
        "            for i in range(8) :\n",
        "                nx, ny = x+dx[i], y+dy[i]\n",
        "                if 0<=nx<n and 0<=ny<n and graph[nx][ny] :\n",
        "                    if nx == c and ny == d : return cnt\n",
        "                    togo.append((nx,ny))\n",
        "                    graph[nx][ny] = 0\n",
        "        cnt += 1\n",
        "\n",
        "for i in range(int(input())) : print(bfs())\n",
        "#31924kb, 2332ms"
      ],
      "execution_count": null,
      "outputs": [
        {
          "output_type": "stream",
          "text": [
            "3\n",
            "8\n",
            "0 0\n",
            "7 0\n",
            "5\n",
            "100\n",
            "0 0\n",
            "30 50\n",
            "28\n",
            "10\n",
            "1 1\n",
            "1 1\n",
            "0\n"
          ],
          "name": "stdout"
        }
      ]
    },
    {
      "cell_type": "code",
      "metadata": {
        "id": "gkRyfEhaj87E"
      },
      "source": [
        "#7562 나이트의 이동 1등 툴이, x와 y중 하나가 5이상일때는 직빵으로 달려오는게 포인트다. 대단하다...\n",
        "import sys\n",
        "input = sys.stdin.readline\n",
        "\n",
        "\n",
        "dx = [-2, -2, -1, -1, 1, 1, 2, 2]\n",
        "dy = [-1, 1, -2, 2, -2, 2, -1, 1]\n",
        "\n",
        "def bfs_bound(bd, start, end):\n",
        "    if start == end:\n",
        "        return 0\n",
        "    que = [start]\n",
        "    visited = {start}\n",
        "    m = 1\n",
        "    while True:\n",
        "        new_que = []\n",
        "        for x, y in que:\n",
        "            for i, j in zip(dx, dy):\n",
        "                nx, ny = x+i, y+j\n",
        "                if 0 <= nx < bd and 0 <= ny < bd:\n",
        "                    new = nx, ny\n",
        "                    if new not in visited:\n",
        "                        visited.add(new)\n",
        "                        new_que.append(new)\n",
        "        if end in visited:\n",
        "            return m\n",
        "        m += 1\n",
        "        que = new_que\n",
        "\n",
        "def bfs(p):\n",
        "    if p == (0, 0):\n",
        "        return 0\n",
        "    start = (0, 0)\n",
        "    que = [start]\n",
        "    visited = {start}\n",
        "    for m in range(1, 10):\n",
        "        new_que = []\n",
        "        for x, y in que:\n",
        "            for i, j in zip(dx, dy):\n",
        "                new = x + i, y + j\n",
        "                if new not in visited:\n",
        "                    visited.add(new)\n",
        "                    new_que.append(new)\n",
        "        if p in visited:\n",
        "            return m\n",
        "        que = new_que\n",
        "\n",
        "def manual(x, y):\n",
        "    i = 0\n",
        "    while x >= 5 or y >= 5:\n",
        "        x, y = (x-2, abs(y-1)) if x > y else (abs(x-1), y-2)\n",
        "        i += 1\n",
        "    return i + bfs((x, y))\n",
        "\n",
        "for _ in range(int(input())):\n",
        "    bd = int(input())\n",
        "    x1, y1 = map(int, input().split())\n",
        "    x2, y2 = map(int, input().split())\n",
        "    x, y = abs(x1-x2), abs(y1-y2)\n",
        "    if x >= 5 or y >= 5:\n",
        "        print(manual(x, y))\n",
        "    else:\n",
        "        print(bfs_bound(bd, (x1, y1), (x2, y2)))"
      ],
      "execution_count": null,
      "outputs": []
    },
    {
      "cell_type": "code",
      "metadata": {
        "colab": {
          "base_uri": "https://localhost:8080/"
        },
        "id": "DnYl4g4gk6Vv",
        "outputId": "28107813-f7cc-40f7-9ea5-d36941c1f8e2"
      },
      "source": [
        "#7562 나이트의 이동, 1등 코드의 아이디어를 채용해 다시 짜보기.\n",
        "#import sys\n",
        "#sys.setrecursionlimit(10**6)\n",
        "#input = sys.stdin.readline\n",
        "from collections import deque\n",
        "\n",
        "def bfs() :\n",
        "    n = int(input())\n",
        "    a, b = map(int,input().split())\n",
        "    c, d = map(int,input().split())\n",
        "    if a == c and b == d : return 0\n",
        "    xdiff, ydiff = abs(a-c), abs(b-d)\n",
        "    cnt2 = 0\n",
        "    if xdiff >= 5 or ydiff >= 5 :\n",
        "        while xdiff >= 5 or ydiff >= 5 :\n",
        "            if xdiff > ydiff :\n",
        "                xdiff -= 2\n",
        "                ydiff = abs(ydiff-1)\n",
        "            else :\n",
        "                ydiff -= 2\n",
        "                xdiff = abs(xdiff-1)\n",
        "            cnt2 += 1\n",
        "        a = c-xdiff if a < c else c+xdiff\n",
        "        b = d-ydiff if b < d else d+ydiff\n",
        "    \n",
        "    graph = [[1]*n for i in range(n)]\n",
        "    cnt = 1\n",
        "    togo = deque()\n",
        "    togo.append((a,b))\n",
        "    graph[a][b] = 0\n",
        "    while 1 :\n",
        "        for _ in range(len(togo)) :\n",
        "            x, y = togo.popleft()\n",
        "            dx = [-2,-2,-1,-1,1,1,2,2]\n",
        "            dy = [-1,1,-2,2,-2,2,-1,1]\n",
        "            for i in range(8) :\n",
        "                nx, ny = x+dx[i], y+dy[i]\n",
        "                if 0<=nx<n and 0<=ny<n and graph[nx][ny] :\n",
        "                    if nx == c and ny == d : return cnt + cnt2\n",
        "                    togo.append((nx,ny))\n",
        "                    graph[nx][ny] = 0\n",
        "        cnt += 1\n",
        "\n",
        "for i in range(int(input())) : print(bfs())\n",
        "#31896kb, 100ms"
      ],
      "execution_count": null,
      "outputs": [
        {
          "output_type": "stream",
          "text": [
            "3\n",
            "8\n",
            "0 0\n",
            "7 0\n",
            "5\n",
            "10\n",
            "1 1\n",
            "1 1\n",
            "0\n",
            "100\n",
            "0 0\n",
            "30 50\n",
            "28\n"
          ],
          "name": "stdout"
        }
      ]
    },
    {
      "cell_type": "code",
      "metadata": {
        "colab": {
          "base_uri": "https://localhost:8080/"
        },
        "id": "DgnqHlyjzZ5p",
        "outputId": "2980ecc5-49de-4629-ac2b-522a46b4c354"
      },
      "source": [
        "#16948 데스 나이트, 20210620\n",
        "#import sys\n",
        "#sys.setrecursionlimit(10**6)\n",
        "#input = sys.stdin.readline\n",
        "from collections import deque\n",
        "\n",
        "def bfs() :\n",
        "    n = int(input())\n",
        "    a, b, c, d = map(int,input().split())\n",
        "    if a == c and b == d : return 0\n",
        "    graph = [[1]*n for i in range(n)]\n",
        "    cnt = 1\n",
        "    togo = deque()\n",
        "    togo.append((a,b))\n",
        "    graph[a][b] = 0\n",
        "    while togo :\n",
        "        for _ in range(len(togo)) :\n",
        "            x, y = togo.popleft()\n",
        "            dx = [-2,-2,0,0,2,2]\n",
        "            dy = [-1,1,-2,2,-1,1]\n",
        "            for i in range(6) :\n",
        "                nx, ny = x+dx[i], y+dy[i]\n",
        "                if 0<=nx<n and 0<=ny<n and graph[nx][ny] :\n",
        "                    if nx == c and ny == d : return cnt\n",
        "                    togo.append((nx,ny))\n",
        "                    graph[nx][ny] = 0\n",
        "        cnt += 1\n",
        "    return -1\n",
        "\n",
        "print(bfs())\n",
        "#31848kb, 104ms"
      ],
      "execution_count": null,
      "outputs": [
        {
          "output_type": "stream",
          "text": [
            "7\n",
            "0 3 4 3\n",
            "2\n"
          ],
          "name": "stdout"
        }
      ]
    },
    {
      "cell_type": "code",
      "metadata": {
        "colab": {
          "base_uri": "https://localhost:8080/"
        },
        "id": "iyv8nAbM2Gp1",
        "outputId": "e9fcace7-f05a-43a2-dd88-33122b8ec1f4"
      },
      "source": [
        "#18404 현명한 나이트, 20210620\n",
        "#import sys\n",
        "#sys.setrecursionlimit(10**6)\n",
        "#input = sys.stdin.readline\n",
        "from collections import deque\n",
        "\n",
        "def bfs(a, b, c, d) :\n",
        "    if a == c and b == d : return 0\n",
        "    xdiff, ydiff = abs(a-c), abs(b-d)\n",
        "    cnt2 = 0\n",
        "    if xdiff >= 5 or ydiff >= 5 :\n",
        "        while xdiff >= 5 or ydiff >= 5 :\n",
        "            if xdiff > ydiff :\n",
        "                xdiff -= 2\n",
        "                ydiff = abs(ydiff-1)\n",
        "            else :\n",
        "                ydiff -= 2\n",
        "                xdiff = abs(xdiff-1)\n",
        "            cnt2 += 1\n",
        "        a = c-xdiff if c > n/2 else c+xdiff\n",
        "        b = d-ydiff if d > n/2 else d+ydiff\n",
        "\n",
        "    graph = [[1]*n for i in range(n)]\n",
        "    cnt = 1\n",
        "    togo = deque()\n",
        "    togo.append((a,b))\n",
        "    graph[a][b] = 0\n",
        "    while 1 :\n",
        "        for _ in range(len(togo)) :\n",
        "            x, y = togo.popleft()\n",
        "            dx = [-2,-2,-1,-1,1,1,2,2]\n",
        "            dy = [-1,1,-2,2,-2,2,-1,1]\n",
        "            for i in range(8) :\n",
        "                nx, ny = x+dx[i], y+dy[i]\n",
        "                if 0<=nx<n and 0<=ny<n and graph[nx][ny] :\n",
        "                    if nx == c and ny == d : return cnt + cnt2\n",
        "                    togo.append((nx,ny))\n",
        "                    graph[nx][ny] = 0\n",
        "        cnt += 1\n",
        "\n",
        "n, m = map(int,input().split())\n",
        "a, b = map(int,input().split())\n",
        "answer = []\n",
        "for i in range(m) :\n",
        "    c, d = map(int,input().split())\n",
        "    answer.append(str(bfs(a-1, b-1, c-1, d-1)))\n",
        "print(' '.join(answer))\n",
        "#33100kb, 1748ms"
      ],
      "execution_count": null,
      "outputs": [
        {
          "output_type": "stream",
          "text": [
            "100 10\n",
            "10 10\n",
            "12 12\n",
            "12 13\n",
            "12 14\n",
            "12 15\n",
            "13 13\n",
            "13 14\n",
            "13 15\n",
            "14 14\n",
            "14 15\n",
            "15 15\n",
            "4 3 2 3 2 3 4 4 3 4\n"
          ],
          "name": "stdout"
        }
      ]
    },
    {
      "cell_type": "code",
      "metadata": {
        "id": "173LvQi9Ussk"
      },
      "source": [
        "#4161 나이트의 여행, 20210620, 참 더럽고 마음에 안들게 풀었다...\n",
        "#import sys\n",
        "#input = sys.stdin.readline\n",
        "\n",
        "def knite(c,d) :\n",
        "    if c == 0 and d == 0 : return 0\n",
        "    big, small = max(abs(c), abs(d)), min(abs(c), abs(d))\n",
        "    if big == 1 and small == 0 : return 3\n",
        "    if big == 2 and small == 2 : return 4\n",
        "    cnt = 0\n",
        "    if big > small*2 :\n",
        "        cnt = big//2 - 1\n",
        "        big -= 2*cnt\n",
        "        small = 1 if (cnt-small)%2 else 0\n",
        "        if (big+small)%2 == 0 : return cnt + 2\n",
        "        elif big*small == 2 : return cnt + 1\n",
        "        else : return cnt + 3\n",
        "    else :\n",
        "        cnt = big-small\n",
        "        big = small - cnt\n",
        "        cnt += (big//3-1)*2\n",
        "        big = big%3 + 3\n",
        "        if big == 3 : return cnt + 2 \n",
        "        else : return cnt + 4\n",
        "\n",
        "while 1 : \n",
        "    inp = input()\n",
        "    try :\n",
        "        c, d = map(int,inp.split())\n",
        "        print(knite(c,d))\n",
        "    except : break\n",
        "#29200kb, 64ms"
      ],
      "execution_count": null,
      "outputs": []
    },
    {
      "cell_type": "code",
      "metadata": {
        "id": "Lbh7WDrc2xO_"
      },
      "source": [
        "#4161 나이트의 여행 1등 코드, 이해하기 어렵다..\n",
        "import sys\n",
        "while 1:\n",
        "    s=sys.stdin.readline()\n",
        "    if'END'in s:break\n",
        "    d=x,y=sorted(map(abs,map(int,s.split())))\n",
        "    a=max(-~y//2,(x+y+2)//3)\n",
        "    print(a+(x+y+a&1)-2*([2,2]!=d!=[0,1])+2)"
      ],
      "execution_count": null,
      "outputs": []
    },
    {
      "cell_type": "code",
      "metadata": {
        "colab": {
          "base_uri": "https://localhost:8080/"
        },
        "id": "CQf8YaPZTcnJ",
        "outputId": "2f1ab813-d6fc-4ecf-d1b6-f2897802a2a8"
      },
      "source": [
        "#7576 토마토, 20210620, 잘 짰고 1등하고 풀이도 별 차이 없는데 왜 시간은 3배 더 걸릴까..\n",
        "#import sys\n",
        "#sys.setrecursionlimit(10**6)\n",
        "#input = sys.stdin.readline\n",
        "from collections import deque\n",
        "\n",
        "n, m = map(int,input().split())\n",
        "cnt = 0\n",
        "graph = []\n",
        "queue = deque()\n",
        "\n",
        "for i in range(m) :\n",
        "    a = list(map(int,input().split()))\n",
        "    for j in range(n) :\n",
        "        if a[j] == 1 :\n",
        "            queue.append((i,j))\n",
        "        elif a[j] == 0 :\n",
        "            cnt += 1\n",
        "    graph.append(a)\n",
        "\n",
        "sec = 0\n",
        "dx = [-1,1,0,0]\n",
        "dy = [0,0,-1,1]\n",
        "while queue :\n",
        "    if cnt == 0 : \n",
        "      print(sec)\n",
        "      break\n",
        "    sec += 1  \n",
        "    for _ in range(len(queue)) :\n",
        "        x, y = queue.popleft()\n",
        "        for i in range(4) :\n",
        "            nx, ny = x+dx[i], y+dy[i]\n",
        "            if 0<=nx<m and 0<=ny<n and graph[nx][ny] == 0 :\n",
        "                cnt -= 1\n",
        "                queue.append((nx,ny))\n",
        "                graph[nx][ny] = 1\n",
        "else : print(-1)\n",
        "#98980kb, 3112ms"
      ],
      "execution_count": null,
      "outputs": [
        {
          "output_type": "stream",
          "text": [
            "5 5\n",
            "-1 1 0 0 0\n",
            "0 -1 -1 -1 0\n",
            "0 -1 -1 -1 0\n",
            "0 -1 -1 -1 0\n",
            "0 0 0 0 0\n",
            "14\n"
          ],
          "name": "stdout"
        }
      ]
    },
    {
      "cell_type": "code",
      "metadata": {
        "id": "KUFZqI16KRVM"
      },
      "source": [
        "#7569 토마토, 20210620\n",
        "#import sys\n",
        "#sys.setrecursionlimit(10**6)\n",
        "#input = sys.stdin.readline\n",
        "from collections import deque\n",
        "\n",
        "n, m, h = map(int,input().split())\n",
        "cnt = 0\n",
        "graphs = []\n",
        "queue = deque()\n",
        "\n",
        "for k in range(h) :\n",
        "    graph = []\n",
        "    for i in range(m) :\n",
        "        a = list(map(int,input().split()))\n",
        "        for j in range(n) :\n",
        "            if a[j] == 1 :\n",
        "                queue.append((k,i,j))\n",
        "            elif a[j] == 0 :\n",
        "                cnt += 1\n",
        "        graph.append(a)\n",
        "    graphs.append(graph)\n",
        "\n",
        "sec = 0\n",
        "dx = [-1,1,0,0,0,0]\n",
        "dy = [0,0,-1,1,0,0]\n",
        "dz = [0,0,0,0,-1,1]\n",
        "while queue :\n",
        "    if cnt == 0 : \n",
        "      print(sec)\n",
        "      break\n",
        "    sec += 1  \n",
        "    for _ in range(len(queue)) :\n",
        "        z, x, y = queue.popleft()\n",
        "        for i in range(6) :\n",
        "            nx, ny, nz = x+dx[i], y+dy[i], z+dz[i]\n",
        "            if 0<=nx<m and 0<=ny<n and 0<=nz<h and graphs[nz][nx][ny] == 0 :\n",
        "                cnt -= 1\n",
        "                queue.append((nz, nx,ny))\n",
        "                graphs[nz][nx][ny] = 1\n",
        "else : print(-1)\n",
        "#48424kb, 4672ms"
      ],
      "execution_count": null,
      "outputs": []
    },
    {
      "cell_type": "code",
      "metadata": {
        "id": "7iHA89JqbBZC"
      },
      "source": [
        "#프로그래머스 배달, 20210621\n",
        "def solution(N, road, K) :\n",
        "    graph = [[0]*N for _ in range(N)]\n",
        "    for a,b,c in road :       \n",
        "        if not graph[a-1][b-1] or c < graph[a-1][b-1] :\n",
        "            graph[a-1][b-1] = c\n",
        "            graph[b-1][a-1] = c\n",
        "            \n",
        "    deliver = []\n",
        "    for i in range(N) :\n",
        "        a = graph[0][i]\n",
        "        if a : \n",
        "            if a <= K :\n",
        "                deliver.append((i,a))\n",
        "            else : graph[0][i] = 0\n",
        "            graph[i][0] = 0\n",
        "            \n",
        "    while deliver :\n",
        "        num, time = deliver.pop()\n",
        "        for i in range(N) :\n",
        "            if graph[num][i] : \n",
        "                newtime = graph[num][i] + time\n",
        "                if newtime <= K :\n",
        "                    a = graph[0][i]\n",
        "                    if not a or a > newtime: \n",
        "                        deliver.append((i,newtime))\n",
        "                        graph[0][i] = newtime\n",
        "                    \n",
        "    answer = 1\n",
        "    for i in range(N) :\n",
        "        if graph[0][i] : answer += 1\n",
        "            \n",
        "    return answer"
      ],
      "execution_count": null,
      "outputs": []
    },
    {
      "cell_type": "code",
      "metadata": {
        "id": "wMgpZAoPIq9a"
      },
      "source": [
        "#프로그래머스 가장 먼 노드, 20210622\n",
        "#두 가지를 배울 수 있었다.\n",
        "#1. visited는 set으로 표현하는 것이 편하기도 하지만 빠르기도 하다.\n",
        "#2. n*n의 인접행렬보다 인접리스트로 표현하는 것이 더 빠르다.\n",
        "from collections import deque\n",
        "def solution(n, edge):\n",
        "    graph = [[] for _ in range(n)]\n",
        "    for a,b in edge :\n",
        "        graph[a-1].append(b-1)\n",
        "        graph[b-1].append(a-1)\n",
        "    \n",
        "    queue = deque()\n",
        "    queue.append(0)\n",
        "    visited = {0}\n",
        "    while queue :\n",
        "        length = len(queue)\n",
        "        for _ in range(length) :\n",
        "            num = queue.popleft()\n",
        "            for i in graph[num] :\n",
        "                if i not in visited:\n",
        "                    queue.append(i)\n",
        "                    visited.add(i)\n",
        "    return length"
      ],
      "execution_count": null,
      "outputs": []
    },
    {
      "cell_type": "code",
      "metadata": {
        "id": "ghZ7mGv6BY6c"
      },
      "source": [
        "#프로그래머스 타겟 넘버, 20210622\n",
        "from itertools import combinations\n",
        "def solution(numbers, target):\n",
        "    answer = 0\n",
        "    newtarget = sum(numbers) - target\n",
        "    if newtarget%2 : return 0\n",
        "    newtarget //= 2\n",
        "\n",
        "    slicednums = sorted([i for i in numbers if i <= newtarget])\n",
        "    for i in range(1, len(slicednums)+1) :\n",
        "        for arr in combinations(slicednums, i) : \n",
        "            if sum(arr) == newtarget : answer += 1\n",
        "    return answer"
      ],
      "execution_count": null,
      "outputs": []
    },
    {
      "cell_type": "code",
      "metadata": {
        "id": "8gb25latB8Dd"
      },
      "source": [
        "#프로그래머스 타겟 넘버 우수풀이1, 신기한 재귀의 세계. 이것도 dfs임을 알자.\n",
        "def solution(numbers, target):\n",
        "    if not numbers and target == 0 :\n",
        "        return 1\n",
        "    elif not numbers:\n",
        "        return 0\n",
        "    else:\n",
        "        return solution(numbers[1:], target-numbers[0]) + solution(numbers[1:], target+numbers[0])"
      ],
      "execution_count": null,
      "outputs": []
    },
    {
      "cell_type": "code",
      "metadata": {
        "id": "qeX9mtRqEz9-"
      },
      "source": [
        "#프로그래머스 타겟 넘버 우수풀이2, product의 활용법을 배웠다.\n",
        "from itertools import product\n",
        "def solution(numbers, target):\n",
        "    l = [(x, -x) for x in numbers]\n",
        "    s = list(map(sum, product(*l)))\n",
        "    return s.count(target)"
      ],
      "execution_count": null,
      "outputs": []
    },
    {
      "cell_type": "code",
      "metadata": {
        "id": "5tRUc6-HUK9S"
      },
      "source": [
        "#프로그래머스 단어 변환, 20210623\n",
        "from collections import deque\n",
        "def solution(begin, target, words):\n",
        "    try : target_idx = words.index(target)\n",
        "    except : return 0\n",
        "    \n",
        "    queue = deque()\n",
        "    visited = set()\n",
        "    length = len(words)\n",
        "    for idx, word in enumerate(words) :\n",
        "        cnt = 0\n",
        "        for a,b in zip(word, begin) :\n",
        "            if a != b :\n",
        "                if cnt : break\n",
        "                else : cnt = 1\n",
        "        else :\n",
        "            if cnt : \n",
        "                if word == target : return 1\n",
        "                queue.append(idx)\n",
        "                visited.add(idx)\n",
        "    \n",
        "    graph = [[] for _ in range(length)]\n",
        "    for i in range(length-1) :\n",
        "        for j in range(i+1, length) :\n",
        "            cnt = 0\n",
        "            for a,b in zip(words[i], words[j]) :\n",
        "                if a != b :\n",
        "                    if cnt : break\n",
        "                    else : cnt = 1\n",
        "            else : \n",
        "                graph[i].append(j)\n",
        "                graph[j].append(i)\n",
        "    \n",
        "    answer = 1\n",
        "    while queue :\n",
        "        answer += 1\n",
        "        for _ in range(len(queue)) :\n",
        "            a = queue.popleft()\n",
        "            for i in graph[a] :\n",
        "                if i not in visited :\n",
        "                    if i == target_idx : return answer\n",
        "                    queue.append(i)\n",
        "                    visited.add(i)\n",
        "    return 0"
      ],
      "execution_count": null,
      "outputs": []
    },
    {
      "cell_type": "code",
      "metadata": {
        "id": "Pjya_vQ_WwP5"
      },
      "source": [
        "#프로그래머스 단어 변환, 함수 내에서 yield n, yield m...을 쓰면 함수는 이터터블해지며 n, m..을 원소로 가지게 된다! \n",
        "from collections import deque\n",
        "\n",
        "def get_adjacent(current, words):\n",
        "    for word in words:\n",
        "        if len(current) != len(word):\n",
        "            continue\n",
        "\n",
        "        count = 0\n",
        "        for c, w in zip(current, word):\n",
        "            if c != w:\n",
        "                count += 1\n",
        "\n",
        "        if count == 1:\n",
        "            yield word\n",
        "\n",
        "def solution(begin, target, words):\n",
        "    dist = {begin: 0}\n",
        "    queue = deque([begin])\n",
        "\n",
        "    while queue:\n",
        "        current = queue.popleft()\n",
        "\n",
        "        for next_word in get_adjacent(current, words):\n",
        "            if next_word not in dist:\n",
        "                dist[next_word] = dist[current] + 1\n",
        "                queue.append(next_word)\n",
        "\n",
        "    return dist.get(target, 0)"
      ],
      "execution_count": null,
      "outputs": []
    },
    {
      "cell_type": "code",
      "metadata": {
        "id": "xhKqyhf2rfh0"
      },
      "source": [
        "#프로그래머스 여행경로, 20210626\n",
        "#2학년 1학기에 들은 웹/파이썬 프로그래밍에서 중간고사로 나온 얕은 복사/깊은 복사 이슈에 걸려서 에러 찾기가 어려웠다. 좋은 경험하고 배운다.\n",
        "import copy\n",
        "def dfs(n, graph, answer) :\n",
        "    if len(answer) == n+1 : return answer\n",
        "    if answer[-1] not in graph or not graph[answer[-1]] : return 0\n",
        "    for i in graph[answer[-1]] :\n",
        "        print(len(answer),i)\n",
        "        graph2 = copy.deepcopy(graph) #이거 기억하자!\n",
        "        graph2[answer[-1]].remove(i)\n",
        "        a = dfs(n, graph2, answer+[i])\n",
        "        if a : return a\n",
        "\n",
        "def solution(tickets):\n",
        "    n = len(tickets)\n",
        "    graph = dict()\n",
        "    for a,b in tickets :\n",
        "        try : graph[a].append(b)\n",
        "        except : graph[a] = [b]\n",
        "    for i in graph : graph[i].sort()\n",
        "    return dfs(n, graph, [\"ICN\"])"
      ],
      "execution_count": null,
      "outputs": []
    },
    {
      "cell_type": "code",
      "metadata": {
        "id": "oYtsiRBaXAtO"
      },
      "source": [
        "#프로그래머스 순위, 20210626, DFS,BFS보단 그래프 이론에 가깝다.\n",
        "def solution(n, results):\n",
        "    answer = 0\n",
        "    win = [set() for _ in range(n)]\n",
        "    lose = [set() for _ in range(n)]\n",
        "    for a,b in results :\n",
        "        win[a-1].add(b-1)\n",
        "        lose[b-1].add(a-1)\n",
        "    for i in range(n) :\n",
        "        winadd, loseadd = [j for j in win[i]], [j for j in lose[i]]\n",
        "        winvisited, losevisited = set(winadd), set(loseadd)\n",
        "        while winadd :\n",
        "            a = winadd.pop()\n",
        "            win[i] |= win[a]\n",
        "            for j in win[a] :\n",
        "                if j not in winvisited :\n",
        "                    winadd.append(j)\n",
        "                    winvisited.add(j)\n",
        "        while loseadd :\n",
        "            a = loseadd.pop()\n",
        "            lose[i] |= lose[a]\n",
        "            for j in lose[a] :\n",
        "                if j not in losevisited :\n",
        "                    loseadd.append(j)\n",
        "                    losevisited.add(j)\n",
        "        if len(win[i]) + len(lose[i]) == n-1 : answer += 1\n",
        "    return answer"
      ],
      "execution_count": null,
      "outputs": []
    },
    {
      "cell_type": "code",
      "metadata": {
        "id": "Vq0szhSzX4yo"
      },
      "source": [
        "#프로그래머스 순위 우수풀이\n",
        "from collections import defaultdict\n",
        "def solution(n, results):\n",
        "    answer = 0\n",
        "    win, lose = defaultdict(set), defaultdict(set)\n",
        "    for result in results:\n",
        "            lose[result[1]].add(result[0])\n",
        "            win[result[0]].add(result[1])\n",
        "\n",
        "    for i in range(1, n + 1):\n",
        "        for winner in lose[i]: win[winner].update(win[i]) #update = 여러개 add\n",
        "        for loser in win[i]: lose[loser].update(lose[i])\n",
        "\n",
        "    for i in range(1, n+1):\n",
        "        if len(win[i]) + len(lose[i]) == n - 1: answer += 1\n",
        "    return answer"
      ],
      "execution_count": null,
      "outputs": []
    },
    {
      "cell_type": "code",
      "metadata": {
        "colab": {
          "base_uri": "https://localhost:8080/"
        },
        "id": "lQDD0YOgREgH",
        "outputId": "313a4df4-5c2b-4dc3-cef2-a16d66e9ae75"
      },
      "source": [
        "#2206 벽 부수고 이동하기, 20210627\n",
        "#벽을 미리 뚫지 않고 나중을 위해 아껴두는 방식을 생각해야한다.\n",
        "#import sys\n",
        "#input = sys.stdin.readline\n",
        "from collections import deque\n",
        "\n",
        "n, m = map(int, input().split())\n",
        "board = [input().rstrip() for _ in range(n)]\n",
        "dx = [1,-1,0,0]\n",
        "dy = [0,0,1,-1]\n",
        "visited = [[[0,0] for __ in range(m)] for _ in range(n)]\n",
        "visited[0][0] = [1,0]\n",
        "queue = deque()\n",
        "queue.append((0,0,0))\n",
        "while queue :\n",
        "    x, y, destoyed = queue.popleft()\n",
        "    if destoyed : #이미 벽을 하나 뚫은 상태\n",
        "        if x == n-1 and y == m-1 : \n",
        "            print(visited[-1][-1][1])\n",
        "            break\n",
        "        for i in range(4) :\n",
        "            nx, ny = x+dx[i], y+dy[i]\n",
        "            if 0<=nx<n and 0<=ny<m and board[nx][ny] == '0' and not sum(visited[nx][ny]) :\n",
        "                visited[nx][ny][1] = visited[x][y][1] + 1\n",
        "                queue.append((nx,ny,1))\n",
        "\n",
        "    else : #아직 벽을 뚫지 않은 상태\n",
        "        if x == n-1 and y == m-1 : \n",
        "            print(visited[-1][-1][0])\n",
        "            break\n",
        "        for i in range(4) :\n",
        "            nx, ny = x+dx[i], y+dy[i]\n",
        "            if 0<=nx<n and 0<=ny<m :\n",
        "                if board[nx][ny] == '1' and not visited[nx][ny][1]: #새로운 벽 발견시 뚫기\n",
        "                    visited[nx][ny][1] = visited[x][y][0] + 1\n",
        "                    queue.append((nx,ny,1))\n",
        "                elif board[nx][ny] == '0' and not visited[nx][ny][0] : #벽 발견x\n",
        "                    visited[nx][ny][0] = visited[x][y][0] + 1\n",
        "                    queue.append((nx,ny,0))\n",
        "else : print(-1)\n",
        "#166932kb, 5576ms"
      ],
      "execution_count": null,
      "outputs": [
        {
          "output_type": "stream",
          "text": [
            "4 5\n",
            "12\n",
            "[[[1, 0], [0, 2], [7, 3], [8, 4], [9, 5]], [[2, 0], [0, 3], [6, 4], [0, 7], [10, 6]], [[3, 0], [4, 0], [5, 0], [0, 6], [0, 11]], [[0, 4], [0, 5], [0, 6], [0, 0], [0, 12]]]\n"
          ],
          "name": "stdout"
        }
      ]
    },
    {
      "cell_type": "code",
      "metadata": {
        "id": "AAwINcPe30aC"
      },
      "source": [
        "#2206 벽 부수고 이동하기 3등 풀이\n",
        "#visited는 불린으로 확인 용도로만 쓰고 정답은 따로 카운트하는 것이 시간 단축의 힌트였던 것 같다.\n",
        "import sys\n",
        "I = sys.stdin.readline\n",
        "def bfs(r,c):\n",
        "    que = [(0,0,False)]\n",
        "    count = 1\n",
        "    while que:\n",
        "        que_ = []\n",
        "        for r,c,flag in que:\n",
        "            if r == R-1 and c == C-1:\n",
        "                return count\n",
        "            for dr, dc in dir:\n",
        "                rr = r + dr\n",
        "                cc = c + dc\n",
        "                if 0 <= rr < R and 0 <= cc < C:\n",
        "                    if not flag:\n",
        "                        if not visitF[rr][cc]:\n",
        "                            if Map[rr][cc] == '0':\n",
        "                                visitF[rr][cc] = True\n",
        "                                que_.append((rr,cc,False))\n",
        "                            else:\n",
        "                                visitF[rr][cc] = True\n",
        "                                que_.append((rr,cc,True))\n",
        "                    else:\n",
        "                        if not visitT[rr][cc]:\n",
        "                            if Map[rr][cc] == '0':\n",
        "                                visitT[rr][cc] = True\n",
        "                                que_.append((rr,cc,True))\n",
        "        \n",
        "        que = que_\n",
        "        count += 1\n",
        "    return -1\n",
        "\n",
        "dir = [[1,0], [-1,0], [0,1], [0,-1]]\n",
        "R, C = list(map(int, I().split()))\n",
        "Map = [list(I()) for _ in range(R)]\n",
        "visitF = [[False] * C for _ in range(R)]\n",
        "visitT = [[False] * C for _ in range(R)]\n",
        "\n",
        "print(bfs(0,0))"
      ],
      "execution_count": null,
      "outputs": []
    },
    {
      "cell_type": "code",
      "metadata": {
        "colab": {
          "base_uri": "https://localhost:8080/"
        },
        "id": "mCstTRDSrfZs",
        "outputId": "1ee02206-2535-40d2-a528-05ebd8693713"
      },
      "source": [
        "#2206 벽 부수고 이동하기, 3등 솔루션처럼 visited에 불린만 담고 풀기\n",
        "#import sys\n",
        "#input = sys.stdin.readline\n",
        "from collections import deque\n",
        "\n",
        "def solution() :\n",
        "    n, m = map(int, input().split())\n",
        "    board = [input().rstrip() for _ in range(n)]\n",
        "    dx = [1,-1,0,0]\n",
        "    dy = [0,0,1,-1]\n",
        "    visited1 = [[False]*m for _ in range(n)]\n",
        "    visited0 = [[False]*m for _ in range(n)]\n",
        "    visited0[0][0] = True\n",
        "    queue = deque()\n",
        "    queue.append((0,0,0))\n",
        "    cnt = 1\n",
        "    while queue :\n",
        "        for _ in range(len(queue)) :\n",
        "            x, y, destoyed = queue.popleft()\n",
        "            if x == n-1 and y == m-1 : \n",
        "                return cnt\n",
        "            if destoyed : #이미 벽을 하나 뚫은 상태\n",
        "                for i in range(4) :\n",
        "                    nx, ny = x+dx[i], y+dy[i]\n",
        "                    if 0<=nx<n and 0<=ny<m and board[nx][ny] == '0' and not visited1[nx][ny] and not visited0[nx][ny] :\n",
        "                        visited1[nx][ny] = True\n",
        "                        queue.append((nx,ny,1))\n",
        "\n",
        "            else : #아직 벽을 뚫지 않은 상태\n",
        "                for i in range(4) :\n",
        "                    nx, ny = x+dx[i], y+dy[i]\n",
        "                    if 0<=nx<n and 0<=ny<m :\n",
        "                        if board[nx][ny] == '1' and not visited1[nx][ny] : #새로운 벽 발견시 뚫기\n",
        "                            visited1[nx][ny] = True\n",
        "                            queue.append((nx,ny,1))\n",
        "                        elif board[nx][ny] == '0' and not visited0[nx][ny] : #벽 발견x\n",
        "                            visited0[nx][ny] = True\n",
        "                            queue.append((nx,ny,0))\n",
        "        cnt += 1\n",
        "    else : return -1\n",
        "\n",
        "print(solution())\n",
        "#47872kb, 2804ms"
      ],
      "execution_count": null,
      "outputs": [
        {
          "output_type": "stream",
          "text": [
            "4 5\n",
            "01000\n",
            "01010\n",
            "00011\n",
            "11110\n",
            "12\n"
          ],
          "name": "stdout"
        }
      ]
    },
    {
      "cell_type": "code",
      "metadata": {
        "colab": {
          "base_uri": "https://localhost:8080/"
        },
        "id": "hYQ5BbRA0yIH",
        "outputId": "b71caa2a-97f9-47ab-967a-c7fe77f9b6a0"
      },
      "source": [
        "#2206 벽 부수고 이동하기, 4등 솔루션처럼 visited에 0,1,2 담고 풀기\n",
        "#import sys\n",
        "#input = sys.stdin.readline\n",
        "from collections import deque\n",
        "\n",
        "def solution() :\n",
        "    n, m = map(int, input().split())\n",
        "    board = [input().rstrip() for _ in range(n)]\n",
        "    dx = [1,-1,0,0]\n",
        "    dy = [0,0,1,-1]\n",
        "    #visited = 0 : 방문x, 1 : 벽 안 뚫고 방문, 2 : 벽 뚫고 방문\n",
        "    visited = [[0]*m for _ in range(n)]\n",
        "    visited[0][0] = 1\n",
        "    queue = deque()\n",
        "    queue.append((0,0,0))\n",
        "    cnt = 1\n",
        "    while queue :\n",
        "        for _ in range(len(queue)) :\n",
        "            x, y, destoyed = queue.popleft()\n",
        "            if x == n-1 and y == m-1 : \n",
        "                return cnt\n",
        "            if destoyed : #이미 벽을 하나 뚫은 상태\n",
        "                for i in range(4) :\n",
        "                    nx, ny = x+dx[i], y+dy[i]\n",
        "                    if 0<=nx<n and 0<=ny<m and board[nx][ny] == '0' and not visited[nx][ny] :\n",
        "                        visited[nx][ny] = 2\n",
        "                        queue.append((nx,ny,1))\n",
        "\n",
        "            else : #아직 벽을 뚫지 않은 상태\n",
        "                for i in range(4) :\n",
        "                    nx, ny = x+dx[i], y+dy[i]\n",
        "                    if 0<=nx<n and 0<=ny<m :\n",
        "                        if board[nx][ny] == '1' and visited[nx][ny] != 2 : #새로운 벽 발견시 뚫기\n",
        "                            visited[nx][ny] = 2\n",
        "                            queue.append((nx,ny,1))\n",
        "                        elif board[nx][ny] == '0' and visited[nx][ny] != 1: #벽 발견x\n",
        "                            visited1[nx][ny] = 1\n",
        "                            queue.append((nx,ny,0))\n",
        "        cnt += 1\n",
        "    else : return -1\n",
        "\n",
        "print(solution())\n",
        "#40056kb, 2972ms"
      ],
      "execution_count": null,
      "outputs": [
        {
          "output_type": "stream",
          "text": [
            "6 4\n",
            "0100\n",
            "1110\n",
            "1000\n",
            "0000\n",
            "0111\n",
            "0000\n",
            "15\n"
          ],
          "name": "stdout"
        }
      ]
    },
    {
      "cell_type": "code",
      "metadata": {
        "colab": {
          "base_uri": "https://localhost:8080/"
        },
        "id": "l6i01p-AcvA3",
        "outputId": "2baf512a-6a22-48ed-9e22-401b33f78ac7"
      },
      "source": [
        "#1753 최단경로, 20210627, 다익스트라 알고리즘을 배웠다.\n",
        "#메모리의 측면에서 인접행렬보다 인접리스트가 좋다.\n",
        "import sys\n",
        "#input = sys.stdin.readline\n",
        "import heapq\n",
        "\n",
        "n, m = map(int, input().split())\n",
        "start = int(input())\n",
        "graph = [[] for _ in range(n)]\n",
        "distance = [sys.maxsize for _ in range(n)]\n",
        "distance[start-1] = 0\n",
        "for _ in range(m) :\n",
        "    a,b,c = map(int, input().split())\n",
        "    graph[a-1].append((b-1,c))\n",
        "\n",
        "heap = [(0,start-1)]\n",
        "heapq.heapify(heap)\n",
        "while heap :\n",
        "    dist, node = heapq.heappop(heap)\n",
        "    if distance[node] < dist : continue\n",
        "    for a,b in graph[node] :\n",
        "        if distance[a] > dist+b :\n",
        "            heapq.heappush(heap, (dist+b, a))\n",
        "            distance[a] = dist+b\n",
        "for i in distance : print('INF' if i == sys.maxsize else i)\n",
        "#66044kb, 728ms"
      ],
      "execution_count": null,
      "outputs": [
        {
          "output_type": "stream",
          "text": [
            "5 6\n",
            "1\n",
            "1 2 2\n",
            "1 3 3 \n",
            "2 4 5\n",
            "3 4 6\n",
            "2 3 4\n",
            "5 1 1\n",
            "0\n",
            "2\n",
            "3\n",
            "7\n",
            "INF\n"
          ],
          "name": "stdout"
        }
      ]
    },
    {
      "cell_type": "code",
      "metadata": {
        "colab": {
          "base_uri": "https://localhost:8080/"
        },
        "id": "P6ZOv9KW_DBd",
        "outputId": "9aab60b9-9412-4500-b458-e64b8122eb19"
      },
      "source": [
        "#14442 벽 부수고 이동하기 2, 20210628\n",
        "#파이썬으로 해결한 사람이 0명인게 정상은 아닌 것 같다. pypy3으로 제출하니 통과.\n",
        "#import sys\n",
        "#input = sys.stdin.readline\n",
        "from collections import deque\n",
        "\n",
        "def solution() :\n",
        "    n, m, k = map(int, input().split())\n",
        "    board = [input().rstrip() for _ in range(n)]\n",
        "    if board == ['0'] : return 1\n",
        "    dx = [1,0,-1,0]\n",
        "    dy = [0,1,0,-1]\n",
        "    visited = [[0]*m for _ in range(n)]\n",
        "    visited[0][0] = 1\n",
        "    queue = deque([(0,0,0)])\n",
        "    cnt = 1 \n",
        "    while queue :\n",
        "        for _ in range(len(queue)) :\n",
        "            x, y, destoyed = queue.popleft()\n",
        "            for i in range(4) :\n",
        "                nx, ny = x+dx[i], y+dy[i]\n",
        "                if 0<=nx<n and 0<=ny<m :\n",
        "                    if nx + ny == n+m-2 : \n",
        "                        print(visited)\n",
        "                        return cnt+1\n",
        "                    wall = int(board[nx][ny])\n",
        "                    if destoyed == k : #벽을 k번 뚫었을때\n",
        "                        if not wall and not visited[nx][ny] :\n",
        "                            visited[nx][ny] = k+1\n",
        "                            queue.append((nx,ny,k))\n",
        "                    else : #나머지\n",
        "                        if not 1 <= visited[nx][ny] <= destoyed+1+wall :\n",
        "                            visited[nx][ny] = destoyed+1+wall\n",
        "                            queue.append((nx,ny,destoyed+wall))\n",
        "        cnt += 1\n",
        "    else : return -1\n",
        "\n",
        "print(solution())\n",
        "#230684kb, 2304ms"
      ],
      "execution_count": null,
      "outputs": [
        {
          "output_type": "stream",
          "text": [
            "2 2 0\n",
            "-1\n"
          ],
          "name": "stdout"
        }
      ]
    },
    {
      "cell_type": "code",
      "metadata": {
        "colab": {
          "base_uri": "https://localhost:8080/"
        },
        "id": "Vg8TpF_KWnHo",
        "outputId": "70fd7f53-b4e3-4c7a-d902-685b6d9951f4"
      },
      "source": [
        "#12851 숨바꼭질 2, 20210628\n",
        "from collections import deque \n",
        "\n",
        "def findbro(n, k) :\n",
        "    if n >= k : \n",
        "        print(n-k)\n",
        "        print(1)\n",
        "    else :\n",
        "        queue = deque([n])\n",
        "        visited = {n}\n",
        "        cnt = 0\n",
        "        finish = False\n",
        "        answer = 0\n",
        "        while 1 :\n",
        "            for i in range(len(queue)) :\n",
        "                cur = queue.popleft()\n",
        "                if cur > k :\n",
        "                    new = [cur-1]\n",
        "                elif cur <= 1 : \n",
        "                    new = [cur+1, cur*2]\n",
        "                else : new = [cur+1, cur-1, cur*2]\n",
        "                for j in new :\n",
        "                    if j not in visited and j <= 100000:\n",
        "                        if j == k : \n",
        "                            finish = True\n",
        "                            answer += 1\n",
        "                        else : \n",
        "                            queue.append(j)\n",
        "            cnt += 1\n",
        "            if finish : \n",
        "                print(cnt)\n",
        "                print(answer)\n",
        "                break\n",
        "            visited |= set(queue)\n",
        "\n",
        "n, k = map(int, input().split())\n",
        "findbro(n, k)\n",
        "#37484kb, 148ms"
      ],
      "execution_count": null,
      "outputs": [
        {
          "output_type": "stream",
          "text": [
            "5 237\n",
            "10\n",
            "5\n"
          ],
          "name": "stdout"
        }
      ]
    },
    {
      "cell_type": "code",
      "metadata": {
        "colab": {
          "base_uri": "https://localhost:8080/"
        },
        "id": "KwHwXs702wI9",
        "outputId": "9542f707-39f9-4869-b161-eda57693c191"
      },
      "source": [
        "#1916 최소비용 구하기, 20210628, 1753 최단경로와 완전히 같은 문제였다.\n",
        "import sys\n",
        "#input = sys.stdin.readline\n",
        "import heapq\n",
        "\n",
        "n, m = int(input()), int(input())\n",
        "graph = [[] for _ in range(n)]\n",
        "for _ in range(m) :\n",
        "    a,b,c = map(int, input().split())\n",
        "    graph[a-1].append((b-1,c))\n",
        "distance = [sys.maxsize for _ in range(n)]\n",
        "start, end = map(int, input().split())\n",
        "distance[start-1] = 0\n",
        "\n",
        "heap = [(0,start-1)]\n",
        "heapq.heapify(heap)\n",
        "while heap :\n",
        "    dist, node = heapq.heappop(heap)\n",
        "    if distance[node] < dist : continue\n",
        "    for a,b in graph[node] :\n",
        "        if distance[a] > dist+b :\n",
        "            heapq.heappush(heap, (dist+b, a))\n",
        "            distance[a] = dist+b\n",
        "print(distance[end-1])\n",
        "#42660kb, 256ms"
      ],
      "execution_count": null,
      "outputs": [
        {
          "output_type": "stream",
          "text": [
            "5\n",
            "8\n",
            "1 2 2\n",
            "1 3 3\n",
            "1 4 1\n",
            "1 5 10\n",
            "2 4 2\n",
            "3 4 1\n",
            "3 5 1\n",
            "4 5 3\n",
            "[[(1, 2), (2, 3), (3, 1), (4, 10)], [(3, 2)], [(3, 1), (4, 1)], [(4, 3)], []]\n",
            "1 5\n",
            "4\n",
            "4\n",
            "4\n",
            "4\n",
            "4\n"
          ],
          "name": "stdout"
        }
      ]
    },
    {
      "cell_type": "code",
      "metadata": {
        "colab": {
          "base_uri": "https://localhost:8080/"
        },
        "id": "SSmY3mkQ5Mg6",
        "outputId": "d3ab2c1c-8ad0-4684-ddf4-cbfa2dcc30bd"
      },
      "source": [
        "#11779 최소비용 구하기 2, 20210628\n",
        "import sys\n",
        "input = sys.stdin.readline\n",
        "import heapq\n",
        "\n",
        "n, m = int(input()), int(input())\n",
        "graph = [[] for _ in range(n)]\n",
        "for _ in range(m) :\n",
        "    a,b,c = map(int, input().split())\n",
        "    graph[a-1].append((b-1,c))\n",
        "distance = [sys.maxsize for _ in range(n)]\n",
        "start, end = map(int, input().split())\n",
        "distance[start-1] = 0\n",
        "\n",
        "heap = [(0,start-1,[start])]\n",
        "heapq.heapify(heap)\n",
        "while heap :\n",
        "    dist, node, route = heapq.heappop(heap)\n",
        "    if distance[node] < dist : continue\n",
        "    for a,b in graph[node] :\n",
        "        if distance[a] > dist+b :\n",
        "            distance[a] = dist+b\n",
        "            if a == end-1 : answers = route+[end]\n",
        "            else :\n",
        "                heapq.heappush(heap, (dist+b, a, route+[a+1]))\n",
        "        \n",
        "print(distance[end-1])\n",
        "print(len(answers))\n",
        "print(*answers)\n",
        "#42920kb, 240ms"
      ],
      "execution_count": null,
      "outputs": [
        {
          "output_type": "stream",
          "text": [
            "5\n",
            "8\n",
            "1 5\n",
            "4\n",
            "3\n",
            "1 4 5\n"
          ],
          "name": "stdout"
        }
      ]
    },
    {
      "cell_type": "code",
      "metadata": {
        "colab": {
          "base_uri": "https://localhost:8080/"
        },
        "id": "Il8Eh8CmK_f7",
        "outputId": "79928fc4-1c3e-4a54-e6f2-1b97cce1a98d"
      },
      "source": [
        "#1504 특정한 최단 경로, 20210629\n",
        "import sys\n",
        "#input = sys.stdin.readline\n",
        "import heapq\n",
        "\n",
        "def start_to_ab(start, a, b) :\n",
        "    distance = [sys.maxsize for _ in range(n)]\n",
        "    distance[start-1] = 0\n",
        "    heap = []\n",
        "    heapq.heappush(heap,(0,start-1))\n",
        "    while heap :\n",
        "        dist, node = heapq.heappop(heap)\n",
        "        if distance[node] < dist : continue\n",
        "        for x,y in graph[node] :\n",
        "            if distance[x] > dist+y :\n",
        "                distance[x] = dist+y\n",
        "                heapq.heappush(heap, (dist+y, x))\n",
        "    return (distance[a-1], distance[b-1]) if distance[a-1] != sys.maxsize and distance[b-1] != sys.maxsize else 'inf'\n",
        "\n",
        "def a_to_b(a, b) :\n",
        "    distance = [sys.maxsize for _ in range(n)]\n",
        "    distance[a-1] = 0\n",
        "    heap = []\n",
        "    heapq.heappush(heap,(0,a-1))\n",
        "    while heap :\n",
        "        dist, node = heapq.heappop(heap)\n",
        "        if distance[node] < dist : continue\n",
        "        for x,y in graph[node] :\n",
        "            if distance[x] > dist+y :\n",
        "                distance[x] = dist+y\n",
        "                if x != b-1 : heapq.heappush(heap, (dist+y, x))\n",
        "    return distance[b-1] if distance[b-1] != sys.maxsize else 'inf'\n",
        "\n",
        "n, m = map(int, input().split())\n",
        "graph = [[] for _ in range(n)]\n",
        "for _ in range(m) :\n",
        "    x,y,z = map(int, input().split())\n",
        "    graph[x-1].append((y-1,z))\n",
        "    graph[y-1].append((x-1,z))\n",
        "\n",
        "a, b = map(int, input().split())\n",
        "try :\n",
        "    start_a, start_b = start_to_ab(1, a, b)\n",
        "    end_a, end_b = start_to_ab(n, a, b)\n",
        "    a_b = a_to_b(a, b)\n",
        "    print(min(start_a + a_b + end_b, start_b + a_b + end_a, start_a + 2*a_b + end_a, start_b + 2*a_b + end_b))\n",
        "except :\n",
        "    print(-1)\n",
        "#62608kb, 512ms"
      ],
      "execution_count": null,
      "outputs": [
        {
          "output_type": "stream",
          "text": [
            "4 6\n",
            "1 2 3\n",
            "2 3 3\n",
            "3 4 1\n",
            "1 3 5\n",
            "2 4 5\n",
            "1 4 4\n",
            "2 3\n",
            "(3, 5)\n",
            "7\n"
          ],
          "name": "stdout"
        }
      ]
    },
    {
      "cell_type": "code",
      "metadata": {
        "id": "sgMPhfheVgOo"
      },
      "source": [
        "#1504 특정한 최단 경로 1등 풀이, 오 머리 좀 썼는데?\n",
        "import sys\n",
        "import heapq\n",
        "import math\n",
        "\n",
        "def solve():\n",
        "    read = sys.stdin.readline\n",
        "    v, e = map(int, read().split())\n",
        "    graph = [{} for _ in range(v + 1)]\n",
        "    for _ in range(e):\n",
        "        v1, v2, d = map(int, read().split())\n",
        "        if v2 in graph[v1]:\n",
        "            graph[v1][v2] = min(graph[v1][v2], d)\n",
        "            graph[v2][v1] = min(graph[v2][v1], d)\n",
        "        else:\n",
        "            graph[v1][v2] = d\n",
        "            graph[v2][v1] = d\n",
        "    v_1, v_2 = map(int, read().split())\n",
        "\n",
        "    def dijkstra(start, *end):\n",
        "        h = []\n",
        "        heapq.heappush(h, (0, start))\n",
        "        dist = [math.inf for _ in range(v + 1)]\n",
        "        dist[start] = 0\n",
        "        while h:\n",
        "            d1, v1 = heapq.heappop(h)\n",
        "            if dist[v1] < d1:\n",
        "                continue\n",
        "            for v2, d2 in graph[v1].items():\n",
        "                if dist[v2] > d1 + d2:\n",
        "                    dist[v2] = d1 + d2\n",
        "                    heapq.heappush(h, (dist[v2], v2))\n",
        "        return tuple([dist[i] for i in end])\n",
        "\n",
        "    # 여기서 엄청난 발견이 있다. 1 -> v_1 -> v_2 -> v와 1 -> v_2 -> v_1 -> v중에서 더 작은 것을 골라야 되는데\n",
        "    # 방향이 없는 그래프이기에, 1 -> v_1과 v_1 -> 1이 같다. 다른 간선들도 모두 마찬가지다.\n",
        "    # 그래서 dijkstra를 최소한으로 돌리기 위해서는, 시작 노드의 수를 최대한 줄이는 것이 좋다.\n",
        "    # 그래서 v_1 -> 1, v_1 -> v_2, v_1 -> v를 한방에 구하고\n",
        "    # 마찬가지로 v_2 -> 1, v_2 -> v를 한방에 구하는 것이다.\n",
        "    d_v1_1, d_v1_v2, d_v1_v = dijkstra(v_1, 1, v_2, v)\n",
        "    d_v2_1, d_v2_v = dijkstra(v_2, 1, v)\n",
        "    res = min(d_v1_1 + d_v2_v, d_v2_1 + d_v1_v) + d_v1_v2\n",
        "    print(-1 if math.isinf(res) else res)\n",
        "\n",
        "\n",
        "solve()\n"
      ],
      "execution_count": null,
      "outputs": []
    },
    {
      "cell_type": "code",
      "metadata": {
        "colab": {
          "base_uri": "https://localhost:8080/"
        },
        "id": "66yxZ0ZpVo7R",
        "outputId": "f4de3d82-3ded-444c-dbb8-1ef5c126a599"
      },
      "source": [
        "#1504 특정한 최단 경로, 1등 풀이처럼 풀기\n",
        "import sys\n",
        "#input = sys.stdin.readline\n",
        "import heapq\n",
        "\n",
        "def start_to_abc(start, a, b, c) :\n",
        "    distance = [sys.maxsize for _ in range(n)]\n",
        "    distance[start-1] = 0\n",
        "    heap = []\n",
        "    heapq.heappush(heap,(0,start-1))\n",
        "    while heap :\n",
        "        dist, node = heapq.heappop(heap)\n",
        "        if distance[node] < dist : continue\n",
        "        for x,y in graph[node] :\n",
        "            if distance[x] > dist+y :\n",
        "                distance[x] = dist+y\n",
        "                heapq.heappush(heap, (dist+y, x))\n",
        "    return (distance[a-1], distance[b-1], distance[c-1]) if distance[a-1] != sys.maxsize and distance[b-1] != sys.maxsize and distance[c-1] != sys.maxsize else 'inf'\n",
        "\n",
        "def start_to_ab(start, a, b) :\n",
        "    distance = [sys.maxsize for _ in range(n)]\n",
        "    distance[start-1] = 0\n",
        "    heap = []\n",
        "    heapq.heappush(heap,(0,start-1))\n",
        "    while heap :\n",
        "        dist, node = heapq.heappop(heap)\n",
        "        if distance[node] < dist : continue\n",
        "        for x,y in graph[node] :\n",
        "            if distance[x] > dist+y :\n",
        "                distance[x] = dist+y\n",
        "                heapq.heappush(heap, (dist+y, x))\n",
        "    return (distance[a-1], distance[b-1]) if distance[a-1] != sys.maxsize and distance[b-1] != sys.maxsize else 'inf'\n",
        "\n",
        "n, m = map(int, input().split())\n",
        "graph = [[] for _ in range(n)]\n",
        "for _ in range(m) :\n",
        "    x,y,z = map(int, input().split())\n",
        "    graph[x-1].append((y-1,z))\n",
        "    graph[y-1].append((x-1,z))\n",
        "\n",
        "a, b = map(int, input().split())\n",
        "try :\n",
        "    start_a, a_b, end_a = start_to_abc(a, 1, b, n)\n",
        "    start_b, end_b = start_to_ab(b, 1, n)\n",
        "    print(min(start_a + a_b + end_b, start_b + a_b + end_a, start_a + 2*a_b + end_a, start_b + 2*a_b + end_b))\n",
        "except :\n",
        "    print(-1)\n",
        "#62588kb, 436ms"
      ],
      "execution_count": null,
      "outputs": [
        {
          "output_type": "stream",
          "text": [
            "4 6\n",
            "1 2 3\n",
            "2 3 3\n",
            "3 4 1\n",
            "1 3 5\n",
            "2 4 5\n",
            "1 4 4\n",
            "2 3\n",
            "7\n"
          ],
          "name": "stdout"
        }
      ]
    },
    {
      "cell_type": "code",
      "metadata": {
        "id": "0x3BnXVHxw1K"
      },
      "source": [
        "#16946 벽 부수고 이동하기 4, 20210629\n",
        "import sys\n",
        "#input = sys.stdin.readline\n",
        "\n",
        "n, m = map(int, input().split())\n",
        "board = [input() for _ in range(n)]\n",
        "stack = [[0]*m for _ in range(n)]\n",
        "visited = [[0]*m for _ in range(n)]\n",
        "dx = [1,-1,0,0]\n",
        "dy = [0,0,1,-1]\n",
        "\n",
        "for i in range(n) :\n",
        "    for j in range(m) :\n",
        "        if board[i][j] == '1' : stack[i][j] += 1\n",
        "        elif not visited[i][j] :\n",
        "            arr = [(i,j)]\n",
        "            visited[i][j] = 1\n",
        "            checked = set()\n",
        "            area = 1\n",
        "            while arr :\n",
        "                x, y = arr.pop()\n",
        "                for k in range(4) :\n",
        "                    nx, ny = x+dx[k], y+dy[k]\n",
        "                    if 0<=nx<n and 0<=ny<m :\n",
        "                        if board[nx][ny] == '1':\n",
        "                            checked.add((nx,ny))\n",
        "                        else :\n",
        "                            if not visited[nx][ny] :\n",
        "                                visited[nx][ny] = 1\n",
        "                                area += 1\n",
        "                                arr.append((nx,ny))\n",
        "            for x, y in checked :\n",
        "                stack[x][y] += area\n",
        "\n",
        "for i in range(n) :\n",
        "    for j in range(m) :\n",
        "        stack[i][j] =  str(stack[i][j]%10)\n",
        "    print(''.join(stack[i]))\n",
        "#189796kb, 2788ms"
      ],
      "execution_count": null,
      "outputs": []
    },
    {
      "cell_type": "code",
      "metadata": {
        "colab": {
          "base_uri": "https://localhost:8080/"
        },
        "id": "OQUe71pBc-XP",
        "outputId": "91c83f78-98c3-4597-d212-f13026090972"
      },
      "source": [
        "#11404 플로이드\n",
        "import sys\n",
        "#input = sys.stdin.readline\n",
        "\n",
        "n = int(input())\n",
        "graph = [[0]*n for _ in range(n)]\n",
        "for i in range(n) :\n",
        "    graph[i][i] = 0\n",
        "for _ in range(int(input())) :\n",
        "    a, b, c = map(int, input().split())\n",
        "    if not graph[a-1][b-1] or c < graph[a-1][b-1] : graph[a-1][b-1] = c\n",
        "\n",
        "for i in range(n) :\n",
        "    for j in range(n) :\n",
        "        for k in range(n) :\n",
        "            if i != j != k != i and graph[j][i] and graph[i][k]:\n",
        "                if not graph[j][k] or graph[j][k] > graph[j][i] + graph[i][k] :\n",
        "                    graph[j][k] = graph[j][i] + graph[i][k]\n",
        "for a in graph : print(*a)\n",
        "#29708kb, 932ms"
      ],
      "execution_count": 15,
      "outputs": [
        {
          "output_type": "stream",
          "text": [
            "5\n",
            "0 2 3 1 4\n",
            "12 0 15 2 5\n",
            "8 5 0 1 1\n",
            "10 7 13 0 3\n",
            "7 4 10 6 0\n"
          ],
          "name": "stdout"
        }
      ]
    },
    {
      "cell_type": "code",
      "metadata": {
        "colab": {
          "base_uri": "https://localhost:8080/"
        },
        "id": "Sv1r-65fpuYS",
        "outputId": "35da45d3-73ef-446d-e8b7-482c1899a7f4"
      },
      "source": [
        "#1238 파티, 20210630, 변수명 혼동 없게 하자..\n",
        "import sys\n",
        "#input = sys.stdin.readline\n",
        "import heapq\n",
        "\n",
        "def start_to_all(start, graph) :\n",
        "    distance = [sys.maxsize for _ in range(n)]\n",
        "    distance[start-1] = 0\n",
        "    heap = []\n",
        "    heapq.heappush(heap,(0,start-1))\n",
        "    while heap :\n",
        "        dist, node = heapq.heappop(heap)\n",
        "        if distance[node] < dist : continue\n",
        "        for a,b in graph[node] :\n",
        "            if distance[a] > dist+b :\n",
        "                distance[a] = dist+b\n",
        "                heapq.heappush(heap, (dist+b, a))\n",
        "    return distance\n",
        "\n",
        "n, m, x = map(int, input().split())\n",
        "graph1, graph2 = [[] for _ in range(n)], [[] for _ in range(n)]\n",
        "for _ in range(m) :\n",
        "    a,b,c = map(int, input().split())\n",
        "    graph1[a-1].append((b-1,z))\n",
        "    graph2[b-1].append((a-1,z))\n",
        "\n",
        "answer = [a+b for a,b in zip(start_to_all(x, graph1), start_to_all(x, graph2))]\n",
        "print(max(answer))\n",
        "#32548kb, 84ms"
      ],
      "execution_count": 20,
      "outputs": [
        {
          "output_type": "stream",
          "text": [
            "3 4 1\n",
            "1 2 1\n",
            "2 1 1\n",
            "3 1 1\n",
            "2 3 4\n",
            "[1, 0, 4]\n",
            "[1, 0, 2]\n",
            "6\n"
          ],
          "name": "stdout"
        }
      ]
    },
    {
      "cell_type": "code",
      "metadata": {
        "id": "zi2bLVEXM5r8"
      },
      "source": [
        "#1197 최소 스패닝 트리, 20210630, 프림알고리즘으로 풀었다. 나중에 크루스칼로도 풀어보자.\n",
        "import sys\n",
        "#input = sys.stdin.readline\n",
        "import heapq\n",
        "def solution(n, costs):\n",
        "    if n == 1 : return 0\n",
        "    answer = 0\n",
        "    graph = [[]*n for _ in range(n)]\n",
        "    for a,b,c in costs :\n",
        "        graph[a-1].append((b-1, c))\n",
        "        graph[b-1].append((a-1, c))\n",
        "    \n",
        "    i = 0\n",
        "    visited = [0]*n\n",
        "    visited[0] = 1\n",
        "    nums = []\n",
        "    for _ in range(n-1) :\n",
        "        for j, k in graph[i] :\n",
        "            heapq.heappush(nums, (k,j))\n",
        "        a, b = heapq.heappop(nums)\n",
        "        while visited[b] :\n",
        "            a, b = heapq.heappop(nums)\n",
        "        answer += a\n",
        "        i = b\n",
        "        visited[b] = 1\n",
        "    return answer\n",
        "\n",
        "n, m = map(int, input().split())\n",
        "costs = [map(int, input().split()) for _ in range(m)]\n",
        "print(solution(n, costs))\n",
        "#84920kb, 856ms"
      ],
      "execution_count": null,
      "outputs": []
    }
  ]
}