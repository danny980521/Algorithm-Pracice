{
  "nbformat": 4,
  "nbformat_minor": 0,
  "metadata": {
    "colab": {
      "name": "Data_Structure.ipynb",
      "provenance": [],
      "collapsed_sections": [],
      "authorship_tag": "ABX9TyMsaEPw4iJ0XkUgUtvSmaYk",
      "include_colab_link": true
    },
    "kernelspec": {
      "name": "python3",
      "display_name": "Python 3"
    },
    "language_info": {
      "name": "python"
    }
  },
  "cells": [
    {
      "cell_type": "markdown",
      "metadata": {
        "id": "view-in-github",
        "colab_type": "text"
      },
      "source": [
        "<a href=\"https://colab.research.google.com/github/danny980521/Algorithm-Pracice/blob/main/Data_Structure.ipynb\" target=\"_parent\"><img src=\"https://colab.research.google.com/assets/colab-badge.svg\" alt=\"Open In Colab\"/></a>"
      ]
    },
    {
      "cell_type": "code",
      "metadata": {
        "colab": {
          "base_uri": "https://localhost:8080/"
        },
        "id": "53_mXNZINu6e",
        "outputId": "bf1b04d9-b37c-4904-ac7a-d8e56016f7ee"
      },
      "source": [
        "#2161 카드1, 20210604\n",
        "from collections import deque\n",
        "\n",
        "n = int(input())\n",
        "a = deque(range(n))\n",
        "for i in range(n-1) :\n",
        "  print(a.popleft()+1, end = ' ')\n",
        "  a.append(a.popleft())\n",
        "print(a.popleft()+1)\n",
        "#31864kb, 96ms"
      ],
      "execution_count": null,
      "outputs": [
        {
          "output_type": "stream",
          "text": [
            "4\n",
            "1 3 2 4\n"
          ],
          "name": "stdout"
        }
      ]
    },
    {
      "cell_type": "code",
      "metadata": {
        "id": "Iae-Lg-oW5pu"
      },
      "source": [
        "#10828 스택, 20210604\n",
        "import sys\n",
        "from collections import deque\n",
        "\n",
        "def isEmpty(a) :\n",
        "  if len(a) == 0 :\n",
        "    return 1\n",
        "  else :\n",
        "    return 0\n",
        "\n",
        "n = int(sys.stdin.readline())\n",
        "st = deque()\n",
        "for i in range(n) :\n",
        "  b = sys.stdin.readline().rstrip()\n",
        "  if (b == 'pop') :\n",
        "    if isEmpty(st) :\n",
        "      print(-1)\n",
        "    else : print(st.pop())\n",
        "  elif (b == 'size') :\n",
        "    print(len(st))\n",
        "  elif (b == 'empty') :\n",
        "    print(isEmpty(st))\n",
        "  elif (b == 'top') :\n",
        "    if isEmpty(st) :\n",
        "      print(-1)\n",
        "    else : print(st[-1])\n",
        "  else :\n",
        "    st.append(int(b.split()[1]))\n",
        "\n"
      ],
      "execution_count": null,
      "outputs": []
    },
    {
      "cell_type": "code",
      "metadata": {
        "id": "qEZC6lw3nEqJ"
      },
      "source": [
        "#10828 2등 정답\n",
        "import sys\n",
        "\n",
        "stack = list()\n",
        "\n",
        "command = dict( # 람다 함수들을 딕셔너리 형태로 모아놓음\n",
        "    push=lambda x: stack.append(x), # 람다 형식으로 간단한 함수 구현\n",
        "    pop=lambda: stack.pop() if stack else -1, # if stack으로 stack이 비어있는지 여부 확인.\n",
        "    size=lambda: len(stack),\n",
        "    empty=lambda: 0 if stack else 1,\n",
        "    top=lambda: stack[-1] if stack else -1\n",
        "    )\n",
        "\n",
        "in_data = sys.stdin.readlines() # readlines() = 입력 한번에 받기\n",
        "for c in in_data[1:]: # 첫째줄은 개수라 안받음\n",
        "    c = c.strip() # 좌우 공백 제거\n",
        "    if c[:2] == 'pu':\n",
        "        command['push'](c.split()[1])\n",
        "    else:\n",
        "        print(command[c]())"
      ],
      "execution_count": null,
      "outputs": []
    },
    {
      "cell_type": "code",
      "metadata": {
        "id": "xSwTkAPIsXsT"
      },
      "source": [
        "#10845 큐, 20210604\n",
        "import sys\n",
        "qu = []\n",
        "\n",
        "command = dict(\n",
        "    push = lambda x : qu.append(x),\n",
        "    pop = lambda : qu.pop(0) if qu else -1,\n",
        "    size = lambda : len(qu),\n",
        "    empty = lambda : 0 if qu else 1,\n",
        "    front = lambda : qu[0] if qu else -1,\n",
        "    back = lambda : qu[-1] if qu else -1\n",
        ")\n",
        "\n",
        "a = sys.stdin.readlines()\n",
        "for i in a[1:] :\n",
        "  i = i.strip()\n",
        "  if i[:2] == 'pu' :\n",
        "    command['push'](i.split()[1])\n",
        "  else :\n",
        "    print(command[i]())"
      ],
      "execution_count": null,
      "outputs": []
    },
    {
      "cell_type": "code",
      "metadata": {
        "colab": {
          "base_uri": "https://localhost:8080/"
        },
        "id": "--ObOyVeZe1h",
        "outputId": "bc5fd34f-c6b1-4d6f-d804-2dd828dd6efb"
      },
      "source": [
        "#1158 요세푸스 문제, 20210604\n",
        "n, k = map(int, input().split())\n",
        "a = list(range(n))\n",
        "print('<', end = '')\n",
        "idx = k-1\n",
        "for i in range(n-1) :\n",
        "  idx %= n-i\n",
        "  print(a.pop(idx)+1, end = ', ')\n",
        "  idx += k-1\n",
        "print(a.pop()+1, end = '>')\n",
        "#29452kb, 72ms"
      ],
      "execution_count": null,
      "outputs": [
        {
          "output_type": "stream",
          "text": [
            "7 3\n",
            "<3, 6, 2, 7, 5, 1, 4>"
          ],
          "name": "stdout"
        }
      ]
    },
    {
      "cell_type": "code",
      "metadata": {
        "colab": {
          "base_uri": "https://localhost:8080/",
          "height": 269
        },
        "id": "rsJ3S_3TgvBN",
        "outputId": "84a39cd6-5706-4699-9899-963cc354e44f"
      },
      "source": [
        "#1874 스택 수열, 20210604\n",
        "#올라가는건 마음대로 가능\n",
        "#내려가는건 무조건 그 앞 인덱스\n",
        "import sys\n",
        "\n",
        "n = int(input())\n",
        "st = []\n",
        "ans = []\n",
        "last = 0\n",
        "for i in range(n) :\n",
        "  cur = int(input()) #cur = int(sys.stdin.readline())\n",
        "  if cur > last :\n",
        "    st.extend(list(range(last+1,cur)))\n",
        "    ans.extend(['+']*(cur-last))\n",
        "    last = cur\n",
        "  else :\n",
        "    if cur != st.pop() :\n",
        "      print(\"NO\")\n",
        "      sys.exit()\n",
        "  ans.append('-') \n",
        "\n",
        "for i in ans :\n",
        "  print(i)\n",
        "#31360kb, 264ms"
      ],
      "execution_count": null,
      "outputs": [
        {
          "output_type": "stream",
          "text": [
            "5\n",
            "1\n",
            "2\n",
            "5\n",
            "3\n",
            "NO\n"
          ],
          "name": "stdout"
        },
        {
          "output_type": "error",
          "ename": "SystemExit",
          "evalue": "ignored",
          "traceback": [
            "An exception has occurred, use %tb to see the full traceback.\n",
            "\u001b[0;31mSystemExit\u001b[0m\n"
          ]
        },
        {
          "output_type": "stream",
          "text": [
            "/usr/local/lib/python3.7/dist-packages/IPython/core/interactiveshell.py:2890: UserWarning: To exit: use 'exit', 'quit', or Ctrl-D.\n",
            "  warn(\"To exit: use 'exit', 'quit', or Ctrl-D.\", stacklevel=1)\n"
          ],
          "name": "stderr"
        }
      ]
    },
    {
      "cell_type": "code",
      "metadata": {
        "colab": {
          "base_uri": "https://localhost:8080/"
        },
        "id": "ax1-TmPt4e6-",
        "outputId": "8020e769-96d2-4c9e-bee9-1abec0d5eae5"
      },
      "source": [
        "#1874 3등 코드\n",
        "import sys\n",
        "\n",
        "n = int(sys.stdin.readline())\n",
        "p = map(lambda x: int(x.rstrip()), sys.stdin.readlines())\n",
        "\n",
        "def solution():\n",
        "    stack, result, cnt = [], [], 1\n",
        "    for i in p:\n",
        "        while cnt <= i: #while을 통해 위의 if cur > last 와 같은 물음을 생략할 수 있었다.\n",
        "            stack.append(cnt)\n",
        "            result.append('+')\n",
        "            cnt += 1\n",
        "        if stack.pop() != i:\n",
        "            return 'NO'\n",
        "        else:\n",
        "            result.append('-')\n",
        "    return '\\n'.join(result)\n",
        "\n",
        "print(solution())"
      ],
      "execution_count": null,
      "outputs": [
        {
          "output_type": "stream",
          "text": [
            "[1, 2, 3]\n"
          ],
          "name": "stdout"
        }
      ]
    },
    {
      "cell_type": "code",
      "metadata": {
        "colab": {
          "base_uri": "https://localhost:8080/"
        },
        "id": "KWk-h0dsEXYU",
        "outputId": "a4b83c5b-1cf9-4f55-a462-c1f7c5e7fa9d"
      },
      "source": [
        "#10773 제로, 20210604\n",
        "import sys\n",
        "\n",
        "n = int(input())\n",
        "nums = []\n",
        "ans = 0\n",
        "for i in range(n) :\n",
        "  num = int(input()) #num = int(sys.stdin.readline())\n",
        "  if num :\n",
        "    nums.append(num)\n",
        "    ans += num\n",
        "  else :\n",
        "    ans -= nums.pop()\n",
        "print(ans)\n",
        "#29980kb, 116ms"
      ],
      "execution_count": null,
      "outputs": [
        {
          "output_type": "stream",
          "text": [
            "10\n",
            "1\n",
            "3\n",
            "5\n",
            "4\n",
            "0\n",
            "0\n",
            "7\n",
            "0\n",
            "0\n",
            "6\n",
            "7\n"
          ],
          "name": "stdout"
        }
      ]
    },
    {
      "cell_type": "code",
      "metadata": {
        "colab": {
          "base_uri": "https://localhost:8080/"
        },
        "id": "41W5rndAGdYR",
        "outputId": "0ec5b063-6636-478e-fc12-fc2d6c757d4d"
      },
      "source": [
        "#10773 1등 코드\n",
        "from sys import stdin\n",
        "input()\n",
        "l=[]\n",
        "for i in map(int, stdin):\n",
        "    l.append(i) if i else l.pop()\n",
        "print(sum(l))"
      ],
      "execution_count": null,
      "outputs": [
        {
          "output_type": "stream",
          "text": [
            "10\n",
            "0\n"
          ],
          "name": "stdout"
        }
      ]
    },
    {
      "cell_type": "code",
      "metadata": {
        "colab": {
          "base_uri": "https://localhost:8080/"
        },
        "id": "S7wAtDPaWEh7",
        "outputId": "7e7e39f7-d605-4544-d235-0b243e12b5d1"
      },
      "source": [
        "#프로그래머스 - 기능개발, 20210605\n",
        "import math\n",
        "\n",
        "def solution(progresses, speeds):\n",
        "    answer = []\n",
        "    arr = []\n",
        "    a = 1\n",
        "    before = math.ceil((100-progresses[0])/speeds[0])\n",
        "    for i in range(1, len(speeds)) :\n",
        "        cur = math.ceil((100-progresses[i])/speeds[i])\n",
        "        if cur > before :\n",
        "            before = cur\n",
        "            answer.append(a)\n",
        "            a = 1\n",
        "        else : a += 1\n",
        "    answer.append(a)\n",
        "\n",
        "    return answer"
      ],
      "execution_count": null,
      "outputs": [
        {
          "output_type": "stream",
          "text": [
            "[4, 4, 4, 3, 4]\n"
          ],
          "name": "stdout"
        }
      ]
    },
    {
      "cell_type": "code",
      "metadata": {
        "id": "c1rWpMpxsEY8"
      },
      "source": [
        "#프로그래머스 - 기능개발 우수 풀이\n",
        "def solution(progresses, speeds):\n",
        "    Q=[]\n",
        "    for p, s in zip(progresses, speeds): #zip을 써줌으로써 인덱스 접근을 안해도 되게끔\n",
        "        if len(Q)==0 or Q[-1][0]<-((p-100)//s):#-((p-100)//s)는 math.ceil을 쓰지 않기위함.\n",
        "            Q.append([-((p-100)//s),1]) #Q에 [현재값,1]을 넣음.\n",
        "        else:\n",
        "            Q[-1][1]+=1\n",
        "    return [q[1] for q in Q] #파이써닉한 리턴 값"
      ],
      "execution_count": null,
      "outputs": []
    },
    {
      "cell_type": "code",
      "metadata": {
        "id": "qJyPdVeJzUKi"
      },
      "source": [
        "#프로그래머스 - 주식 가격, 20210605\n",
        "def solution(prices):\n",
        "    n = len(prices)\n",
        "    answer = [0]*n\n",
        "    for i in range(n-1) :\n",
        "        a = 1\n",
        "        for j in range(i+1, n-1) :\n",
        "            if (prices[i] <= prices[j]) :\n",
        "                a += 1\n",
        "            else :\n",
        "                break\n",
        "        answer[i] = a \n",
        "    return answer"
      ],
      "execution_count": null,
      "outputs": []
    },
    {
      "cell_type": "code",
      "metadata": {
        "id": "SlPHG883Bm_4"
      },
      "source": [
        "#프로그래머스 - 다리를 지나는 트럭, 20210605\n",
        "def solution(bridge_length, weight, truck_weights):\n",
        "    on_bridge = [0]*bridge_length\n",
        "    cur_weight = 0\n",
        "    answer = 0\n",
        "    a = truck_weights.pop(0)\n",
        "    while truck_weights:\n",
        "        on_bridge.pop(0)\n",
        "        answer += 1\n",
        "        cur_weight = sum(on_bridge)\n",
        "        if (a + cur_weight) > weight :\n",
        "            on_bridge.append(0)\n",
        "        else :\n",
        "            on_bridge.append(a)\n",
        "            a = truck_weights.pop(0)\n",
        "    while 1:\n",
        "        on_bridge.pop(0)\n",
        "        answer += 1\n",
        "        cur_weight = sum(on_bridge)\n",
        "        if (a + cur_weight) > weight :\n",
        "            on_bridge.append(0)\n",
        "        else :\n",
        "            on_bridge.append(a)\n",
        "            break\n",
        "    answer += len(on_bridge)\n",
        "\n",
        "    return answer"
      ],
      "execution_count": null,
      "outputs": []
    },
    {
      "cell_type": "code",
      "metadata": {
        "colab": {
          "base_uri": "https://localhost:8080/"
        },
        "id": "lZznQTV7B-ZO",
        "outputId": "753cc057-bffb-4093-b168-2394ccd88b4f"
      },
      "source": [
        "#13335 트럭, 20210606\n",
        "n, w, l = map(int, input().split())\n",
        "truck_weights = list(map(int, input().split()))\n",
        "print(solution(w,l,truck_weights)) #바로 위 다리를 지나는 트럭의 솔루션 함수다."
      ],
      "execution_count": null,
      "outputs": [
        {
          "output_type": "stream",
          "text": [
            "1 100 100\n",
            "10\n",
            "101\n"
          ],
          "name": "stdout"
        }
      ]
    },
    {
      "cell_type": "code",
      "metadata": {
        "id": "p67BHGr5FCzt"
      },
      "source": [
        "#13335 트럭 1등 답안\n",
        "import sys\n",
        "\n",
        "def solution(n, w, load, trucks):\n",
        "    # 변수 초기화\n",
        "    t_len = len(trucks)\n",
        "    timer = [0] * t_len\n",
        "    answer = 0\n",
        "    cur_capacity = trucks[0]\n",
        "    timer[0] = 1\n",
        "    # head 는 다음에 추가 할 트럭의 index\n",
        "    # tail 은 다음에 빼야 할 트럭의 index\n",
        "    head, tail = 0, 0\n",
        "    while tail < t_len:\n",
        "        # 0. 1초 흐름\n",
        "        answer += 1  # 1초 늘려\n",
        "        # 1. 트럭이 다리를 다 지나간 상황\n",
        "        if timer[tail] + w <= answer:\n",
        "            cur_capacity -= trucks[tail]\n",
        "            tail += 1\n",
        "        # 2. 더이상 올라올 트럭이 없음\n",
        "        if head + 1 >= t_len:\n",
        "            continue\n",
        "        # 3. 트럭이 다리에 더 올라올 수 있는 상황\n",
        "        if cur_capacity + trucks[head + 1] <= load:\n",
        "            cur_capacity += trucks[head + 1]\n",
        "            timer[head + 1] = answer\n",
        "            head += 1\n",
        "\n",
        "    return answer\n",
        "\n",
        "if __name__ == \"__main__\":\n",
        "    N, W, L = map(int, sys.stdin.readline().rstrip().split())\n",
        "    A = list(map(int, sys.stdin.readline().rstrip().split()))\n",
        "    print(solution(N, W, L, A))\n"
      ],
      "execution_count": null,
      "outputs": []
    },
    {
      "cell_type": "code",
      "metadata": {
        "id": "T20wz7ubDZS9"
      },
      "source": [
        "#프로그래머스 프린터, 20210606\n",
        "def solution(priorities, location):\n",
        "    answer = 0\n",
        "    maximum = max(priorities)\n",
        "    length = len(priorities)\n",
        "    while 1 :\n",
        "        if priorities[0] == maximum :\n",
        "            answer += 1\n",
        "            if location == 0 : return answer\n",
        "            priorities.pop(0)\n",
        "            maximum = max(priorities)\n",
        "            location -= 1\n",
        "            length -= 1\n",
        "        else :\n",
        "            if location : location -= 1\n",
        "            else : location = length - 1\n",
        "            priorities.append(priorities.pop(0))\n",
        "            \n",
        "    return answer"
      ],
      "execution_count": null,
      "outputs": []
    },
    {
      "cell_type": "code",
      "metadata": {
        "colab": {
          "base_uri": "https://localhost:8080/"
        },
        "id": "lAr1f3f8Dolx",
        "outputId": "614394f3-398d-437b-f156-a3b24beacd75"
      },
      "source": [
        "#1966 프린터 큐, 20210606\n",
        "n = int(input())\n",
        "for i in range(n) :\n",
        "  a, b = map(int, input().split())\n",
        "  priorities = list(map(int, input().split()))\n",
        "  print(solution(priorities,b))\n",
        "#29200kb, 76ms"
      ],
      "execution_count": null,
      "outputs": [
        {
          "output_type": "stream",
          "text": [
            "3\n",
            "1 0\n",
            "5\n",
            "1\n",
            "4 2\n",
            "1 2 3 4\n",
            "2\n",
            "6 0\n",
            "1 1 9 1 1 1\n",
            "5\n"
          ],
          "name": "stdout"
        }
      ]
    },
    {
      "cell_type": "code",
      "metadata": {
        "id": "9lFk6jnKHMME"
      },
      "source": [
        "#프로그래머스 프린터 우수풀이\n",
        "def solution(priorities, location):\n",
        "    queue =  [(i,p) for i,p in enumerate(priorities)] #queue는 (index, 우선순위)를 원소로 가지는 리스트. 리스트 내에서 원소가 뺑뻉이 돌아도 처음 위치를 잊지 않게 했다.\n",
        "    answer = 0\n",
        "    while True:\n",
        "        cur = queue.pop(0)\n",
        "        if any(cur[1] < q[1] for q in queue): #'큐에 있는 원소 중 하나라도 cur보다 우선순위가 높다면'을 any용법을 통해 표현. \n",
        "            queue.append(cur)\n",
        "        else:\n",
        "            answer += 1\n",
        "            if cur[0] == location:\n",
        "                return answer"
      ],
      "execution_count": null,
      "outputs": []
    },
    {
      "cell_type": "code",
      "metadata": {
        "colab": {
          "base_uri": "https://localhost:8080/"
        },
        "id": "Bx27fqWCH0Q4",
        "outputId": "7fdcd7c6-834d-4705-de8d-4201b42a0029"
      },
      "source": [
        "#9012 괄호, 20210606\n",
        "def VPS(a) :\n",
        "  left = 0 # 1등 풀이에선 left,right를 두지 않고 변수를 하나만 써서 (이면 +1, 반대면 -1을 수행했다. 이게 메모리, 시간적으로 나을 듯.\n",
        "  right = 0\n",
        "  for i in a :\n",
        "    if i == '(' :\n",
        "      left += 1\n",
        "    else :\n",
        "      if left == right :\n",
        "        return \"NO\"\n",
        "      right += 1\n",
        "  if left != right :\n",
        "    return \"NO\"\n",
        "  return \"YES\"\n",
        "\n",
        "n = int(input())\n",
        "for i in range(n) :\n",
        "  print(VPS(input()))\n",
        "#29200kb, 80ms"
      ],
      "execution_count": null,
      "outputs": [
        {
          "output_type": "stream",
          "text": [
            "6\n",
            "(())())\n",
            "NO\n",
            "(((()())()\n",
            "NO\n",
            "(()())((()))\n",
            "YES\n",
            "((()()(()))(((())))()\n",
            "NO\n",
            "()()()()(()()())()\n",
            "YES\n",
            "(()((())()(\n",
            "NO\n"
          ],
          "name": "stdout"
        }
      ]
    },
    {
      "cell_type": "code",
      "metadata": {
        "colab": {
          "base_uri": "https://localhost:8080/"
        },
        "id": "RerbahdpRGVS",
        "outputId": "c2118abd-66e0-4b77-e8b1-5193be76351c"
      },
      "source": [
        "#1021 회전하는 큐, 20210606\n",
        "#원소를 뽑아낼 때마다 위치 표시를 최신화해주자.\n",
        "#5를 뽑아낸 경우, length는 1감소하며 6은 0으로, 4는 length-1이 되면 된다.\n",
        "#이전 인덱스를 x라 하면 (x-이전에 빠진 인덱스+length)%length+1가 새 인덱스가 된다.\n",
        "#뽑아낼 때마다 뽑는데 필요한 회전 수를 계산해야한다.\n",
        "#뽑아내야할 인덱스가 length//2 보다 작거나 같다면 그 인덱스가 정답.\n",
        "#아니라면 length-인덱스가 정답. 이건 그냥 min 쓰자.\n",
        "length, m = map(int, input().split())\n",
        "idxs = list(map(int, input().split()))\n",
        "idxs = [x-1 for x in idxs]\n",
        "answer = 0\n",
        "for i in range(m) :\n",
        "  target = idxs.pop(0)\n",
        "  move = min(target, length-target)\n",
        "  answer += move\n",
        "  length -= 1\n",
        "  idxs = [((x-target+length)%(length+1)) for x in idxs]\n",
        "print(answer)\n",
        "#29200kb, 76ms"
      ],
      "execution_count": null,
      "outputs": [
        {
          "output_type": "stream",
          "text": [
            "10 10\n",
            "1 6 3 2 7 9 8 4 10 5\n",
            "14\n"
          ],
          "name": "stdout"
        }
      ]
    },
    {
      "cell_type": "code",
      "metadata": {
        "id": "gqk1R_vjaXGE"
      },
      "source": [
        "#1021 회전하는 큐 1등 풀이\n",
        "n, m = map(int, input().split())\n",
        "dq = [i for i in range(1, n+1)]\n",
        "\n",
        "ans = 0\n",
        "\n",
        "for find in map(int, input().split()):\n",
        "    ix = dq.index(find)\n",
        "    ans += min(len(dq[ix:]), len(dq[:ix]))\n",
        "    dq = dq[ix+1:] + dq[:ix] #최초 인덱스를 저장해놓은 dq를 회전시켜 풀었다!\n",
        "\n",
        "print(ans)"
      ],
      "execution_count": null,
      "outputs": []
    },
    {
      "cell_type": "code",
      "metadata": {
        "id": "g7LkBA72fdOE"
      },
      "source": [
        "#프로그래머스 짝지어 제거하기, 20210609\n",
        "def solution(s):\n",
        "    length = len(s)\n",
        "    if length%2 : return 0\n",
        "    s = list(s)\n",
        "    arr = []\n",
        "    while s:\n",
        "        a = s.pop()\n",
        "        if arr : \n",
        "            b = arr.pop()\n",
        "            if a != b :\n",
        "                arr.extend([b,a])\n",
        "        else : arr.append(a)\n",
        "    return 1 if len(arr) == 0 else 0 "
      ],
      "execution_count": null,
      "outputs": []
    },
    {
      "cell_type": "code",
      "metadata": {
        "id": "vuJk_w0Rfm-j"
      },
      "source": [
        "#프로그래머스 짝지어 제거하기 우수풀이\n",
        "def solution(s):\n",
        "    answer = []\n",
        "    for i in s:\n",
        "        if not(answer):\n",
        "            answer.append(i)\n",
        "        else:\n",
        "            if(answer[-1] == i):\n",
        "                answer.pop()\n",
        "            else:\n",
        "                answer.append(i)    \n",
        "    return not(answer)"
      ],
      "execution_count": null,
      "outputs": []
    },
    {
      "cell_type": "code",
      "metadata": {
        "id": "CTQg3eCmn-gt"
      },
      "source": [
        "#프로그래머스 더 맵게, 20210610\n",
        "import heapq\n",
        "\n",
        "def solution(scoville, K):\n",
        "    answer = 0\n",
        "    length = len(scoville)\n",
        "    heapq.heapify(scoville)\n",
        "    while length > 1 :\n",
        "        a = heapq.heappop(scoville)\n",
        "        if a >= K : return answer\n",
        "        b = heapq.heappop(scoville)\n",
        "        if b >= K : return answer+1\n",
        "        scoville.append(a+2*b)\n",
        "        answer += 1\n",
        "        length -= 1\n",
        "    return -1 if scoville[0] < K else answer"
      ],
      "execution_count": null,
      "outputs": []
    },
    {
      "cell_type": "code",
      "metadata": {
        "id": "DaE7ak03s8a8"
      },
      "source": [
        "#프로그래머스 더 맵게 우수풀이\n",
        "import heapq as hq\n",
        "\n",
        "def solution(scoville, K):\n",
        "\n",
        "    hq.heapify(scoville)\n",
        "    answer = 0\n",
        "    while True:\n",
        "        first = hq.heappop(scoville)\n",
        "        if first >= K:\n",
        "            break\n",
        "        if len(scoville) == 0: #길이 검사 후 브레이크를 첫번째원소 꺼내고 실행\n",
        "            return -1\n",
        "        second = hq.heappop(scoville)\n",
        "        hq.heappush(scoville, first + second*2)\n",
        "        answer += 1  \n",
        "\n",
        "    return answer"
      ],
      "execution_count": null,
      "outputs": []
    },
    {
      "cell_type": "code",
      "metadata": {
        "colab": {
          "base_uri": "https://localhost:8080/"
        },
        "id": "G6nIPco4qo7A",
        "outputId": "bc8e512b-2413-451b-f60e-05df11fe6a98"
      },
      "source": [
        "#1927 최소 힙, 20210610\n",
        "import heapq\n",
        "import sys\n",
        "\n",
        "n = int(sys.stdin.readline())\n",
        "arr = []\n",
        "length = 0\n",
        "heapq.heapify(arr)\n",
        "for i in range(n) :\n",
        "    a = int(sys.stdin.readline())\n",
        "    if a == 0 :\n",
        "        if length == 0 : print(0)\n",
        "        else : \n",
        "          print(heapq.heappop(arr))\n",
        "          length -= 1\n",
        "    else :\n",
        "        heapq.heappush(arr,a) \n",
        "        length += 1   "
      ],
      "execution_count": null,
      "outputs": [
        {
          "output_type": "stream",
          "text": [
            "9\n",
            "0\n",
            "0\n",
            "12345678\n",
            "1\n",
            "2\n",
            "0\n",
            "1\n",
            "0\n",
            "2\n",
            "0\n",
            "12345678\n",
            "0\n",
            "0\n",
            "32\n"
          ],
          "name": "stdout"
        }
      ]
    },
    {
      "cell_type": "code",
      "metadata": {
        "id": "SJbAqtouuqFQ"
      },
      "source": [
        "#1927 최소 힙 2등 풀이\n",
        "import heapq as h,sys;a=[];input()\n",
        "for n in map(int,sys.stdin):h.heappush(a,n)if n else print(a and h.heappop(a)or 0)"
      ],
      "execution_count": null,
      "outputs": []
    },
    {
      "cell_type": "code",
      "metadata": {
        "colab": {
          "base_uri": "https://localhost:8080/"
        },
        "id": "8RymdnoSxMBj",
        "outputId": "34b7761d-ea00-48fb-f61c-3b1ee6fce580"
      },
      "source": [
        "#11279 최대 힙, 20210610\n",
        "import heapq\n",
        "import sys\n",
        "\n",
        "n = int(input()) #int(sys.stdin.readline())\n",
        "arr = []\n",
        "length = 0\n",
        "heapq.heapify(arr)\n",
        "for i in range(n) :\n",
        "    a = int(input())\n",
        "    if a == 0 : #int(sys.stdin.readline())\n",
        "        if length == 0 : print(0)\n",
        "        else : \n",
        "          print(-(heapq.heappop(arr)))\n",
        "          length -= 1\n",
        "    else :\n",
        "        heapq.heappush(arr,-a) \n",
        "        length += 1   "
      ],
      "execution_count": null,
      "outputs": [
        {
          "output_type": "stream",
          "text": [
            "13\n",
            "0\n",
            "0\n",
            "1\n",
            "2\n",
            "0\n",
            "2\n",
            "0\n",
            "1\n",
            "3\n",
            "2\n",
            "1\n",
            "0\n",
            "3\n",
            "0\n",
            "2\n",
            "0\n",
            "1\n",
            "0\n",
            "0\n",
            "0\n",
            "0\n"
          ],
          "name": "stdout"
        }
      ]
    },
    {
      "cell_type": "code",
      "metadata": {
        "id": "m73alvR20VH0"
      },
      "source": [
        "#11286 절댓값 힙, 20210610\n",
        "import heapq\n",
        "import sys\n",
        "\n",
        "n = int(sys.stdin.readline())\n",
        "arr = []\n",
        "length = 0\n",
        "heapq.heapify(arr)\n",
        "for i in range(n) :\n",
        "    a = int(sys.stdin.readline())\n",
        "    if a == 0 :\n",
        "        if length == 0 : print(0)\n",
        "        else : \n",
        "          a, b = heapq.heappop(arr)\n",
        "          print(a*b)\n",
        "          length -= 1\n",
        "    else :\n",
        "        if a < 0:\n",
        "            heapq.heappush(arr,(-a, -1)) \n",
        "        else : heapq.heappush(arr,(a, 1)) \n",
        "        length += 1     "
      ],
      "execution_count": null,
      "outputs": []
    },
    {
      "cell_type": "code",
      "metadata": {
        "id": "1ILB0a5_s7mJ",
        "colab": {
          "base_uri": "https://localhost:8080/"
        },
        "outputId": "1ba04b95-f7e1-4cac-c747-1c817ff2133e"
      },
      "source": [
        "#2161 카드2, 20210614\n",
        "from collections import deque\n",
        "\n",
        "n = int(input())\n",
        "a = deque(range(n))\n",
        "for i in range(n-1) :\n",
        "  a.popleft()\n",
        "  a.append(a.popleft())\n",
        "print(a.popleft()+1)\n",
        "#50704kb, 204ms"
      ],
      "execution_count": null,
      "outputs": [
        {
          "output_type": "stream",
          "text": [
            "6\n",
            "4\n"
          ],
          "name": "stdout"
        }
      ]
    },
    {
      "cell_type": "code",
      "metadata": {
        "id": "Tfb1hlraS7TX"
      },
      "source": [
        "#프로그래머스 디스크 컨트롤러, 20210624\n",
        "import heapq\n",
        "\n",
        "def solution(jobs):\n",
        "    jobs.sort()\n",
        "    answer = 0\n",
        "    l = len(jobs)\n",
        "    todo = [jobs[0][::-1]]\n",
        "    heapq.heapify(todo)\n",
        "    time = jobs[0][0]\n",
        "    i = 1\n",
        "    while(todo) :\n",
        "        a, b = heapq.heappop(todo)\n",
        "        time += a\n",
        "        answer += time - b\n",
        "        while i < l :\n",
        "            if jobs[i][0] > time : break\n",
        "            heapq.heappush(todo, jobs[i][::-1])\n",
        "            i += 1\n",
        "        if not todo and i < l :\n",
        "            heapq.heappush(todo, jobs[i][::-1])\n",
        "            time = jobs[i][0]\n",
        "            i += 1\n",
        "    return answer//l"
      ],
      "execution_count": null,
      "outputs": []
    },
    {
      "cell_type": "code",
      "metadata": {
        "colab": {
          "base_uri": "https://localhost:8080/"
        },
        "id": "gPevS9iJ2L5i",
        "outputId": "44e225f0-dbbf-4b89-f725-023e9c76cf71"
      },
      "source": [
        "#프로그래머스 이중우선순위큐, 20210624\n",
        "#https://www.acmicpc.net/board/view/57305 참고해 백준 문제도 풀자.\n",
        "import heapq\n",
        "def solution(operations):\n",
        "    answer = []\n",
        "    l = 0\n",
        "    h = []\n",
        "    heapq.heapify(h)\n",
        "    for oper in operations :\n",
        "        if oper[0] == 'I' : \n",
        "            heapq.heappush(h, int(oper[2:]))\n",
        "            l += 1\n",
        "        elif l :\n",
        "            if oper[2] == '-' : \n",
        "                heapq.heappop(h)\n",
        "                l -= 1\n",
        "            else :\n",
        "                h.sort()\n",
        "                h = h[:-1]\n",
        "                l -= 1\n",
        "    h.sort()\n",
        "    return [h[-1], h[0]] if l else [0,0]"
      ],
      "execution_count": 1,
      "outputs": [
        {
          "output_type": "stream",
          "text": [
            "[1, 1]\n"
          ],
          "name": "stdout"
        }
      ]
    }
  ]
}