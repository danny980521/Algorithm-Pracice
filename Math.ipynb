{
  "nbformat": 4,
  "nbformat_minor": 0,
  "metadata": {
    "colab": {
      "name": "Math.ipynb",
      "provenance": [],
      "collapsed_sections": [],
      "authorship_tag": "ABX9TyP76sIVzkzuRaGRgEgvWdVv",
      "include_colab_link": true
    },
    "kernelspec": {
      "name": "python3",
      "display_name": "Python 3"
    },
    "language_info": {
      "name": "python"
    }
  },
  "cells": [
    {
      "cell_type": "markdown",
      "metadata": {
        "id": "view-in-github",
        "colab_type": "text"
      },
      "source": [
        "<a href=\"https://colab.research.google.com/github/danny980521/Algorithm-Pracice/blob/main/Math.ipynb\" target=\"_parent\"><img src=\"https://colab.research.google.com/assets/colab-badge.svg\" alt=\"Open In Colab\"/></a>"
      ]
    },
    {
      "cell_type": "code",
      "metadata": {
        "id": "8LsDAcj2XkxI"
      },
      "source": [
        "#프로그래머스 약수의 개수와 덧셈, 20210607\n",
        "def solution(left, right):\n",
        "    for i in range(1, 33) :\n",
        "        if i**2 >= left :\n",
        "            start = i\n",
        "            break\n",
        "    for i in range(start, 34) :\n",
        "        if i**2 > right :\n",
        "            end = i\n",
        "            break\n",
        "    answer = (left + right)*(right-left+1)/2 - 2*(sum(i**2 for i in range(start, end)))\n",
        "    return answer"
      ],
      "execution_count": null,
      "outputs": []
    },
    {
      "cell_type": "code",
      "metadata": {
        "id": "_bPrzzWTYD2m"
      },
      "source": [
        "#프로그래머스 약수의 개수와 덧셈 우수풀이, 내 풀이는 최대 34번 반복문을 도는데 이건 최대 1000번 돈다.\n",
        "def solution(left, right):\n",
        "    answer = 0\n",
        "    for i in range(left,right+1):\n",
        "        if int(i**0.5)==i**0.5:\n",
        "            answer -= i\n",
        "        else:\n",
        "            answer += i\n",
        "    return answer"
      ],
      "execution_count": null,
      "outputs": []
    },
    {
      "cell_type": "code",
      "metadata": {
        "id": "j9trus6jBXS6"
      },
      "source": [
        "#프로그래머스 행렬의 곱셈, 20210613\n",
        "def solution(arr1, arr2):\n",
        "    answer = []\n",
        "    for i in range(len(arr1)) :\n",
        "        arr3 = []\n",
        "        for j in range(len(arr2[0])):\n",
        "            a = 0\n",
        "            for k in range(len(arr2)) :\n",
        "                a += arr1[i][k] * arr2[k][j]\n",
        "            arr3.append(a)    \n",
        "        answer.append(arr3)  \n",
        "    return answer"
      ],
      "execution_count": null,
      "outputs": []
    },
    {
      "cell_type": "code",
      "metadata": {
        "colab": {
          "base_uri": "https://localhost:8080/"
        },
        "id": "oT3og_VYOoRk",
        "outputId": "7fd15633-29ce-42b4-ec00-ea9cb5637469"
      },
      "source": [
        "#2740 행렬 곱셈, 20210613\n",
        "arr1, arr2 = [], []\n",
        "n, m = map(int, input().split())\n",
        "for i in range(n) :\n",
        "    arr1.append(list(map(int, input().split())))\n",
        "m, k = map(int, input().split())\n",
        "for i in range(m) :\n",
        "    arr2.append(list(map(int, input().split())))\n",
        "arr3 = solution(arr1, arr2)\n",
        "for i in arr3:\n",
        "  for j in i :\n",
        "    print(j, end = ' ')\n",
        "  print('')\n",
        "#29790kb, 156ms"
      ],
      "execution_count": null,
      "outputs": [
        {
          "output_type": "stream",
          "text": [
            "3 2\n",
            "1 2\n",
            "3 4\n",
            "5 6\n",
            "2 3\n",
            "-1 -2 0\n",
            "0 0 3\n",
            "-1 -2 6 \n",
            "-3 -6 12 \n",
            "-5 -10 18 \n"
          ],
          "name": "stdout"
        }
      ]
    },
    {
      "cell_type": "code",
      "metadata": {
        "id": "j4D7zu_hRXpx"
      },
      "source": [
        "#프로그래머스 행렬의 곱셈 우수풀이, zip으로 묶은거슬 풀어주는 용도로 *을 쓰는데, 이를 역이용해 행렬의 행,열 변환으로 zip(*B)를 사용. 암기하자!\n",
        "def productMatrix(A, B):\n",
        "    return [[sum(a*b for a, b in zip(A_row,B_col)) for B_col in zip(*B)] for A_row in A]"
      ],
      "execution_count": null,
      "outputs": []
    },
    {
      "cell_type": "code",
      "metadata": {
        "colab": {
          "base_uri": "https://localhost:8080/"
        },
        "id": "4WaFR-sTCSf-",
        "outputId": "8149bc1d-ff57-44b2-e6fc-02bfbcf7dad4"
      },
      "source": [
        "#1259 팰린드롬수, 20210614\n",
        "while 1 :\n",
        "  n = input()\n",
        "  if n == '0' : break\n",
        "  for i in range(len(n)//2) :\n",
        "    if n[i] != n[-i-1] :\n",
        "      print('no')\n",
        "      break\n",
        "  else : print('yes')\n",
        "#29200kb, 68ms"
      ],
      "execution_count": null,
      "outputs": [
        {
          "output_type": "stream",
          "text": [
            "121\n",
            "yes\n",
            "1231\n",
            "no\n",
            "12421\n",
            "yes\n",
            "0\n"
          ],
          "name": "stdout"
        }
      ]
    },
    {
      "cell_type": "code",
      "metadata": {
        "colab": {
          "base_uri": "https://localhost:8080/"
        },
        "id": "9Q3UNwlQQQyw",
        "outputId": "443561d5-3cc2-4437-c8be-36b242ca4a09"
      },
      "source": [
        "#1978 소수 찾기\n",
        "#import sys\n",
        "#input = sys.stdin.readline()\n",
        "n = int(input())\n",
        "for i in map(int, input().split()) :\n",
        "    if i == 1:\n",
        "        n -= 1\n",
        "        continue\n",
        "    for j in range(2, int(i**.5)+1) :\n",
        "        if i%j == 0:\n",
        "            n -= 1\n",
        "            break\n",
        "print(n)\n",
        "#29200kb, 68ms"
      ],
      "execution_count": null,
      "outputs": [
        {
          "output_type": "stream",
          "text": [
            "4\n",
            "1 3 5 7\n",
            "3\n"
          ],
          "name": "stdout"
        }
      ]
    },
    {
      "cell_type": "code",
      "metadata": {
        "colab": {
          "base_uri": "https://localhost:8080/"
        },
        "id": "lWnzuodfsJJD",
        "outputId": "3b5ab757-56fe-4629-af5b-f2eaeca6e7cb"
      },
      "source": [
        "#2609 최대공약수와 최소공배수, 20210614\n",
        "import math\n",
        "a, b = map(int, input().split())\n",
        "c = math.gcd(a,b)\n",
        "print(c)\n",
        "print(a*b//c)\n",
        "#31312kb, 68ms"
      ],
      "execution_count": null,
      "outputs": [
        {
          "output_type": "stream",
          "text": [
            "24 18\n",
            "6\n",
            "72\n"
          ],
          "name": "stdout"
        }
      ]
    },
    {
      "cell_type": "code",
      "metadata": {
        "id": "a8rxPGBKuiLC"
      },
      "source": [
        "#2609 최대공약수와 최소공배수 1등 코드, 정석 중 정석이다.\n",
        "def gcd(x, y):\n",
        "    if y != 0:\n",
        "        return gcd(y, x%y)\n",
        "    else :\n",
        "        return x\n",
        "def lcm(x, y):\n",
        "    return (x*y)//gcd(x,y)\n",
        "N, M = map(int, input().split())\n",
        "\n",
        "print(gcd(N, M))\n",
        "print(lcm(N, M))"
      ],
      "execution_count": null,
      "outputs": []
    },
    {
      "cell_type": "code",
      "metadata": {
        "id": "08ZiOpdCTdvn"
      },
      "source": [
        "#15469 N과 M (1), 20210618\n",
        "from itertools import permutations\n",
        "n, m = map(int, input().split())\n",
        "print('\\n'.join([' '.join(map(str, i)) for i in permutations(range(1,n+1),m)]))\n",
        "#32388kb, 132ms"
      ],
      "execution_count": null,
      "outputs": []
    },
    {
      "cell_type": "code",
      "metadata": {
        "id": "Jr8F_6LwWPSN"
      },
      "source": [
        "#15469 N과 M (1) 1등 코드\n",
        "from itertools import permutations\n",
        "\n",
        "N, M = map(int, input().split())\n",
        "li = map(str, range(1, N+1))\n",
        "print('\\n'.join(map(' '.join,permutations(li, M)))) #join을 맵에 적용되는 함수로 사용"
      ],
      "execution_count": null,
      "outputs": []
    },
    {
      "cell_type": "code",
      "metadata": {
        "colab": {
          "base_uri": "https://localhost:8080/"
        },
        "id": "5AYGzTrqW-ZJ",
        "outputId": "07076850-126b-4487-ab44-eac5caae5abe"
      },
      "source": [
        "#15650 N과 M (2), 20210618\n",
        "from itertools import combinations\n",
        "n, m = map(int, input().split())\n",
        "print('\\n'.join(map(' '.join, combinations(map(str, range(1,n+1)),m))))"
      ],
      "execution_count": null,
      "outputs": [
        {
          "output_type": "stream",
          "text": [
            "4 4\n",
            "1 2 3 4\n"
          ],
          "name": "stdout"
        }
      ]
    },
    {
      "cell_type": "code",
      "metadata": {
        "id": "fp0XYdw_ZbiW"
      },
      "source": [
        "#15651 N과 M (3), 20210618\n",
        "from itertools import product\n",
        "n, m = map(int, input().split())\n",
        "print('\\n'.join(map(' '.join, product(map(str, range(1,n+1)),repeat=m))))\n",
        "#99200kb, 240ms"
      ],
      "execution_count": null,
      "outputs": []
    },
    {
      "cell_type": "code",
      "metadata": {
        "colab": {
          "base_uri": "https://localhost:8080/"
        },
        "id": "cXnvOOVyaTJW",
        "outputId": "f76b38b7-93e2-4308-f3c6-b93913ceb727"
      },
      "source": [
        "#15652 N과 M (4), 20210618\n",
        "from itertools import combinations_with_replacement\n",
        "n, m = map(int, input().split())\n",
        "print('\\n'.join(map(' '.join, combinations_with_replacement(map(str, range(1,n+1)),m))))\n",
        "#29452kb, 68ms"
      ],
      "execution_count": null,
      "outputs": [
        {
          "output_type": "stream",
          "text": [
            "3 3\n",
            "1 1 1\n",
            "1 1 2\n",
            "1 1 3\n",
            "1 2 2\n",
            "1 2 3\n",
            "1 3 3\n",
            "2 2 2\n",
            "2 2 3\n",
            "2 3 3\n",
            "3 3 3\n"
          ],
          "name": "stdout"
        }
      ]
    },
    {
      "cell_type": "code",
      "metadata": {
        "colab": {
          "base_uri": "https://localhost:8080/"
        },
        "id": "3Eq2wrYig6mF",
        "outputId": "dc9547b0-45dd-4844-aec6-6429cda60d1d"
      },
      "source": [
        "#15654 N과 M (5), 20210618\n",
        "from itertools import permutations\n",
        "n, m = map(int, input().split())\n",
        "print('\\n'.join(map(' '.join, permutations(sorted(input().split(), key = lambda x : (len(x),x)),m))))\n",
        "#34536kb, 76ms "
      ],
      "execution_count": null,
      "outputs": [
        {
          "output_type": "stream",
          "text": [
            "3 1\n",
            "4 4 2\n",
            "2\n",
            "4\n",
            "4\n"
          ],
          "name": "stdout"
        }
      ]
    },
    {
      "cell_type": "code",
      "metadata": {
        "colab": {
          "base_uri": "https://localhost:8080/"
        },
        "id": "cQ_6G_e9kMf5",
        "outputId": "3bd7574e-8db9-40b3-dd4b-425b7fc71b6b"
      },
      "source": [
        "#15655 N과 M (6), 20210618\n",
        "from itertools import combinations\n",
        "m = int(input().split()[1])\n",
        "print('\\n'.join(map(' '.join, combinations(sorted(input().split(), key = lambda x : (len(x),x)),m))))\n",
        "#29200kb, 68ms "
      ],
      "execution_count": null,
      "outputs": [
        {
          "output_type": "stream",
          "text": [
            "4 4\n",
            "123 1234 12 1\n",
            "1 12 123 1234\n"
          ],
          "name": "stdout"
        }
      ]
    },
    {
      "cell_type": "code",
      "metadata": {
        "colab": {
          "base_uri": "https://localhost:8080/"
        },
        "id": "aPnHuS4nlmOf",
        "outputId": "fec8956f-1ac7-45b4-b12d-98783e6fb11f"
      },
      "source": [
        "#15656 N과 M (7), 20210618\n",
        "from itertools import product\n",
        "m = int(input().split()[1])\n",
        "print('\\n'.join(map(' '.join, product(sorted(input().split(), key = lambda x : (len(x),x)),repeat = m))))\n",
        "#136756kb, 296ms "
      ],
      "execution_count": null,
      "outputs": [
        {
          "output_type": "stream",
          "text": [
            "4 2\n",
            "9 8 7 1\n",
            "1 1\n",
            "1 7\n",
            "1 8\n",
            "1 9\n",
            "7 1\n",
            "7 7\n",
            "7 8\n",
            "7 9\n",
            "8 1\n",
            "8 7\n",
            "8 8\n",
            "8 9\n",
            "9 1\n",
            "9 7\n",
            "9 8\n",
            "9 9\n"
          ],
          "name": "stdout"
        }
      ]
    },
    {
      "cell_type": "code",
      "metadata": {
        "colab": {
          "base_uri": "https://localhost:8080/"
        },
        "id": "e0HaMPddmpNo",
        "outputId": "048fce7b-347d-4131-d640-1a9d3517ad51"
      },
      "source": [
        "#15657 N과 M (8), 20210618\n",
        "from itertools import combinations_with_replacement\n",
        "m = int(input().split()[1])\n",
        "print('\\n'.join(map(' '.join, combinations_with_replacement(sorted(input().split(), key = lambda x : (len(x),x)), m))))\n",
        "#29708kb, 68ms "
      ],
      "execution_count": null,
      "outputs": [
        {
          "output_type": "stream",
          "text": [
            "4 2\n",
            "9 8 7 1\n",
            "1 1\n",
            "1 7\n",
            "1 8\n",
            "1 9\n",
            "7 7\n",
            "7 8\n",
            "7 9\n",
            "8 8\n",
            "8 9\n",
            "9 9\n"
          ],
          "name": "stdout"
        }
      ]
    },
    {
      "cell_type": "code",
      "metadata": {
        "colab": {
          "base_uri": "https://localhost:8080/"
        },
        "id": "XYwB9xhSt6hd",
        "outputId": "14a893bd-d2ea-4f6a-a511-d9abe9cc83b4"
      },
      "source": [
        "#2407 조합, 20210619\n",
        "from math import factorial as f\n",
        "n, m = map(int, input().split())\n",
        "print(f(n)//(f(m)*f(n-m)))\n",
        "#31312kb, 68ms\n",
        "\n",
        "#다른 풀이\n",
        "n, m = map(int, input().split())\n",
        "a ,b = 1, 1\n",
        "for i in range(n-m if m > n/2 else m ) :\n",
        "    a *= n-i\n",
        "    b *= i+1\n",
        "print(a//b)\n",
        "#29200kb, 64ms"
      ],
      "execution_count": null,
      "outputs": [
        {
          "output_type": "stream",
          "text": [
            "100 50\n",
            "100891344545564193334812497256\n",
            "100 50\n",
            "11078920542458216448000000\n"
          ],
          "name": "stdout"
        }
      ]
    },
    {
      "cell_type": "code",
      "metadata": {
        "id": "s05Or8Q9ybBw"
      },
      "source": [
        "#2407 조합 1등 풀이.\n",
        "inp=input().split()\n",
        "n = int(inp[0])\n",
        "m = int(inp[1])\n",
        "if n-m<m:\n",
        "\tm=n-m\n",
        "r=1\n",
        "for i in range(m):\n",
        "\tr=r*(n-i)//(i+1) #r*=(n-i)//(i+1)으로 쓰면 틀리게 된다. 왜 그럴까?\n",
        "print(r)"
      ],
      "execution_count": null,
      "outputs": []
    },
    {
      "cell_type": "code",
      "metadata": {
        "id": "KsgLrnjpK_fu"
      },
      "source": [
        "#6603 로또, 20210619\n",
        "from itertools import combinations\n",
        "while 1 :\n",
        "    a = input()\n",
        "    if a == '0' : break\n",
        "    print('\\n'.join(map(' '.join, combinations(a.split()[1:],6))))\n",
        "    print('')\n",
        "#29200kb, 64ms"
      ],
      "execution_count": null,
      "outputs": []
    },
    {
      "cell_type": "code",
      "metadata": {
        "colab": {
          "base_uri": "https://localhost:8080/"
        },
        "id": "TDSVfKY8plH-",
        "outputId": "2d4cc853-dd09-44ee-bfb8-d98390625682"
      },
      "source": [
        "#12785 토쟁이의 등굣길, 20210620\n",
        "from math import factorial as f\n",
        "\n",
        "def comb(a, b) :\n",
        "    return f(a+b)//(f(a)*f(b))\n",
        "\n",
        "a, b = map(int, input().split())\n",
        "c, d = map(int, input().split())\n",
        "print((comb(c-1, d-1)*comb(a-c, b-d))%1000007)\n",
        "#31312kb, 68ms"
      ],
      "execution_count": null,
      "outputs": [
        {
          "output_type": "stream",
          "text": [
            "3 2\n",
            "2 2\n",
            "2\n"
          ],
          "name": "stdout"
        }
      ]
    },
    {
      "cell_type": "code",
      "metadata": {
        "colab": {
          "base_uri": "https://localhost:8080/"
        },
        "id": "3b8Q9XqSrx_W",
        "outputId": "0bebc6f6-4862-4dad-b3f0-bc70857741c4"
      },
      "source": [
        "#16134 조합, 20210620 - 90점 짜리 답안이다. 모듈러 역원 구하는 법 공부해서 다시 풀어보자.\n",
        "n, r = map(int, input().split())\n",
        "r = n-r if n < 2*r else r\n",
        "answer = 1\n",
        "for i in range(1, r+1) :\n",
        "    answer = answer*(n-i+1)//i\n",
        "print(answer%1000000007)"
      ],
      "execution_count": null,
      "outputs": [
        {
          "output_type": "stream",
          "text": [
            "1000 3\n",
            "166167000\n"
          ],
          "name": "stdout"
        }
      ]
    },
    {
      "cell_type": "code",
      "metadata": {
        "id": "sIicp9fkQe8a"
      },
      "source": [
        "#프로그래머스 줄 서는\u001c방법, 20210624\n",
        "from math import factorial as f\n",
        "def solution(n, k) :\n",
        "    notused = [i for i in range(1, n+1)]\n",
        "    answer = []\n",
        "    for i in range(n) :\n",
        "        a = notused[(k-1)//f(n-i-1)]\n",
        "        answer.append(a)\n",
        "        notused.remove(a)\n",
        "        k %= f(n-i-1)\n",
        "    return answer"
      ],
      "execution_count": null,
      "outputs": []
    },
    {
      "cell_type": "code",
      "metadata": {
        "id": "hnf7J_7LQ8Jx"
      },
      "source": [
        "#프로그래머스 줄 서는\u001c방법 우수풀이\n",
        "def setAlign(n, k):\n",
        "    from math import factorial\n",
        "    answer = []\n",
        "    order = list(range(1,n+1))\n",
        "    while n!=0 :\n",
        "        fact = factorial(n-1)\n",
        "        answer.append(order.pop((k-1)//fact))\n",
        "        n,k = n-1, k%fact\n",
        "    return answer"
      ],
      "execution_count": null,
      "outputs": []
    },
    {
      "cell_type": "code",
      "metadata": {
        "colab": {
          "base_uri": "https://localhost:8080/"
        },
        "id": "uXnJXjYklvS-",
        "outputId": "5c13f13b-6fb4-45f1-87e7-db4ecf3fe490"
      },
      "source": [
        "#20500 Ezreal 여눈부터 가네 ㅈㅈ, 20211126\n",
        "import sys\n",
        "#input = sys.stdin.readline \n",
        "#홀에서 짝이면 곱2+1\n",
        "#짝에서 홀이면 곱2-1\n",
        "\n",
        "answer = 0\n",
        "for i in range(int(input())-1) :\n",
        "    answer = 2*answer+1 if i%2 == 0 else 2*answer-1\n",
        "print(answer%1000000007)"
      ],
      "execution_count": null,
      "outputs": [
        {
          "output_type": "stream",
          "name": "stdout",
          "text": [
            "1515\n",
            "939178250\n"
          ]
        }
      ]
    },
    {
      "cell_type": "code",
      "metadata": {
        "id": "MqQ54E4gvYWU"
      },
      "source": [
        "#20500 Ezreal 여눈부터 가네 ㅈㅈ 1등 풀이ㅋㅋㅋㅋㅋㅋㅋㅋㅋ\n",
        "n = int(input())-1\n",
        "print(int((2**n-(-1)**n)//3) % 1000000007)"
      ],
      "execution_count": null,
      "outputs": []
    },
    {
      "cell_type": "code",
      "source": [
        "#9020 골드바흐의 추측, 20220106\n",
        "import sys\n",
        "#input = sys.stdin.readline \n",
        "\n",
        "goldbach = [0]*10001\n",
        "goldbach[4] = (2,2)\n",
        "primes = []\n",
        "\n",
        "#소수여부 판별\n",
        "def is_prime(n):\n",
        "    for i in primes:\n",
        "        if n%i == 0:\n",
        "            return False\n",
        "    return True\n",
        "\n",
        "#골드바흐 수 리스트 채우기\n",
        "for i in range(3, 10001):\n",
        "    if not goldbach[i] and is_prime(i):\n",
        "        primes.append(i)\n",
        "        for prime in primes:\n",
        "            if prime+i <= 10000 and not goldbach[prime+i]:\n",
        "                goldbach[prime+i] = (prime, i)\n",
        "\n",
        "T = int(input())\n",
        "for _ in range(T):\n",
        "    num = int(input())\n",
        "    a, b = goldbach[num]\n",
        "    print(a, b)\n",
        "\n",
        "#30864knb, 224ms"
      ],
      "metadata": {
        "colab": {
          "base_uri": "https://localhost:8080/",
          "height": 36
        },
        "id": "Cp5m5QwgT8OE",
        "outputId": "d0fb8a78-a485-459e-d956-52eab21fcf49"
      },
      "execution_count": null,
      "outputs": [
        {
          "output_type": "execute_result",
          "data": {
            "application/vnd.google.colaboratory.intrinsic+json": {
              "type": "string"
            },
            "text/plain": [
              "'\\nT = int(input())\\nfor _ in range(T):\\n    num = int(input())\\n    a, b = goldbach[num]\\n    print(a, b)\\n'"
            ]
          },
          "metadata": {},
          "execution_count": 38
        }
      ]
    },
    {
      "cell_type": "code",
      "source": [
        "#9020 골드바흐의 추측 시간 최대한 출이기\n",
        "import sys\n",
        "#input = sys.stdin.readline \n",
        "\n",
        "goldbach = [0]*10001\n",
        "goldbach[4] = (2,2)\n",
        "is_prime = [1]*10001\n",
        "primes = []\n",
        "\n",
        "#소수여부 리스트 채우기\n",
        "for i in range(2, 101):\n",
        "    num = i*2\n",
        "    while num <= 10000:\n",
        "        is_prime[num] = 0\n",
        "        num += i\n",
        "\n",
        "#골드바흐 수 리스트 채우기\n",
        "for i in range(3, 10001, 2):\n",
        "    if is_prime[i]:\n",
        "        primes.append(i)\n",
        "        for prime in primes:\n",
        "            if prime+i > 10000 : \n",
        "                break\n",
        "            if not goldbach[prime+i]:\n",
        "                goldbach[prime+i] = (prime, i)\n",
        "\n",
        "T = int(input())\n",
        "for _ in range(T):\n",
        "    num = int(input())\n",
        "    a, b = goldbach[num]\n",
        "    print(a, b)\n",
        "\n",
        "#30864knb, 164ms"
      ],
      "metadata": {
        "colab": {
          "base_uri": "https://localhost:8080/"
        },
        "id": "VYUaInphjx3E",
        "outputId": "96596628-697d-43cf-a324-dee9c3638d20"
      },
      "execution_count": null,
      "outputs": [
        {
          "output_type": "stream",
          "name": "stdout",
          "text": [
            "3\n",
            "8\n",
            "3 5\n",
            "10\n",
            "5 5\n",
            "10000\n",
            "4919 5081\n"
          ]
        }
      ]
    },
    {
      "cell_type": "code",
      "source": [
        "#1016 제곱 ㄴㄴ 수, 20220516\n",
        "import math\n",
        "import sys\n",
        "#input = sys.stdin.readline \n",
        "\n",
        "min_num, max_num = map(int, input().split())\n",
        "\n",
        "effective = math.floor(max_num**0.5)\n",
        "\n",
        "prime_squares = [] #소수의 제곱을 담아놓는 리스트 prime_squares\n",
        "\n",
        "#소수 여부를 판별하는 리스트 primes\n",
        "primes = [1]*(effective+1)\n",
        "for i in range(2, effective+1):\n",
        "    if primes[i]:\n",
        "        #primes 업데이트\n",
        "        for j in range(i**2, effective+1, i):\n",
        "            primes[i] = 0\n",
        "        prime_squares.append(i**2)\n",
        "\n",
        "not_squared = [1]*(max_num-min_num+1)\n",
        "for prime_square in prime_squares:\n",
        "    start = prime_square-min_num%prime_square if min_num%prime_square else 0\n",
        "    for j in range(start, len(not_squared), prime_square):\n",
        "        not_squared[j] = 0\n",
        "\n",
        "print(sum(not_squared))\n",
        "\n",
        "#165912kb, 256ms (pypy3)"
      ],
      "metadata": {
        "colab": {
          "base_uri": "https://localhost:8080/"
        },
        "id": "AzX0HGeHqzQ3",
        "outputId": "d8a4643a-7787-43e9-8f59-83f421578c4e"
      },
      "execution_count": null,
      "outputs": [
        {
          "output_type": "stream",
          "name": "stdout",
          "text": [
            "1000000000000 1000001000000\n",
            "607940\n"
          ]
        }
      ]
    },
    {
      "cell_type": "code",
      "source": [
        "#1016 제곱 ㄴㄴ 수 1등 풀이. 굳이 소수의 제곱을 찾지 않는게 더 빠른 것인가?\n",
        "s, e = map(int, input().split())\n",
        "sq_check = [1] * (e-s+1)\n",
        "\n",
        "i = 1\n",
        "cnt = 0\n",
        "\n",
        "while i*i <= e:\n",
        "    i += 1\n",
        "    square = i*i\n",
        "    start = s//square\n",
        "\n",
        "    while square*start <= e:\n",
        "        idx = square*start - s\n",
        "        if idx >= 0 and sq_check[idx]:\n",
        "            sq_check[idx] = 0\n",
        "            cnt += 1\n",
        "        start += 1\n",
        "\n",
        "print(len(sq_check) - cnt)"
      ],
      "metadata": {
        "id": "H6HzFsZ_0cIx"
      },
      "execution_count": null,
      "outputs": []
    },
    {
      "cell_type": "code",
      "source": [
        "#16565 N포커, 20220524\n",
        "import sys\n",
        "#input = sys.stdin.readline \n",
        "\n",
        "def nCr(n, r):\n",
        "    if n-r<r:\n",
        "        r=n-r\n",
        "    result=1\n",
        "    for i in range(r):\n",
        "        result=result*(n-i)//(i+1) \n",
        "    return result\n",
        "\n",
        "n = int(input())\n",
        "answer = 0\n",
        "for i in range(1, (n//4)+1):\n",
        "    sign = 1 if i%2 else -1\n",
        "    answer += sign*nCr(13,i)*nCr(52-4*i,n-4*i)\n",
        "\n",
        "print(answer%10007)\n",
        "#30840kb, 68ms"
      ],
      "metadata": {
        "colab": {
          "base_uri": "https://localhost:8080/"
        },
        "id": "a_ExJf0-b7dx",
        "outputId": "6edb9b23-e88c-4304-e26e-4c89e4bbbed7"
      },
      "execution_count": null,
      "outputs": [
        {
          "output_type": "stream",
          "name": "stdout",
          "text": [
            "23\n",
            "7264\n"
          ]
        }
      ]
    },
    {
      "cell_type": "code",
      "source": [
        "#17386 선분 교차, 20220524\n",
        "import sys\n",
        "#input = sys.stdin.readline \n",
        "\n",
        "x1, y1, x2, y2 = map(int, input().split())\n",
        "x3, y3, x4, y4 = map(int, input().split())\n",
        "\n",
        "if x1==x2 and x3==x4:\n",
        "    if x1 == x3:\n",
        "        if max(y1,y2)>max(y3,y4):\n",
        "            if min(y1,y2)<=max(y3,y4):\n",
        "                print(1)\n",
        "            else: print(0)\n",
        "        else:\n",
        "            if min(y3,y4)<=max(y1,y2):\n",
        "                print(1)\n",
        "            else: print(0)\n",
        "    else: print(0)\n",
        "\n",
        "elif x1==x2:\n",
        "    grad34 = (y4-y3)/(x4-x3)\n",
        "    if min(x3,x4)<=x1<=max(x3,x4) and min(y1,y2)<=grad34*(x1-x3)+y3<=max(y1,y2):\n",
        "        print(1)\n",
        "    else: print(0)\n",
        "\n",
        "elif x3==x4:\n",
        "    grad12 = (y2-y1)/(x2-x1)\n",
        "    if min(x1,x2)<=x3<=max(x1,x2) and min(y3,y4)<=grad12*(x3-x1)+y1<=max(y3,y4):\n",
        "        print(1)\n",
        "    else: print(0)\n",
        "\n",
        "else:\n",
        "    grad12 = (y2-y1)/(x2-x1)\n",
        "    grad34 = (y4-y3)/(x4-x3)\n",
        "    if grad12 == grad34:\n",
        "        if y1-x1*grad12 == y3-x3*grad34:\n",
        "            if max(x1,x2)>max(x3,x4):\n",
        "                if min(x1,x2)<=max(x3,x4):\n",
        "                    print(1)\n",
        "                else: print(0)\n",
        "            else:\n",
        "                if min(x3,x4)<=max(x1,x2):\n",
        "                    print(1)\n",
        "                else: print(0)\n",
        "        else: print(0)\n",
        "    else:\n",
        "        x = (grad12*x1 - y1 - grad34*x3 + y3)/(grad12-grad34)\n",
        "        print(int(min(x1,x2)<=x<=max(x1,x2) and min(x3,x4)<=x<=max(x3,x4)))"
      ],
      "metadata": {
        "colab": {
          "base_uri": "https://localhost:8080/"
        },
        "id": "xIhsPrP2lWYK",
        "outputId": "a86a2e3d-67ff-4bb4-bc43-da4c8ac31ff0"
      },
      "execution_count": 39,
      "outputs": [
        {
          "output_type": "stream",
          "name": "stdout",
          "text": [
            "9 3 4 3\n",
            "1 3 3 3\n",
            "0\n"
          ]
        }
      ]
    },
    {
      "cell_type": "code",
      "source": [
        ""
      ],
      "metadata": {
        "id": "8GN66WTQmtwK"
      },
      "execution_count": null,
      "outputs": []
    }
  ]
}