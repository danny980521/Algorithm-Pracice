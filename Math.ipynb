{
  "nbformat": 4,
  "nbformat_minor": 0,
  "metadata": {
    "colab": {
      "name": "Math.ipynb",
      "provenance": [],
      "authorship_tag": "ABX9TyNcGsLXjHLjpVXuH5c9ZXBD",
      "include_colab_link": true
    },
    "kernelspec": {
      "name": "python3",
      "display_name": "Python 3"
    },
    "language_info": {
      "name": "python"
    }
  },
  "cells": [
    {
      "cell_type": "markdown",
      "metadata": {
        "id": "view-in-github",
        "colab_type": "text"
      },
      "source": [
        "<a href=\"https://colab.research.google.com/github/danny980521/Algorithm-Pracice/blob/main/Math.ipynb\" target=\"_parent\"><img src=\"https://colab.research.google.com/assets/colab-badge.svg\" alt=\"Open In Colab\"/></a>"
      ]
    },
    {
      "cell_type": "code",
      "metadata": {
        "id": "8LsDAcj2XkxI"
      },
      "source": [
        "#프로그래머스 약수의 개수와 덧셈, 20210607\n",
        "def solution(left, right):\n",
        "    for i in range(1, 33) :\n",
        "        if i**2 >= left :\n",
        "            start = i\n",
        "            break\n",
        "    for i in range(start, 34) :\n",
        "        if i**2 > right :\n",
        "            end = i\n",
        "            break\n",
        "    answer = (left + right)*(right-left+1)/2 - 2*(sum(i**2 for i in range(start, end)))\n",
        "    return answer"
      ],
      "execution_count": null,
      "outputs": []
    },
    {
      "cell_type": "code",
      "metadata": {
        "id": "_bPrzzWTYD2m"
      },
      "source": [
        "#프로그래머스 약수의 개수와 덧셈 우수풀이, 내 풀이는 최대 34번 반복문을 도는데 이건 최대 1000번 돈다.\n",
        "def solution(left, right):\n",
        "    answer = 0\n",
        "    for i in range(left,right+1):\n",
        "        if int(i**0.5)==i**0.5:\n",
        "            answer -= i\n",
        "        else:\n",
        "            answer += i\n",
        "    return answer"
      ],
      "execution_count": null,
      "outputs": []
    },
    {
      "cell_type": "code",
      "metadata": {
        "colab": {
          "base_uri": "https://localhost:8080/"
        },
        "id": "j9trus6jBXS6",
        "outputId": "898690df-9240-491a-d0ba-8ea539af6b3b"
      },
      "source": [
        "a = {1 : 3, 2 : 5}\n",
        "print(a[1])\n",
        "print(a.items())\n",
        "print(a.keys())\n",
        "print(a.values())"
      ],
      "execution_count": null,
      "outputs": [
        {
          "output_type": "stream",
          "text": [
            "3\n",
            "dict_items([(1, 3), (2, 5)])\n",
            "dict_keys([1, 2])\n",
            "dict_values([3, 5])\n"
          ],
          "name": "stdout"
        }
      ]
    },
    {
      "cell_type": "code",
      "metadata": {
        "colab": {
          "base_uri": "https://localhost:8080/"
        },
        "id": "oT3og_VYOoRk",
        "outputId": "142904a4-665b-4933-c476-a7023fa69a59"
      },
      "source": [
        "a = 60\n",
        "b = bin(a)\n",
        "print(b.count('1'))"
      ],
      "execution_count": null,
      "outputs": [
        {
          "output_type": "stream",
          "text": [
            "4\n"
          ],
          "name": "stdout"
        }
      ]
    }
  ]
}