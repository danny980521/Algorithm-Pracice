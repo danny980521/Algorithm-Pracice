{
  "nbformat": 4,
  "nbformat_minor": 0,
  "metadata": {
    "colab": {
      "name": "Math.ipynb",
      "provenance": [],
      "collapsed_sections": [],
      "authorship_tag": "ABX9TyOmQ0m/LMjXdf25LzMfstlv",
      "include_colab_link": true
    },
    "kernelspec": {
      "name": "python3",
      "display_name": "Python 3"
    },
    "language_info": {
      "name": "python"
    }
  },
  "cells": [
    {
      "cell_type": "markdown",
      "metadata": {
        "id": "view-in-github",
        "colab_type": "text"
      },
      "source": [
        "<a href=\"https://colab.research.google.com/github/danny980521/Algorithm-Pracice/blob/main/Math.ipynb\" target=\"_parent\"><img src=\"https://colab.research.google.com/assets/colab-badge.svg\" alt=\"Open In Colab\"/></a>"
      ]
    },
    {
      "cell_type": "code",
      "metadata": {
        "id": "8LsDAcj2XkxI"
      },
      "source": [
        "#프로그래머스 약수의 개수와 덧셈, 20210607\n",
        "def solution(left, right):\n",
        "    for i in range(1, 33) :\n",
        "        if i**2 >= left :\n",
        "            start = i\n",
        "            break\n",
        "    for i in range(start, 34) :\n",
        "        if i**2 > right :\n",
        "            end = i\n",
        "            break\n",
        "    answer = (left + right)*(right-left+1)/2 - 2*(sum(i**2 for i in range(start, end)))\n",
        "    return answer"
      ],
      "execution_count": null,
      "outputs": []
    },
    {
      "cell_type": "code",
      "metadata": {
        "id": "_bPrzzWTYD2m"
      },
      "source": [
        "#프로그래머스 약수의 개수와 덧셈 우수풀이, 내 풀이는 최대 34번 반복문을 도는데 이건 최대 1000번 돈다.\n",
        "def solution(left, right):\n",
        "    answer = 0\n",
        "    for i in range(left,right+1):\n",
        "        if int(i**0.5)==i**0.5:\n",
        "            answer -= i\n",
        "        else:\n",
        "            answer += i\n",
        "    return answer"
      ],
      "execution_count": null,
      "outputs": []
    },
    {
      "cell_type": "code",
      "metadata": {
        "id": "j9trus6jBXS6"
      },
      "source": [
        "#프로그래머스 행렬의 곱셈, 20210613\n",
        "def solution(arr1, arr2):\n",
        "    answer = []\n",
        "    for i in range(len(arr1)) :\n",
        "        arr3 = []\n",
        "        for j in range(len(arr2[0])):\n",
        "            a = 0\n",
        "            for k in range(len(arr2)) :\n",
        "                a += arr1[i][k] * arr2[k][j]\n",
        "            arr3.append(a)    \n",
        "        answer.append(arr3)  \n",
        "    return answer"
      ],
      "execution_count": null,
      "outputs": []
    },
    {
      "cell_type": "code",
      "metadata": {
        "colab": {
          "base_uri": "https://localhost:8080/"
        },
        "id": "oT3og_VYOoRk",
        "outputId": "7fd15633-29ce-42b4-ec00-ea9cb5637469"
      },
      "source": [
        "#2740 행렬 곱셈, 20210613\n",
        "arr1, arr2 = [], []\n",
        "n, m = map(int, input().split())\n",
        "for i in range(n) :\n",
        "    arr1.append(list(map(int, input().split())))\n",
        "m, k = map(int, input().split())\n",
        "for i in range(m) :\n",
        "    arr2.append(list(map(int, input().split())))\n",
        "arr3 = solution(arr1, arr2)\n",
        "for i in arr3:\n",
        "  for j in i :\n",
        "    print(j, end = ' ')\n",
        "  print('')\n",
        "#29790kb, 156ms"
      ],
      "execution_count": null,
      "outputs": [
        {
          "output_type": "stream",
          "text": [
            "3 2\n",
            "1 2\n",
            "3 4\n",
            "5 6\n",
            "2 3\n",
            "-1 -2 0\n",
            "0 0 3\n",
            "-1 -2 6 \n",
            "-3 -6 12 \n",
            "-5 -10 18 \n"
          ],
          "name": "stdout"
        }
      ]
    },
    {
      "cell_type": "code",
      "metadata": {
        "id": "j4D7zu_hRXpx"
      },
      "source": [
        "#프로그래머스 행렬의 곱셈 우수풀이, zip으로 묶은거슬 풀어주는 용도로 *을 쓰는데, 이를 역이용해 행렬의 행,열 변환으로 zip(*B)를 사용. 암기하자!\n",
        "def productMatrix(A, B):\n",
        "    return [[sum(a*b for a, b in zip(A_row,B_col)) for B_col in zip(*B)] for A_row in A]"
      ],
      "execution_count": null,
      "outputs": []
    },
    {
      "cell_type": "code",
      "metadata": {
        "colab": {
          "base_uri": "https://localhost:8080/"
        },
        "id": "4WaFR-sTCSf-",
        "outputId": "8149bc1d-ff57-44b2-e6fc-02bfbcf7dad4"
      },
      "source": [
        "#1259 팰린드롬수, 20210614\n",
        "while 1 :\n",
        "  n = input()\n",
        "  if n == '0' : break\n",
        "  for i in range(len(n)//2) :\n",
        "    if n[i] != n[-i-1] :\n",
        "      print('no')\n",
        "      break\n",
        "  else : print('yes')\n",
        "#29200kb, 68ms"
      ],
      "execution_count": null,
      "outputs": [
        {
          "output_type": "stream",
          "text": [
            "121\n",
            "yes\n",
            "1231\n",
            "no\n",
            "12421\n",
            "yes\n",
            "0\n"
          ],
          "name": "stdout"
        }
      ]
    },
    {
      "cell_type": "code",
      "metadata": {
        "colab": {
          "base_uri": "https://localhost:8080/"
        },
        "id": "9Q3UNwlQQQyw",
        "outputId": "443561d5-3cc2-4437-c8be-36b242ca4a09"
      },
      "source": [
        "#1978 소수 찾기\n",
        "#import sys\n",
        "#input = sys.stdin.readline()\n",
        "n = int(input())\n",
        "for i in map(int, input().split()) :\n",
        "    if i == 1:\n",
        "        n -= 1\n",
        "        continue\n",
        "    for j in range(2, int(i**.5)+1) :\n",
        "        if i%j == 0:\n",
        "            n -= 1\n",
        "            break\n",
        "print(n)\n",
        "#29200kb, 68ms"
      ],
      "execution_count": null,
      "outputs": [
        {
          "output_type": "stream",
          "text": [
            "4\n",
            "1 3 5 7\n",
            "3\n"
          ],
          "name": "stdout"
        }
      ]
    },
    {
      "cell_type": "code",
      "metadata": {
        "colab": {
          "base_uri": "https://localhost:8080/"
        },
        "id": "lWnzuodfsJJD",
        "outputId": "3b5ab757-56fe-4629-af5b-f2eaeca6e7cb"
      },
      "source": [
        "#2609 최대공약수와 최소공배수, 20210614\n",
        "import math\n",
        "a, b = map(int, input().split())\n",
        "c = math.gcd(a,b)\n",
        "print(c)\n",
        "print(a*b//c)\n",
        "#31312kb, 68ms"
      ],
      "execution_count": null,
      "outputs": [
        {
          "output_type": "stream",
          "text": [
            "24 18\n",
            "6\n",
            "72\n"
          ],
          "name": "stdout"
        }
      ]
    },
    {
      "cell_type": "code",
      "metadata": {
        "id": "a8rxPGBKuiLC"
      },
      "source": [
        "#2609 최대공약수와 최소공배수 1등 코드, 정석 중 정석이다.\n",
        "def gcd(x, y):\n",
        "    if y != 0:\n",
        "        return gcd(y, x%y)\n",
        "    else :\n",
        "        return x\n",
        "def lcm(x, y):\n",
        "    return (x*y)//gcd(x,y)\n",
        "N, M = map(int, input().split())\n",
        "\n",
        "print(gcd(N, M))\n",
        "print(lcm(N, M))"
      ],
      "execution_count": null,
      "outputs": []
    },
    {
      "cell_type": "code",
      "metadata": {
        "id": "08ZiOpdCTdvn"
      },
      "source": [
        "#15469 N과 M (1), 20210618\n",
        "from itertools import permutations\n",
        "n, m = map(int, input().split())\n",
        "print('\\n'.join([' '.join(map(str, i)) for i in permutations(range(1,n+1),m)]))\n",
        "#32388kb, 132ms"
      ],
      "execution_count": null,
      "outputs": []
    },
    {
      "cell_type": "code",
      "metadata": {
        "id": "Jr8F_6LwWPSN"
      },
      "source": [
        "#15469 N과 M (1) 1등 코드\n",
        "from itertools import permutations\n",
        "\n",
        "N, M = map(int, input().split())\n",
        "li = map(str, range(1, N+1))\n",
        "print('\\n'.join(map(' '.join,permutations(li, M)))) #join을 맵에 적용되는 함수로 사용"
      ],
      "execution_count": null,
      "outputs": []
    },
    {
      "cell_type": "code",
      "metadata": {
        "colab": {
          "base_uri": "https://localhost:8080/"
        },
        "id": "5AYGzTrqW-ZJ",
        "outputId": "07076850-126b-4487-ab44-eac5caae5abe"
      },
      "source": [
        "#15650 N과 M (2), 20210618\n",
        "from itertools import combinations\n",
        "n, m = map(int, input().split())\n",
        "print('\\n'.join(map(' '.join, combinations(map(str, range(1,n+1)),m))))"
      ],
      "execution_count": null,
      "outputs": [
        {
          "output_type": "stream",
          "text": [
            "4 4\n",
            "1 2 3 4\n"
          ],
          "name": "stdout"
        }
      ]
    },
    {
      "cell_type": "code",
      "metadata": {
        "id": "fp0XYdw_ZbiW"
      },
      "source": [
        "#15651 N과 M (3), 20210618\n",
        "from itertools import product\n",
        "n, m = map(int, input().split())\n",
        "print('\\n'.join(map(' '.join, product(map(str, range(1,n+1)),repeat=m))))\n",
        "#99200kb, 240ms"
      ],
      "execution_count": null,
      "outputs": []
    },
    {
      "cell_type": "code",
      "metadata": {
        "colab": {
          "base_uri": "https://localhost:8080/"
        },
        "id": "cXnvOOVyaTJW",
        "outputId": "f76b38b7-93e2-4308-f3c6-b93913ceb727"
      },
      "source": [
        "#15652 N과 M (4), 20210618\n",
        "from itertools import combinations_with_replacement\n",
        "n, m = map(int, input().split())\n",
        "print('\\n'.join(map(' '.join, combinations_with_replacement(map(str, range(1,n+1)),m))))\n",
        "#29452kb, 68ms"
      ],
      "execution_count": null,
      "outputs": [
        {
          "output_type": "stream",
          "text": [
            "3 3\n",
            "1 1 1\n",
            "1 1 2\n",
            "1 1 3\n",
            "1 2 2\n",
            "1 2 3\n",
            "1 3 3\n",
            "2 2 2\n",
            "2 2 3\n",
            "2 3 3\n",
            "3 3 3\n"
          ],
          "name": "stdout"
        }
      ]
    },
    {
      "cell_type": "code",
      "metadata": {
        "colab": {
          "base_uri": "https://localhost:8080/"
        },
        "id": "3Eq2wrYig6mF",
        "outputId": "dc9547b0-45dd-4844-aec6-6429cda60d1d"
      },
      "source": [
        "#15654 N과 M (5), 20210618\n",
        "from itertools import permutations\n",
        "n, m = map(int, input().split())\n",
        "print('\\n'.join(map(' '.join, permutations(sorted(input().split(), key = lambda x : (len(x),x)),m))))\n",
        "#34536kb, 76ms "
      ],
      "execution_count": null,
      "outputs": [
        {
          "output_type": "stream",
          "text": [
            "3 1\n",
            "4 4 2\n",
            "2\n",
            "4\n",
            "4\n"
          ],
          "name": "stdout"
        }
      ]
    },
    {
      "cell_type": "code",
      "metadata": {
        "colab": {
          "base_uri": "https://localhost:8080/"
        },
        "id": "cQ_6G_e9kMf5",
        "outputId": "3bd7574e-8db9-40b3-dd4b-425b7fc71b6b"
      },
      "source": [
        "#15655 N과 M (6), 20210618\n",
        "from itertools import combinations\n",
        "m = int(input().split()[1])\n",
        "print('\\n'.join(map(' '.join, combinations(sorted(input().split(), key = lambda x : (len(x),x)),m))))\n",
        "#29200kb, 68ms "
      ],
      "execution_count": null,
      "outputs": [
        {
          "output_type": "stream",
          "text": [
            "4 4\n",
            "123 1234 12 1\n",
            "1 12 123 1234\n"
          ],
          "name": "stdout"
        }
      ]
    },
    {
      "cell_type": "code",
      "metadata": {
        "colab": {
          "base_uri": "https://localhost:8080/"
        },
        "id": "aPnHuS4nlmOf",
        "outputId": "fec8956f-1ac7-45b4-b12d-98783e6fb11f"
      },
      "source": [
        "#15656 N과 M (7), 20210618\n",
        "from itertools import product\n",
        "m = int(input().split()[1])\n",
        "print('\\n'.join(map(' '.join, product(sorted(input().split(), key = lambda x : (len(x),x)),repeat = m))))\n",
        "#136756kb, 296ms "
      ],
      "execution_count": null,
      "outputs": [
        {
          "output_type": "stream",
          "text": [
            "4 2\n",
            "9 8 7 1\n",
            "1 1\n",
            "1 7\n",
            "1 8\n",
            "1 9\n",
            "7 1\n",
            "7 7\n",
            "7 8\n",
            "7 9\n",
            "8 1\n",
            "8 7\n",
            "8 8\n",
            "8 9\n",
            "9 1\n",
            "9 7\n",
            "9 8\n",
            "9 9\n"
          ],
          "name": "stdout"
        }
      ]
    },
    {
      "cell_type": "code",
      "metadata": {
        "colab": {
          "base_uri": "https://localhost:8080/"
        },
        "id": "e0HaMPddmpNo",
        "outputId": "048fce7b-347d-4131-d640-1a9d3517ad51"
      },
      "source": [
        "#15657 N과 M (8), 20210618\n",
        "from itertools import combinations_with_replacement\n",
        "m = int(input().split()[1])\n",
        "print('\\n'.join(map(' '.join, combinations_with_replacement(sorted(input().split(), key = lambda x : (len(x),x)), m))))\n",
        "#29708kb, 68ms "
      ],
      "execution_count": null,
      "outputs": [
        {
          "output_type": "stream",
          "text": [
            "4 2\n",
            "9 8 7 1\n",
            "1 1\n",
            "1 7\n",
            "1 8\n",
            "1 9\n",
            "7 7\n",
            "7 8\n",
            "7 9\n",
            "8 8\n",
            "8 9\n",
            "9 9\n"
          ],
          "name": "stdout"
        }
      ]
    },
    {
      "cell_type": "code",
      "metadata": {
        "colab": {
          "base_uri": "https://localhost:8080/"
        },
        "id": "XYwB9xhSt6hd",
        "outputId": "14a893bd-d2ea-4f6a-a511-d9abe9cc83b4"
      },
      "source": [
        "#2407 조합, 20210619\n",
        "from math import factorial as f\n",
        "n, m = map(int, input().split())\n",
        "print(f(n)//(f(m)*f(n-m)))\n",
        "#31312kb, 68ms\n",
        "\n",
        "#다른 풀이\n",
        "n, m = map(int, input().split())\n",
        "a ,b = 1, 1\n",
        "for i in range(n-m if m > n/2 else m ) :\n",
        "    a *= n-i\n",
        "    b *= i+1\n",
        "print(a//b)\n",
        "#29200kb, 64ms"
      ],
      "execution_count": null,
      "outputs": [
        {
          "output_type": "stream",
          "text": [
            "100 50\n",
            "100891344545564193334812497256\n",
            "100 50\n",
            "11078920542458216448000000\n"
          ],
          "name": "stdout"
        }
      ]
    },
    {
      "cell_type": "code",
      "metadata": {
        "id": "s05Or8Q9ybBw"
      },
      "source": [
        "#2407 조합 1등 풀이.\n",
        "inp=input().split()\n",
        "n = int(inp[0])\n",
        "m = int(inp[1])\n",
        "if n-m<m:\n",
        "\tm=n-m\n",
        "r=1\n",
        "for i in range(m):\n",
        "\tr=r*(n-i)//(i+1) #r*=(n-i)//(i+1)으로 쓰면 틀리게 된다. 왜 그럴까?\n",
        "print(r)"
      ],
      "execution_count": null,
      "outputs": []
    },
    {
      "cell_type": "code",
      "metadata": {
        "id": "KsgLrnjpK_fu"
      },
      "source": [
        "#6603 로또, 20210619\n",
        "from itertools import combinations\n",
        "while 1 :\n",
        "    a = input()\n",
        "    if a == '0' : break\n",
        "    print('\\n'.join(map(' '.join, combinations(a.split()[1:],6))))\n",
        "    print('')\n",
        "#29200kb, 64ms"
      ],
      "execution_count": null,
      "outputs": []
    },
    {
      "cell_type": "code",
      "metadata": {
        "colab": {
          "base_uri": "https://localhost:8080/"
        },
        "id": "TDSVfKY8plH-",
        "outputId": "2d4cc853-dd09-44ee-bfb8-d98390625682"
      },
      "source": [
        "#12785 토쟁이의 등굣길, 20210620\n",
        "from math import factorial as f\n",
        "\n",
        "def comb(a, b) :\n",
        "    return f(a+b)//(f(a)*f(b))\n",
        "\n",
        "a, b = map(int, input().split())\n",
        "c, d = map(int, input().split())\n",
        "print((comb(c-1, d-1)*comb(a-c, b-d))%1000007)\n",
        "#31312kb, 68ms"
      ],
      "execution_count": 1,
      "outputs": [
        {
          "output_type": "stream",
          "text": [
            "3 2\n",
            "2 2\n",
            "2\n"
          ],
          "name": "stdout"
        }
      ]
    },
    {
      "cell_type": "code",
      "metadata": {
        "colab": {
          "base_uri": "https://localhost:8080/"
        },
        "id": "3b8Q9XqSrx_W",
        "outputId": "0bebc6f6-4862-4dad-b3f0-bc70857741c4"
      },
      "source": [
        "#16134 조합, 20210620 - 90점 짜리 답안이다. 모듈러 역원 구하는 법 공부해서 다시 풀어보자.\n",
        "n, r = map(int, input().split())\n",
        "r = n-r if n < 2*r else r\n",
        "answer = 1\n",
        "for i in range(1, r+1) :\n",
        "    answer = answer*(n-i+1)//i\n",
        "print(answer%1000000007)"
      ],
      "execution_count": 19,
      "outputs": [
        {
          "output_type": "stream",
          "text": [
            "1000 3\n",
            "166167000\n"
          ],
          "name": "stdout"
        }
      ]
    }
  ]
}