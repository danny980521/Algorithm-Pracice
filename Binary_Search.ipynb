{
  "nbformat": 4,
  "nbformat_minor": 0,
  "metadata": {
    "colab": {
      "name": "Binary_Search.ipynb",
      "provenance": [],
      "collapsed_sections": [],
      "authorship_tag": "ABX9TyM//eoZD94+dun6UIgGE8+E",
      "include_colab_link": true
    },
    "kernelspec": {
      "name": "python3",
      "display_name": "Python 3"
    },
    "language_info": {
      "name": "python"
    }
  },
  "cells": [
    {
      "cell_type": "markdown",
      "metadata": {
        "id": "view-in-github",
        "colab_type": "text"
      },
      "source": [
        "<a href=\"https://colab.research.google.com/github/danny980521/Algorithm-Pracice/blob/main/Binary_Search.ipynb\" target=\"_parent\"><img src=\"https://colab.research.google.com/assets/colab-badge.svg\" alt=\"Open In Colab\"/></a>"
      ]
    },
    {
      "cell_type": "code",
      "metadata": {
        "id": "bv-VobGhLDRB"
      },
      "source": [
        "#1920 수 찾기, 20210614\n",
        "def binary_search(target, data):\n",
        "    start = 0\n",
        "    end = len(data) - 1\n",
        "\n",
        "    while start <= end:\n",
        "        mid = (start + end) // 2\n",
        "\n",
        "        if data[mid] == target:\n",
        "            return 1\n",
        "        elif data[mid] < target:\n",
        "            start = mid + 1\n",
        "        else:\n",
        "            end = mid -1\n",
        "    return 0\n",
        "\n",
        "n = int(input())\n",
        "arr = list(map(int, input().split()))\n",
        "arr.sort()\n",
        "m = int(input())\n",
        "arr2 = list(map(int, input().split()))\n",
        "for i in arr2:\n",
        "    print(binary_search(i, arr))\n",
        "#44720kb, 564ms"
      ],
      "execution_count": null,
      "outputs": []
    },
    {
      "cell_type": "code",
      "metadata": {
        "id": "_-HgV-dNLKwt"
      },
      "source": [
        "#1920 수 찾기 1등 코드\n",
        "import sys\n",
        "input = sys.stdin.readline\n",
        "\n",
        "def BOJ_1920():\n",
        "    n,A,m = input(),set(input().split()),input() # set을 통해 A를 받음\n",
        "    res=\"\"\n",
        "    for i in input().split():\n",
        "        res += \"1\\n\" if i in A else \"0\\n\" #res를 문자열로 씀\n",
        "    print(res)\n",
        "BOJ_1920()"
      ],
      "execution_count": null,
      "outputs": []
    },
    {
      "cell_type": "code",
      "metadata": {
        "id": "PbmohqgWHHlK"
      },
      "source": [
        "#프로그래머스 징검다리 건너기, 20210625\n",
        "#아래 주석처리한 코드는 대부분 빠른데 딱 고의적인 한 테케에만 걸렸다. 억울하다..\n",
        "def canacross(stones, k, n) :\n",
        "    stack = 0\n",
        "    for i in stones :\n",
        "        if i < n :\n",
        "            if stack == k-1 : return False\n",
        "            stack += 1\n",
        "        else : stack = 0\n",
        "    return True\n",
        "\n",
        "def across(stones, k, start, end) :\n",
        "    mid = (start + end)//2\n",
        "    if canacross(stones, k, mid) :\n",
        "        if not canacross(stones, k, mid+1) : return mid\n",
        "        return across(stones, k, mid, end)\n",
        "    return across(stones, k, start, mid)\n",
        "\n",
        "\n",
        "def solution(stones, k):\n",
        "    start, end = min(stones), max(stones)\n",
        "    return across(stones, k, start, end)\n",
        "    \n",
        "'''\n",
        "def solution(stones, k):\n",
        "    answer = max(stones[0:k])\n",
        "    stack = k-1-stones.index(answer)\n",
        "    for i in range(k, len(stones)) :\n",
        "        if stones[i] < answer :\n",
        "            if stack >= k-1:\n",
        "                arr = stones[i-k+1:i+1]\n",
        "                answer = max(arr)\n",
        "                stack = k-1-arr.index(answer)\n",
        "            else : stack += 1\n",
        "        else : stack = 0\n",
        "    return answer\n",
        "'''"
      ],
      "execution_count": null,
      "outputs": []
    },
    {
      "cell_type": "code",
      "metadata": {
        "colab": {
          "base_uri": "https://localhost:8080/",
          "height": 103
        },
        "id": "z7Cag73MNxsn",
        "outputId": "4a121848-038d-4b68-96a7-ce89fde632ed"
      },
      "source": [
        "#프로그래머스 입국심사, 20210625\n",
        "#이분탐색을 원하는 경우를 알게 되었다.\n",
        "#원하는 리턴 값이 특정 조건을 만족하는 최소값 or 최대값일 경우\n",
        "#딱 맞는 답을 구하는 것은 복잡한데 어떠한 값이 가능한지 여부를 판단하기엔 쉬울 때이다.\n",
        "def canjudge(n, times, value) :\n",
        "    stack = 0\n",
        "    for time in times :\n",
        "        if time > value : break\n",
        "        stack += value//time\n",
        "        if stack >= n : return True\n",
        "    return False\n",
        "\n",
        "def judge(n, times, start, end) :\n",
        "    mid = (start + end)//2\n",
        "    if canjudge(n, times, mid) :\n",
        "        if not canjudge(n, times, mid-1) : return mid\n",
        "        return judge(n, times, start, mid)\n",
        "    return judge(n, times, mid+1, end)\n",
        "\n",
        "def solution(n, times):\n",
        "    times.sort()\n",
        "    return judge(n, times, times[0], n*times[0])\n",
        "\n",
        "'''\n",
        "import heapq\n",
        "def solution(n, times):\n",
        "    times2 = [(i,i) for i in times]\n",
        "    heapq.heapify(times2)\n",
        "    while n > 1 :\n",
        "        a, b = heapq.heappop(times2)\n",
        "        c = min(((times2[0][0]-a)//b + 1), n-1)\n",
        "        heapq.heappush(times2, (a+b*c, b))\n",
        "        n -= c\n",
        "    return times2[0][0]\n",
        "'''"
      ],
      "execution_count": 5,
      "outputs": [
        {
          "output_type": "execute_result",
          "data": {
            "application/vnd.google.colaboratory.intrinsic+json": {
              "type": "string"
            },
            "text/plain": [
              "'\\nimport heapq\\ndef solution(n, times):\\n    times2 = [(i,i) for i in times]\\n    heapq.heapify(times2)\\n    while n > 1 :\\n        a, b = heapq.heappop(times2)\\n        c = min(((times2[0][0]-a)//b + 1), n-1)\\n        heapq.heappush(times2, (a+b*c, b))\\n        n -= c\\n    return times2[0][0]\\n'"
            ]
          },
          "metadata": {
            "tags": []
          },
          "execution_count": 5
        }
      ]
    },
    {
      "cell_type": "code",
      "metadata": {
        "id": "PCbxpFIaPItm"
      },
      "source": [
        "#프로그래머스 입국심사 우수풀이, 나와 동작 원리는 같은데 심플하게 구현했다.\n",
        "def solution(n, times):\n",
        "    answer = 0\n",
        "    start, end, mid = 1, times[-1] * n, 0\n",
        "\n",
        "    while start < end:\n",
        "        mid = (start + end) // 2\n",
        "        total = 0\n",
        "        for time in times:\n",
        "            total += mid // time\n",
        "\n",
        "        if total >= n:\n",
        "            end = mid\n",
        "        else:\n",
        "            start = mid + 1 #이 부분을 놓쳤다.\n",
        "    answer = start\n",
        "    return answer"
      ],
      "execution_count": null,
      "outputs": []
    },
    {
      "cell_type": "code",
      "metadata": {
        "colab": {
          "base_uri": "https://localhost:8080/"
        },
        "id": "k3bEJvOj9j4W",
        "outputId": "78df6e76-999a-495e-dcb3-41c66f78d610"
      },
      "source": [
        "#3079 입국심사, 20210625\n",
        "#import sys\n",
        "#input = sys.stdin.readline\n",
        "def canjudge(n, times, value) :\n",
        "    stack = 0\n",
        "    for time in times :\n",
        "        if time > value : break\n",
        "        stack += value//time\n",
        "        if stack >= n : return True\n",
        "    return False\n",
        "\n",
        "def judge(n, times, start, end) :\n",
        "    mid = (start + end)//2\n",
        "    if canjudge(n, times, mid) :\n",
        "        if start >= end : return mid #if not canjudge로 한 함수 내에서 두 번 판별할 이유가 없다.\n",
        "        return judge(n, times, start, mid)\n",
        "    return judge(n, times, mid+1, end)\n",
        "\n",
        "def solution(n, times):\n",
        "    times.sort()\n",
        "    return judge(n, times, times[0], n*times[0])\n",
        "\n",
        "m, n = map(int, input().split())\n",
        "times = [int(input()) for _ in range(m)]\n",
        "print(solution(n, times))\n",
        "#33052kb, 804ms"
      ],
      "execution_count": 9,
      "outputs": [
        {
          "output_type": "stream",
          "text": [
            "2 6\n",
            "7\n",
            "10\n",
            "28\n"
          ],
          "name": "stdout"
        }
      ]
    },
    {
      "cell_type": "code",
      "metadata": {
        "colab": {
          "base_uri": "https://localhost:8080/"
        },
        "id": "hUky6kOsEgQ9",
        "outputId": "f998232e-ab88-40e5-90c2-64e2c3b95bf6"
      },
      "source": [
        "#3079 입국심사 1등 풀이, 난 힙으로 실패했는데 이건 제일 빠르다. 근데 왜 이게 답인지 모르겠다..\n",
        "#import sys\n",
        "import heapq\n",
        "#input = sys.stdin.readline\n",
        "N, M = map(int,input().split())\n",
        "time_table = [int(input()) for i in range(N)]\n",
        "Max = time_table[-1]\n",
        "\n",
        "ratio = []\n",
        "for i in range(N):\n",
        "    ratio.append(Max / time_table[i])\n",
        "k = M/sum(ratio) #대체 왜???\n",
        "\n",
        "count = []\n",
        "for i in range(N):\n",
        "    ratio[i] *= k\n",
        "    a = int(ratio[i])\n",
        "    M -= a\n",
        "    count.append(a)\n",
        "\n",
        "heap = []\n",
        "for i in range(N):\n",
        "    heapq.heappush(heap, [time_table[i]*(1+count[i]) ,time_table[i]*(count[i]),time_table[i]]) # 합 원본 시간\n",
        "\n",
        "for i in range(M):\n",
        "    h = heapq.heappop(heap)\n",
        "    h[1] += h[2]\n",
        "    h[0] += h[2]\n",
        "    heapq.heappush(heap,h)\n",
        "print(max(heap, key = lambda x:x[1])[1])"
      ],
      "execution_count": 12,
      "outputs": [
        {
          "output_type": "stream",
          "text": [
            "7 10\n",
            "3\n",
            "8\n",
            "3\n",
            "6\n",
            "9\n",
            "2\n",
            "4\n",
            "8\n"
          ],
          "name": "stdout"
        }
      ]
    }
  ]
}