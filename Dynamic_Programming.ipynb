{
  "nbformat": 4,
  "nbformat_minor": 0,
  "metadata": {
    "colab": {
      "name": "Dynamic_Programming.ipynb",
      "provenance": [],
      "collapsed_sections": [],
      "authorship_tag": "ABX9TyMKRvwVbJqwtIYhC8vgLpdW",
      "include_colab_link": true
    },
    "kernelspec": {
      "name": "python3",
      "display_name": "Python 3"
    },
    "language_info": {
      "name": "python"
    }
  },
  "cells": [
    {
      "cell_type": "markdown",
      "metadata": {
        "id": "view-in-github",
        "colab_type": "text"
      },
      "source": [
        "<a href=\"https://colab.research.google.com/github/danny980521/Algorithm-Pracice/blob/main/Dynamic_Programming.ipynb\" target=\"_parent\"><img src=\"https://colab.research.google.com/assets/colab-badge.svg\" alt=\"Open In Colab\"/></a>"
      ]
    },
    {
      "cell_type": "code",
      "metadata": {
        "colab": {
          "base_uri": "https://localhost:8080/"
        },
        "id": "GxVGar6PAglV",
        "outputId": "01fa3e2b-6ee5-47bd-fca8-1283b14b30c8"
      },
      "source": [
        "#9655 돌 게임, 20210604\n",
        "#9659 돌 게임5 또한 같은 코드로 해결됨.\n",
        "\n",
        "#n을 4로 나눈 나머지가\n",
        "#0이면 후공 승\n",
        "#1이면 선송 승\n",
        "#3이면 선공 승\n",
        "#2이면 후공 승?\n",
        "\n",
        "n = int(input())\n",
        "if n%2 :\n",
        "  print(\"SK\")\n",
        "else :\n",
        "  print(\"CY\")"
      ],
      "execution_count": null,
      "outputs": [
        {
          "output_type": "stream",
          "text": [
            "999999999999\n",
            "SK\n"
          ],
          "name": "stdout"
        }
      ]
    },
    {
      "cell_type": "code",
      "metadata": {
        "colab": {
          "base_uri": "https://localhost:8080/"
        },
        "id": "sZ1d1Oiw24mA",
        "outputId": "83140264-14e5-419a-8ca2-d549f705a48d"
      },
      "source": [
        "#9657 돌 게임3, 20210605\n",
        "#9660 돌 게임6 또한 같은 코드로 해결됨.\n",
        "\n",
        "#2를 남겨서 상대에게 주면 필승\n",
        "#즉 3, 5, 6을 남겨서 주면 진다. 4또한 안되므로 6까지는 남겨주면 안된다.\n",
        "#즉 7을 남겨 상대에게 주어도 필승\n",
        "#이제 8, 10, 11을 남겨서 주면 진다. 9를 남겨 상대에게 주어도 필승.\n",
        "#10, 12, 13을 남겨서 주면 진다. 11도 지는 수.\n",
        "#14도 필승.16도 필승.\n",
        "#2 / 7,9 / 14,16 / 21,23 / ...\n",
        "#이 떄만 후공인 창영이가 이길 수 있다!\n",
        "n = int(input())\n",
        "if n%7 and (n%7!=2):\n",
        "  print(\"SK\")\n",
        "else :\n",
        "  print(\"CY\")"
      ],
      "execution_count": null,
      "outputs": [
        {
          "output_type": "stream",
          "text": [
            "6\n",
            "SK\n"
          ],
          "name": "stdout"
        }
      ]
    },
    {
      "cell_type": "code",
      "metadata": {
        "colab": {
          "base_uri": "https://localhost:8080/"
        },
        "id": "gok5M-i-7JGH",
        "outputId": "4abff1e6-b426-4c95-d58b-891172f7bdb5"
      },
      "source": [
        "#9658 돌 게임4, 20210605\n",
        "#1을 남기면 이긴다. \n",
        "#2,4,5를 남기면 진다. 3을 남기면 이긴다.\n",
        "#1,3 / 8,10 / ...\n",
        "#이 떄만 후공인 창영이가 이길 수 있다!\n",
        "n = int(input())\n",
        "if (n%7==1) or (n%7==3):\n",
        "  print(\"CY\")\n",
        "else :\n",
        "  print(\"SK\")"
      ],
      "execution_count": null,
      "outputs": [
        {
          "output_type": "stream",
          "text": [
            "1\n",
            "CY\n"
          ],
          "name": "stdout"
        }
      ]
    },
    {
      "cell_type": "code",
      "metadata": {
        "colab": {
          "base_uri": "https://localhost:8080/"
        },
        "id": "FK6vYQliA361",
        "outputId": "40139df8-ed59-48b7-92c1-98b3f0aa64d8"
      },
      "source": [
        "#9661 돌 게임7, 20210605\n",
        "#0을 남기면 이긴다.\n",
        "#1, 4, 16, ... 을 남기면 진다. 2를 남기면 이긴다.\n",
        "#3, 6, 18, ... 을 남기면 진다. 5를 남기면 이긴다.\n",
        "#6, 9, 21, ... 을 남기면 진다. 7을 남기면 이긴다.\n",
        "#8, 11, 23, ... 을 남기면 진다. 10을 남기면 이긴다.\n",
        "#11, 14, 26, ... 을 남기면 진다. 12를 남기면 이긴다.\n",
        "#13, 16, 28, ... 을 남기면 진다. 15를 남기면 이긴다.\n",
        "#2, 5, 7, 0이 청정 구역인거 같은데??\n",
        "n = int(input()[-1])\n",
        "if (n == 0) or (n == 2) or (n == 5) or (n == 7) :\n",
        "  print(\"CY\")\n",
        "else :\n",
        "  print(\"SK\")"
      ],
      "execution_count": null,
      "outputs": [
        {
          "output_type": "stream",
          "text": [
            "999\n",
            "SK\n"
          ],
          "name": "stdout"
        }
      ]
    },
    {
      "cell_type": "code",
      "metadata": {
        "id": "h251jqb0FYzY"
      },
      "source": [
        "#9662 돌 게임8, 20210605\n",
        "#0은 항상 필승 수.\n",
        "#가져갈 수 있는 돌 개수에 1이 있는 경우, 가져갈 수 있는 돌 개수가 아닌 수 중 가장 작은 수는 항상 필승 수.(후공 승리)\n",
        "#가져갈 수 있는 돌 개수에 1이 없는 경우, 최소로 가져갈 수 있는 돌 개수보다 작은 수는 모두 필승수.(후공 승리)\n",
        "#필승 수에 가져갈 수 있는 돌 개수 중 아무거나를 더하면 모두 필패 수(선공 승리) "
      ],
      "execution_count": null,
      "outputs": []
    },
    {
      "cell_type": "code",
      "metadata": {
        "id": "wZOJSIUEeZRl"
      },
      "source": [
        "#프로그래머스 멀리뛰기, 20210610\n",
        "def solution(n):\n",
        "    a, b = 1, 1\n",
        "    for i in range(1, n) :\n",
        "        a, b = a+b, a  \n",
        "    return a%1234567"
      ],
      "execution_count": null,
      "outputs": []
    },
    {
      "cell_type": "code",
      "metadata": {
        "id": "WKlIRojRotpU"
      },
      "source": [
        "#프로그래머스 정수 삼각형, 20210610\n",
        "def solution(triangle):\n",
        "    arr1 = triangle[0]\n",
        "    n = 2\n",
        "    for i in triangle[1:] : \n",
        "        arr2 = [i[0] + arr1[0]] \n",
        "        arr2.extend([i[j] + max(arr1[j-1], arr1[j]) for j in range(1, n-1)])\n",
        "        arr2.append(i[-1] + arr1[-1])\n",
        "        arr1 = arr2\n",
        "        n += 1\n",
        "    return max(arr2)"
      ],
      "execution_count": null,
      "outputs": []
    },
    {
      "cell_type": "code",
      "metadata": {
        "id": "M6qtESfCdDOe"
      },
      "source": [
        "#프로그래머스 가장 큰 정사각형 찾기 풀이 중\n",
        "def solution(board):\n",
        "    a = min(len(board), len(board[0]))\n",
        "    for n in range(a) :\n",
        "        for i in range(len(board)-(a-n-1)) :\n",
        "            for j in range(len(board[0])-(a-n-1)) :\n",
        "                for k in range(a-n) :\n",
        "                    br = 0\n",
        "                    for l in range(a-n) :\n",
        "                        if board[i + k][j + l] == 0 :\n",
        "                            br = 1\n",
        "                            break\n",
        "                    if br : break\n",
        "                else : return (a - n)**2\n",
        "    return 0"
      ],
      "execution_count": null,
      "outputs": []
    },
    {
      "cell_type": "code",
      "metadata": {
        "id": "I-QqxiklesOQ"
      },
      "source": [
        "#프로그래머스 땅따먹기, 20210613\n",
        "def solution(land):\n",
        "    for i in range(len(land)-1) :\n",
        "        for j in range(len(land[0])) :\n",
        "            a = land[i][0:j] #이럴 필요없이 a = land[i][0:j] + land[i][j+1:] 한 줄이면 됐다. 리스트 덧뺄셈이 됨을 까먹고 있었다..\n",
        "            a.extend(land[i][j+1:]) \n",
        "            land[i+1][j] += max(a) \n",
        "    return max(land[-1])"
      ],
      "execution_count": null,
      "outputs": []
    },
    {
      "cell_type": "code",
      "metadata": {
        "colab": {
          "base_uri": "https://localhost:8080/"
        },
        "id": "NUK2pyjA4hyM",
        "outputId": "8ad3449d-5c37-402c-e24b-47a052df49c4"
      },
      "source": [
        "#9095 1,2,3 더하기, 20210614\n",
        "#a, b를 전에거의 1, 2로 끝난 개수, c를 총 개수라 하자.\n",
        "#다음 a = c / 다음 b = a / 다음 c = a+b+c\n",
        "n = int(input())\n",
        "for i in range(n) :\n",
        "    a, b, c = 1, 0, 1\n",
        "    for i in range(int(input())-1) :\n",
        "        a ,b, c = c, a, a+b+c\n",
        "    print(c)\n",
        "#29200kb, 68ms"
      ],
      "execution_count": null,
      "outputs": [
        {
          "output_type": "stream",
          "text": [
            "3\n",
            "4\n",
            "7\n",
            "7\n",
            "44\n",
            "10\n",
            "274\n"
          ],
          "name": "stdout"
        }
      ]
    },
    {
      "cell_type": "code",
      "metadata": {
        "id": "AIjvcnnD6xzI"
      },
      "source": [
        "#9095 1,2,3 더하기 1등 코드, 보고 배우자.\n",
        "N = int(input())\n",
        "arr=[1,2,4]\n",
        "for i in range(4,11):\n",
        "    arr.append(sum(arr[-3:]))\n",
        "for _ in range(N):\n",
        "    T = int(input())\n",
        "    print(arr[T-1])"
      ],
      "execution_count": null,
      "outputs": []
    },
    {
      "cell_type": "code",
      "metadata": {
        "id": "5H-hVNDW8r4m"
      },
      "source": [
        "#프로그래머스 2×n 타일링, 20210614\n",
        "def solution(n):\n",
        "    a, b = 1, 1\n",
        "    for i in range(n-1) :\n",
        "        a, b = b, a+b\n",
        "    return b%10007"
      ],
      "execution_count": null,
      "outputs": []
    },
    {
      "cell_type": "code",
      "metadata": {
        "colab": {
          "base_uri": "https://localhost:8080/"
        },
        "id": "e7l4Z6T68zfg",
        "outputId": "8971f9ed-5dbc-4119-b7f3-313c3efcf2ca"
      },
      "source": [
        "#11726 2×n 타일링, 20210614\n",
        "n = int(input())\n",
        "print(solution(n))\n",
        "#29200kb, 68ms"
      ],
      "execution_count": null,
      "outputs": [
        {
          "output_type": "stream",
          "text": [
            "9\n",
            "55\n"
          ],
          "name": "stdout"
        }
      ]
    },
    {
      "cell_type": "code",
      "metadata": {
        "colab": {
          "base_uri": "https://localhost:8080/"
        },
        "id": "mrjjj0UdDFr8",
        "outputId": "e13d40f4-cd48-4b24-ba20-056e8536951c"
      },
      "source": [
        "#11727 2×n 타일링 2, 20210614\n",
        "#1,1 - 1,3 - 3,5 - ...\n",
        "def solution(n):\n",
        "    a, b = 1, 1\n",
        "    for i in range(n-1) :\n",
        "        a, b = b, 2*a+b\n",
        "    return b%10007\n",
        "\n",
        "n = int(input())\n",
        "print(solution(n))\n",
        "#29200kb, 68ms"
      ],
      "execution_count": null,
      "outputs": [
        {
          "output_type": "stream",
          "text": [
            "12\n",
            "2731\n"
          ],
          "name": "stdout"
        }
      ]
    },
    {
      "cell_type": "code",
      "metadata": {
        "colab": {
          "base_uri": "https://localhost:8080/"
        },
        "id": "_vk9zVfiIfge",
        "outputId": "00053f26-dcca-40cc-9a67-1acbe500dccd"
      },
      "source": [
        "#15988 1, 2, 3 더하기 3, 20210614\n",
        "#import sys\n",
        "#input = sys.stdin.readline\n",
        "n = int(input())\n",
        "arr = [1,2,4,7]\n",
        "length = 4\n",
        "for i in range(n) :\n",
        "    num = int(input())\n",
        "    while length < num :\n",
        "        arr.append(sum(arr[-3:])%1000000009)\n",
        "        length += 1\n",
        "    print(arr[num-1])\n",
        "#69192kb, 620ms"
      ],
      "execution_count": null,
      "outputs": [
        {
          "output_type": "stream",
          "text": [
            "3\n",
            "10\n",
            "274\n",
            "7\n",
            "44\n",
            "4\n",
            "7\n"
          ],
          "name": "stdout"
        }
      ]
    },
    {
      "cell_type": "code",
      "metadata": {
        "colab": {
          "base_uri": "https://localhost:8080/"
        },
        "id": "Tcgh3d40raSI",
        "outputId": "694b1e81-eeb8-4532-f709-1a55fda8e54b"
      },
      "source": [
        "#1003 피보나치 함수, 20210615\n",
        "#import sys\n",
        "#input = sys.stdin.readline\n",
        "n = int(input())\n",
        "for i in range(n) :\n",
        "    s = int(input())\n",
        "    if s == 0 : print('1 0')\n",
        "    elif s == 1: print('0 1')\n",
        "    else : \n",
        "        a, b, c, d = 1, 0, 0, 1\n",
        "        for j in range(s-1) :\n",
        "            a, b, c, d = c, d, a+c, b+d\n",
        "        print(c, d)\n",
        "#29200kb, 64ms"
      ],
      "execution_count": null,
      "outputs": [
        {
          "output_type": "stream",
          "text": [
            "3\n",
            "0\n",
            "1 0\n",
            "1\n",
            "0 1\n",
            "3\n",
            "1 2\n"
          ],
          "name": "stdout"
        }
      ]
    },
    {
      "cell_type": "code",
      "metadata": {
        "id": "Vd-IPhVZ1F7q"
      },
      "source": [
        "#프로그래머스 등굣길, 20210620\n",
        "def solution(m, n, puddles):\n",
        "    road = [[-1]*m for i in range(n)]\n",
        "    for puddle in puddles :\n",
        "        if puddle : \n",
        "            a, b = puddle[0], puddle[1]\n",
        "            road[b-1][a-1] = 0 #n,m으로 줘야하는데 m,n으로 줘서 런타임에러 뜨는 이유 찾느라 애 좀 먹었다.\n",
        "    road[0][0] = 1\n",
        "    i,j = 1, 1\n",
        "    while i < n and road[i][0] == -1 :\n",
        "        road[i][0] = 1\n",
        "        i += 1\n",
        "    while i < n :\n",
        "        road[i][0] = 0\n",
        "        i += 1\n",
        "    while j < m and road[0][j] == -1 :\n",
        "        road[0][j] = 1\n",
        "        j += 1\n",
        "    while j < m :\n",
        "        road[0][j] = 0\n",
        "        j += 1\n",
        "        \n",
        "    for a in range(1,n) :\n",
        "        for b in range(1,m) :\n",
        "            if road[a][b] : \n",
        "                road[a][b] = (road[a-1][b] + road[a][b-1])%1000000007\n",
        "    print(road)       \n",
        "    return road[n-1][m-1]"
      ],
      "execution_count": null,
      "outputs": []
    },
    {
      "cell_type": "code",
      "metadata": {
        "id": "WfanSEuz-6i3"
      },
      "source": [
        "#프로그래머스 가장 큰 정사각형 찾기, 20210620\n",
        "def solution(board):\n",
        "    for i in board :\n",
        "        if sum(i) : break\n",
        "    else : return 0\n",
        "    answer = 1\n",
        "    n, m = len(board), len(board[0])\n",
        "    for i in range(1, n) :\n",
        "        for j in range(1, m) :\n",
        "            if board[i][j] :\n",
        "                board[i][j] = 1+min(board[i-1][j-1], board[i][j-1], board[i-1][j]) \n",
        "                answer = max(answer, board[i][j])\n",
        "    return answer**2"
      ],
      "execution_count": null,
      "outputs": []
    },
    {
      "cell_type": "code",
      "metadata": {
        "colab": {
          "base_uri": "https://localhost:8080/"
        },
        "id": "lQGmcw3_RLPr",
        "outputId": "a83b15cd-8649-482b-d5d8-9c2b9faaa2ff"
      },
      "source": [
        "#1915 가장 큰 정사각형, 20210620\n",
        "#import sys\n",
        "#input = sys.stdin.readline\n",
        "def solution(board):\n",
        "    for i in board :\n",
        "        if sum(i) : break\n",
        "    else : return 0\n",
        "    answer = 1\n",
        "    for i in range(1, n) :\n",
        "        for j in range(1, m) :\n",
        "            if board[i][j] :\n",
        "                board[i][j] = 1+min(board[i-1][j-1], board[i][j-1], board[i-1][j]) \n",
        "                answer = max(answer, board[i][j])\n",
        "    return answer**2\n",
        "\n",
        "n, m = map(int, input().split())\n",
        "board = []\n",
        "for i in range(n) :\n",
        "    board.append([int(i) for i in input().strip()])\n",
        "print(solution(board))\n",
        "#54476kb, 928ms"
      ],
      "execution_count": null,
      "outputs": [
        {
          "output_type": "stream",
          "text": [
            "4 4\n",
            "0100\n",
            "1110\n",
            "0111\n",
            "0010\n",
            "4\n"
          ],
          "name": "stdout"
        }
      ]
    },
    {
      "cell_type": "code",
      "metadata": {
        "colab": {
          "base_uri": "https://localhost:8080/"
        },
        "id": "03rC0KGTRRdy",
        "outputId": "e2cb324d-6d99-4ac5-f8ea-96fd06307e7d"
      },
      "source": [
        "#4095 최대 정사각형\n",
        "#import sys\n",
        "#input = sys.stdin.readline\n",
        "def solution(board):\n",
        "    for i in board :\n",
        "        if sum(i) : break\n",
        "    else : return 0\n",
        "    answer = 1\n",
        "    for i in range(1, n) :\n",
        "        for j in range(1, m) :\n",
        "            if board[i][j] :\n",
        "                board[i][j] = 1+min(board[i-1][j-1], board[i][j-1], board[i-1][j]) \n",
        "                answer = max(answer, board[i][j])\n",
        "    return answer\n",
        "\n",
        "while 1 :\n",
        "    n, m = map(int, input().split())\n",
        "    if 0 == n == m : break\n",
        "    board = []\n",
        "    for i in range(n) :\n",
        "        board.append([int(i) for i in input().split()])\n",
        "    print(solution(board))\n",
        "#54716kb, 11272ms"
      ],
      "execution_count": null,
      "outputs": [
        {
          "output_type": "stream",
          "text": [
            "4 5\n",
            "0 1 0 1 1\n",
            "1 1 1 1 1\n",
            "0 1 1 1 0\n",
            "1 1 1 1 1\n",
            "9\n",
            "3 4\n",
            "1 1 1 1\n",
            "1 1 1 1\n",
            "1 1 1 1\n",
            "9\n",
            "6 6 \n",
            "0 0 0 0 0 0\n",
            "0 0 0 0 0 0\n",
            "0 0 0 0 0 0\n",
            "0 0 0 0 0 0\n",
            "0 0 0 0 0 0\n",
            "0 0 0 0 0 0\n",
            "0\n",
            "0 0\n"
          ],
          "name": "stdout"
        }
      ]
    },
    {
      "cell_type": "code",
      "metadata": {
        "id": "ucRWUSJoNT9b"
      },
      "source": [
        "#프로그래머스 쿼드압축 후 개수 세기, 20210620\n",
        "import math\n",
        "def solution(arr):\n",
        "    n = len(arr)\n",
        "    ones = 0\n",
        "    for i in arr :\n",
        "        ones += sum(i)\n",
        "    zeros = n**2 - ones\n",
        "\n",
        "    for k in range(1, int(math.log(n,2))+1) :\n",
        "        for i in range(0,n,(2**k)) :\n",
        "            for j in range(0,n,(2**k)) :\n",
        "                if arr[i][j] == arr[i+2**(k-1)][j] == arr[i][j+2**(k-1)] == arr[i+2**(k-1)][j+2**(k-1)] == k :\n",
        "                    arr[i][j] += 1\n",
        "                    ones -= 3\n",
        "                elif arr[i][j] == arr[i+2**(k-1)][j] == arr[i][j+2**(k-1)] == arr[i+2**(k-1)][j+2**(k-1)] == 1-k :\n",
        "                    arr[i][j] -= 1\n",
        "                    zeros -= 3\n",
        "\n",
        "    return [zeros, ones]"
      ],
      "execution_count": null,
      "outputs": []
    },
    {
      "cell_type": "code",
      "metadata": {
        "id": "0paoi2147A5D"
      },
      "source": [
        "#14501 퇴사, 20210623\n",
        "#15486 퇴사2, 20210623\n",
        "#N일차 = 전과 늘어난 경우의 수 따져주기\n",
        "#6일차라면 5일차와 비교해서 2,5일차거를 추가가능. \n",
        "#따라서 6일차 최대 돈 = max(1일차 최대 돈+20, 4일차 최대 돈+15)\n",
        "#import sys\n",
        "#input = sys.stdin.readline\n",
        "n = int(input())\n",
        "dp = [0 for _ in range(n+1)]\n",
        "for i in range(1,n+1) :\n",
        "    t, p = map(int, input().split())\n",
        "    if i+t-1 <= n : dp[i+t-1] = max(dp[i+t-1], dp[i-1]+p)\n",
        "    dp[i] = max(dp[i-1], dp[i])\n",
        "print(dp[-1])\n",
        "#29200kb, 68ms\n",
        "#95216kb, 2932ms"
      ],
      "execution_count": null,
      "outputs": []
    },
    {
      "cell_type": "code",
      "metadata": {
        "id": "jQ7x8q_8d5lE"
      },
      "source": [
        "#15486 퇴사2 1등 풀이 arr[시작:끝:증가폭]인건 기억하고 가자.\n",
        "r = range\n",
        "d = [0]\n",
        "n, *l = map(int,open(0).read().split())\n",
        "for i,j in zip(l[-2::-2],l[-1::-2]): \n",
        "  d += [max(d[-1], d[-1] if i > len(d) else d[-i]+j)]\n",
        "print(d[-1])"
      ],
      "execution_count": null,
      "outputs": []
    },
    {
      "cell_type": "code",
      "metadata": {
        "colab": {
          "base_uri": "https://localhost:8080/"
        },
        "id": "xn_pBqndpscD",
        "outputId": "5f8bad53-8232-4770-b12a-799d8f38d58a"
      },
      "source": [
        "#15989 1,2,3 더하기 4, 20210623\n",
        "#import sys\n",
        "#input = sys.stdin.readline\n",
        "cases = int(input())\n",
        "for i in range(cases) :\n",
        "    magicnum = [1,1,1,1,2,1]\n",
        "    n = 1\n",
        "    for i in range(int(input())-1) :\n",
        "        n += magicnum[i%6]\n",
        "        magicnum[i%6] += 1\n",
        "    print(n)"
      ],
      "execution_count": null,
      "outputs": [
        {
          "output_type": "stream",
          "text": [
            "3\n",
            "4\n",
            "4\n",
            "7\n",
            "8\n",
            "10\n",
            "14\n"
          ],
          "name": "stdout"
        }
      ]
    },
    {
      "cell_type": "code",
      "metadata": {
        "colab": {
          "base_uri": "https://localhost:8080/"
        },
        "id": "vxmBbSfAwU20",
        "outputId": "8b14e910-a5eb-49e4-aac3-b7b83bdb8241"
      },
      "source": [
        "#15989 1,2,3 더하기 4 1등 코드.. 뭐지??\n",
        "n = int(input())\n",
        "d = [1] * 10001\n",
        "for i in range(2,10001):\n",
        "    d[i] += d[i-2]\n",
        "for i in range(3,10001):\n",
        "    d[i] += d[i-3]\n",
        "for i in range(n):\n",
        "    a = int(input())\n",
        "    print(d[a])"
      ],
      "execution_count": null,
      "outputs": [
        {
          "output_type": "stream",
          "text": [
            "3\n",
            "4\n",
            "4\n",
            "7\n",
            "8\n",
            "10\n",
            "14\n"
          ],
          "name": "stdout"
        }
      ]
    },
    {
      "cell_type": "code",
      "metadata": {
        "colab": {
          "base_uri": "https://localhost:8080/"
        },
        "id": "ETYVNywt9Cwo",
        "outputId": "21e7b452-accc-479c-c54d-40559fc8182c"
      },
      "source": [
        "#1890 점프, 20210623\n",
        "#import sys\n",
        "#input = sys.stdin.readline\n",
        "n = int(input())\n",
        "board = [list(map(int, input().split())) for _ in range(n)]\n",
        "count = [[0]*n for _ in range(n)]\n",
        "count[0][0] = 1\n",
        "\n",
        "for i in range(n) :\n",
        "    for j in range(n) :\n",
        "        if count[i][j] and board[i][j]:\n",
        "            jump = board[i][j]\n",
        "            if i+jump < n : count[i+jump][j] += count[i][j]\n",
        "            if j+jump < n : count[i][j+jump] += count[i][j]\n",
        "print(count[-1][-1])\n",
        "#29200kb, 64ms "
      ],
      "execution_count": null,
      "outputs": [
        {
          "output_type": "stream",
          "text": [
            "5\n",
            "2 3 3 1 2\n",
            "1 2 1 3 1\n",
            "1 2 3 1 3\n",
            "3 1 1 1 1\n",
            "1 2 1 2 0\n",
            "[[1, 0, 1, 0, 0], [0, 0, 0, 0, 0], [1, 1, 0, 1, 1], [1, 0, 1, 3, 3], [0, 1, 1, 5, 3]]\n"
          ],
          "name": "stdout"
        }
      ]
    },
    {
      "cell_type": "code",
      "metadata": {
        "colab": {
          "base_uri": "https://localhost:8080/"
        },
        "id": "SxxilQeEdfXP",
        "outputId": "e99aee63-057b-4f80-e55a-198f356f5dd9"
      },
      "source": [
        "#9465 스티커, 20210624\n",
        "#import sys\n",
        "#input = sys.stdin.readline\n",
        "for _ in range(int(input())) :\n",
        "    n = int(input())\n",
        "    if n == 1 :\n",
        "        a = int(input())\n",
        "        b = int(input())\n",
        "        print(max(a,b))\n",
        "    else :\n",
        "        arr1 = list(map(int, input().split()))\n",
        "        arr2 = list(map(int, input().split()))\n",
        "        a, b, c, d = arr1[0], arr2[0], arr2[0] + arr1[1], arr1[0] + arr2[1]\n",
        "        for i in range(2, n) :\n",
        "            a, b, c, d = c, d, arr1[i] + max(b,d), arr2[i] + max(a,c)\n",
        "        print(max(c,d))\n",
        "#38872kb, 768ms"
      ],
      "execution_count": null,
      "outputs": [
        {
          "output_type": "stream",
          "text": [
            "2\n",
            "5\n",
            "50 10 100 20 40\n",
            "30 50 70 10 60\n",
            "260\n",
            "7\n",
            "10 30 10 50 100 20 40\n",
            "20 40 30 50 60 20 80\n",
            "290\n"
          ],
          "name": "stdout"
        }
      ]
    },
    {
      "cell_type": "code",
      "metadata": {
        "id": "fvPdu7bi635i"
      },
      "source": [
        "#프로그래머스 스티커 모으기(2) & 도둑질, 20210624\u001c \n",
        "def solution(sticker):\n",
        "    n = len(sticker)\n",
        "    if n < 4 : return max(sticker)\n",
        "\n",
        "    a, b = sticker[0], sticker[1]\n",
        "    c = a + sticker[2]\n",
        "    for i in range(3,n-1) :\n",
        "        a, b, c = b, c, max(a,b) + sticker[i]\n",
        "    left = max(b,c)\n",
        "\n",
        "    a, b = sticker[1], sticker[2]\n",
        "    c = a + sticker[3]\n",
        "    for i in range(4,n) :\n",
        "        a, b, c = b, c, max(a,b) + sticker[i]\n",
        "    right = max(b,c)\n",
        "\n",
        "    return max(left, right)"
      ],
      "execution_count": null,
      "outputs": []
    },
    {
      "cell_type": "code",
      "metadata": {
        "id": "Q6tGkWpqkDeR"
      },
      "source": [
        "#프로그래머스 도둑질 우수풀이, 이해가 안된다..\n",
        "def solution(a):\n",
        "    x1, y1, z1 = a[0], a[1], a[0]+a[2]\n",
        "    x2, y2, z2 = 0, a[1], a[2]\n",
        "    for i in a[3:]:\n",
        "        x1, y1, z1 = y1, z1, max(x1, y1)+i\n",
        "        x2, y2, z2 = y2, z2, max(x2, y2)+i\n",
        "    return max(x1, y1, y2, z2)"
      ],
      "execution_count": null,
      "outputs": []
    },
    {
      "cell_type": "code",
      "metadata": {
        "id": "NI3TeQ7jKNyy"
      },
      "source": [
        "#프로그래머스 N으로 표현, 20210624\n",
        "def solution(N, number):\n",
        "    memo = {i : {int(str(N)*i)} for i in range(1, 9)}\n",
        "    visited = {int(str(N)*i) for i in range(1, 9)}\n",
        "    visited.add(0)\n",
        "    if number in visited : return len(str(number))\n",
        "    for i in range(2,9) :\n",
        "        for j in memo[i-1] :\n",
        "            new = {j+N, j-N, j*N, j//N} if j > N else {j+N, N-j, j*N, N//j}\n",
        "            new -= visited\n",
        "            if new :\n",
        "                if number in new : return i\n",
        "                memo[i] |= new\n",
        "                visited |= new\n",
        "        if i > 3 :\n",
        "            for k in range(2,i-1) :\n",
        "                for l in memo[k] :\n",
        "                    a = int(str(N)*(i-k))\n",
        "                    new = {l+a, l-a, l*a, l//a} if l > a else {l+a, a-l, l*a, a//l}\n",
        "                    new -= visited\n",
        "                    if new :\n",
        "                        if number in new : return i\n",
        "                        memo[i] |= new\n",
        "                        visited |= new\n",
        "    print(memo)\n",
        "    return -1"
      ],
      "execution_count": null,
      "outputs": []
    },
    {
      "cell_type": "code",
      "metadata": {
        "id": "8oQ8r-KvMDew"
      },
      "source": [
        "#프로그래머스 N으로 표현 우수풀이, 깔끔하다.\n",
        "def solution(N, number):\n",
        "    dp = [[]]\n",
        "\n",
        "    x = 0\n",
        "    for i in range(1, 9):\n",
        "        dp.append(set())\n",
        "        x = 10*x + N\n",
        "        dp[i].add(x) # N, NN, NNN...\n",
        "\n",
        "        for j in range(i):\n",
        "            # 연산자 케이스 \n",
        "            for op1 in dp[j]:\n",
        "                for op2 in dp[i-j]:\n",
        "                    dp[i].add(op1 + op2)\n",
        "                    dp[i].add(op1 - op2)\n",
        "                    dp[i].add(op1 * op2)\n",
        "                    if op2 != 0:\n",
        "                        dp[i].add(op1 // op2)\n",
        "            if number in dp[i]:\n",
        "                return i\n",
        "    return -1"
      ],
      "execution_count": null,
      "outputs": []
    },
    {
      "cell_type": "code",
      "metadata": {
        "id": "hld6OD-vLLWm"
      },
      "source": [
        "#프로그래머스 거스름돈, 20210627\n",
        "def D(n, k, money) :\n",
        "    if n == 1 : return 0 if k%money[0] else 1\n",
        "    if k < 0 : return 0\n",
        "    elif k == 0 : return 1\n",
        "    if (n, k) in memo : return memo[(n, k)]\n",
        "    else : memo[(n, k)] = D(n-1, k, money) + D(n, k-money[n-1], money)\n",
        "    return memo[(n, k)]\n",
        "\n",
        "def solution(n, money):\n",
        "    global memo\n",
        "    memo = dict()\n",
        "    return D(len(money), n, money)%1000000007"
      ],
      "execution_count": 3,
      "outputs": []
    },
    {
      "cell_type": "code",
      "metadata": {
        "colab": {
          "base_uri": "https://localhost:8080/"
        },
        "id": "-h1cSvclLT2R",
        "outputId": "97358575-d936-4300-a7eb-d7e26d1fb49d"
      },
      "source": [
        "#2293 동전 1, 20210627\n",
        "#위의 딕셔너리를 이용한 셀을 그대로 돌리면 런타임에러가 뜬다.\n",
        "#딕셔너리보다 2차원 리스트가 메모리를 적게 먹는다는 것을 알았다.\n",
        "#import sys\n",
        "#input = sys.stdin.readline\n",
        "#sys.setrecursionlimit(10**6)\n",
        "\n",
        "def D(n, k, money) :\n",
        "    if n == 1 : return 0 if k%money[0] else 1\n",
        "    if k < 0 : return 0\n",
        "    elif k == 0 : return 1\n",
        "    if memo[n-1][k-1] != -1 : return memo[n-1][k-1]\n",
        "    else : memo[n-1][k-1] = D(n-1, k, money) + D(n, k-money[n-1], money)\n",
        "    return memo[n-1][k-1]\n",
        "\n",
        "n, k = map(int, input().split())\n",
        "global memo\n",
        "memo = [[-1]*k for _ in range(n)]\n",
        "print(D(n, k, [int(input()) for _ in range(n)]))\n",
        "#37696kb, 324ms"
      ],
      "execution_count": 8,
      "outputs": [
        {
          "output_type": "stream",
          "text": [
            "3 10\n",
            "1\n",
            "2\n",
            "5\n",
            "10\n"
          ],
          "name": "stdout"
        }
      ]
    },
    {
      "cell_type": "code",
      "metadata": {
        "id": "0EVMkiuiRaWh"
      },
      "source": [
        "#프로그래머스 거스름돈 우수풀이, 재귀나 귀납식을 쓰지 않아도 풀렸네.\n",
        "def change(total, coin):\n",
        "    arr = [1] + [0]*total\n",
        "    for c in coin:\n",
        "        for i in range(c, total+1):\n",
        "            arr[i] += arr[i-c]\n",
        "    return arr.pop()"
      ],
      "execution_count": null,
      "outputs": []
    },
    {
      "cell_type": "code",
      "metadata": {
        "id": "ZR97eHBLR_rX"
      },
      "source": [
        "#2293 동전 1 1등풀이\n",
        "import sys\n",
        "input = sys.stdin.readline\n",
        "\n",
        "def main():\n",
        "    n, k = map(int, input().split())\n",
        "    dp = [1] + [0] * k\n",
        "    for _ in range(n):\n",
        "        coin = int(input())\n",
        "        for j in range(coin, k + 1):\n",
        "            if dp[j - coin] == 0: continue #이 부분이 위와 유일하게 다르다.\n",
        "            dp[j] += dp[j - coin]\n",
        "    sys.stdout.write('{}'.format(dp[-1]))\n",
        "main()"
      ],
      "execution_count": null,
      "outputs": []
    }
  ]
}