{
  "nbformat": 4,
  "nbformat_minor": 0,
  "metadata": {
    "colab": {
      "name": "Dynamic_Programming.ipynb",
      "provenance": [],
      "authorship_tag": "ABX9TyMZP4SnNqDOjIpZY1Y8O1GP",
      "include_colab_link": true
    },
    "kernelspec": {
      "name": "python3",
      "display_name": "Python 3"
    },
    "language_info": {
      "name": "python"
    }
  },
  "cells": [
    {
      "cell_type": "markdown",
      "metadata": {
        "id": "view-in-github",
        "colab_type": "text"
      },
      "source": [
        "<a href=\"https://colab.research.google.com/github/danny980521/Algorithm-Pracice/blob/main/Dynamic_Programming.ipynb\" target=\"_parent\"><img src=\"https://colab.research.google.com/assets/colab-badge.svg\" alt=\"Open In Colab\"/></a>"
      ]
    },
    {
      "cell_type": "code",
      "metadata": {
        "colab": {
          "base_uri": "https://localhost:8080/"
        },
        "id": "GxVGar6PAglV",
        "outputId": "01fa3e2b-6ee5-47bd-fca8-1283b14b30c8"
      },
      "source": [
        "#9655 돌 게임, 20210604\n",
        "#9659 돌 게임5 또한 같은 코드로 해결됨.\n",
        "\n",
        "#n을 4로 나눈 나머지가\n",
        "#0이면 후공 승\n",
        "#1이면 선송 승\n",
        "#3이면 선공 승\n",
        "#2이면 후공 승?\n",
        "\n",
        "n = int(input())\n",
        "if n%2 :\n",
        "  print(\"SK\")\n",
        "else :\n",
        "  print(\"CY\")"
      ],
      "execution_count": null,
      "outputs": [
        {
          "output_type": "stream",
          "text": [
            "999999999999\n",
            "SK\n"
          ],
          "name": "stdout"
        }
      ]
    },
    {
      "cell_type": "code",
      "metadata": {
        "colab": {
          "base_uri": "https://localhost:8080/"
        },
        "id": "sZ1d1Oiw24mA",
        "outputId": "83140264-14e5-419a-8ca2-d549f705a48d"
      },
      "source": [
        "#9657 돌 게임3, 20210605\n",
        "#9660 돌 게임6 또한 같은 코드로 해결됨.\n",
        "\n",
        "#2를 남겨서 상대에게 주면 필승\n",
        "#즉 3, 5, 6을 남겨서 주면 진다. 4또한 안되므로 6까지는 남겨주면 안된다.\n",
        "#즉 7을 남겨 상대에게 주어도 필승\n",
        "#이제 8, 10, 11을 남겨서 주면 진다. 9를 남겨 상대에게 주어도 필승.\n",
        "#10, 12, 13을 남겨서 주면 진다. 11도 지는 수.\n",
        "#14도 필승.16도 필승.\n",
        "#2 / 7,9 / 14,16 / 21,23 / ...\n",
        "#이 떄만 후공인 창영이가 이길 수 있다!\n",
        "n = int(input())\n",
        "if n%7 and (n%7!=2):\n",
        "  print(\"SK\")\n",
        "else :\n",
        "  print(\"CY\")"
      ],
      "execution_count": null,
      "outputs": [
        {
          "output_type": "stream",
          "text": [
            "6\n",
            "SK\n"
          ],
          "name": "stdout"
        }
      ]
    },
    {
      "cell_type": "code",
      "metadata": {
        "colab": {
          "base_uri": "https://localhost:8080/"
        },
        "id": "gok5M-i-7JGH",
        "outputId": "4abff1e6-b426-4c95-d58b-891172f7bdb5"
      },
      "source": [
        "#9658 돌 게임4, 20210605\n",
        "#1을 남기면 이긴다. \n",
        "#2,4,5를 남기면 진다. 3을 남기면 이긴다.\n",
        "#1,3 / 8,10 / ...\n",
        "#이 떄만 후공인 창영이가 이길 수 있다!\n",
        "n = int(input())\n",
        "if (n%7==1) or (n%7==3):\n",
        "  print(\"CY\")\n",
        "else :\n",
        "  print(\"SK\")"
      ],
      "execution_count": null,
      "outputs": [
        {
          "output_type": "stream",
          "text": [
            "1\n",
            "CY\n"
          ],
          "name": "stdout"
        }
      ]
    },
    {
      "cell_type": "code",
      "metadata": {
        "colab": {
          "base_uri": "https://localhost:8080/"
        },
        "id": "FK6vYQliA361",
        "outputId": "40139df8-ed59-48b7-92c1-98b3f0aa64d8"
      },
      "source": [
        "#9661 돌 게임7, 20210605\n",
        "#0을 남기면 이긴다.\n",
        "#1, 4, 16, ... 을 남기면 진다. 2를 남기면 이긴다.\n",
        "#3, 6, 18, ... 을 남기면 진다. 5를 남기면 이긴다.\n",
        "#6, 9, 21, ... 을 남기면 진다. 7을 남기면 이긴다.\n",
        "#8, 11, 23, ... 을 남기면 진다. 10을 남기면 이긴다.\n",
        "#11, 14, 26, ... 을 남기면 진다. 12를 남기면 이긴다.\n",
        "#13, 16, 28, ... 을 남기면 진다. 15를 남기면 이긴다.\n",
        "#2, 5, 7, 0이 청정 구역인거 같은데??\n",
        "n = int(input()[-1])\n",
        "if (n == 0) or (n == 2) or (n == 5) or (n == 7) :\n",
        "  print(\"CY\")\n",
        "else :\n",
        "  print(\"SK\")"
      ],
      "execution_count": null,
      "outputs": [
        {
          "output_type": "stream",
          "text": [
            "999\n",
            "SK\n"
          ],
          "name": "stdout"
        }
      ]
    },
    {
      "cell_type": "code",
      "metadata": {
        "id": "h251jqb0FYzY"
      },
      "source": [
        "#9662 돌 게임8, 20210605\n",
        "#0은 항상 필승 수.\n",
        "#가져갈 수 있는 돌 개수에 1이 있는 경우, 가져갈 수 있는 돌 개수가 아닌 수 중 가장 작은 수는 항상 필승 수.(후공 승리)\n",
        "#가져갈 수 있는 돌 개수에 1이 없는 경우, 최소로 가져갈 수 있는 돌 개수보다 작은 수는 모두 필승수.(후공 승리)\n",
        "#필승 수에 가져갈 수 있는 돌 개수 중 아무거나를 더하면 모두 필패 수(선공 승리) "
      ],
      "execution_count": null,
      "outputs": []
    },
    {
      "cell_type": "code",
      "metadata": {
        "id": "wZOJSIUEeZRl"
      },
      "source": [
        "#프로그래머스 멀리뛰기, 20210610\n",
        "def solution(n):\n",
        "    a, b = 1, 1\n",
        "    for i in range(1, n) :\n",
        "        a, b = a+b, a  \n",
        "    return a%1234567"
      ],
      "execution_count": null,
      "outputs": []
    },
    {
      "cell_type": "code",
      "metadata": {
        "id": "WKlIRojRotpU"
      },
      "source": [
        "#프로그래머스 정수 삼각형, 20210610\n",
        "def solution(triangle):\n",
        "    arr1 = triangle[0]\n",
        "    n = 2\n",
        "    for i in triangle[1:] : \n",
        "        arr2 = [i[0] + arr1[0]] \n",
        "        arr2.extend([i[j] + max(arr1[j-1], arr1[j]) for j in range(1, n-1)])\n",
        "        arr2.append(i[-1] + arr1[-1])\n",
        "        arr1 = arr2\n",
        "        n += 1\n",
        "    return max(arr2)"
      ],
      "execution_count": null,
      "outputs": []
    }
  ]
}